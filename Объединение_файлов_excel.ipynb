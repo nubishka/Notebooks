{
  "nbformat": 4,
  "nbformat_minor": 0,
  "metadata": {
    "colab": {
      "name": "Объединение_файлов_excel.ipynb",
      "provenance": []
    },
    "kernelspec": {
      "name": "python3",
      "display_name": "Python 3"
    },
    "language_info": {
      "name": "python"
    }
  },
  "cells": [
    {
      "cell_type": "code",
      "metadata": {
        "id": "wqlK9NFmMlQ8"
      },
      "source": [
        "import pandas as pd\n",
        "from datetime import datetime"
      ],
      "execution_count": null,
      "outputs": []
    },
    {
      "cell_type": "code",
      "metadata": {
        "id": "BPD-bO3qMl7x"
      },
      "source": [
        "def merge_excels(input_file_names, output_file_name):\n",
        "    fixed_head = []\n",
        "    head_is_find = False\n",
        "    head_is_done = False\n",
        "    date_is_find = False\n",
        "    out_data_list = [i for i in range(len(input_file_names))]\n",
        "    file_counter = 0\n",
        "    for input_file in input_file_names:\n",
        "        input_df = pd.read_excel(input_file)\n",
        "        print('Обработка файла', input_file)\n",
        "        for index, row in input_df.iterrows():\n",
        "            try:\n",
        "                datetime_object = datetime.strptime(row[0], '%Y-%m-%d %H:%M:%S')\n",
        "                index_of_start_datetime = index\n",
        "                date_is_find = True\n",
        "                head_is_find = True\n",
        "                # компоновка и создание заголовка\n",
        "                if (head_is_done == False) and head_is_find:\n",
        "                    list_of_head_1 = []\n",
        "                    for col_k in range(len(fixed_head[0])):\n",
        "                        list_of_head_2 = []\n",
        "                        for row_k in range(len(fixed_head)):\n",
        "                            list_of_head_2 += [fixed_head[row_k][col_k]]\n",
        "                        list_of_head_1 += [list_of_head_2]\n",
        "                    output_head = []\n",
        "                    for row_l in range(len(list_of_head_1)):\n",
        "                        str_to_output_head = ''\n",
        "                        for col_l in range(len(list_of_head_1[row_l])):\n",
        "                            str_to_output_head += str(list_of_head_1[row_l][col_l]) + ' '\n",
        "                        output_head += [str_to_output_head]\n",
        "                    output_head.insert(0, 'Дата')\n",
        "                    head_is_done = True\n",
        "                break\n",
        "\n",
        "            except:\n",
        "                if file_counter == 0:\n",
        "                    if head_is_find == False:\n",
        "                        head = []\n",
        "                        for col_i in range(len(input_df.columns)):\n",
        "                            if type(row[col_i]) is str:\n",
        "                                head.insert(len(head), row[col_i])\n",
        "                        fixed_head += [head]\n",
        "\n",
        "        if date_is_find:\n",
        "            date_is_find = False\n",
        "            control_df = input_df.iloc[index_of_start_datetime:, 0:len(output_head)]\n",
        "            end_num = 0\n",
        "            while True:\n",
        "                try:\n",
        "                    datetime_object = datetime.strptime(control_df.iloc[end_num - 1, 0], '%Y-%m-%d %H:%M:%S')\n",
        "                    final_df = input_df.iloc[index_of_start_datetime: (len(input_df) + end_num), 0:len(output_head)]\n",
        "                    final_df.columns = output_head\n",
        "                    out_data_list[file_counter] = final_df\n",
        "                    break\n",
        "                except:\n",
        "                    end_num -= 1\n",
        "        file_counter += 1\n",
        "\n",
        "    merged_df = pd.concat(out_data_list)\n",
        "    print('Запись файла', output_file_name)\n",
        "    try:\n",
        "        merged_df.to_excel(output_file_name, index=False)\n",
        "        print('Файл', output_file_name, 'сохранен')\n",
        "    except:\n",
        "        raise Exception('Файл не был сохранен')"
      ],
      "execution_count": null,
      "outputs": []
    },
    {
      "cell_type": "code",
      "metadata": {
        "id": "MpOlkOrEMobV"
      },
      "source": [
        "merge_excels(('Uchet_elektroenergii_s_2020-03-01_po_2020-06-30_030min.xlsx',\n",
        "              'Uchet_elektroenergii_s_2020-07-01_po_2020-09-30_030min.xlsx'), 'output.xlsx')"
      ],
      "execution_count": null,
      "outputs": []
    }
  ]
}