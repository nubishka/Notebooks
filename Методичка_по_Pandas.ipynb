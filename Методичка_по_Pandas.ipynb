{
  "nbformat": 4,
  "nbformat_minor": 0,
  "metadata": {
    "colab": {
      "name": "\"Методичка\" по Pandas.ipynb",
      "provenance": [],
      "collapsed_sections": [
        "no7tOz_4Th-A",
        "vyW_iOhxTp_j",
        "snWrElMfVlCR",
        "hXH2iQXhY3le",
        "rWZx-T0DaFwm",
        "1yaqbxiEfMG3",
        "6JvV6lYRgbq4",
        "HECJmMns1Wlr",
        "V2657oF91djn",
        "yD5S4OF71ap_"
      ]
    },
    "kernelspec": {
      "name": "python3",
      "display_name": "Python 3"
    }
  },
  "cells": [
    {
      "cell_type": "code",
      "metadata": {
        "id": "mGwYBZwmQgzi"
      },
      "source": [
        "# импорт библиотеки pandas\n",
        "import pandas as pd"
      ],
      "execution_count": null,
      "outputs": []
    },
    {
      "cell_type": "markdown",
      "metadata": {
        "id": "d7hny3nbRRn_"
      },
      "source": [
        "### Read"
      ]
    },
    {
      "cell_type": "markdown",
      "metadata": {
        "id": "-IatR2DJkVlA"
      },
      "source": [
        "#### Upload files"
      ]
    },
    {
      "cell_type": "code",
      "metadata": {
        "id": "f_ZRXiniRXxU",
        "colab": {
          "resources": {
            "http://localhost:8080/nbextensions/google.colab/files.js": {
              "data": "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",
              "ok": true,
              "headers": [
                [
                  "content-type",
                  "application/javascript"
                ]
              ],
              "status": 200,
              "status_text": ""
            }
          },
          "base_uri": "https://localhost:8080/",
          "height": 242
        },
        "outputId": "1d383a41-1fda-4225-af94-e53ac72e83a1"
      },
      "source": [
        "# загрузка файлов с компьютера (sample_1.csv, sample_2.csv, sample_3.txt, PS.csv, power_generation.csv)\n",
        "from google.colab import files # files sample1, sample2, sample3, PS, power_generation https://drive.google.com/drive/folders/1u8MfVG13bgZLq9lvEEgVOpEHOUVyE_86?usp=sharing\n",
        "uploaded = files.upload()"
      ],
      "execution_count": null,
      "outputs": [
        {
          "output_type": "display_data",
          "data": {
            "text/html": [
              "\n",
              "     <input type=\"file\" id=\"files-0737f88b-ae99-4ba8-893a-5586ba57bdc9\" name=\"files[]\" multiple disabled\n",
              "        style=\"border:none\" />\n",
              "     <output id=\"result-0737f88b-ae99-4ba8-893a-5586ba57bdc9\">\n",
              "      Upload widget is only available when the cell has been executed in the\n",
              "      current browser session. Please rerun this cell to enable.\n",
              "      </output>\n",
              "      <script src=\"/nbextensions/google.colab/files.js\"></script> "
            ],
            "text/plain": [
              "<IPython.core.display.HTML object>"
            ]
          },
          "metadata": {
            "tags": []
          }
        },
        {
          "output_type": "stream",
          "text": [
            "Saving power_generation.csv to power_generation (2).csv\n",
            "Saving PS.csv to PS (2).csv\n",
            "Saving sample_1.csv to sample_1 (2).csv\n",
            "Saving sample_2.csv to sample_2 (2).csv\n",
            "Saving sample_3.txt to sample_3 (2).txt\n",
            "Saving sample_33.txt to sample_33.txt\n"
          ],
          "name": "stdout"
        }
      ]
    },
    {
      "cell_type": "markdown",
      "metadata": {
        "id": "0Htbhmklkbm3"
      },
      "source": [
        "#### Read CSV"
      ]
    },
    {
      "cell_type": "code",
      "metadata": {
        "id": "DY0jT_zBRyHw",
        "colab": {
          "base_uri": "https://localhost:8080/",
          "height": 142
        },
        "outputId": "9f90bb11-53ce-47ef-c3ef-94029f346869"
      },
      "source": [
        "# чтение файла (датафрейма)\n",
        "input_df = pd.read_csv('sample_1.csv')\n",
        "# отображение датафрейма\n",
        "input_df"
      ],
      "execution_count": null,
      "outputs": [
        {
          "output_type": "execute_result",
          "data": {
            "text/html": [
              "<div>\n",
              "<style scoped>\n",
              "    .dataframe tbody tr th:only-of-type {\n",
              "        vertical-align: middle;\n",
              "    }\n",
              "\n",
              "    .dataframe tbody tr th {\n",
              "        vertical-align: top;\n",
              "    }\n",
              "\n",
              "    .dataframe thead th {\n",
              "        text-align: right;\n",
              "    }\n",
              "</style>\n",
              "<table border=\"1\" class=\"dataframe\">\n",
              "  <thead>\n",
              "    <tr style=\"text-align: right;\">\n",
              "      <th></th>\n",
              "      <th>A</th>\n",
              "      <th>B</th>\n",
              "      <th>C</th>\n",
              "      <th>D</th>\n",
              "    </tr>\n",
              "  </thead>\n",
              "  <tbody>\n",
              "    <tr>\n",
              "      <th>0</th>\n",
              "      <td>1.0</td>\n",
              "      <td>2.0</td>\n",
              "      <td>3.0</td>\n",
              "      <td>4.0</td>\n",
              "    </tr>\n",
              "    <tr>\n",
              "      <th>1</th>\n",
              "      <td>10.0</td>\n",
              "      <td>20.0</td>\n",
              "      <td>30.0</td>\n",
              "      <td>40.0</td>\n",
              "    </tr>\n",
              "    <tr>\n",
              "      <th>2</th>\n",
              "      <td>0.1</td>\n",
              "      <td>0.2</td>\n",
              "      <td>0.3</td>\n",
              "      <td>0.4</td>\n",
              "    </tr>\n",
              "  </tbody>\n",
              "</table>\n",
              "</div>"
            ],
            "text/plain": [
              "      A     B     C     D\n",
              "0   1.0   2.0   3.0   4.0\n",
              "1  10.0  20.0  30.0  40.0\n",
              "2   0.1   0.2   0.3   0.4"
            ]
          },
          "metadata": {
            "tags": []
          },
          "execution_count": 297
        }
      ]
    },
    {
      "cell_type": "markdown",
      "metadata": {
        "id": "41lPcXv_kfl0"
      },
      "source": [
        "#### Statistical"
      ]
    },
    {
      "cell_type": "code",
      "metadata": {
        "id": "QMaB6psDSp49",
        "colab": {
          "base_uri": "https://localhost:8080/",
          "height": 297
        },
        "outputId": "b7611865-1560-42c8-dd76-16d1592a58e7"
      },
      "source": [
        "# метод describe() для численных данных в датафрейме выводит основное статистическое описание  по столбцам (сериям)\n",
        "# count - количество ненулевых (non-NA/null) значений\n",
        "# mean - среднее значение\n",
        "# std - стандартное отклонение\n",
        "# min - минимальное значение\n",
        "# 25% - первый (нижний) квантиль\n",
        "# 50% - второй квантиль (медиана)\n",
        "# 75% - третий (верхний) квантиль\n",
        "# max - максимальное значение\n",
        "input_df.describe()"
      ],
      "execution_count": null,
      "outputs": [
        {
          "output_type": "execute_result",
          "data": {
            "text/html": [
              "<div>\n",
              "<style scoped>\n",
              "    .dataframe tbody tr th:only-of-type {\n",
              "        vertical-align: middle;\n",
              "    }\n",
              "\n",
              "    .dataframe tbody tr th {\n",
              "        vertical-align: top;\n",
              "    }\n",
              "\n",
              "    .dataframe thead th {\n",
              "        text-align: right;\n",
              "    }\n",
              "</style>\n",
              "<table border=\"1\" class=\"dataframe\">\n",
              "  <thead>\n",
              "    <tr style=\"text-align: right;\">\n",
              "      <th></th>\n",
              "      <th>A</th>\n",
              "      <th>B</th>\n",
              "      <th>C</th>\n",
              "      <th>D</th>\n",
              "    </tr>\n",
              "  </thead>\n",
              "  <tbody>\n",
              "    <tr>\n",
              "      <th>count</th>\n",
              "      <td>3.000000</td>\n",
              "      <td>3.000000</td>\n",
              "      <td>3.000000</td>\n",
              "      <td>3.000000</td>\n",
              "    </tr>\n",
              "    <tr>\n",
              "      <th>mean</th>\n",
              "      <td>3.700000</td>\n",
              "      <td>7.400000</td>\n",
              "      <td>11.100000</td>\n",
              "      <td>14.800000</td>\n",
              "    </tr>\n",
              "    <tr>\n",
              "      <th>std</th>\n",
              "      <td>5.474486</td>\n",
              "      <td>10.948973</td>\n",
              "      <td>16.423459</td>\n",
              "      <td>21.897945</td>\n",
              "    </tr>\n",
              "    <tr>\n",
              "      <th>min</th>\n",
              "      <td>0.100000</td>\n",
              "      <td>0.200000</td>\n",
              "      <td>0.300000</td>\n",
              "      <td>0.400000</td>\n",
              "    </tr>\n",
              "    <tr>\n",
              "      <th>25%</th>\n",
              "      <td>0.550000</td>\n",
              "      <td>1.100000</td>\n",
              "      <td>1.650000</td>\n",
              "      <td>2.200000</td>\n",
              "    </tr>\n",
              "    <tr>\n",
              "      <th>50%</th>\n",
              "      <td>1.000000</td>\n",
              "      <td>2.000000</td>\n",
              "      <td>3.000000</td>\n",
              "      <td>4.000000</td>\n",
              "    </tr>\n",
              "    <tr>\n",
              "      <th>75%</th>\n",
              "      <td>5.500000</td>\n",
              "      <td>11.000000</td>\n",
              "      <td>16.500000</td>\n",
              "      <td>22.000000</td>\n",
              "    </tr>\n",
              "    <tr>\n",
              "      <th>max</th>\n",
              "      <td>10.000000</td>\n",
              "      <td>20.000000</td>\n",
              "      <td>30.000000</td>\n",
              "      <td>40.000000</td>\n",
              "    </tr>\n",
              "  </tbody>\n",
              "</table>\n",
              "</div>"
            ],
            "text/plain": [
              "               A          B          C          D\n",
              "count   3.000000   3.000000   3.000000   3.000000\n",
              "mean    3.700000   7.400000  11.100000  14.800000\n",
              "std     5.474486  10.948973  16.423459  21.897945\n",
              "min     0.100000   0.200000   0.300000   0.400000\n",
              "25%     0.550000   1.100000   1.650000   2.200000\n",
              "50%     1.000000   2.000000   3.000000   4.000000\n",
              "75%     5.500000  11.000000  16.500000  22.000000\n",
              "max    10.000000  20.000000  30.000000  40.000000"
            ]
          },
          "metadata": {
            "tags": []
          },
          "execution_count": 12
        }
      ]
    },
    {
      "cell_type": "code",
      "metadata": {
        "id": "ECc4WBLvcM7P",
        "colab": {
          "base_uri": "https://localhost:8080/",
          "height": 142
        },
        "outputId": "6da7d4ed-7a7c-4ccc-eee8-6de71bc06ee2"
      },
      "source": [
        "# метод agg() позволяет для указанных столбцов (серий) вывести требуемую информацию\n",
        "# также аналогично можно использовать методы: min, max, count и тд.\n",
        "input_df.agg({'A': ['median', 'mean', 'std'],\n",
        "                'B': ['median', 'mean', 'std']})"
      ],
      "execution_count": null,
      "outputs": [
        {
          "output_type": "execute_result",
          "data": {
            "text/html": [
              "<div>\n",
              "<style scoped>\n",
              "    .dataframe tbody tr th:only-of-type {\n",
              "        vertical-align: middle;\n",
              "    }\n",
              "\n",
              "    .dataframe tbody tr th {\n",
              "        vertical-align: top;\n",
              "    }\n",
              "\n",
              "    .dataframe thead th {\n",
              "        text-align: right;\n",
              "    }\n",
              "</style>\n",
              "<table border=\"1\" class=\"dataframe\">\n",
              "  <thead>\n",
              "    <tr style=\"text-align: right;\">\n",
              "      <th></th>\n",
              "      <th>A</th>\n",
              "      <th>B</th>\n",
              "    </tr>\n",
              "  </thead>\n",
              "  <tbody>\n",
              "    <tr>\n",
              "      <th>median</th>\n",
              "      <td>1.000000</td>\n",
              "      <td>2.000000</td>\n",
              "    </tr>\n",
              "    <tr>\n",
              "      <th>mean</th>\n",
              "      <td>3.700000</td>\n",
              "      <td>7.400000</td>\n",
              "    </tr>\n",
              "    <tr>\n",
              "      <th>std</th>\n",
              "      <td>5.474486</td>\n",
              "      <td>10.948973</td>\n",
              "    </tr>\n",
              "  </tbody>\n",
              "</table>\n",
              "</div>"
            ],
            "text/plain": [
              "               A          B\n",
              "median  1.000000   2.000000\n",
              "mean    3.700000   7.400000\n",
              "std     5.474486  10.948973"
            ]
          },
          "metadata": {
            "tags": []
          },
          "execution_count": 298
        }
      ]
    },
    {
      "cell_type": "code",
      "metadata": {
        "id": "d2MB0RWQ9bjL",
        "colab": {
          "base_uri": "https://localhost:8080/"
        },
        "outputId": "e6d2a128-2018-48de-de9a-431c4c17f2df"
      },
      "source": [
        "# метод min() выводит минимальные значения для каждого столбца (серии) и тип данных\n",
        "# также аналогично можно использовать методы: max, std, mean, count и тд.\n",
        "input_df.min()"
      ],
      "execution_count": null,
      "outputs": [
        {
          "output_type": "execute_result",
          "data": {
            "text/plain": [
              "A    0.1\n",
              "B    0.2\n",
              "C    0.3\n",
              "D    0.4\n",
              "dtype: float64"
            ]
          },
          "metadata": {
            "tags": []
          },
          "execution_count": 15
        }
      ]
    },
    {
      "cell_type": "markdown",
      "metadata": {
        "id": "fUjkqC2Pkj6I"
      },
      "source": [
        "#### Read arguments"
      ]
    },
    {
      "cell_type": "code",
      "metadata": {
        "id": "Pa_iJ-KCcpN0",
        "colab": {
          "base_uri": "https://localhost:8080/",
          "height": 510
        },
        "outputId": "98a338ae-8090-4f66-b9df-303c7c151694"
      },
      "source": [
        "# ошибка чтения файла из-за отсутствия разделителей в исходном датафрейме\n",
        "input_df = pd.read_csv('sample_2.csv')\n",
        "input_df"
      ],
      "execution_count": null,
      "outputs": [
        {
          "output_type": "error",
          "ename": "ParserError",
          "evalue": "ignored",
          "traceback": [
            "\u001b[0;31m---------------------------------------------------------------------------\u001b[0m",
            "\u001b[0;31mParserError\u001b[0m                               Traceback (most recent call last)",
            "\u001b[0;32m<ipython-input-16-b8284a531465>\u001b[0m in \u001b[0;36m<module>\u001b[0;34m()\u001b[0m\n\u001b[1;32m      1\u001b[0m \u001b[0;31m# ошибка чтения файла из-за отсутствия разделителей в исходном датафрейме\u001b[0m\u001b[0;34m\u001b[0m\u001b[0;34m\u001b[0m\u001b[0;34m\u001b[0m\u001b[0m\n\u001b[0;32m----> 2\u001b[0;31m \u001b[0minput_df\u001b[0m \u001b[0;34m=\u001b[0m \u001b[0mpd\u001b[0m\u001b[0;34m.\u001b[0m\u001b[0mread_csv\u001b[0m\u001b[0;34m(\u001b[0m\u001b[0;34m'sample_2.csv'\u001b[0m\u001b[0;34m)\u001b[0m\u001b[0;34m\u001b[0m\u001b[0;34m\u001b[0m\u001b[0m\n\u001b[0m\u001b[1;32m      3\u001b[0m \u001b[0minput_df\u001b[0m\u001b[0;34m\u001b[0m\u001b[0;34m\u001b[0m\u001b[0m\n",
            "\u001b[0;32m/usr/local/lib/python3.7/dist-packages/pandas/io/parsers.py\u001b[0m in \u001b[0;36mread_csv\u001b[0;34m(filepath_or_buffer, sep, delimiter, header, names, index_col, usecols, squeeze, prefix, mangle_dupe_cols, dtype, engine, converters, true_values, false_values, skipinitialspace, skiprows, skipfooter, nrows, na_values, keep_default_na, na_filter, verbose, skip_blank_lines, parse_dates, infer_datetime_format, keep_date_col, date_parser, dayfirst, cache_dates, iterator, chunksize, compression, thousands, decimal, lineterminator, quotechar, quoting, doublequote, escapechar, comment, encoding, dialect, error_bad_lines, warn_bad_lines, delim_whitespace, low_memory, memory_map, float_precision)\u001b[0m\n\u001b[1;32m    686\u001b[0m     )\n\u001b[1;32m    687\u001b[0m \u001b[0;34m\u001b[0m\u001b[0m\n\u001b[0;32m--> 688\u001b[0;31m     \u001b[0;32mreturn\u001b[0m \u001b[0m_read\u001b[0m\u001b[0;34m(\u001b[0m\u001b[0mfilepath_or_buffer\u001b[0m\u001b[0;34m,\u001b[0m \u001b[0mkwds\u001b[0m\u001b[0;34m)\u001b[0m\u001b[0;34m\u001b[0m\u001b[0;34m\u001b[0m\u001b[0m\n\u001b[0m\u001b[1;32m    689\u001b[0m \u001b[0;34m\u001b[0m\u001b[0m\n\u001b[1;32m    690\u001b[0m \u001b[0;34m\u001b[0m\u001b[0m\n",
            "\u001b[0;32m/usr/local/lib/python3.7/dist-packages/pandas/io/parsers.py\u001b[0m in \u001b[0;36m_read\u001b[0;34m(filepath_or_buffer, kwds)\u001b[0m\n\u001b[1;32m    458\u001b[0m \u001b[0;34m\u001b[0m\u001b[0m\n\u001b[1;32m    459\u001b[0m     \u001b[0;32mtry\u001b[0m\u001b[0;34m:\u001b[0m\u001b[0;34m\u001b[0m\u001b[0;34m\u001b[0m\u001b[0m\n\u001b[0;32m--> 460\u001b[0;31m         \u001b[0mdata\u001b[0m \u001b[0;34m=\u001b[0m \u001b[0mparser\u001b[0m\u001b[0;34m.\u001b[0m\u001b[0mread\u001b[0m\u001b[0;34m(\u001b[0m\u001b[0mnrows\u001b[0m\u001b[0;34m)\u001b[0m\u001b[0;34m\u001b[0m\u001b[0;34m\u001b[0m\u001b[0m\n\u001b[0m\u001b[1;32m    461\u001b[0m     \u001b[0;32mfinally\u001b[0m\u001b[0;34m:\u001b[0m\u001b[0;34m\u001b[0m\u001b[0;34m\u001b[0m\u001b[0m\n\u001b[1;32m    462\u001b[0m         \u001b[0mparser\u001b[0m\u001b[0;34m.\u001b[0m\u001b[0mclose\u001b[0m\u001b[0;34m(\u001b[0m\u001b[0;34m)\u001b[0m\u001b[0;34m\u001b[0m\u001b[0;34m\u001b[0m\u001b[0m\n",
            "\u001b[0;32m/usr/local/lib/python3.7/dist-packages/pandas/io/parsers.py\u001b[0m in \u001b[0;36mread\u001b[0;34m(self, nrows)\u001b[0m\n\u001b[1;32m   1196\u001b[0m     \u001b[0;32mdef\u001b[0m \u001b[0mread\u001b[0m\u001b[0;34m(\u001b[0m\u001b[0mself\u001b[0m\u001b[0;34m,\u001b[0m \u001b[0mnrows\u001b[0m\u001b[0;34m=\u001b[0m\u001b[0;32mNone\u001b[0m\u001b[0;34m)\u001b[0m\u001b[0;34m:\u001b[0m\u001b[0;34m\u001b[0m\u001b[0;34m\u001b[0m\u001b[0m\n\u001b[1;32m   1197\u001b[0m         \u001b[0mnrows\u001b[0m \u001b[0;34m=\u001b[0m \u001b[0m_validate_integer\u001b[0m\u001b[0;34m(\u001b[0m\u001b[0;34m\"nrows\"\u001b[0m\u001b[0;34m,\u001b[0m \u001b[0mnrows\u001b[0m\u001b[0;34m)\u001b[0m\u001b[0;34m\u001b[0m\u001b[0;34m\u001b[0m\u001b[0m\n\u001b[0;32m-> 1198\u001b[0;31m         \u001b[0mret\u001b[0m \u001b[0;34m=\u001b[0m \u001b[0mself\u001b[0m\u001b[0;34m.\u001b[0m\u001b[0m_engine\u001b[0m\u001b[0;34m.\u001b[0m\u001b[0mread\u001b[0m\u001b[0;34m(\u001b[0m\u001b[0mnrows\u001b[0m\u001b[0;34m)\u001b[0m\u001b[0;34m\u001b[0m\u001b[0;34m\u001b[0m\u001b[0m\n\u001b[0m\u001b[1;32m   1199\u001b[0m \u001b[0;34m\u001b[0m\u001b[0m\n\u001b[1;32m   1200\u001b[0m         \u001b[0;31m# May alter columns / col_dict\u001b[0m\u001b[0;34m\u001b[0m\u001b[0;34m\u001b[0m\u001b[0;34m\u001b[0m\u001b[0m\n",
            "\u001b[0;32m/usr/local/lib/python3.7/dist-packages/pandas/io/parsers.py\u001b[0m in \u001b[0;36mread\u001b[0;34m(self, nrows)\u001b[0m\n\u001b[1;32m   2155\u001b[0m     \u001b[0;32mdef\u001b[0m \u001b[0mread\u001b[0m\u001b[0;34m(\u001b[0m\u001b[0mself\u001b[0m\u001b[0;34m,\u001b[0m \u001b[0mnrows\u001b[0m\u001b[0;34m=\u001b[0m\u001b[0;32mNone\u001b[0m\u001b[0;34m)\u001b[0m\u001b[0;34m:\u001b[0m\u001b[0;34m\u001b[0m\u001b[0;34m\u001b[0m\u001b[0m\n\u001b[1;32m   2156\u001b[0m         \u001b[0;32mtry\u001b[0m\u001b[0;34m:\u001b[0m\u001b[0;34m\u001b[0m\u001b[0;34m\u001b[0m\u001b[0m\n\u001b[0;32m-> 2157\u001b[0;31m             \u001b[0mdata\u001b[0m \u001b[0;34m=\u001b[0m \u001b[0mself\u001b[0m\u001b[0;34m.\u001b[0m\u001b[0m_reader\u001b[0m\u001b[0;34m.\u001b[0m\u001b[0mread\u001b[0m\u001b[0;34m(\u001b[0m\u001b[0mnrows\u001b[0m\u001b[0;34m)\u001b[0m\u001b[0;34m\u001b[0m\u001b[0;34m\u001b[0m\u001b[0m\n\u001b[0m\u001b[1;32m   2158\u001b[0m         \u001b[0;32mexcept\u001b[0m \u001b[0mStopIteration\u001b[0m\u001b[0;34m:\u001b[0m\u001b[0;34m\u001b[0m\u001b[0;34m\u001b[0m\u001b[0m\n\u001b[1;32m   2159\u001b[0m             \u001b[0;32mif\u001b[0m \u001b[0mself\u001b[0m\u001b[0;34m.\u001b[0m\u001b[0m_first_chunk\u001b[0m\u001b[0;34m:\u001b[0m\u001b[0;34m\u001b[0m\u001b[0;34m\u001b[0m\u001b[0m\n",
            "\u001b[0;32mpandas/_libs/parsers.pyx\u001b[0m in \u001b[0;36mpandas._libs.parsers.TextReader.read\u001b[0;34m()\u001b[0m\n",
            "\u001b[0;32mpandas/_libs/parsers.pyx\u001b[0m in \u001b[0;36mpandas._libs.parsers.TextReader._read_low_memory\u001b[0;34m()\u001b[0m\n",
            "\u001b[0;32mpandas/_libs/parsers.pyx\u001b[0m in \u001b[0;36mpandas._libs.parsers.TextReader._read_rows\u001b[0;34m()\u001b[0m\n",
            "\u001b[0;32mpandas/_libs/parsers.pyx\u001b[0m in \u001b[0;36mpandas._libs.parsers.TextReader._tokenize_rows\u001b[0;34m()\u001b[0m\n",
            "\u001b[0;32mpandas/_libs/parsers.pyx\u001b[0m in \u001b[0;36mpandas._libs.parsers.raise_parser_error\u001b[0;34m()\u001b[0m\n",
            "\u001b[0;31mParserError\u001b[0m: Error tokenizing data. C error: Expected 1 fields in line 3, saw 5\n"
          ]
        }
      ]
    },
    {
      "cell_type": "markdown",
      "metadata": {
        "id": "G4h2w4vLkzSE"
      },
      "source": [
        "#### Column separator"
      ]
    },
    {
      "cell_type": "code",
      "metadata": {
        "id": "mRt2ZSHqR_0L",
        "colab": {
          "base_uri": "https://localhost:8080/",
          "height": 111
        },
        "outputId": "6b97c61e-a9b6-4c6d-b5bf-1c8bac1b35bb"
      },
      "source": [
        "# чтение исходного датафрейма с явным указанием разделителя столбцов (серий) (в случае отсутствия разделителей применяется sep = '\\t')\n",
        "input_df = pd.read_csv('sample_2.csv', sep = '\\t')\n",
        "# отображение датафрейма\n",
        "input_df"
      ],
      "execution_count": null,
      "outputs": [
        {
          "output_type": "execute_result",
          "data": {
            "text/html": [
              "<div>\n",
              "<style scoped>\n",
              "    .dataframe tbody tr th:only-of-type {\n",
              "        vertical-align: middle;\n",
              "    }\n",
              "\n",
              "    .dataframe tbody tr th {\n",
              "        vertical-align: top;\n",
              "    }\n",
              "\n",
              "    .dataframe thead th {\n",
              "        text-align: right;\n",
              "    }\n",
              "</style>\n",
              "<table border=\"1\" class=\"dataframe\">\n",
              "  <thead>\n",
              "    <tr style=\"text-align: right;\">\n",
              "      <th></th>\n",
              "      <th>1</th>\n",
              "      <th>2</th>\n",
              "      <th>3</th>\n",
              "      <th>4</th>\n",
              "    </tr>\n",
              "  </thead>\n",
              "  <tbody>\n",
              "    <tr>\n",
              "      <th>0</th>\n",
              "      <td>10</td>\n",
              "      <td>20</td>\n",
              "      <td>30</td>\n",
              "      <td>40</td>\n",
              "    </tr>\n",
              "    <tr>\n",
              "      <th>1</th>\n",
              "      <td>0,1</td>\n",
              "      <td>0,2</td>\n",
              "      <td>0,3</td>\n",
              "      <td>0,4</td>\n",
              "    </tr>\n",
              "  </tbody>\n",
              "</table>\n",
              "</div>"
            ],
            "text/plain": [
              "     1    2    3    4\n",
              "0   10   20   30   40\n",
              "1  0,1  0,2  0,3  0,4"
            ]
          },
          "metadata": {
            "tags": []
          },
          "execution_count": 300
        }
      ]
    },
    {
      "cell_type": "code",
      "metadata": {
        "id": "2ls5SVkqSZ7g",
        "colab": {
          "base_uri": "https://localhost:8080/",
          "height": 173
        },
        "outputId": "6fbad1f7-0cd4-4d01-a90b-4e004f1030cf"
      },
      "source": [
        "# метод describe() выводит основное статистичское описание данных, в данном случае из-за разделителя \",\" \n",
        "# в числах данные имеют тип \"строка\", а не численное значение (int или float)\n",
        "# unique - кол-во уникальных значений в серии\n",
        "# top - самое распространенное значение в серии\n",
        "# freq - это частота (кол-во) наиболее распространенного значения в серии\n",
        "input_df.describe()"
      ],
      "execution_count": null,
      "outputs": [
        {
          "output_type": "execute_result",
          "data": {
            "text/html": [
              "<div>\n",
              "<style scoped>\n",
              "    .dataframe tbody tr th:only-of-type {\n",
              "        vertical-align: middle;\n",
              "    }\n",
              "\n",
              "    .dataframe tbody tr th {\n",
              "        vertical-align: top;\n",
              "    }\n",
              "\n",
              "    .dataframe thead th {\n",
              "        text-align: right;\n",
              "    }\n",
              "</style>\n",
              "<table border=\"1\" class=\"dataframe\">\n",
              "  <thead>\n",
              "    <tr style=\"text-align: right;\">\n",
              "      <th></th>\n",
              "      <th>1</th>\n",
              "      <th>2</th>\n",
              "      <th>3</th>\n",
              "      <th>4</th>\n",
              "    </tr>\n",
              "  </thead>\n",
              "  <tbody>\n",
              "    <tr>\n",
              "      <th>count</th>\n",
              "      <td>2</td>\n",
              "      <td>2</td>\n",
              "      <td>2</td>\n",
              "      <td>2</td>\n",
              "    </tr>\n",
              "    <tr>\n",
              "      <th>unique</th>\n",
              "      <td>2</td>\n",
              "      <td>2</td>\n",
              "      <td>2</td>\n",
              "      <td>2</td>\n",
              "    </tr>\n",
              "    <tr>\n",
              "      <th>top</th>\n",
              "      <td>10</td>\n",
              "      <td>0,2</td>\n",
              "      <td>30</td>\n",
              "      <td>40</td>\n",
              "    </tr>\n",
              "    <tr>\n",
              "      <th>freq</th>\n",
              "      <td>1</td>\n",
              "      <td>1</td>\n",
              "      <td>1</td>\n",
              "      <td>1</td>\n",
              "    </tr>\n",
              "  </tbody>\n",
              "</table>\n",
              "</div>"
            ],
            "text/plain": [
              "         1    2   3   4\n",
              "count    2    2   2   2\n",
              "unique   2    2   2   2\n",
              "top     10  0,2  30  40\n",
              "freq     1    1   1   1"
            ]
          },
          "metadata": {
            "tags": []
          },
          "execution_count": 301
        }
      ]
    },
    {
      "cell_type": "markdown",
      "metadata": {
        "id": "6MrkU1oNkvtq"
      },
      "source": [
        "#### Table header"
      ]
    },
    {
      "cell_type": "code",
      "metadata": {
        "id": "OTjEILzMS63j",
        "colab": {
          "base_uri": "https://localhost:8080/",
          "height": 142
        },
        "outputId": "1ea18a80-f663-4f3e-e71e-07d277a14260"
      },
      "source": [
        "# чтение исходного датафрейма с явным указанием разделителя столбцов(серий) (sep = '/t') и явным указанием сброса заголовка (header = None)\n",
        "# чтобы данные из первой строки в датафрейме не стали заголовком, а оставались первой строкой датафрейма\n",
        "input_df = pd.read_csv('sample_2.csv', sep = '\\t', header = None)\n",
        "# отображение датафрейма\n",
        "input_df"
      ],
      "execution_count": null,
      "outputs": [
        {
          "output_type": "execute_result",
          "data": {
            "text/html": [
              "<div>\n",
              "<style scoped>\n",
              "    .dataframe tbody tr th:only-of-type {\n",
              "        vertical-align: middle;\n",
              "    }\n",
              "\n",
              "    .dataframe tbody tr th {\n",
              "        vertical-align: top;\n",
              "    }\n",
              "\n",
              "    .dataframe thead th {\n",
              "        text-align: right;\n",
              "    }\n",
              "</style>\n",
              "<table border=\"1\" class=\"dataframe\">\n",
              "  <thead>\n",
              "    <tr style=\"text-align: right;\">\n",
              "      <th></th>\n",
              "      <th>0</th>\n",
              "      <th>1</th>\n",
              "      <th>2</th>\n",
              "      <th>3</th>\n",
              "    </tr>\n",
              "  </thead>\n",
              "  <tbody>\n",
              "    <tr>\n",
              "      <th>0</th>\n",
              "      <td>1</td>\n",
              "      <td>2</td>\n",
              "      <td>3</td>\n",
              "      <td>4</td>\n",
              "    </tr>\n",
              "    <tr>\n",
              "      <th>1</th>\n",
              "      <td>10</td>\n",
              "      <td>20</td>\n",
              "      <td>30</td>\n",
              "      <td>40</td>\n",
              "    </tr>\n",
              "    <tr>\n",
              "      <th>2</th>\n",
              "      <td>0,1</td>\n",
              "      <td>0,2</td>\n",
              "      <td>0,3</td>\n",
              "      <td>0,4</td>\n",
              "    </tr>\n",
              "  </tbody>\n",
              "</table>\n",
              "</div>"
            ],
            "text/plain": [
              "     0    1    2    3\n",
              "0    1    2    3    4\n",
              "1   10   20   30   40\n",
              "2  0,1  0,2  0,3  0,4"
            ]
          },
          "metadata": {
            "tags": []
          },
          "execution_count": 302
        }
      ]
    },
    {
      "cell_type": "code",
      "metadata": {
        "id": "rQxwmSHyTMJD",
        "colab": {
          "base_uri": "https://localhost:8080/",
          "height": 173
        },
        "outputId": "fbf1fd0c-3510-4af0-d2ab-d310cb37e3d4"
      },
      "source": [
        "# метод describe() выводит основное статистичское описание данных, в данном случае из-за разделителя \",\"\n",
        "# в числах данные имеют тип данных \"строка\", а не численное значение (int или float)\n",
        "# unique - кол-во уникальных значений в серии\n",
        "# top - самое распространенное значение в серии\n",
        "# freq - это частота (кол-во) наиболее распространенного значения в серии\n",
        "input_df.describe()"
      ],
      "execution_count": null,
      "outputs": [
        {
          "output_type": "execute_result",
          "data": {
            "text/html": [
              "<div>\n",
              "<style scoped>\n",
              "    .dataframe tbody tr th:only-of-type {\n",
              "        vertical-align: middle;\n",
              "    }\n",
              "\n",
              "    .dataframe tbody tr th {\n",
              "        vertical-align: top;\n",
              "    }\n",
              "\n",
              "    .dataframe thead th {\n",
              "        text-align: right;\n",
              "    }\n",
              "</style>\n",
              "<table border=\"1\" class=\"dataframe\">\n",
              "  <thead>\n",
              "    <tr style=\"text-align: right;\">\n",
              "      <th></th>\n",
              "      <th>0</th>\n",
              "      <th>1</th>\n",
              "      <th>2</th>\n",
              "      <th>3</th>\n",
              "    </tr>\n",
              "  </thead>\n",
              "  <tbody>\n",
              "    <tr>\n",
              "      <th>count</th>\n",
              "      <td>3</td>\n",
              "      <td>3</td>\n",
              "      <td>3</td>\n",
              "      <td>3</td>\n",
              "    </tr>\n",
              "    <tr>\n",
              "      <th>unique</th>\n",
              "      <td>3</td>\n",
              "      <td>3</td>\n",
              "      <td>3</td>\n",
              "      <td>3</td>\n",
              "    </tr>\n",
              "    <tr>\n",
              "      <th>top</th>\n",
              "      <td>1</td>\n",
              "      <td>0,2</td>\n",
              "      <td>3</td>\n",
              "      <td>4</td>\n",
              "    </tr>\n",
              "    <tr>\n",
              "      <th>freq</th>\n",
              "      <td>1</td>\n",
              "      <td>1</td>\n",
              "      <td>1</td>\n",
              "      <td>1</td>\n",
              "    </tr>\n",
              "  </tbody>\n",
              "</table>\n",
              "</div>"
            ],
            "text/plain": [
              "        0    1  2  3\n",
              "count   3    3  3  3\n",
              "unique  3    3  3  3\n",
              "top     1  0,2  3  4\n",
              "freq    1    1  1  1"
            ]
          },
          "metadata": {
            "tags": []
          },
          "execution_count": 303
        }
      ]
    },
    {
      "cell_type": "markdown",
      "metadata": {
        "id": "AnKCzA8zk5-l"
      },
      "source": [
        "#### Decimal separator"
      ]
    },
    {
      "cell_type": "code",
      "metadata": {
        "id": "bRs1su79TPPx",
        "colab": {
          "base_uri": "https://localhost:8080/",
          "height": 142
        },
        "outputId": "97dafe9f-912d-4176-c9ca-1dcb3a0a4ebd"
      },
      "source": [
        "# чтение исходного датафрейма с явным указанием разделителя столбцов(серий) (sep = '/t') и явным указанием сброса заголовка (header = None)\n",
        "# чтобы данные из первой строки в датафрейме не стали заголовком, а оставались первой строкой датафрейма\n",
        "# также с явным указанием разделителя \"внутри\" чисел(по умолчанию разделитель '.'), если в исходных данных используется ',' \n",
        "# то для корректного чтения данных необходимо указать параметр (decimal=',')\n",
        "input_df = pd.read_csv('sample_2.csv', sep = '\\t', header = None, decimal=',')\n",
        "# отображение датафрейма\n",
        "input_df"
      ],
      "execution_count": null,
      "outputs": [
        {
          "output_type": "execute_result",
          "data": {
            "text/html": [
              "<div>\n",
              "<style scoped>\n",
              "    .dataframe tbody tr th:only-of-type {\n",
              "        vertical-align: middle;\n",
              "    }\n",
              "\n",
              "    .dataframe tbody tr th {\n",
              "        vertical-align: top;\n",
              "    }\n",
              "\n",
              "    .dataframe thead th {\n",
              "        text-align: right;\n",
              "    }\n",
              "</style>\n",
              "<table border=\"1\" class=\"dataframe\">\n",
              "  <thead>\n",
              "    <tr style=\"text-align: right;\">\n",
              "      <th></th>\n",
              "      <th>0</th>\n",
              "      <th>1</th>\n",
              "      <th>2</th>\n",
              "      <th>3</th>\n",
              "    </tr>\n",
              "  </thead>\n",
              "  <tbody>\n",
              "    <tr>\n",
              "      <th>0</th>\n",
              "      <td>1.0</td>\n",
              "      <td>2.0</td>\n",
              "      <td>3.0</td>\n",
              "      <td>4.0</td>\n",
              "    </tr>\n",
              "    <tr>\n",
              "      <th>1</th>\n",
              "      <td>10.0</td>\n",
              "      <td>20.0</td>\n",
              "      <td>30.0</td>\n",
              "      <td>40.0</td>\n",
              "    </tr>\n",
              "    <tr>\n",
              "      <th>2</th>\n",
              "      <td>0.1</td>\n",
              "      <td>0.2</td>\n",
              "      <td>0.3</td>\n",
              "      <td>0.4</td>\n",
              "    </tr>\n",
              "  </tbody>\n",
              "</table>\n",
              "</div>"
            ],
            "text/plain": [
              "      0     1     2     3\n",
              "0   1.0   2.0   3.0   4.0\n",
              "1  10.0  20.0  30.0  40.0\n",
              "2   0.1   0.2   0.3   0.4"
            ]
          },
          "metadata": {
            "tags": []
          },
          "execution_count": 21
        }
      ]
    },
    {
      "cell_type": "code",
      "metadata": {
        "id": "QdSFnuQNTV08",
        "colab": {
          "base_uri": "https://localhost:8080/",
          "height": 297
        },
        "outputId": "ae1c2e8d-b8fc-44e2-b7ac-67d4a75bb39e"
      },
      "source": [
        "# метод describe() для численных данных в датафрейме выводит основное статистическое описание  по столбцам (сериям)\n",
        "# count - количество ненулевых (non-NA/null) значений\n",
        "# mean - среднее значение\n",
        "# std - стандартное отклонение\n",
        "# min - минимальное значение\n",
        "# 25% - первый (нижний) квантиль\n",
        "# 50% - второй квантиль (медиана)\n",
        "# 75% - третий (верхний) квантиль\n",
        "# max - максимальное значение\n",
        "input_df.describe()"
      ],
      "execution_count": null,
      "outputs": [
        {
          "output_type": "execute_result",
          "data": {
            "text/html": [
              "<div>\n",
              "<style scoped>\n",
              "    .dataframe tbody tr th:only-of-type {\n",
              "        vertical-align: middle;\n",
              "    }\n",
              "\n",
              "    .dataframe tbody tr th {\n",
              "        vertical-align: top;\n",
              "    }\n",
              "\n",
              "    .dataframe thead th {\n",
              "        text-align: right;\n",
              "    }\n",
              "</style>\n",
              "<table border=\"1\" class=\"dataframe\">\n",
              "  <thead>\n",
              "    <tr style=\"text-align: right;\">\n",
              "      <th></th>\n",
              "      <th>0</th>\n",
              "      <th>1</th>\n",
              "      <th>2</th>\n",
              "      <th>3</th>\n",
              "    </tr>\n",
              "  </thead>\n",
              "  <tbody>\n",
              "    <tr>\n",
              "      <th>count</th>\n",
              "      <td>3.000000</td>\n",
              "      <td>3.000000</td>\n",
              "      <td>3.000000</td>\n",
              "      <td>3.000000</td>\n",
              "    </tr>\n",
              "    <tr>\n",
              "      <th>mean</th>\n",
              "      <td>3.700000</td>\n",
              "      <td>7.400000</td>\n",
              "      <td>11.100000</td>\n",
              "      <td>14.800000</td>\n",
              "    </tr>\n",
              "    <tr>\n",
              "      <th>std</th>\n",
              "      <td>5.474486</td>\n",
              "      <td>10.948973</td>\n",
              "      <td>16.423459</td>\n",
              "      <td>21.897945</td>\n",
              "    </tr>\n",
              "    <tr>\n",
              "      <th>min</th>\n",
              "      <td>0.100000</td>\n",
              "      <td>0.200000</td>\n",
              "      <td>0.300000</td>\n",
              "      <td>0.400000</td>\n",
              "    </tr>\n",
              "    <tr>\n",
              "      <th>25%</th>\n",
              "      <td>0.550000</td>\n",
              "      <td>1.100000</td>\n",
              "      <td>1.650000</td>\n",
              "      <td>2.200000</td>\n",
              "    </tr>\n",
              "    <tr>\n",
              "      <th>50%</th>\n",
              "      <td>1.000000</td>\n",
              "      <td>2.000000</td>\n",
              "      <td>3.000000</td>\n",
              "      <td>4.000000</td>\n",
              "    </tr>\n",
              "    <tr>\n",
              "      <th>75%</th>\n",
              "      <td>5.500000</td>\n",
              "      <td>11.000000</td>\n",
              "      <td>16.500000</td>\n",
              "      <td>22.000000</td>\n",
              "    </tr>\n",
              "    <tr>\n",
              "      <th>max</th>\n",
              "      <td>10.000000</td>\n",
              "      <td>20.000000</td>\n",
              "      <td>30.000000</td>\n",
              "      <td>40.000000</td>\n",
              "    </tr>\n",
              "  </tbody>\n",
              "</table>\n",
              "</div>"
            ],
            "text/plain": [
              "               0          1          2          3\n",
              "count   3.000000   3.000000   3.000000   3.000000\n",
              "mean    3.700000   7.400000  11.100000  14.800000\n",
              "std     5.474486  10.948973  16.423459  21.897945\n",
              "min     0.100000   0.200000   0.300000   0.400000\n",
              "25%     0.550000   1.100000   1.650000   2.200000\n",
              "50%     1.000000   2.000000   3.000000   4.000000\n",
              "75%     5.500000  11.000000  16.500000  22.000000\n",
              "max    10.000000  20.000000  30.000000  40.000000"
            ]
          },
          "metadata": {
            "tags": []
          },
          "execution_count": 22
        }
      ]
    },
    {
      "cell_type": "markdown",
      "metadata": {
        "id": "iVAxA1dnk-5K"
      },
      "source": [
        "#### Column names"
      ]
    },
    {
      "cell_type": "code",
      "metadata": {
        "id": "ZP25vm_KTaJC",
        "colab": {
          "base_uri": "https://localhost:8080/",
          "height": 142
        },
        "outputId": "0ce00ae7-40e6-4e04-aebb-661817bfd69c"
      },
      "source": [
        "# чтение датафрейма с явным указанием разделителей столбцов, сбросом заголовка, и явным указанием разделителя в численных значениях\n",
        "# с присвоением новых имен для столбцов (серий) параметром (names=['A', 'B', 'C', 'D']) \n",
        "input_df = pd.read_csv('sample_2.csv', sep = '\\t', header = None, decimal=',', names=['A', 'B', 'C', 'D'])\n",
        "# отображение датафрейма\n",
        "input_df"
      ],
      "execution_count": null,
      "outputs": [
        {
          "output_type": "execute_result",
          "data": {
            "text/html": [
              "<div>\n",
              "<style scoped>\n",
              "    .dataframe tbody tr th:only-of-type {\n",
              "        vertical-align: middle;\n",
              "    }\n",
              "\n",
              "    .dataframe tbody tr th {\n",
              "        vertical-align: top;\n",
              "    }\n",
              "\n",
              "    .dataframe thead th {\n",
              "        text-align: right;\n",
              "    }\n",
              "</style>\n",
              "<table border=\"1\" class=\"dataframe\">\n",
              "  <thead>\n",
              "    <tr style=\"text-align: right;\">\n",
              "      <th></th>\n",
              "      <th>A</th>\n",
              "      <th>B</th>\n",
              "      <th>C</th>\n",
              "      <th>D</th>\n",
              "    </tr>\n",
              "  </thead>\n",
              "  <tbody>\n",
              "    <tr>\n",
              "      <th>0</th>\n",
              "      <td>1.0</td>\n",
              "      <td>2.0</td>\n",
              "      <td>3.0</td>\n",
              "      <td>4.0</td>\n",
              "    </tr>\n",
              "    <tr>\n",
              "      <th>1</th>\n",
              "      <td>10.0</td>\n",
              "      <td>20.0</td>\n",
              "      <td>30.0</td>\n",
              "      <td>40.0</td>\n",
              "    </tr>\n",
              "    <tr>\n",
              "      <th>2</th>\n",
              "      <td>0.1</td>\n",
              "      <td>0.2</td>\n",
              "      <td>0.3</td>\n",
              "      <td>0.4</td>\n",
              "    </tr>\n",
              "  </tbody>\n",
              "</table>\n",
              "</div>"
            ],
            "text/plain": [
              "      A     B     C     D\n",
              "0   1.0   2.0   3.0   4.0\n",
              "1  10.0  20.0  30.0  40.0\n",
              "2   0.1   0.2   0.3   0.4"
            ]
          },
          "metadata": {
            "tags": []
          },
          "execution_count": 23
        }
      ]
    },
    {
      "cell_type": "code",
      "metadata": {
        "id": "uGVBeVxoT8nt",
        "colab": {
          "base_uri": "https://localhost:8080/",
          "height": 142
        },
        "outputId": "b6250952-02e5-4d32-f0d3-0ab2906770a3"
      },
      "source": [
        "# чтение датафрейма с явным указанием разделителя столбцов ';'\n",
        "input_df = pd.read_csv('sample_3.txt', sep = ';')\n",
        "# отображение датафрейма\n",
        "input_df"
      ],
      "execution_count": null,
      "outputs": [
        {
          "output_type": "execute_result",
          "data": {
            "text/html": [
              "<div>\n",
              "<style scoped>\n",
              "    .dataframe tbody tr th:only-of-type {\n",
              "        vertical-align: middle;\n",
              "    }\n",
              "\n",
              "    .dataframe tbody tr th {\n",
              "        vertical-align: top;\n",
              "    }\n",
              "\n",
              "    .dataframe thead th {\n",
              "        text-align: right;\n",
              "    }\n",
              "</style>\n",
              "<table border=\"1\" class=\"dataframe\">\n",
              "  <thead>\n",
              "    <tr style=\"text-align: right;\">\n",
              "      <th></th>\n",
              "      <th>A</th>\n",
              "      <th>B</th>\n",
              "      <th>C</th>\n",
              "      <th>D</th>\n",
              "    </tr>\n",
              "  </thead>\n",
              "  <tbody>\n",
              "    <tr>\n",
              "      <th>0</th>\n",
              "      <td>1.0</td>\n",
              "      <td>2.0</td>\n",
              "      <td>3.0</td>\n",
              "      <td>4.0</td>\n",
              "    </tr>\n",
              "    <tr>\n",
              "      <th>1</th>\n",
              "      <td>10.0</td>\n",
              "      <td>20.0</td>\n",
              "      <td>30.0</td>\n",
              "      <td>40.0</td>\n",
              "    </tr>\n",
              "    <tr>\n",
              "      <th>2</th>\n",
              "      <td>0.1</td>\n",
              "      <td>0.2</td>\n",
              "      <td>0.3</td>\n",
              "      <td>0.4</td>\n",
              "    </tr>\n",
              "  </tbody>\n",
              "</table>\n",
              "</div>"
            ],
            "text/plain": [
              "      A     B     C     D\n",
              "0   1.0   2.0   3.0   4.0\n",
              "1  10.0  20.0  30.0  40.0\n",
              "2   0.1   0.2   0.3   0.4"
            ]
          },
          "metadata": {
            "tags": []
          },
          "execution_count": 65
        }
      ]
    },
    {
      "cell_type": "markdown",
      "metadata": {
        "id": "t1aHv0GdlDMp"
      },
      "source": [
        "#### Row names (indexes)"
      ]
    },
    {
      "cell_type": "code",
      "metadata": {
        "id": "vG8z0Ib9ULUj",
        "colab": {
          "base_uri": "https://localhost:8080/",
          "height": 142
        },
        "outputId": "83b8ac47-c92c-4626-dd17-03d7a2f00ed0"
      },
      "source": [
        "# чтение файла, с разделителем столбцов ';' и индексами равными данным в первом столбце (столбец имеющий индекс 0)\n",
        "input_df = pd.read_csv('sample_33.txt', sep = ';', index_col = 0)\n",
        "# отображение датафрейма\n",
        "input_df"
      ],
      "execution_count": null,
      "outputs": [
        {
          "output_type": "execute_result",
          "data": {
            "text/html": [
              "<div>\n",
              "<style scoped>\n",
              "    .dataframe tbody tr th:only-of-type {\n",
              "        vertical-align: middle;\n",
              "    }\n",
              "\n",
              "    .dataframe tbody tr th {\n",
              "        vertical-align: top;\n",
              "    }\n",
              "\n",
              "    .dataframe thead th {\n",
              "        text-align: right;\n",
              "    }\n",
              "</style>\n",
              "<table border=\"1\" class=\"dataframe\">\n",
              "  <thead>\n",
              "    <tr style=\"text-align: right;\">\n",
              "      <th></th>\n",
              "      <th>A</th>\n",
              "      <th>B</th>\n",
              "      <th>C</th>\n",
              "      <th>D</th>\n",
              "    </tr>\n",
              "  </thead>\n",
              "  <tbody>\n",
              "    <tr>\n",
              "      <th>a</th>\n",
              "      <td>1.0</td>\n",
              "      <td>2.0</td>\n",
              "      <td>3.0</td>\n",
              "      <td>4.0</td>\n",
              "    </tr>\n",
              "    <tr>\n",
              "      <th>b</th>\n",
              "      <td>10.0</td>\n",
              "      <td>20.0</td>\n",
              "      <td>30.0</td>\n",
              "      <td>40.0</td>\n",
              "    </tr>\n",
              "    <tr>\n",
              "      <th>c</th>\n",
              "      <td>0.1</td>\n",
              "      <td>0.2</td>\n",
              "      <td>0.3</td>\n",
              "      <td>0.4</td>\n",
              "    </tr>\n",
              "  </tbody>\n",
              "</table>\n",
              "</div>"
            ],
            "text/plain": [
              "      A     B     C     D\n",
              "a   1.0   2.0   3.0   4.0\n",
              "b  10.0  20.0  30.0  40.0\n",
              "c   0.1   0.2   0.3   0.4"
            ]
          },
          "metadata": {
            "tags": []
          },
          "execution_count": 42
        }
      ]
    },
    {
      "cell_type": "markdown",
      "metadata": {
        "id": "HCSVfP9_lG5B"
      },
      "source": [
        "#### Read only n-first rows"
      ]
    },
    {
      "cell_type": "code",
      "metadata": {
        "id": "QWA-5w5hUg0A",
        "colab": {
          "base_uri": "https://localhost:8080/",
          "height": 80
        },
        "outputId": "461df596-8674-45a6-b4a1-1769c3e39aa4"
      },
      "source": [
        "# чтение файла, с разделителем столбцов ';' и индексами равными данным в первом столбце (столбец имеющий индекс 0)\n",
        "# параметр (nrows = 1) указывает на количество строк, которые необходимо считать\n",
        "input_df = pd.read_csv('sample_33.txt', sep = ';', index_col = 0,  nrows = 1) \n",
        "# отображение датафрейма\n",
        "input_df"
      ],
      "execution_count": null,
      "outputs": [
        {
          "output_type": "execute_result",
          "data": {
            "text/html": [
              "<div>\n",
              "<style scoped>\n",
              "    .dataframe tbody tr th:only-of-type {\n",
              "        vertical-align: middle;\n",
              "    }\n",
              "\n",
              "    .dataframe tbody tr th {\n",
              "        vertical-align: top;\n",
              "    }\n",
              "\n",
              "    .dataframe thead th {\n",
              "        text-align: right;\n",
              "    }\n",
              "</style>\n",
              "<table border=\"1\" class=\"dataframe\">\n",
              "  <thead>\n",
              "    <tr style=\"text-align: right;\">\n",
              "      <th></th>\n",
              "      <th>A</th>\n",
              "      <th>B</th>\n",
              "      <th>C</th>\n",
              "      <th>D</th>\n",
              "    </tr>\n",
              "  </thead>\n",
              "  <tbody>\n",
              "    <tr>\n",
              "      <th>a</th>\n",
              "      <td>1</td>\n",
              "      <td>2</td>\n",
              "      <td>3</td>\n",
              "      <td>4</td>\n",
              "    </tr>\n",
              "  </tbody>\n",
              "</table>\n",
              "</div>"
            ],
            "text/plain": [
              "   A  B  C  D\n",
              "a  1  2  3  4"
            ]
          },
          "metadata": {
            "tags": []
          },
          "execution_count": 41
        }
      ]
    },
    {
      "cell_type": "markdown",
      "metadata": {
        "id": "g7P9I-5flOgK"
      },
      "source": [
        "#### Read from Google Drive link"
      ]
    },
    {
      "cell_type": "code",
      "metadata": {
        "id": "FBkxGQPEV5nT",
        "colab": {
          "base_uri": "https://localhost:8080/",
          "height": 142
        },
        "outputId": "42a83e27-0d28-4d81-b34c-04d620f52ef8"
      },
      "source": [
        "# чтение данных в формате csv по ссылке с Google Drive (с указанием разделителя стобцов ',')\n",
        "url = \"https://drive.google.com/uc?export=download&id=1ONRAHlUj9du5ikkdfSqRgxXZcLdA_Xhz\" # access permition!\n",
        "input_df = pd.read_csv(url, sep = ',')\n",
        "# отображение датафрейма\n",
        "input_df"
      ],
      "execution_count": null,
      "outputs": [
        {
          "output_type": "execute_result",
          "data": {
            "text/html": [
              "<div>\n",
              "<style scoped>\n",
              "    .dataframe tbody tr th:only-of-type {\n",
              "        vertical-align: middle;\n",
              "    }\n",
              "\n",
              "    .dataframe tbody tr th {\n",
              "        vertical-align: top;\n",
              "    }\n",
              "\n",
              "    .dataframe thead th {\n",
              "        text-align: right;\n",
              "    }\n",
              "</style>\n",
              "<table border=\"1\" class=\"dataframe\">\n",
              "  <thead>\n",
              "    <tr style=\"text-align: right;\">\n",
              "      <th></th>\n",
              "      <th>A</th>\n",
              "      <th>B</th>\n",
              "      <th>C</th>\n",
              "      <th>D</th>\n",
              "    </tr>\n",
              "  </thead>\n",
              "  <tbody>\n",
              "    <tr>\n",
              "      <th>0</th>\n",
              "      <td>1.0</td>\n",
              "      <td>2.0</td>\n",
              "      <td>3.0</td>\n",
              "      <td>4.0</td>\n",
              "    </tr>\n",
              "    <tr>\n",
              "      <th>1</th>\n",
              "      <td>10.0</td>\n",
              "      <td>20.0</td>\n",
              "      <td>30.0</td>\n",
              "      <td>40.0</td>\n",
              "    </tr>\n",
              "    <tr>\n",
              "      <th>2</th>\n",
              "      <td>0.1</td>\n",
              "      <td>0.2</td>\n",
              "      <td>0.3</td>\n",
              "      <td>0.4</td>\n",
              "    </tr>\n",
              "  </tbody>\n",
              "</table>\n",
              "</div>"
            ],
            "text/plain": [
              "      A     B     C     D\n",
              "0   1.0   2.0   3.0   4.0\n",
              "1  10.0  20.0  30.0  40.0\n",
              "2   0.1   0.2   0.3   0.4"
            ]
          },
          "metadata": {
            "tags": []
          },
          "execution_count": 69
        }
      ]
    },
    {
      "cell_type": "code",
      "metadata": {
        "id": "JKwJsXv14S3t",
        "colab": {
          "base_uri": "https://localhost:8080/",
          "height": 419
        },
        "outputId": "4b4175c6-9ee2-4528-9f6f-fefd89008252"
      },
      "source": [
        "# чтение данных в формате excel по ссылке с Google Drive (cо сбросом заголовка)\n",
        "input_df = pd.read_excel('https://drive.google.com/uc?export=download&id=15wO7GfElei68HqHITyuWo3NQiqsUd38_', header = None)\n",
        "# отображение датафрейма\n",
        "input_df"
      ],
      "execution_count": null,
      "outputs": [
        {
          "output_type": "execute_result",
          "data": {
            "text/html": [
              "<div>\n",
              "<style scoped>\n",
              "    .dataframe tbody tr th:only-of-type {\n",
              "        vertical-align: middle;\n",
              "    }\n",
              "\n",
              "    .dataframe tbody tr th {\n",
              "        vertical-align: top;\n",
              "    }\n",
              "\n",
              "    .dataframe thead th {\n",
              "        text-align: right;\n",
              "    }\n",
              "</style>\n",
              "<table border=\"1\" class=\"dataframe\">\n",
              "  <thead>\n",
              "    <tr style=\"text-align: right;\">\n",
              "      <th></th>\n",
              "      <th>0</th>\n",
              "      <th>1</th>\n",
              "      <th>2</th>\n",
              "    </tr>\n",
              "  </thead>\n",
              "  <tbody>\n",
              "    <tr>\n",
              "      <th>0</th>\n",
              "      <td>01.01.2015 0:30:00</td>\n",
              "      <td>1463.0</td>\n",
              "      <td>1776.5</td>\n",
              "    </tr>\n",
              "    <tr>\n",
              "      <th>1</th>\n",
              "      <td>01.01.2015 1:00:00</td>\n",
              "      <td>1452.0</td>\n",
              "      <td>1765.5</td>\n",
              "    </tr>\n",
              "    <tr>\n",
              "      <th>2</th>\n",
              "      <td>01.01.2015 1:30:00</td>\n",
              "      <td>1391.5</td>\n",
              "      <td>1699.5</td>\n",
              "    </tr>\n",
              "    <tr>\n",
              "      <th>3</th>\n",
              "      <td>01.01.2015 2:00:00</td>\n",
              "      <td>1435.5</td>\n",
              "      <td>1749.0</td>\n",
              "    </tr>\n",
              "    <tr>\n",
              "      <th>4</th>\n",
              "      <td>01.01.2015 2:30:00</td>\n",
              "      <td>1435.5</td>\n",
              "      <td>1749.0</td>\n",
              "    </tr>\n",
              "    <tr>\n",
              "      <th>...</th>\n",
              "      <td>...</td>\n",
              "      <td>...</td>\n",
              "      <td>...</td>\n",
              "    </tr>\n",
              "    <tr>\n",
              "      <th>70123</th>\n",
              "      <td>31.12.2018 22:00:00</td>\n",
              "      <td>1762.0</td>\n",
              "      <td>2220.0</td>\n",
              "    </tr>\n",
              "    <tr>\n",
              "      <th>70124</th>\n",
              "      <td>31.12.2018 22:30:00</td>\n",
              "      <td>1679.0</td>\n",
              "      <td>2148.0</td>\n",
              "    </tr>\n",
              "    <tr>\n",
              "      <th>70125</th>\n",
              "      <td>31.12.2018 23:00:00</td>\n",
              "      <td>1819.0</td>\n",
              "      <td>2253.0</td>\n",
              "    </tr>\n",
              "    <tr>\n",
              "      <th>70126</th>\n",
              "      <td>31.12.2018 23:30:00</td>\n",
              "      <td>1566.0</td>\n",
              "      <td>2035.0</td>\n",
              "    </tr>\n",
              "    <tr>\n",
              "      <th>70127</th>\n",
              "      <td>01.01.2019</td>\n",
              "      <td>1587.0</td>\n",
              "      <td>2034.0</td>\n",
              "    </tr>\n",
              "  </tbody>\n",
              "</table>\n",
              "<p>70128 rows × 3 columns</p>\n",
              "</div>"
            ],
            "text/plain": [
              "                         0       1       2\n",
              "0       01.01.2015 0:30:00  1463.0  1776.5\n",
              "1       01.01.2015 1:00:00  1452.0  1765.5\n",
              "2       01.01.2015 1:30:00  1391.5  1699.5\n",
              "3       01.01.2015 2:00:00  1435.5  1749.0\n",
              "4       01.01.2015 2:30:00  1435.5  1749.0\n",
              "...                    ...     ...     ...\n",
              "70123  31.12.2018 22:00:00  1762.0  2220.0\n",
              "70124  31.12.2018 22:30:00  1679.0  2148.0\n",
              "70125  31.12.2018 23:00:00  1819.0  2253.0\n",
              "70126  31.12.2018 23:30:00  1566.0  2035.0\n",
              "70127           01.01.2019  1587.0  2034.0\n",
              "\n",
              "[70128 rows x 3 columns]"
            ]
          },
          "metadata": {
            "tags": []
          },
          "execution_count": 71
        }
      ]
    },
    {
      "cell_type": "markdown",
      "metadata": {
        "id": "dwTwHqOqlYOK"
      },
      "source": [
        "#### Mount Google Drive"
      ]
    },
    {
      "cell_type": "code",
      "metadata": {
        "id": "C9V0wqQg3e-w",
        "colab": {
          "base_uri": "https://localhost:8080/"
        },
        "outputId": "9d298359-8585-4236-bc58-1925fc01a62d"
      },
      "source": [
        "# подключение Google Disk для работы с файлами хранящимися на нём\n",
        "from google.colab import drive\n",
        "drive.mount('/content/gdrive')"
      ],
      "execution_count": null,
      "outputs": [
        {
          "output_type": "stream",
          "text": [
            "Mounted at /content/gdrive\n"
          ],
          "name": "stdout"
        }
      ]
    },
    {
      "cell_type": "code",
      "metadata": {
        "id": "KvUkgXSA4AWO",
        "colab": {
          "base_uri": "https://localhost:8080/",
          "height": 142
        },
        "outputId": "d149148c-e748-44fb-f85b-01c4b72d4bbc"
      },
      "source": [
        "# чтение csv файла с google disk\n",
        "input_df = pd.read_csv('gdrive/My Drive/Pandas/sample_1.csv')\n",
        "# отображение датафрейма\n",
        "input_df\n",
        "\n",
        "# 'gdrive/My Drive/Халясмаа/08.2020/data/sample_1.csv'"
      ],
      "execution_count": null,
      "outputs": [
        {
          "output_type": "execute_result",
          "data": {
            "text/html": [
              "<div>\n",
              "<style scoped>\n",
              "    .dataframe tbody tr th:only-of-type {\n",
              "        vertical-align: middle;\n",
              "    }\n",
              "\n",
              "    .dataframe tbody tr th {\n",
              "        vertical-align: top;\n",
              "    }\n",
              "\n",
              "    .dataframe thead th {\n",
              "        text-align: right;\n",
              "    }\n",
              "</style>\n",
              "<table border=\"1\" class=\"dataframe\">\n",
              "  <thead>\n",
              "    <tr style=\"text-align: right;\">\n",
              "      <th></th>\n",
              "      <th>A</th>\n",
              "      <th>B</th>\n",
              "      <th>C</th>\n",
              "      <th>D</th>\n",
              "    </tr>\n",
              "  </thead>\n",
              "  <tbody>\n",
              "    <tr>\n",
              "      <th>0</th>\n",
              "      <td>1.0</td>\n",
              "      <td>2.0</td>\n",
              "      <td>3.0</td>\n",
              "      <td>4.0</td>\n",
              "    </tr>\n",
              "    <tr>\n",
              "      <th>1</th>\n",
              "      <td>10.0</td>\n",
              "      <td>20.0</td>\n",
              "      <td>30.0</td>\n",
              "      <td>40.0</td>\n",
              "    </tr>\n",
              "    <tr>\n",
              "      <th>2</th>\n",
              "      <td>0.1</td>\n",
              "      <td>0.2</td>\n",
              "      <td>0.3</td>\n",
              "      <td>0.4</td>\n",
              "    </tr>\n",
              "  </tbody>\n",
              "</table>\n",
              "</div>"
            ],
            "text/plain": [
              "      A     B     C     D\n",
              "0   1.0   2.0   3.0   4.0\n",
              "1  10.0  20.0  30.0  40.0\n",
              "2   0.1   0.2   0.3   0.4"
            ]
          },
          "metadata": {
            "tags": []
          },
          "execution_count": 44
        }
      ]
    },
    {
      "cell_type": "code",
      "metadata": {
        "id": "wpP3fUsL48Wq"
      },
      "source": [
        "# чтение excel файла с google disk\n",
        "input_df = pd.read_excel('gdrive/My Drive/Pandas/Industrial_consumption.xlsx')\n",
        "\n",
        "# 'gdrive/My Drive/Халясмаа/08.2020/data/Industrial_consumption.xlsx'"
      ],
      "execution_count": null,
      "outputs": []
    },
    {
      "cell_type": "code",
      "metadata": {
        "id": "yKBjKDtr5wg7",
        "colab": {
          "base_uri": "https://localhost:8080/",
          "height": 419
        },
        "outputId": "cee54141-3442-4617-ac9d-a178c2becc7a"
      },
      "source": [
        "# отображение датафрейма\n",
        "input_df"
      ],
      "execution_count": null,
      "outputs": [
        {
          "output_type": "execute_result",
          "data": {
            "text/html": [
              "<div>\n",
              "<style scoped>\n",
              "    .dataframe tbody tr th:only-of-type {\n",
              "        vertical-align: middle;\n",
              "    }\n",
              "\n",
              "    .dataframe tbody tr th {\n",
              "        vertical-align: top;\n",
              "    }\n",
              "\n",
              "    .dataframe thead th {\n",
              "        text-align: right;\n",
              "    }\n",
              "</style>\n",
              "<table border=\"1\" class=\"dataframe\">\n",
              "  <thead>\n",
              "    <tr style=\"text-align: right;\">\n",
              "      <th></th>\n",
              "      <th>01.01.2015 0:30:00</th>\n",
              "      <th>1463</th>\n",
              "      <th>1776.5</th>\n",
              "    </tr>\n",
              "  </thead>\n",
              "  <tbody>\n",
              "    <tr>\n",
              "      <th>0</th>\n",
              "      <td>01.01.2015 1:00:00</td>\n",
              "      <td>1452.0</td>\n",
              "      <td>1765.5</td>\n",
              "    </tr>\n",
              "    <tr>\n",
              "      <th>1</th>\n",
              "      <td>01.01.2015 1:30:00</td>\n",
              "      <td>1391.5</td>\n",
              "      <td>1699.5</td>\n",
              "    </tr>\n",
              "    <tr>\n",
              "      <th>2</th>\n",
              "      <td>01.01.2015 2:00:00</td>\n",
              "      <td>1435.5</td>\n",
              "      <td>1749.0</td>\n",
              "    </tr>\n",
              "    <tr>\n",
              "      <th>3</th>\n",
              "      <td>01.01.2015 2:30:00</td>\n",
              "      <td>1435.5</td>\n",
              "      <td>1749.0</td>\n",
              "    </tr>\n",
              "    <tr>\n",
              "      <th>4</th>\n",
              "      <td>01.01.2015 3:00:00</td>\n",
              "      <td>1408.0</td>\n",
              "      <td>1716.0</td>\n",
              "    </tr>\n",
              "    <tr>\n",
              "      <th>...</th>\n",
              "      <td>...</td>\n",
              "      <td>...</td>\n",
              "      <td>...</td>\n",
              "    </tr>\n",
              "    <tr>\n",
              "      <th>70122</th>\n",
              "      <td>31.12.2018 22:00:00</td>\n",
              "      <td>1762.0</td>\n",
              "      <td>2220.0</td>\n",
              "    </tr>\n",
              "    <tr>\n",
              "      <th>70123</th>\n",
              "      <td>31.12.2018 22:30:00</td>\n",
              "      <td>1679.0</td>\n",
              "      <td>2148.0</td>\n",
              "    </tr>\n",
              "    <tr>\n",
              "      <th>70124</th>\n",
              "      <td>31.12.2018 23:00:00</td>\n",
              "      <td>1819.0</td>\n",
              "      <td>2253.0</td>\n",
              "    </tr>\n",
              "    <tr>\n",
              "      <th>70125</th>\n",
              "      <td>31.12.2018 23:30:00</td>\n",
              "      <td>1566.0</td>\n",
              "      <td>2035.0</td>\n",
              "    </tr>\n",
              "    <tr>\n",
              "      <th>70126</th>\n",
              "      <td>01.01.2019</td>\n",
              "      <td>1587.0</td>\n",
              "      <td>2034.0</td>\n",
              "    </tr>\n",
              "  </tbody>\n",
              "</table>\n",
              "<p>70127 rows × 3 columns</p>\n",
              "</div>"
            ],
            "text/plain": [
              "        01.01.2015 0:30:00    1463  1776.5\n",
              "0       01.01.2015 1:00:00  1452.0  1765.5\n",
              "1       01.01.2015 1:30:00  1391.5  1699.5\n",
              "2       01.01.2015 2:00:00  1435.5  1749.0\n",
              "3       01.01.2015 2:30:00  1435.5  1749.0\n",
              "4       01.01.2015 3:00:00  1408.0  1716.0\n",
              "...                    ...     ...     ...\n",
              "70122  31.12.2018 22:00:00  1762.0  2220.0\n",
              "70123  31.12.2018 22:30:00  1679.0  2148.0\n",
              "70124  31.12.2018 23:00:00  1819.0  2253.0\n",
              "70125  31.12.2018 23:30:00  1566.0  2035.0\n",
              "70126           01.01.2019  1587.0  2034.0\n",
              "\n",
              "[70127 rows x 3 columns]"
            ]
          },
          "metadata": {
            "tags": []
          },
          "execution_count": 46
        }
      ]
    },
    {
      "cell_type": "markdown",
      "metadata": {
        "id": "eWGtRk7Qleqm"
      },
      "source": [
        "#### Add column names after reading"
      ]
    },
    {
      "cell_type": "code",
      "metadata": {
        "id": "ikyY8qWO5ze1",
        "colab": {
          "base_uri": "https://localhost:8080/",
          "height": 419
        },
        "outputId": "7d83a1a2-14c4-4bb3-efbc-c7e4f9c9ab8f"
      },
      "source": [
        "# подготовка данных в датафрейме, в случае, если первая строка оказалась в заголовке\n",
        "\n",
        "# создание списка с будущими названиями заголовка (столбцов, серий)\n",
        "column_names = ['Timestamp', 'Consumer_1', 'Consumer_2']\n",
        "\n",
        "# значения, попавшую в заголовок запоминаем во временную переменную\n",
        "tmp_first_row = input_df.columns\n",
        "\n",
        "# создание датафрейма из временной переменной\n",
        "tmp_first_row_df = pd.DataFrame([tmp_first_row])\n",
        "\n",
        "# присвоение новому датафрейму заголовка исходного датафрейма, для дальнешейго объединения\n",
        "tmp_first_row_df.columns = input_df.columns\n",
        "\n",
        "# добавление к новому датафрейму исходного методом append\n",
        "proc_df = tmp_first_row_df.append(input_df)\n",
        "\n",
        "# присвоение новых имен заголовку нового датафрейма \n",
        "proc_df.columns = column_names\n",
        "\n",
        "# отображение полученного датафрейма\n",
        "proc_df"
      ],
      "execution_count": null,
      "outputs": [
        {
          "output_type": "execute_result",
          "data": {
            "text/html": [
              "<div>\n",
              "<style scoped>\n",
              "    .dataframe tbody tr th:only-of-type {\n",
              "        vertical-align: middle;\n",
              "    }\n",
              "\n",
              "    .dataframe tbody tr th {\n",
              "        vertical-align: top;\n",
              "    }\n",
              "\n",
              "    .dataframe thead th {\n",
              "        text-align: right;\n",
              "    }\n",
              "</style>\n",
              "<table border=\"1\" class=\"dataframe\">\n",
              "  <thead>\n",
              "    <tr style=\"text-align: right;\">\n",
              "      <th></th>\n",
              "      <th>Timestamp</th>\n",
              "      <th>Consumer_1</th>\n",
              "      <th>Consumer_2</th>\n",
              "    </tr>\n",
              "  </thead>\n",
              "  <tbody>\n",
              "    <tr>\n",
              "      <th>0</th>\n",
              "      <td>01.01.2015 0:30:00</td>\n",
              "      <td>1463.0</td>\n",
              "      <td>1776.5</td>\n",
              "    </tr>\n",
              "    <tr>\n",
              "      <th>0</th>\n",
              "      <td>01.01.2015 1:00:00</td>\n",
              "      <td>1452.0</td>\n",
              "      <td>1765.5</td>\n",
              "    </tr>\n",
              "    <tr>\n",
              "      <th>1</th>\n",
              "      <td>01.01.2015 1:30:00</td>\n",
              "      <td>1391.5</td>\n",
              "      <td>1699.5</td>\n",
              "    </tr>\n",
              "    <tr>\n",
              "      <th>2</th>\n",
              "      <td>01.01.2015 2:00:00</td>\n",
              "      <td>1435.5</td>\n",
              "      <td>1749.0</td>\n",
              "    </tr>\n",
              "    <tr>\n",
              "      <th>3</th>\n",
              "      <td>01.01.2015 2:30:00</td>\n",
              "      <td>1435.5</td>\n",
              "      <td>1749.0</td>\n",
              "    </tr>\n",
              "    <tr>\n",
              "      <th>...</th>\n",
              "      <td>...</td>\n",
              "      <td>...</td>\n",
              "      <td>...</td>\n",
              "    </tr>\n",
              "    <tr>\n",
              "      <th>70122</th>\n",
              "      <td>31.12.2018 22:00:00</td>\n",
              "      <td>1762.0</td>\n",
              "      <td>2220.0</td>\n",
              "    </tr>\n",
              "    <tr>\n",
              "      <th>70123</th>\n",
              "      <td>31.12.2018 22:30:00</td>\n",
              "      <td>1679.0</td>\n",
              "      <td>2148.0</td>\n",
              "    </tr>\n",
              "    <tr>\n",
              "      <th>70124</th>\n",
              "      <td>31.12.2018 23:00:00</td>\n",
              "      <td>1819.0</td>\n",
              "      <td>2253.0</td>\n",
              "    </tr>\n",
              "    <tr>\n",
              "      <th>70125</th>\n",
              "      <td>31.12.2018 23:30:00</td>\n",
              "      <td>1566.0</td>\n",
              "      <td>2035.0</td>\n",
              "    </tr>\n",
              "    <tr>\n",
              "      <th>70126</th>\n",
              "      <td>01.01.2019</td>\n",
              "      <td>1587.0</td>\n",
              "      <td>2034.0</td>\n",
              "    </tr>\n",
              "  </tbody>\n",
              "</table>\n",
              "<p>70128 rows × 3 columns</p>\n",
              "</div>"
            ],
            "text/plain": [
              "                 Timestamp  Consumer_1  Consumer_2\n",
              "0       01.01.2015 0:30:00      1463.0      1776.5\n",
              "0       01.01.2015 1:00:00      1452.0      1765.5\n",
              "1       01.01.2015 1:30:00      1391.5      1699.5\n",
              "2       01.01.2015 2:00:00      1435.5      1749.0\n",
              "3       01.01.2015 2:30:00      1435.5      1749.0\n",
              "...                    ...         ...         ...\n",
              "70122  31.12.2018 22:00:00      1762.0      2220.0\n",
              "70123  31.12.2018 22:30:00      1679.0      2148.0\n",
              "70124  31.12.2018 23:00:00      1819.0      2253.0\n",
              "70125  31.12.2018 23:30:00      1566.0      2035.0\n",
              "70126           01.01.2019      1587.0      2034.0\n",
              "\n",
              "[70128 rows x 3 columns]"
            ]
          },
          "metadata": {
            "tags": []
          },
          "execution_count": 47
        }
      ]
    },
    {
      "cell_type": "code",
      "metadata": {
        "colab": {
          "base_uri": "https://localhost:8080/"
        },
        "id": "GKKrzVu3XpVy",
        "outputId": "0ef126d9-8d22-49f0-8df5-ca95a9f66c4f"
      },
      "source": [
        "# создание датафрейма с заданными столбцами и значениями\n",
        "df_1= pd.DataFrame({\n",
        "    'A': [1, 3, 5],\n",
        "    'B': [66, 32, 51],\n",
        "})\n",
        "\n",
        "# конвертация датафрема в массив (numpy array)\n",
        "df_1.to_numpy()"
      ],
      "execution_count": null,
      "outputs": [
        {
          "output_type": "execute_result",
          "data": {
            "text/plain": [
              "array([[ 1, 66],\n",
              "       [ 3, 32],\n",
              "       [ 5, 51]])"
            ]
          },
          "metadata": {
            "tags": []
          },
          "execution_count": 48
        }
      ]
    },
    {
      "cell_type": "markdown",
      "metadata": {
        "id": "iQFtuHTgljCP"
      },
      "source": [
        "#### Web-scraping"
      ]
    },
    {
      "cell_type": "code",
      "metadata": {
        "id": "pBJHiTLr8OrT",
        "colab": {
          "base_uri": "https://localhost:8080/",
          "height": 576
        },
        "outputId": "43c0ae37-6c76-4462-9f04-3751683e6627"
      },
      "source": [
        "# чтение по ссылке HTML-таблиц в список объектов датафрейма, с соотвествующим обращением к элементу списка [i]\n",
        "input_df = pd.read_html('https://en.wikipedia.org/wiki/Solar_power')[1]\n",
        "# отображение датафрейма\n",
        "input_df"
      ],
      "execution_count": null,
      "outputs": [
        {
          "output_type": "execute_result",
          "data": {
            "text/html": [
              "<div>\n",
              "<style scoped>\n",
              "    .dataframe tbody tr th:only-of-type {\n",
              "        vertical-align: middle;\n",
              "    }\n",
              "\n",
              "    .dataframe tbody tr th {\n",
              "        vertical-align: top;\n",
              "    }\n",
              "\n",
              "    .dataframe thead tr th {\n",
              "        text-align: left;\n",
              "    }\n",
              "</style>\n",
              "<table border=\"1\" class=\"dataframe\">\n",
              "  <thead>\n",
              "    <tr>\n",
              "      <th></th>\n",
              "      <th colspan=\"3\" halign=\"left\">Solar Electricity Generation</th>\n",
              "    </tr>\n",
              "    <tr>\n",
              "      <th></th>\n",
              "      <th>Year</th>\n",
              "      <th>Energy (TWh)</th>\n",
              "      <th>% of Total</th>\n",
              "    </tr>\n",
              "  </thead>\n",
              "  <tbody>\n",
              "    <tr>\n",
              "      <th>0</th>\n",
              "      <td>2004</td>\n",
              "      <td>2.6</td>\n",
              "      <td>0.01%</td>\n",
              "    </tr>\n",
              "    <tr>\n",
              "      <th>1</th>\n",
              "      <td>2005</td>\n",
              "      <td>3.7</td>\n",
              "      <td>0.02%</td>\n",
              "    </tr>\n",
              "    <tr>\n",
              "      <th>2</th>\n",
              "      <td>2006</td>\n",
              "      <td>5.0</td>\n",
              "      <td>0.03%</td>\n",
              "    </tr>\n",
              "    <tr>\n",
              "      <th>3</th>\n",
              "      <td>2007</td>\n",
              "      <td>6.8</td>\n",
              "      <td>0.03%</td>\n",
              "    </tr>\n",
              "    <tr>\n",
              "      <th>4</th>\n",
              "      <td>2008</td>\n",
              "      <td>11.4</td>\n",
              "      <td>0.06%</td>\n",
              "    </tr>\n",
              "    <tr>\n",
              "      <th>5</th>\n",
              "      <td>2009</td>\n",
              "      <td>19.3</td>\n",
              "      <td>0.10%</td>\n",
              "    </tr>\n",
              "    <tr>\n",
              "      <th>6</th>\n",
              "      <td>2010</td>\n",
              "      <td>31.4</td>\n",
              "      <td>0.15%</td>\n",
              "    </tr>\n",
              "    <tr>\n",
              "      <th>7</th>\n",
              "      <td>2011</td>\n",
              "      <td>60.6</td>\n",
              "      <td>0.27%</td>\n",
              "    </tr>\n",
              "    <tr>\n",
              "      <th>8</th>\n",
              "      <td>2012</td>\n",
              "      <td>96.7</td>\n",
              "      <td>0.43%</td>\n",
              "    </tr>\n",
              "    <tr>\n",
              "      <th>9</th>\n",
              "      <td>2013</td>\n",
              "      <td>134.5</td>\n",
              "      <td>0.58%</td>\n",
              "    </tr>\n",
              "    <tr>\n",
              "      <th>10</th>\n",
              "      <td>2014</td>\n",
              "      <td>185.9</td>\n",
              "      <td>0.79%</td>\n",
              "    </tr>\n",
              "    <tr>\n",
              "      <th>11</th>\n",
              "      <td>2015</td>\n",
              "      <td>253.0</td>\n",
              "      <td>1.05%</td>\n",
              "    </tr>\n",
              "    <tr>\n",
              "      <th>12</th>\n",
              "      <td>2016</td>\n",
              "      <td>328.2</td>\n",
              "      <td>1.31%</td>\n",
              "    </tr>\n",
              "    <tr>\n",
              "      <th>13</th>\n",
              "      <td>2017</td>\n",
              "      <td>442.6</td>\n",
              "      <td>1.73%</td>\n",
              "    </tr>\n",
              "    <tr>\n",
              "      <th>14</th>\n",
              "      <td>2019</td>\n",
              "      <td>724.1</td>\n",
              "      <td>2.68%</td>\n",
              "    </tr>\n",
              "    <tr>\n",
              "      <th>15</th>\n",
              "      <td>Sources:[32][33][34][35][36]</td>\n",
              "      <td>Sources:[32][33][34][35][36]</td>\n",
              "      <td>Sources:[32][33][34][35][36]</td>\n",
              "    </tr>\n",
              "  </tbody>\n",
              "</table>\n",
              "</div>"
            ],
            "text/plain": [
              "    Solar Electricity Generation  ...                              \n",
              "                            Year  ...                    % of Total\n",
              "0                           2004  ...                         0.01%\n",
              "1                           2005  ...                         0.02%\n",
              "2                           2006  ...                         0.03%\n",
              "3                           2007  ...                         0.03%\n",
              "4                           2008  ...                         0.06%\n",
              "5                           2009  ...                         0.10%\n",
              "6                           2010  ...                         0.15%\n",
              "7                           2011  ...                         0.27%\n",
              "8                           2012  ...                         0.43%\n",
              "9                           2013  ...                         0.58%\n",
              "10                          2014  ...                         0.79%\n",
              "11                          2015  ...                         1.05%\n",
              "12                          2016  ...                         1.31%\n",
              "13                          2017  ...                         1.73%\n",
              "14                          2019  ...                         2.68%\n",
              "15  Sources:[32][33][34][35][36]  ...  Sources:[32][33][34][35][36]\n",
              "\n",
              "[16 rows x 3 columns]"
            ]
          },
          "metadata": {
            "tags": []
          },
          "execution_count": 49
        }
      ]
    },
    {
      "cell_type": "markdown",
      "metadata": {
        "id": "oZTVhjITl4_f"
      },
      "source": [
        "#### Column types"
      ]
    },
    {
      "cell_type": "code",
      "metadata": {
        "id": "_ZDD4lVA9mZd",
        "colab": {
          "base_uri": "https://localhost:8080/",
          "height": 390
        },
        "outputId": "2298d52c-2dda-43bc-af14-1ab9da020427"
      },
      "source": [
        "# чтение по ссылке HTML-таблиц в список объектов датафрейма, с соотвествующим обращением к элементу списка [i]\n",
        "url = \"https://en.wikipedia.org/wiki/List_of_photovoltaics_companies\"\n",
        "input_df = pd.read_html(url)[7]\n",
        "# отображение датафрейма\n",
        "input_df"
      ],
      "execution_count": null,
      "outputs": [
        {
          "output_type": "execute_result",
          "data": {
            "text/html": [
              "<div>\n",
              "<style scoped>\n",
              "    .dataframe tbody tr th:only-of-type {\n",
              "        vertical-align: middle;\n",
              "    }\n",
              "\n",
              "    .dataframe tbody tr th {\n",
              "        vertical-align: top;\n",
              "    }\n",
              "\n",
              "    .dataframe thead th {\n",
              "        text-align: right;\n",
              "    }\n",
              "</style>\n",
              "<table border=\"1\" class=\"dataframe\">\n",
              "  <thead>\n",
              "    <tr style=\"text-align: right;\">\n",
              "      <th></th>\n",
              "      <th>Solar cellcompany</th>\n",
              "      <th>Country</th>\n",
              "      <th>Shipment2009 in MW</th>\n",
              "      <th>Shipment2010 in MW</th>\n",
              "    </tr>\n",
              "  </thead>\n",
              "  <tbody>\n",
              "    <tr>\n",
              "      <th>0</th>\n",
              "      <td>Suntech</td>\n",
              "      <td>China</td>\n",
              "      <td>704</td>\n",
              "      <td>1572</td>\n",
              "    </tr>\n",
              "    <tr>\n",
              "      <th>1</th>\n",
              "      <td>JA Solar</td>\n",
              "      <td>China</td>\n",
              "      <td>520</td>\n",
              "      <td>1464</td>\n",
              "    </tr>\n",
              "    <tr>\n",
              "      <th>2</th>\n",
              "      <td>First Solar</td>\n",
              "      <td>USA</td>\n",
              "      <td>1100</td>\n",
              "      <td>1411</td>\n",
              "    </tr>\n",
              "    <tr>\n",
              "      <th>3</th>\n",
              "      <td>Yingli Solar</td>\n",
              "      <td>China</td>\n",
              "      <td>525</td>\n",
              "      <td>1062</td>\n",
              "    </tr>\n",
              "    <tr>\n",
              "      <th>4</th>\n",
              "      <td>Trina Solar</td>\n",
              "      <td>China</td>\n",
              "      <td>399</td>\n",
              "      <td>1057</td>\n",
              "    </tr>\n",
              "    <tr>\n",
              "      <th>5</th>\n",
              "      <td>Motech Solar</td>\n",
              "      <td>Taiwan</td>\n",
              "      <td>360</td>\n",
              "      <td>924</td>\n",
              "    </tr>\n",
              "    <tr>\n",
              "      <th>6</th>\n",
              "      <td>Q-Cells</td>\n",
              "      <td>Germany</td>\n",
              "      <td>586</td>\n",
              "      <td>907</td>\n",
              "    </tr>\n",
              "    <tr>\n",
              "      <th>7</th>\n",
              "      <td>Gintech</td>\n",
              "      <td>Taiwan</td>\n",
              "      <td>368</td>\n",
              "      <td>827</td>\n",
              "    </tr>\n",
              "    <tr>\n",
              "      <th>8</th>\n",
              "      <td>Sharp</td>\n",
              "      <td>Japan</td>\n",
              "      <td>595</td>\n",
              "      <td>774</td>\n",
              "    </tr>\n",
              "    <tr>\n",
              "      <th>9</th>\n",
              "      <td>Sungen Solar</td>\n",
              "      <td>China</td>\n",
              "      <td>193</td>\n",
              "      <td>588</td>\n",
              "    </tr>\n",
              "    <tr>\n",
              "      <th>10</th>\n",
              "      <td>Sources: PhotonMagazine[19] and PVinsights.[17...</td>\n",
              "      <td>Sources: PhotonMagazine[19] and PVinsights.[17...</td>\n",
              "      <td>Sources: PhotonMagazine[19] and PVinsights.[17...</td>\n",
              "      <td>Sources: PhotonMagazine[19] and PVinsights.[17...</td>\n",
              "    </tr>\n",
              "  </tbody>\n",
              "</table>\n",
              "</div>"
            ],
            "text/plain": [
              "                                    Solar cellcompany  ...                                 Shipment2010 in MW\n",
              "0                                             Suntech  ...                                               1572\n",
              "1                                            JA Solar  ...                                               1464\n",
              "2                                         First Solar  ...                                               1411\n",
              "3                                        Yingli Solar  ...                                               1062\n",
              "4                                         Trina Solar  ...                                               1057\n",
              "5                                        Motech Solar  ...                                                924\n",
              "6                                             Q-Cells  ...                                                907\n",
              "7                                             Gintech  ...                                                827\n",
              "8                                               Sharp  ...                                                774\n",
              "9                                        Sungen Solar  ...                                                588\n",
              "10  Sources: PhotonMagazine[19] and PVinsights.[17...  ...  Sources: PhotonMagazine[19] and PVinsights.[17...\n",
              "\n",
              "[11 rows x 4 columns]"
            ]
          },
          "metadata": {
            "tags": []
          },
          "execution_count": 50
        }
      ]
    },
    {
      "cell_type": "code",
      "metadata": {
        "id": "5sEV3DxeokIH",
        "colab": {
          "base_uri": "https://localhost:8080/",
          "height": 390
        },
        "outputId": "bf7a0d66-b53f-464d-e78c-4a4305ebca2e"
      },
      "source": [
        "# сортировка значений методом sort_values с указанным столбцом, по значениям которого необходимо отсортировать весь датафрейм (по возрастанию)\n",
        "# в данном случае сортировка численных значений в столбце 'Shipment2009 in MW' не совсем корректна, поскольку значения имеют формат \"строка\"\n",
        "sorted_df = input_df.sort_values('Shipment2009 in MW')\n",
        "# отображение датафрейма\n",
        "sorted_df"
      ],
      "execution_count": null,
      "outputs": [
        {
          "output_type": "execute_result",
          "data": {
            "text/html": [
              "<div>\n",
              "<style scoped>\n",
              "    .dataframe tbody tr th:only-of-type {\n",
              "        vertical-align: middle;\n",
              "    }\n",
              "\n",
              "    .dataframe tbody tr th {\n",
              "        vertical-align: top;\n",
              "    }\n",
              "\n",
              "    .dataframe thead th {\n",
              "        text-align: right;\n",
              "    }\n",
              "</style>\n",
              "<table border=\"1\" class=\"dataframe\">\n",
              "  <thead>\n",
              "    <tr style=\"text-align: right;\">\n",
              "      <th></th>\n",
              "      <th>Solar cellcompany</th>\n",
              "      <th>Country</th>\n",
              "      <th>Shipment2009 in MW</th>\n",
              "      <th>Shipment2010 in MW</th>\n",
              "    </tr>\n",
              "  </thead>\n",
              "  <tbody>\n",
              "    <tr>\n",
              "      <th>2</th>\n",
              "      <td>First Solar</td>\n",
              "      <td>USA</td>\n",
              "      <td>1100</td>\n",
              "      <td>1411</td>\n",
              "    </tr>\n",
              "    <tr>\n",
              "      <th>9</th>\n",
              "      <td>Sungen Solar</td>\n",
              "      <td>China</td>\n",
              "      <td>193</td>\n",
              "      <td>588</td>\n",
              "    </tr>\n",
              "    <tr>\n",
              "      <th>5</th>\n",
              "      <td>Motech Solar</td>\n",
              "      <td>Taiwan</td>\n",
              "      <td>360</td>\n",
              "      <td>924</td>\n",
              "    </tr>\n",
              "    <tr>\n",
              "      <th>7</th>\n",
              "      <td>Gintech</td>\n",
              "      <td>Taiwan</td>\n",
              "      <td>368</td>\n",
              "      <td>827</td>\n",
              "    </tr>\n",
              "    <tr>\n",
              "      <th>4</th>\n",
              "      <td>Trina Solar</td>\n",
              "      <td>China</td>\n",
              "      <td>399</td>\n",
              "      <td>1057</td>\n",
              "    </tr>\n",
              "    <tr>\n",
              "      <th>1</th>\n",
              "      <td>JA Solar</td>\n",
              "      <td>China</td>\n",
              "      <td>520</td>\n",
              "      <td>1464</td>\n",
              "    </tr>\n",
              "    <tr>\n",
              "      <th>3</th>\n",
              "      <td>Yingli Solar</td>\n",
              "      <td>China</td>\n",
              "      <td>525</td>\n",
              "      <td>1062</td>\n",
              "    </tr>\n",
              "    <tr>\n",
              "      <th>6</th>\n",
              "      <td>Q-Cells</td>\n",
              "      <td>Germany</td>\n",
              "      <td>586</td>\n",
              "      <td>907</td>\n",
              "    </tr>\n",
              "    <tr>\n",
              "      <th>8</th>\n",
              "      <td>Sharp</td>\n",
              "      <td>Japan</td>\n",
              "      <td>595</td>\n",
              "      <td>774</td>\n",
              "    </tr>\n",
              "    <tr>\n",
              "      <th>0</th>\n",
              "      <td>Suntech</td>\n",
              "      <td>China</td>\n",
              "      <td>704</td>\n",
              "      <td>1572</td>\n",
              "    </tr>\n",
              "    <tr>\n",
              "      <th>10</th>\n",
              "      <td>Sources: PhotonMagazine[19] and PVinsights.[17...</td>\n",
              "      <td>Sources: PhotonMagazine[19] and PVinsights.[17...</td>\n",
              "      <td>Sources: PhotonMagazine[19] and PVinsights.[17...</td>\n",
              "      <td>Sources: PhotonMagazine[19] and PVinsights.[17...</td>\n",
              "    </tr>\n",
              "  </tbody>\n",
              "</table>\n",
              "</div>"
            ],
            "text/plain": [
              "                                    Solar cellcompany  ...                                 Shipment2010 in MW\n",
              "2                                         First Solar  ...                                               1411\n",
              "9                                        Sungen Solar  ...                                                588\n",
              "5                                        Motech Solar  ...                                                924\n",
              "7                                             Gintech  ...                                                827\n",
              "4                                         Trina Solar  ...                                               1057\n",
              "1                                            JA Solar  ...                                               1464\n",
              "3                                        Yingli Solar  ...                                               1062\n",
              "6                                             Q-Cells  ...                                                907\n",
              "8                                               Sharp  ...                                                774\n",
              "0                                             Suntech  ...                                               1572\n",
              "10  Sources: PhotonMagazine[19] and PVinsights.[17...  ...  Sources: PhotonMagazine[19] and PVinsights.[17...\n",
              "\n",
              "[11 rows x 4 columns]"
            ]
          },
          "metadata": {
            "tags": []
          },
          "execution_count": 54
        }
      ]
    },
    {
      "cell_type": "code",
      "metadata": {
        "id": "GyKaVFl5mBN1",
        "colab": {
          "base_uri": "https://localhost:8080/"
        },
        "outputId": "252629c6-d323-4673-909f-6323dee2f19c"
      },
      "source": [
        "# метод dtypes отображает типы данных в столбцах\n",
        "# основные типы данных:\n",
        "# float - float64 (числа с плавающей точкой)\n",
        "# int - int64 (целые числа)\n",
        "# datetime - datetime64[ns] (дата)\n",
        "# string - object (строки)\n",
        "input_df.dtypes"
      ],
      "execution_count": null,
      "outputs": [
        {
          "output_type": "execute_result",
          "data": {
            "text/plain": [
              "Solar cellcompany     object\n",
              "Country               object\n",
              "Shipment2009 in MW    object\n",
              "Shipment2010 in MW    object\n",
              "dtype: object"
            ]
          },
          "metadata": {
            "tags": []
          },
          "execution_count": 52
        }
      ]
    },
    {
      "cell_type": "code",
      "metadata": {
        "id": "ri86Hks0oTBL",
        "colab": {
          "base_uri": "https://localhost:8080/",
          "height": 359
        },
        "outputId": "fefab32f-f6a6-4464-d9e7-292002b4a07a"
      },
      "source": [
        "# преобразование датафрейма, путём удаления последней строки не имеющей отношения к содержимому датафрейма, методом drop\n",
        "proc_df = input_df.drop(input_df.tail(1).index) \n",
        "# отображение датафрейма\n",
        "proc_df "
      ],
      "execution_count": null,
      "outputs": [
        {
          "output_type": "execute_result",
          "data": {
            "text/html": [
              "<div>\n",
              "<style scoped>\n",
              "    .dataframe tbody tr th:only-of-type {\n",
              "        vertical-align: middle;\n",
              "    }\n",
              "\n",
              "    .dataframe tbody tr th {\n",
              "        vertical-align: top;\n",
              "    }\n",
              "\n",
              "    .dataframe thead th {\n",
              "        text-align: right;\n",
              "    }\n",
              "</style>\n",
              "<table border=\"1\" class=\"dataframe\">\n",
              "  <thead>\n",
              "    <tr style=\"text-align: right;\">\n",
              "      <th></th>\n",
              "      <th>Solar cellcompany</th>\n",
              "      <th>Country</th>\n",
              "      <th>Shipment2009 in MW</th>\n",
              "      <th>Shipment2010 in MW</th>\n",
              "    </tr>\n",
              "  </thead>\n",
              "  <tbody>\n",
              "    <tr>\n",
              "      <th>0</th>\n",
              "      <td>Suntech</td>\n",
              "      <td>China</td>\n",
              "      <td>704</td>\n",
              "      <td>1572</td>\n",
              "    </tr>\n",
              "    <tr>\n",
              "      <th>1</th>\n",
              "      <td>JA Solar</td>\n",
              "      <td>China</td>\n",
              "      <td>520</td>\n",
              "      <td>1464</td>\n",
              "    </tr>\n",
              "    <tr>\n",
              "      <th>2</th>\n",
              "      <td>First Solar</td>\n",
              "      <td>USA</td>\n",
              "      <td>1100</td>\n",
              "      <td>1411</td>\n",
              "    </tr>\n",
              "    <tr>\n",
              "      <th>3</th>\n",
              "      <td>Yingli Solar</td>\n",
              "      <td>China</td>\n",
              "      <td>525</td>\n",
              "      <td>1062</td>\n",
              "    </tr>\n",
              "    <tr>\n",
              "      <th>4</th>\n",
              "      <td>Trina Solar</td>\n",
              "      <td>China</td>\n",
              "      <td>399</td>\n",
              "      <td>1057</td>\n",
              "    </tr>\n",
              "    <tr>\n",
              "      <th>5</th>\n",
              "      <td>Motech Solar</td>\n",
              "      <td>Taiwan</td>\n",
              "      <td>360</td>\n",
              "      <td>924</td>\n",
              "    </tr>\n",
              "    <tr>\n",
              "      <th>6</th>\n",
              "      <td>Q-Cells</td>\n",
              "      <td>Germany</td>\n",
              "      <td>586</td>\n",
              "      <td>907</td>\n",
              "    </tr>\n",
              "    <tr>\n",
              "      <th>7</th>\n",
              "      <td>Gintech</td>\n",
              "      <td>Taiwan</td>\n",
              "      <td>368</td>\n",
              "      <td>827</td>\n",
              "    </tr>\n",
              "    <tr>\n",
              "      <th>8</th>\n",
              "      <td>Sharp</td>\n",
              "      <td>Japan</td>\n",
              "      <td>595</td>\n",
              "      <td>774</td>\n",
              "    </tr>\n",
              "    <tr>\n",
              "      <th>9</th>\n",
              "      <td>Sungen Solar</td>\n",
              "      <td>China</td>\n",
              "      <td>193</td>\n",
              "      <td>588</td>\n",
              "    </tr>\n",
              "  </tbody>\n",
              "</table>\n",
              "</div>"
            ],
            "text/plain": [
              "  Solar cellcompany  Country Shipment2009 in MW Shipment2010 in MW\n",
              "0           Suntech    China                704               1572\n",
              "1          JA Solar    China                520               1464\n",
              "2       First Solar      USA               1100               1411\n",
              "3      Yingli Solar    China                525               1062\n",
              "4       Trina Solar    China                399               1057\n",
              "5      Motech Solar   Taiwan                360                924\n",
              "6           Q-Cells  Germany                586                907\n",
              "7           Gintech   Taiwan                368                827\n",
              "8             Sharp    Japan                595                774\n",
              "9      Sungen Solar    China                193                588"
            ]
          },
          "metadata": {
            "tags": []
          },
          "execution_count": 55
        }
      ]
    },
    {
      "cell_type": "code",
      "metadata": {
        "id": "XZEzCqrcnPL0",
        "colab": {
          "base_uri": "https://localhost:8080/",
          "height": 359
        },
        "outputId": "41ca8494-0364-4164-b2db-5e041005a48e"
      },
      "source": [
        "# преобразование датафрейма, путём присвоения данным в столбце 'Shipment2009 in MW' численного типа (int) методом astype\n",
        "proc_df = proc_df.astype({'Shipment2009 in MW' : 'int'})\n",
        "# отображение датафрейма\n",
        "proc_df"
      ],
      "execution_count": null,
      "outputs": [
        {
          "output_type": "execute_result",
          "data": {
            "text/html": [
              "<div>\n",
              "<style scoped>\n",
              "    .dataframe tbody tr th:only-of-type {\n",
              "        vertical-align: middle;\n",
              "    }\n",
              "\n",
              "    .dataframe tbody tr th {\n",
              "        vertical-align: top;\n",
              "    }\n",
              "\n",
              "    .dataframe thead th {\n",
              "        text-align: right;\n",
              "    }\n",
              "</style>\n",
              "<table border=\"1\" class=\"dataframe\">\n",
              "  <thead>\n",
              "    <tr style=\"text-align: right;\">\n",
              "      <th></th>\n",
              "      <th>Solar cellcompany</th>\n",
              "      <th>Country</th>\n",
              "      <th>Shipment2009 in MW</th>\n",
              "      <th>Shipment2010 in MW</th>\n",
              "    </tr>\n",
              "  </thead>\n",
              "  <tbody>\n",
              "    <tr>\n",
              "      <th>0</th>\n",
              "      <td>Suntech</td>\n",
              "      <td>China</td>\n",
              "      <td>704</td>\n",
              "      <td>1572</td>\n",
              "    </tr>\n",
              "    <tr>\n",
              "      <th>1</th>\n",
              "      <td>JA Solar</td>\n",
              "      <td>China</td>\n",
              "      <td>520</td>\n",
              "      <td>1464</td>\n",
              "    </tr>\n",
              "    <tr>\n",
              "      <th>2</th>\n",
              "      <td>First Solar</td>\n",
              "      <td>USA</td>\n",
              "      <td>1100</td>\n",
              "      <td>1411</td>\n",
              "    </tr>\n",
              "    <tr>\n",
              "      <th>3</th>\n",
              "      <td>Yingli Solar</td>\n",
              "      <td>China</td>\n",
              "      <td>525</td>\n",
              "      <td>1062</td>\n",
              "    </tr>\n",
              "    <tr>\n",
              "      <th>4</th>\n",
              "      <td>Trina Solar</td>\n",
              "      <td>China</td>\n",
              "      <td>399</td>\n",
              "      <td>1057</td>\n",
              "    </tr>\n",
              "    <tr>\n",
              "      <th>5</th>\n",
              "      <td>Motech Solar</td>\n",
              "      <td>Taiwan</td>\n",
              "      <td>360</td>\n",
              "      <td>924</td>\n",
              "    </tr>\n",
              "    <tr>\n",
              "      <th>6</th>\n",
              "      <td>Q-Cells</td>\n",
              "      <td>Germany</td>\n",
              "      <td>586</td>\n",
              "      <td>907</td>\n",
              "    </tr>\n",
              "    <tr>\n",
              "      <th>7</th>\n",
              "      <td>Gintech</td>\n",
              "      <td>Taiwan</td>\n",
              "      <td>368</td>\n",
              "      <td>827</td>\n",
              "    </tr>\n",
              "    <tr>\n",
              "      <th>8</th>\n",
              "      <td>Sharp</td>\n",
              "      <td>Japan</td>\n",
              "      <td>595</td>\n",
              "      <td>774</td>\n",
              "    </tr>\n",
              "    <tr>\n",
              "      <th>9</th>\n",
              "      <td>Sungen Solar</td>\n",
              "      <td>China</td>\n",
              "      <td>193</td>\n",
              "      <td>588</td>\n",
              "    </tr>\n",
              "  </tbody>\n",
              "</table>\n",
              "</div>"
            ],
            "text/plain": [
              "  Solar cellcompany  Country  Shipment2009 in MW Shipment2010 in MW\n",
              "0           Suntech    China                 704               1572\n",
              "1          JA Solar    China                 520               1464\n",
              "2       First Solar      USA                1100               1411\n",
              "3      Yingli Solar    China                 525               1062\n",
              "4       Trina Solar    China                 399               1057\n",
              "5      Motech Solar   Taiwan                 360                924\n",
              "6           Q-Cells  Germany                 586                907\n",
              "7           Gintech   Taiwan                 368                827\n",
              "8             Sharp    Japan                 595                774\n",
              "9      Sungen Solar    China                 193                588"
            ]
          },
          "metadata": {
            "tags": []
          },
          "execution_count": 56
        }
      ]
    },
    {
      "cell_type": "markdown",
      "metadata": {
        "id": "zm8LzgZrpGNv"
      },
      "source": [
        "#### Sorting"
      ]
    },
    {
      "cell_type": "code",
      "metadata": {
        "id": "MC1qX217o4wx",
        "colab": {
          "base_uri": "https://localhost:8080/",
          "height": 359
        },
        "outputId": "5284e48e-2ef0-40f3-ba0e-a033afb13d53"
      },
      "source": [
        "# сортировка значений методом sort_values с указанным столбцом, по значениям которого необходимо отсортировать весь датафрейм (по возрастанию)\n",
        "# в данном случае сортировка корректна, поскольку тип данных целочисленный (int)\n",
        "proc_df.sort_values('Shipment2009 in MW')"
      ],
      "execution_count": null,
      "outputs": [
        {
          "output_type": "execute_result",
          "data": {
            "text/html": [
              "<div>\n",
              "<style scoped>\n",
              "    .dataframe tbody tr th:only-of-type {\n",
              "        vertical-align: middle;\n",
              "    }\n",
              "\n",
              "    .dataframe tbody tr th {\n",
              "        vertical-align: top;\n",
              "    }\n",
              "\n",
              "    .dataframe thead th {\n",
              "        text-align: right;\n",
              "    }\n",
              "</style>\n",
              "<table border=\"1\" class=\"dataframe\">\n",
              "  <thead>\n",
              "    <tr style=\"text-align: right;\">\n",
              "      <th></th>\n",
              "      <th>Solar cellcompany</th>\n",
              "      <th>Country</th>\n",
              "      <th>Shipment2009 in MW</th>\n",
              "      <th>Shipment2010 in MW</th>\n",
              "    </tr>\n",
              "  </thead>\n",
              "  <tbody>\n",
              "    <tr>\n",
              "      <th>9</th>\n",
              "      <td>Sungen Solar</td>\n",
              "      <td>China</td>\n",
              "      <td>193</td>\n",
              "      <td>588</td>\n",
              "    </tr>\n",
              "    <tr>\n",
              "      <th>5</th>\n",
              "      <td>Motech Solar</td>\n",
              "      <td>Taiwan</td>\n",
              "      <td>360</td>\n",
              "      <td>924</td>\n",
              "    </tr>\n",
              "    <tr>\n",
              "      <th>7</th>\n",
              "      <td>Gintech</td>\n",
              "      <td>Taiwan</td>\n",
              "      <td>368</td>\n",
              "      <td>827</td>\n",
              "    </tr>\n",
              "    <tr>\n",
              "      <th>4</th>\n",
              "      <td>Trina Solar</td>\n",
              "      <td>China</td>\n",
              "      <td>399</td>\n",
              "      <td>1057</td>\n",
              "    </tr>\n",
              "    <tr>\n",
              "      <th>1</th>\n",
              "      <td>JA Solar</td>\n",
              "      <td>China</td>\n",
              "      <td>520</td>\n",
              "      <td>1464</td>\n",
              "    </tr>\n",
              "    <tr>\n",
              "      <th>3</th>\n",
              "      <td>Yingli Solar</td>\n",
              "      <td>China</td>\n",
              "      <td>525</td>\n",
              "      <td>1062</td>\n",
              "    </tr>\n",
              "    <tr>\n",
              "      <th>6</th>\n",
              "      <td>Q-Cells</td>\n",
              "      <td>Germany</td>\n",
              "      <td>586</td>\n",
              "      <td>907</td>\n",
              "    </tr>\n",
              "    <tr>\n",
              "      <th>8</th>\n",
              "      <td>Sharp</td>\n",
              "      <td>Japan</td>\n",
              "      <td>595</td>\n",
              "      <td>774</td>\n",
              "    </tr>\n",
              "    <tr>\n",
              "      <th>0</th>\n",
              "      <td>Suntech</td>\n",
              "      <td>China</td>\n",
              "      <td>704</td>\n",
              "      <td>1572</td>\n",
              "    </tr>\n",
              "    <tr>\n",
              "      <th>2</th>\n",
              "      <td>First Solar</td>\n",
              "      <td>USA</td>\n",
              "      <td>1100</td>\n",
              "      <td>1411</td>\n",
              "    </tr>\n",
              "  </tbody>\n",
              "</table>\n",
              "</div>"
            ],
            "text/plain": [
              "  Solar cellcompany  Country  Shipment2009 in MW Shipment2010 in MW\n",
              "9      Sungen Solar    China                 193                588\n",
              "5      Motech Solar   Taiwan                 360                924\n",
              "7           Gintech   Taiwan                 368                827\n",
              "4       Trina Solar    China                 399               1057\n",
              "1          JA Solar    China                 520               1464\n",
              "3      Yingli Solar    China                 525               1062\n",
              "6           Q-Cells  Germany                 586                907\n",
              "8             Sharp    Japan                 595                774\n",
              "0           Suntech    China                 704               1572\n",
              "2       First Solar      USA                1100               1411"
            ]
          },
          "metadata": {
            "tags": []
          },
          "execution_count": 57
        }
      ]
    },
    {
      "cell_type": "code",
      "metadata": {
        "id": "fBM-lUsWpKAd",
        "colab": {
          "base_uri": "https://localhost:8080/",
          "height": 359
        },
        "outputId": "285b1101-23b1-4324-dd34-4a1893ab21c9"
      },
      "source": [
        "# сортировка значений методом sort_values с указанным столбцом, и явно указанным параметром (ascending = False) для сортировки по убыванию\n",
        "proc_df.sort_values('Shipment2009 in MW', ascending = False)"
      ],
      "execution_count": null,
      "outputs": [
        {
          "output_type": "execute_result",
          "data": {
            "text/html": [
              "<div>\n",
              "<style scoped>\n",
              "    .dataframe tbody tr th:only-of-type {\n",
              "        vertical-align: middle;\n",
              "    }\n",
              "\n",
              "    .dataframe tbody tr th {\n",
              "        vertical-align: top;\n",
              "    }\n",
              "\n",
              "    .dataframe thead th {\n",
              "        text-align: right;\n",
              "    }\n",
              "</style>\n",
              "<table border=\"1\" class=\"dataframe\">\n",
              "  <thead>\n",
              "    <tr style=\"text-align: right;\">\n",
              "      <th></th>\n",
              "      <th>Solar cellcompany</th>\n",
              "      <th>Country</th>\n",
              "      <th>Shipment2009 in MW</th>\n",
              "      <th>Shipment2010 in MW</th>\n",
              "    </tr>\n",
              "  </thead>\n",
              "  <tbody>\n",
              "    <tr>\n",
              "      <th>2</th>\n",
              "      <td>First Solar</td>\n",
              "      <td>USA</td>\n",
              "      <td>1100</td>\n",
              "      <td>1411</td>\n",
              "    </tr>\n",
              "    <tr>\n",
              "      <th>0</th>\n",
              "      <td>Suntech</td>\n",
              "      <td>China</td>\n",
              "      <td>704</td>\n",
              "      <td>1572</td>\n",
              "    </tr>\n",
              "    <tr>\n",
              "      <th>8</th>\n",
              "      <td>Sharp</td>\n",
              "      <td>Japan</td>\n",
              "      <td>595</td>\n",
              "      <td>774</td>\n",
              "    </tr>\n",
              "    <tr>\n",
              "      <th>6</th>\n",
              "      <td>Q-Cells</td>\n",
              "      <td>Germany</td>\n",
              "      <td>586</td>\n",
              "      <td>907</td>\n",
              "    </tr>\n",
              "    <tr>\n",
              "      <th>3</th>\n",
              "      <td>Yingli Solar</td>\n",
              "      <td>China</td>\n",
              "      <td>525</td>\n",
              "      <td>1062</td>\n",
              "    </tr>\n",
              "    <tr>\n",
              "      <th>1</th>\n",
              "      <td>JA Solar</td>\n",
              "      <td>China</td>\n",
              "      <td>520</td>\n",
              "      <td>1464</td>\n",
              "    </tr>\n",
              "    <tr>\n",
              "      <th>4</th>\n",
              "      <td>Trina Solar</td>\n",
              "      <td>China</td>\n",
              "      <td>399</td>\n",
              "      <td>1057</td>\n",
              "    </tr>\n",
              "    <tr>\n",
              "      <th>7</th>\n",
              "      <td>Gintech</td>\n",
              "      <td>Taiwan</td>\n",
              "      <td>368</td>\n",
              "      <td>827</td>\n",
              "    </tr>\n",
              "    <tr>\n",
              "      <th>5</th>\n",
              "      <td>Motech Solar</td>\n",
              "      <td>Taiwan</td>\n",
              "      <td>360</td>\n",
              "      <td>924</td>\n",
              "    </tr>\n",
              "    <tr>\n",
              "      <th>9</th>\n",
              "      <td>Sungen Solar</td>\n",
              "      <td>China</td>\n",
              "      <td>193</td>\n",
              "      <td>588</td>\n",
              "    </tr>\n",
              "  </tbody>\n",
              "</table>\n",
              "</div>"
            ],
            "text/plain": [
              "  Solar cellcompany  Country  Shipment2009 in MW Shipment2010 in MW\n",
              "2       First Solar      USA                1100               1411\n",
              "0           Suntech    China                 704               1572\n",
              "8             Sharp    Japan                 595                774\n",
              "6           Q-Cells  Germany                 586                907\n",
              "3      Yingli Solar    China                 525               1062\n",
              "1          JA Solar    China                 520               1464\n",
              "4       Trina Solar    China                 399               1057\n",
              "7           Gintech   Taiwan                 368                827\n",
              "5      Motech Solar   Taiwan                 360                924\n",
              "9      Sungen Solar    China                 193                588"
            ]
          },
          "metadata": {
            "tags": []
          },
          "execution_count": 58
        }
      ]
    },
    {
      "cell_type": "code",
      "metadata": {
        "id": "zDLlL6iHpOUE",
        "colab": {
          "base_uri": "https://localhost:8080/",
          "height": 359
        },
        "outputId": "61ca48ad-554e-4cf2-b397-afa874d7fbbd"
      },
      "source": [
        "# сортировка значений методом sort_values с указанным столбцом, и сбросом исходных индексов параметром (ignore_index = True)\n",
        "proc_df.sort_values('Shipment2009 in MW', ignore_index = True)"
      ],
      "execution_count": null,
      "outputs": [
        {
          "output_type": "execute_result",
          "data": {
            "text/html": [
              "<div>\n",
              "<style scoped>\n",
              "    .dataframe tbody tr th:only-of-type {\n",
              "        vertical-align: middle;\n",
              "    }\n",
              "\n",
              "    .dataframe tbody tr th {\n",
              "        vertical-align: top;\n",
              "    }\n",
              "\n",
              "    .dataframe thead th {\n",
              "        text-align: right;\n",
              "    }\n",
              "</style>\n",
              "<table border=\"1\" class=\"dataframe\">\n",
              "  <thead>\n",
              "    <tr style=\"text-align: right;\">\n",
              "      <th></th>\n",
              "      <th>Solar cellcompany</th>\n",
              "      <th>Country</th>\n",
              "      <th>Shipment2009 in MW</th>\n",
              "      <th>Shipment2010 in MW</th>\n",
              "    </tr>\n",
              "  </thead>\n",
              "  <tbody>\n",
              "    <tr>\n",
              "      <th>0</th>\n",
              "      <td>Sungen Solar</td>\n",
              "      <td>China</td>\n",
              "      <td>193</td>\n",
              "      <td>588</td>\n",
              "    </tr>\n",
              "    <tr>\n",
              "      <th>1</th>\n",
              "      <td>Motech Solar</td>\n",
              "      <td>Taiwan</td>\n",
              "      <td>360</td>\n",
              "      <td>924</td>\n",
              "    </tr>\n",
              "    <tr>\n",
              "      <th>2</th>\n",
              "      <td>Gintech</td>\n",
              "      <td>Taiwan</td>\n",
              "      <td>368</td>\n",
              "      <td>827</td>\n",
              "    </tr>\n",
              "    <tr>\n",
              "      <th>3</th>\n",
              "      <td>Trina Solar</td>\n",
              "      <td>China</td>\n",
              "      <td>399</td>\n",
              "      <td>1057</td>\n",
              "    </tr>\n",
              "    <tr>\n",
              "      <th>4</th>\n",
              "      <td>JA Solar</td>\n",
              "      <td>China</td>\n",
              "      <td>520</td>\n",
              "      <td>1464</td>\n",
              "    </tr>\n",
              "    <tr>\n",
              "      <th>5</th>\n",
              "      <td>Yingli Solar</td>\n",
              "      <td>China</td>\n",
              "      <td>525</td>\n",
              "      <td>1062</td>\n",
              "    </tr>\n",
              "    <tr>\n",
              "      <th>6</th>\n",
              "      <td>Q-Cells</td>\n",
              "      <td>Germany</td>\n",
              "      <td>586</td>\n",
              "      <td>907</td>\n",
              "    </tr>\n",
              "    <tr>\n",
              "      <th>7</th>\n",
              "      <td>Sharp</td>\n",
              "      <td>Japan</td>\n",
              "      <td>595</td>\n",
              "      <td>774</td>\n",
              "    </tr>\n",
              "    <tr>\n",
              "      <th>8</th>\n",
              "      <td>Suntech</td>\n",
              "      <td>China</td>\n",
              "      <td>704</td>\n",
              "      <td>1572</td>\n",
              "    </tr>\n",
              "    <tr>\n",
              "      <th>9</th>\n",
              "      <td>First Solar</td>\n",
              "      <td>USA</td>\n",
              "      <td>1100</td>\n",
              "      <td>1411</td>\n",
              "    </tr>\n",
              "  </tbody>\n",
              "</table>\n",
              "</div>"
            ],
            "text/plain": [
              "  Solar cellcompany  Country  Shipment2009 in MW Shipment2010 in MW\n",
              "0      Sungen Solar    China                 193                588\n",
              "1      Motech Solar   Taiwan                 360                924\n",
              "2           Gintech   Taiwan                 368                827\n",
              "3       Trina Solar    China                 399               1057\n",
              "4          JA Solar    China                 520               1464\n",
              "5      Yingli Solar    China                 525               1062\n",
              "6           Q-Cells  Germany                 586                907\n",
              "7             Sharp    Japan                 595                774\n",
              "8           Suntech    China                 704               1572\n",
              "9       First Solar      USA                1100               1411"
            ]
          },
          "metadata": {
            "tags": []
          },
          "execution_count": 59
        }
      ]
    },
    {
      "cell_type": "code",
      "metadata": {
        "id": "CL3jSn7IpSB7",
        "colab": {
          "base_uri": "https://localhost:8080/",
          "height": 359
        },
        "outputId": "85a3a9a2-a41c-43ed-f41a-efd9a5a227b7"
      },
      "source": [
        "# отображение исходного датафрейма\n",
        "proc_df"
      ],
      "execution_count": null,
      "outputs": [
        {
          "output_type": "execute_result",
          "data": {
            "text/html": [
              "<div>\n",
              "<style scoped>\n",
              "    .dataframe tbody tr th:only-of-type {\n",
              "        vertical-align: middle;\n",
              "    }\n",
              "\n",
              "    .dataframe tbody tr th {\n",
              "        vertical-align: top;\n",
              "    }\n",
              "\n",
              "    .dataframe thead th {\n",
              "        text-align: right;\n",
              "    }\n",
              "</style>\n",
              "<table border=\"1\" class=\"dataframe\">\n",
              "  <thead>\n",
              "    <tr style=\"text-align: right;\">\n",
              "      <th></th>\n",
              "      <th>Solar cellcompany</th>\n",
              "      <th>Country</th>\n",
              "      <th>Shipment2009 in MW</th>\n",
              "      <th>Shipment2010 in MW</th>\n",
              "    </tr>\n",
              "  </thead>\n",
              "  <tbody>\n",
              "    <tr>\n",
              "      <th>0</th>\n",
              "      <td>Suntech</td>\n",
              "      <td>China</td>\n",
              "      <td>704</td>\n",
              "      <td>1572</td>\n",
              "    </tr>\n",
              "    <tr>\n",
              "      <th>1</th>\n",
              "      <td>JA Solar</td>\n",
              "      <td>China</td>\n",
              "      <td>520</td>\n",
              "      <td>1464</td>\n",
              "    </tr>\n",
              "    <tr>\n",
              "      <th>2</th>\n",
              "      <td>First Solar</td>\n",
              "      <td>USA</td>\n",
              "      <td>1100</td>\n",
              "      <td>1411</td>\n",
              "    </tr>\n",
              "    <tr>\n",
              "      <th>3</th>\n",
              "      <td>Yingli Solar</td>\n",
              "      <td>China</td>\n",
              "      <td>525</td>\n",
              "      <td>1062</td>\n",
              "    </tr>\n",
              "    <tr>\n",
              "      <th>4</th>\n",
              "      <td>Trina Solar</td>\n",
              "      <td>China</td>\n",
              "      <td>399</td>\n",
              "      <td>1057</td>\n",
              "    </tr>\n",
              "    <tr>\n",
              "      <th>5</th>\n",
              "      <td>Motech Solar</td>\n",
              "      <td>Taiwan</td>\n",
              "      <td>360</td>\n",
              "      <td>924</td>\n",
              "    </tr>\n",
              "    <tr>\n",
              "      <th>6</th>\n",
              "      <td>Q-Cells</td>\n",
              "      <td>Germany</td>\n",
              "      <td>586</td>\n",
              "      <td>907</td>\n",
              "    </tr>\n",
              "    <tr>\n",
              "      <th>7</th>\n",
              "      <td>Gintech</td>\n",
              "      <td>Taiwan</td>\n",
              "      <td>368</td>\n",
              "      <td>827</td>\n",
              "    </tr>\n",
              "    <tr>\n",
              "      <th>8</th>\n",
              "      <td>Sharp</td>\n",
              "      <td>Japan</td>\n",
              "      <td>595</td>\n",
              "      <td>774</td>\n",
              "    </tr>\n",
              "    <tr>\n",
              "      <th>9</th>\n",
              "      <td>Sungen Solar</td>\n",
              "      <td>China</td>\n",
              "      <td>193</td>\n",
              "      <td>588</td>\n",
              "    </tr>\n",
              "  </tbody>\n",
              "</table>\n",
              "</div>"
            ],
            "text/plain": [
              "  Solar cellcompany  Country  Shipment2009 in MW Shipment2010 in MW\n",
              "0           Suntech    China                 704               1572\n",
              "1          JA Solar    China                 520               1464\n",
              "2       First Solar      USA                1100               1411\n",
              "3      Yingli Solar    China                 525               1062\n",
              "4       Trina Solar    China                 399               1057\n",
              "5      Motech Solar   Taiwan                 360                924\n",
              "6           Q-Cells  Germany                 586                907\n",
              "7           Gintech   Taiwan                 368                827\n",
              "8             Sharp    Japan                 595                774\n",
              "9      Sungen Solar    China                 193                588"
            ]
          },
          "metadata": {
            "tags": []
          },
          "execution_count": 60
        }
      ]
    },
    {
      "cell_type": "code",
      "metadata": {
        "colab": {
          "base_uri": "https://localhost:8080/",
          "height": 359
        },
        "id": "bht9g01ANCs8",
        "outputId": "a9fc40c5-6b2c-4efd-ed86-95ada68df30a"
      },
      "source": [
        "# переименование заголовка методом rename с указанием исходных названий столбцов и новых названий\n",
        "proc_df = proc_df.rename(columns={\"Shipment2009 in MW\": \"2009, MW\", \"Shipment2010 in MW\": \"2010, MW\"})\n",
        "# отображение датафрейма\n",
        "proc_df"
      ],
      "execution_count": null,
      "outputs": [
        {
          "output_type": "execute_result",
          "data": {
            "text/html": [
              "<div>\n",
              "<style scoped>\n",
              "    .dataframe tbody tr th:only-of-type {\n",
              "        vertical-align: middle;\n",
              "    }\n",
              "\n",
              "    .dataframe tbody tr th {\n",
              "        vertical-align: top;\n",
              "    }\n",
              "\n",
              "    .dataframe thead th {\n",
              "        text-align: right;\n",
              "    }\n",
              "</style>\n",
              "<table border=\"1\" class=\"dataframe\">\n",
              "  <thead>\n",
              "    <tr style=\"text-align: right;\">\n",
              "      <th></th>\n",
              "      <th>Solar cellcompany</th>\n",
              "      <th>Country</th>\n",
              "      <th>2009, MW</th>\n",
              "      <th>2010, MW</th>\n",
              "    </tr>\n",
              "  </thead>\n",
              "  <tbody>\n",
              "    <tr>\n",
              "      <th>0</th>\n",
              "      <td>Suntech</td>\n",
              "      <td>China</td>\n",
              "      <td>704</td>\n",
              "      <td>1572</td>\n",
              "    </tr>\n",
              "    <tr>\n",
              "      <th>1</th>\n",
              "      <td>JA Solar</td>\n",
              "      <td>China</td>\n",
              "      <td>520</td>\n",
              "      <td>1464</td>\n",
              "    </tr>\n",
              "    <tr>\n",
              "      <th>2</th>\n",
              "      <td>First Solar</td>\n",
              "      <td>USA</td>\n",
              "      <td>1100</td>\n",
              "      <td>1411</td>\n",
              "    </tr>\n",
              "    <tr>\n",
              "      <th>3</th>\n",
              "      <td>Yingli Solar</td>\n",
              "      <td>China</td>\n",
              "      <td>525</td>\n",
              "      <td>1062</td>\n",
              "    </tr>\n",
              "    <tr>\n",
              "      <th>4</th>\n",
              "      <td>Trina Solar</td>\n",
              "      <td>China</td>\n",
              "      <td>399</td>\n",
              "      <td>1057</td>\n",
              "    </tr>\n",
              "    <tr>\n",
              "      <th>5</th>\n",
              "      <td>Motech Solar</td>\n",
              "      <td>Taiwan</td>\n",
              "      <td>360</td>\n",
              "      <td>924</td>\n",
              "    </tr>\n",
              "    <tr>\n",
              "      <th>6</th>\n",
              "      <td>Q-Cells</td>\n",
              "      <td>Germany</td>\n",
              "      <td>586</td>\n",
              "      <td>907</td>\n",
              "    </tr>\n",
              "    <tr>\n",
              "      <th>7</th>\n",
              "      <td>Gintech</td>\n",
              "      <td>Taiwan</td>\n",
              "      <td>368</td>\n",
              "      <td>827</td>\n",
              "    </tr>\n",
              "    <tr>\n",
              "      <th>8</th>\n",
              "      <td>Sharp</td>\n",
              "      <td>Japan</td>\n",
              "      <td>595</td>\n",
              "      <td>774</td>\n",
              "    </tr>\n",
              "    <tr>\n",
              "      <th>9</th>\n",
              "      <td>Sungen Solar</td>\n",
              "      <td>China</td>\n",
              "      <td>193</td>\n",
              "      <td>588</td>\n",
              "    </tr>\n",
              "  </tbody>\n",
              "</table>\n",
              "</div>"
            ],
            "text/plain": [
              "  Solar cellcompany  Country  2009, MW 2010, MW\n",
              "0           Suntech    China       704     1572\n",
              "1          JA Solar    China       520     1464\n",
              "2       First Solar      USA      1100     1411\n",
              "3      Yingli Solar    China       525     1062\n",
              "4       Trina Solar    China       399     1057\n",
              "5      Motech Solar   Taiwan       360      924\n",
              "6           Q-Cells  Germany       586      907\n",
              "7           Gintech   Taiwan       368      827\n",
              "8             Sharp    Japan       595      774\n",
              "9      Sungen Solar    China       193      588"
            ]
          },
          "metadata": {
            "tags": []
          },
          "execution_count": 61
        }
      ]
    },
    {
      "cell_type": "code",
      "metadata": {
        "colab": {
          "base_uri": "https://localhost:8080/",
          "height": 142
        },
        "id": "-09a-RWSNsyL",
        "outputId": "6bb6fe40-74cf-4431-c059-3ee2131b9e2c"
      },
      "source": [
        "# метод iloc позволяет выбрать необходимую часть датафрейма по индексам строк и столбцов\n",
        "# iloc[i : j, n : m] - где i, j - номера строк n, m - номера столбцов (крайняя правая граница не включена)\n",
        "proc_df.iloc[2 : 5, 2 : 4]"
      ],
      "execution_count": null,
      "outputs": [
        {
          "output_type": "execute_result",
          "data": {
            "text/html": [
              "<div>\n",
              "<style scoped>\n",
              "    .dataframe tbody tr th:only-of-type {\n",
              "        vertical-align: middle;\n",
              "    }\n",
              "\n",
              "    .dataframe tbody tr th {\n",
              "        vertical-align: top;\n",
              "    }\n",
              "\n",
              "    .dataframe thead th {\n",
              "        text-align: right;\n",
              "    }\n",
              "</style>\n",
              "<table border=\"1\" class=\"dataframe\">\n",
              "  <thead>\n",
              "    <tr style=\"text-align: right;\">\n",
              "      <th></th>\n",
              "      <th>2009, MW</th>\n",
              "      <th>2010, MW</th>\n",
              "    </tr>\n",
              "  </thead>\n",
              "  <tbody>\n",
              "    <tr>\n",
              "      <th>2</th>\n",
              "      <td>1100</td>\n",
              "      <td>1411</td>\n",
              "    </tr>\n",
              "    <tr>\n",
              "      <th>3</th>\n",
              "      <td>525</td>\n",
              "      <td>1062</td>\n",
              "    </tr>\n",
              "    <tr>\n",
              "      <th>4</th>\n",
              "      <td>399</td>\n",
              "      <td>1057</td>\n",
              "    </tr>\n",
              "  </tbody>\n",
              "</table>\n",
              "</div>"
            ],
            "text/plain": [
              "   2009, MW 2010, MW\n",
              "2      1100     1411\n",
              "3       525     1062\n",
              "4       399     1057"
            ]
          },
          "metadata": {
            "tags": []
          },
          "execution_count": 62
        }
      ]
    },
    {
      "cell_type": "code",
      "metadata": {
        "colab": {
          "base_uri": "https://localhost:8080/"
        },
        "id": "S5TuJesvO9Bx",
        "outputId": "5874478c-f0b1-445c-cf50-4b4300ddcb6c"
      },
      "source": [
        "# данный цикл позволяет построчно пройтись по всем строкам датафрейма и вывести индекс строки и/или её содержимое (в данном случае индекс и содержимое столбца 'Country')\n",
        "for index, row in proc_df.iterrows():\n",
        "    print(index, row['Country'])"
      ],
      "execution_count": null,
      "outputs": [
        {
          "output_type": "stream",
          "text": [
            "0 China\n",
            "1 China\n",
            "2 USA\n",
            "3 China\n",
            "4 China\n",
            "5 Taiwan\n",
            "6 Germany\n",
            "7 Taiwan\n",
            "8 Japan\n",
            "9 China\n"
          ],
          "name": "stdout"
        }
      ]
    },
    {
      "cell_type": "code",
      "metadata": {
        "id": "RWmVCISNpUNo",
        "colab": {
          "base_uri": "https://localhost:8080/",
          "height": 359
        },
        "outputId": "1e095471-e058-4c26-f8b3-5236abe0d940"
      },
      "source": [
        "# чтение html-таблицы по ссылке\n",
        "url = \"https://en.wikipedia.org/wiki/List_of_photovoltaics_companies\"\n",
        "input_df = pd.read_html(url)[7]\n",
        "# удаление лишней строки\n",
        "proc_df = input_df.drop(input_df.tail(1).index)\n",
        "# преобразование числовых данных в числовой тип\n",
        "proc_df = proc_df.astype({'Shipment2009 in MW' : 'int', 'Shipment2010 in MW' : 'int'})\n",
        "# cортировка значений по столбцу 'Shipment2009' со сбросом нумерации индексов (ignore_index = True) с сохранением изменений применяемых к датафрейму (inplace = True)\n",
        "proc_df.sort_values('Shipment2009 in MW', inplace = True, ignore_index = True)\n",
        "# отображение полученного датафрейма\n",
        "proc_df"
      ],
      "execution_count": null,
      "outputs": [
        {
          "output_type": "execute_result",
          "data": {
            "text/html": [
              "<div>\n",
              "<style scoped>\n",
              "    .dataframe tbody tr th:only-of-type {\n",
              "        vertical-align: middle;\n",
              "    }\n",
              "\n",
              "    .dataframe tbody tr th {\n",
              "        vertical-align: top;\n",
              "    }\n",
              "\n",
              "    .dataframe thead th {\n",
              "        text-align: right;\n",
              "    }\n",
              "</style>\n",
              "<table border=\"1\" class=\"dataframe\">\n",
              "  <thead>\n",
              "    <tr style=\"text-align: right;\">\n",
              "      <th></th>\n",
              "      <th>Solar cellcompany</th>\n",
              "      <th>Country</th>\n",
              "      <th>Shipment2009 in MW</th>\n",
              "      <th>Shipment2010 in MW</th>\n",
              "    </tr>\n",
              "  </thead>\n",
              "  <tbody>\n",
              "    <tr>\n",
              "      <th>0</th>\n",
              "      <td>Sungen Solar</td>\n",
              "      <td>China</td>\n",
              "      <td>193</td>\n",
              "      <td>588</td>\n",
              "    </tr>\n",
              "    <tr>\n",
              "      <th>1</th>\n",
              "      <td>Motech Solar</td>\n",
              "      <td>Taiwan</td>\n",
              "      <td>360</td>\n",
              "      <td>924</td>\n",
              "    </tr>\n",
              "    <tr>\n",
              "      <th>2</th>\n",
              "      <td>Gintech</td>\n",
              "      <td>Taiwan</td>\n",
              "      <td>368</td>\n",
              "      <td>827</td>\n",
              "    </tr>\n",
              "    <tr>\n",
              "      <th>3</th>\n",
              "      <td>Trina Solar</td>\n",
              "      <td>China</td>\n",
              "      <td>399</td>\n",
              "      <td>1057</td>\n",
              "    </tr>\n",
              "    <tr>\n",
              "      <th>4</th>\n",
              "      <td>JA Solar</td>\n",
              "      <td>China</td>\n",
              "      <td>520</td>\n",
              "      <td>1464</td>\n",
              "    </tr>\n",
              "    <tr>\n",
              "      <th>5</th>\n",
              "      <td>Yingli Solar</td>\n",
              "      <td>China</td>\n",
              "      <td>525</td>\n",
              "      <td>1062</td>\n",
              "    </tr>\n",
              "    <tr>\n",
              "      <th>6</th>\n",
              "      <td>Q-Cells</td>\n",
              "      <td>Germany</td>\n",
              "      <td>586</td>\n",
              "      <td>907</td>\n",
              "    </tr>\n",
              "    <tr>\n",
              "      <th>7</th>\n",
              "      <td>Sharp</td>\n",
              "      <td>Japan</td>\n",
              "      <td>595</td>\n",
              "      <td>774</td>\n",
              "    </tr>\n",
              "    <tr>\n",
              "      <th>8</th>\n",
              "      <td>Suntech</td>\n",
              "      <td>China</td>\n",
              "      <td>704</td>\n",
              "      <td>1572</td>\n",
              "    </tr>\n",
              "    <tr>\n",
              "      <th>9</th>\n",
              "      <td>First Solar</td>\n",
              "      <td>USA</td>\n",
              "      <td>1100</td>\n",
              "      <td>1411</td>\n",
              "    </tr>\n",
              "  </tbody>\n",
              "</table>\n",
              "</div>"
            ],
            "text/plain": [
              "  Solar cellcompany  Country  Shipment2009 in MW  Shipment2010 in MW\n",
              "0      Sungen Solar    China                 193                 588\n",
              "1      Motech Solar   Taiwan                 360                 924\n",
              "2           Gintech   Taiwan                 368                 827\n",
              "3       Trina Solar    China                 399                1057\n",
              "4          JA Solar    China                 520                1464\n",
              "5      Yingli Solar    China                 525                1062\n",
              "6           Q-Cells  Germany                 586                 907\n",
              "7             Sharp    Japan                 595                 774\n",
              "8           Suntech    China                 704                1572\n",
              "9       First Solar      USA                1100                1411"
            ]
          },
          "metadata": {
            "tags": []
          },
          "execution_count": 64
        }
      ]
    },
    {
      "cell_type": "markdown",
      "metadata": {
        "id": "KxgI9gaI-RSR"
      },
      "source": [
        "### Indexing"
      ]
    },
    {
      "cell_type": "code",
      "metadata": {
        "id": "srtmz02D-S1f"
      },
      "source": [
        "# создание списка\n",
        "list_sample = [0, 10, 20, 30, 40, 50]"
      ],
      "execution_count": null,
      "outputs": []
    },
    {
      "cell_type": "code",
      "metadata": {
        "id": "8KQeKpxd-ZHU",
        "colab": {
          "base_uri": "https://localhost:8080/"
        },
        "outputId": "c74effc6-f05a-4f0d-8e8b-d216a0afb610"
      },
      "source": [
        "# индексация в python начинается с 0\n",
        "# list[n] - обращение к n элементу в списке\n",
        "print(list_sample[0])\n",
        "print(list_sample[3])"
      ],
      "execution_count": null,
      "outputs": [
        {
          "output_type": "stream",
          "text": [
            "0\n",
            "30\n"
          ],
          "name": "stdout"
        }
      ]
    },
    {
      "cell_type": "code",
      "metadata": {
        "id": "SZDtEEpD-hO7",
        "colab": {
          "base_uri": "https://localhost:8080/"
        },
        "outputId": "c588e7bd-9f89-4ff4-8c89-77adb37d59e3"
      },
      "source": [
        "# также существует \"обратная\" индексация, где -1 - это последний элемент, -2 - предпоследний и тд.\n",
        "print(list_sample[-1])\n",
        "print(list_sample[-2])"
      ],
      "execution_count": null,
      "outputs": [
        {
          "output_type": "stream",
          "text": [
            "50\n",
            "40\n"
          ],
          "name": "stdout"
        }
      ]
    },
    {
      "cell_type": "code",
      "metadata": {
        "id": "KYXYBcvt-oEl",
        "colab": {
          "base_uri": "https://localhost:8080/"
        },
        "outputId": "543ad05d-0009-41a6-ff62-28462a1a905a"
      },
      "source": [
        "# конструкция list[i:n] позволяет сделать \"срез\" списка с индекса i по n (правая граница не включена)\n",
        "# list[:] - срез включает весь список\n",
        "print(list_sample[:])"
      ],
      "execution_count": null,
      "outputs": [
        {
          "output_type": "stream",
          "text": [
            "[0, 10, 20, 30, 40, 50]\n"
          ],
          "name": "stdout"
        }
      ]
    },
    {
      "cell_type": "code",
      "metadata": {
        "id": "rNMGJvT6-qjP",
        "colab": {
          "base_uri": "https://localhost:8080/"
        },
        "outputId": "e2980f69-340d-4148-81cf-fe827d40015f"
      },
      "source": [
        "# срез со 2 элемента до конца списка\n",
        "print(list_sample[2:])"
      ],
      "execution_count": null,
      "outputs": [
        {
          "output_type": "stream",
          "text": [
            "[20, 30, 40, 50]\n"
          ],
          "name": "stdout"
        }
      ]
    },
    {
      "cell_type": "code",
      "metadata": {
        "id": "CkxZBiZg-s8R",
        "colab": {
          "base_uri": "https://localhost:8080/"
        },
        "outputId": "1d2252b9-7594-4280-b9c2-80219f41e5e8"
      },
      "source": [
        "# срез до 3 элемента, не включая 3 элемент\n",
        "print(list_sample[:3])"
      ],
      "execution_count": null,
      "outputs": [
        {
          "output_type": "stream",
          "text": [
            "[0, 10, 20]\n"
          ],
          "name": "stdout"
        }
      ]
    },
    {
      "cell_type": "code",
      "metadata": {
        "id": "4ZoeMLD3-vBO",
        "colab": {
          "base_uri": "https://localhost:8080/"
        },
        "outputId": "2f79286d-cd54-41c4-acbe-6ba8556a5f1d"
      },
      "source": [
        "# срез со 2 по 4 элемент\n",
        "print(list_sample[2:4])"
      ],
      "execution_count": null,
      "outputs": [
        {
          "output_type": "stream",
          "text": [
            "[20, 30]\n"
          ],
          "name": "stdout"
        }
      ]
    },
    {
      "cell_type": "code",
      "metadata": {
        "id": "fTcMapps-xKd",
        "colab": {
          "base_uri": "https://localhost:8080/"
        },
        "outputId": "5628ad5f-d2c6-446b-9493-b2ea1b0c32ab"
      },
      "source": [
        "# нумерация в срезе должна идти по возрастанию, от меньшего индекса к большему, иначе в срез ничего не попадёт\n",
        "print(list_sample[4:2])"
      ],
      "execution_count": null,
      "outputs": [
        {
          "output_type": "stream",
          "text": [
            "[]\n"
          ],
          "name": "stdout"
        }
      ]
    },
    {
      "cell_type": "code",
      "metadata": {
        "id": "hrlYQfNW-3L5",
        "colab": {
          "base_uri": "https://localhost:8080/"
        },
        "outputId": "afe7ffd8-062f-43eb-fa16-3cbad1903077"
      },
      "source": [
        "# также возможно использование \"обратных\" индексов для срезов, в данном случа нумерация в срезе должна идти по возрастанию, от меньшего индекса к большему\n",
        "print(list_sample[-3:-1])"
      ],
      "execution_count": null,
      "outputs": [
        {
          "output_type": "stream",
          "text": [
            "[30, 40]\n"
          ],
          "name": "stdout"
        }
      ]
    },
    {
      "cell_type": "code",
      "metadata": {
        "id": "N2afwuqd-9C4",
        "colab": {
          "base_uri": "https://localhost:8080/"
        },
        "outputId": "50a60991-644d-4ca9-f99e-dd89ab9c8e98"
      },
      "source": [
        "# также возможна \"смешанная\" индексация, например для вывода элемента с индексом 1 до предпоследнего\n",
        "print(list_sample[1:-1])"
      ],
      "execution_count": null,
      "outputs": [
        {
          "output_type": "stream",
          "text": [
            "[10, 20, 30, 40]\n"
          ],
          "name": "stdout"
        }
      ]
    },
    {
      "cell_type": "code",
      "metadata": {
        "id": "mx83IpeW-_O2",
        "colab": {
          "base_uri": "https://localhost:8080/"
        },
        "outputId": "c55cdd1a-31a8-4749-f364-6a52f0516f1d"
      },
      "source": [
        "# также в срезах возможно указать \"шаг\" среза. list[i:n:k] - где i - начальный индекс, n - конечный, k - шаг.\n",
        "# в случае list[::2] будет выводиться каждый второй элемент начиная с элемента с индексом 0\n",
        "print(list_sample[::2])"
      ],
      "execution_count": null,
      "outputs": [
        {
          "output_type": "stream",
          "text": [
            "[0, 20, 40]\n"
          ],
          "name": "stdout"
        }
      ]
    },
    {
      "cell_type": "code",
      "metadata": {
        "id": "ctW1s33f_C8p",
        "colab": {
          "base_uri": "https://localhost:8080/"
        },
        "outputId": "cc841530-5170-474e-d164-83fdf9b9cdbe"
      },
      "source": [
        "# cрез включающий в себя каждый второй элемент, начиная с элемента с индексом 1\n",
        "print(list_sample[1::2])"
      ],
      "execution_count": null,
      "outputs": [
        {
          "output_type": "stream",
          "text": [
            "[10, 30, 50]\n"
          ],
          "name": "stdout"
        }
      ]
    },
    {
      "cell_type": "code",
      "metadata": {
        "id": "wYzpZSn__GnF",
        "colab": {
          "base_uri": "https://localhost:8080/"
        },
        "outputId": "b53339ef-2722-4296-fa1c-87c783bec2b3"
      },
      "source": [
        "# при отрицательном значении шага элементы будут идти в обратном порядке, с конца списка\n",
        "print(list_sample[::-1])"
      ],
      "execution_count": null,
      "outputs": [
        {
          "output_type": "stream",
          "text": [
            "[50, 40, 30, 20, 10, 0]\n"
          ],
          "name": "stdout"
        }
      ]
    },
    {
      "cell_type": "code",
      "metadata": {
        "id": "aytVhpyq_Jct",
        "colab": {
          "base_uri": "https://localhost:8080/"
        },
        "outputId": "f947cb8b-53d9-4b77-a63f-4b2e5bc47625"
      },
      "source": [
        "# срез каждого второго элемента, начиная с конца\n",
        "print(list_sample[::-2])"
      ],
      "execution_count": null,
      "outputs": [
        {
          "output_type": "stream",
          "text": [
            "[50, 30, 10]\n"
          ],
          "name": "stdout"
        }
      ]
    },
    {
      "cell_type": "code",
      "metadata": {
        "id": "-TiAAGy__M3J",
        "colab": {
          "base_uri": "https://localhost:8080/"
        },
        "outputId": "6c17c006-4161-4d0d-a411-74b0d5dc8da1"
      },
      "source": [
        "# срезы также применимы и к строкам\n",
        "message = 'Hello!'\n",
        "print(message[::-1])"
      ],
      "execution_count": null,
      "outputs": [
        {
          "output_type": "stream",
          "text": [
            "!olleH\n"
          ],
          "name": "stdout"
        }
      ]
    },
    {
      "cell_type": "code",
      "metadata": {
        "id": "NN-KTFT0_WAT"
      },
      "source": [
        "# импорт библиотеки numpy\n",
        "import numpy as np"
      ],
      "execution_count": null,
      "outputs": []
    },
    {
      "cell_type": "code",
      "metadata": {
        "id": "XUewjmI9_ZbV",
        "colab": {
          "base_uri": "https://localhost:8080/"
        },
        "outputId": "4b94a893-3cc4-4644-f8b7-c90b4c740b2f"
      },
      "source": [
        "# создание массива\n",
        "matrix_A = np.array([[0, 1, 2, 3], [4, 5, 6, 7], [8, 9, 10, 11]])\n",
        "print(matrix_A)"
      ],
      "execution_count": null,
      "outputs": [
        {
          "output_type": "stream",
          "text": [
            "[[ 0  1  2  3]\n",
            " [ 4  5  6  7]\n",
            " [ 8  9 10 11]]\n"
          ],
          "name": "stdout"
        }
      ]
    },
    {
      "cell_type": "code",
      "metadata": {
        "id": "Ujb4woOk_jTX",
        "colab": {
          "base_uri": "https://localhost:8080/"
        },
        "outputId": "3cc7a1bc-8251-4b4e-85a4-751aa966eb94"
      },
      "source": [
        "# срез одного элемента массива, имеющего индекс [i, k], где i - индекс строки, k - индекс столбца (нумерация начинается с 0)\n",
        "print(matrix_A[1, 1])"
      ],
      "execution_count": null,
      "outputs": [
        {
          "output_type": "stream",
          "text": [
            "5\n"
          ],
          "name": "stdout"
        }
      ]
    },
    {
      "cell_type": "code",
      "metadata": {
        "id": "CHW9r0oA_vQ-",
        "colab": {
          "base_uri": "https://localhost:8080/"
        },
        "outputId": "d321afd6-d7d6-48dc-9185-b534b4962f38"
      },
      "source": [
        "# срез элементов массива: столбца с индексом 1\n",
        "print(matrix_A[:, 1])"
      ],
      "execution_count": null,
      "outputs": [
        {
          "output_type": "stream",
          "text": [
            "[1 5 9]\n"
          ],
          "name": "stdout"
        }
      ]
    },
    {
      "cell_type": "code",
      "metadata": {
        "id": "Sy_uNKv2_0KU",
        "colab": {
          "base_uri": "https://localhost:8080/"
        },
        "outputId": "6702bc77-018b-4a34-aaa2-77036e9bfda9"
      },
      "source": [
        "# срез элементов массива: строки с индексом 1\n",
        "print(matrix_A[1])"
      ],
      "execution_count": null,
      "outputs": [
        {
          "output_type": "stream",
          "text": [
            "[4 5 6 7]\n"
          ],
          "name": "stdout"
        }
      ]
    },
    {
      "cell_type": "code",
      "metadata": {
        "colab": {
          "base_uri": "https://localhost:8080/"
        },
        "id": "UAAUN9KCpsCF",
        "outputId": "9ab2debe-a04e-4f4d-a86b-d4d00c2018f3"
      },
      "source": [
        "# срез массива в обратном порядке, где первая строка стала последней и первый столбец последним\n",
        "print(matrix_A[::-1,::-1])"
      ],
      "execution_count": null,
      "outputs": [
        {
          "output_type": "stream",
          "text": [
            "[[11 10  9  8]\n",
            " [ 7  6  5  4]\n",
            " [ 3  2  1  0]]\n"
          ],
          "name": "stdout"
        }
      ]
    },
    {
      "cell_type": "code",
      "metadata": {
        "id": "m7watd9K_1z7",
        "colab": {
          "base_uri": "https://localhost:8080/"
        },
        "outputId": "2e9194e3-5850-4a10-824e-61870c7d7108"
      },
      "source": [
        "# срез в обратном порядке строк с 1 по 3 столбец массива (не включая правую границу)\n",
        "print(matrix_A[::-1, 1:3])"
      ],
      "execution_count": null,
      "outputs": [
        {
          "output_type": "stream",
          "text": [
            "[[ 9 10]\n",
            " [ 5  6]\n",
            " [ 1  2]]\n"
          ],
          "name": "stdout"
        }
      ]
    },
    {
      "cell_type": "markdown",
      "metadata": {
        "id": "5rIDpKkIpq_m"
      },
      "source": [
        "### Selection"
      ]
    },
    {
      "cell_type": "code",
      "metadata": {
        "id": "iC44dxxBpp1G",
        "colab": {
          "base_uri": "https://localhost:8080/",
          "height": 235
        },
        "outputId": "767772eb-d4fd-417e-99f6-135a0d8c2415"
      },
      "source": [
        "# чтение файла, с разделителем столбцов ';' и индексами равными данным в первом столбце (с индексом 0)\n",
        "# метод head(N) выводит первые N строк датафрейма (по умолчанию 5 первых строк)\n",
        "power_stations_df = pd.read_csv('PS.csv', sep = ';', index_col = 0)\n",
        "power_stations_df.head()"
      ],
      "execution_count": null,
      "outputs": [
        {
          "output_type": "execute_result",
          "data": {
            "text/html": [
              "<div>\n",
              "<style scoped>\n",
              "    .dataframe tbody tr th:only-of-type {\n",
              "        vertical-align: middle;\n",
              "    }\n",
              "\n",
              "    .dataframe tbody tr th {\n",
              "        vertical-align: top;\n",
              "    }\n",
              "\n",
              "    .dataframe thead th {\n",
              "        text-align: right;\n",
              "    }\n",
              "</style>\n",
              "<table border=\"1\" class=\"dataframe\">\n",
              "  <thead>\n",
              "    <tr style=\"text-align: right;\">\n",
              "      <th></th>\n",
              "      <th>Begin_building</th>\n",
              "      <th>Type</th>\n",
              "      <th>Power</th>\n",
              "      <th>Owner</th>\n",
              "    </tr>\n",
              "    <tr>\n",
              "      <th>Name</th>\n",
              "      <th></th>\n",
              "      <th></th>\n",
              "      <th></th>\n",
              "      <th></th>\n",
              "    </tr>\n",
              "  </thead>\n",
              "  <tbody>\n",
              "    <tr>\n",
              "      <th>Mutnovskaya</th>\n",
              "      <td>1988</td>\n",
              "      <td>geothermal</td>\n",
              "      <td>50</td>\n",
              "      <td>RusHydro</td>\n",
              "    </tr>\n",
              "    <tr>\n",
              "      <th>Pauzhetskaya</th>\n",
              "      <td>1962</td>\n",
              "      <td>geothermal</td>\n",
              "      <td>12</td>\n",
              "      <td>RusHydro</td>\n",
              "    </tr>\n",
              "    <tr>\n",
              "      <th>Baksan</th>\n",
              "      <td>1930</td>\n",
              "      <td>hydro</td>\n",
              "      <td>27</td>\n",
              "      <td>RusHydro</td>\n",
              "    </tr>\n",
              "    <tr>\n",
              "      <th>Boguchany</th>\n",
              "      <td>1974</td>\n",
              "      <td>hydro</td>\n",
              "      <td>2997</td>\n",
              "      <td>BGES</td>\n",
              "    </tr>\n",
              "    <tr>\n",
              "      <th>Bratsk</th>\n",
              "      <td>1954</td>\n",
              "      <td>hydro</td>\n",
              "      <td>4500</td>\n",
              "      <td>En+</td>\n",
              "    </tr>\n",
              "  </tbody>\n",
              "</table>\n",
              "</div>"
            ],
            "text/plain": [
              "              Begin_building        Type  Power     Owner\n",
              "Name                                                     \n",
              "Mutnovskaya             1988  geothermal     50  RusHydro\n",
              "Pauzhetskaya            1962  geothermal     12  RusHydro\n",
              "Baksan                  1930       hydro     27  RusHydro\n",
              "Boguchany               1974       hydro   2997      BGES\n",
              "Bratsk                  1954       hydro   4500       En+"
            ]
          },
          "metadata": {
            "tags": []
          },
          "execution_count": 88
        }
      ]
    },
    {
      "cell_type": "markdown",
      "metadata": {
        "id": "ajihRqasqUcy"
      },
      "source": [
        "#### By column name"
      ]
    },
    {
      "cell_type": "code",
      "metadata": {
        "id": "Z2bbhtUJqev7",
        "colab": {
          "base_uri": "https://localhost:8080/",
          "height": 483
        },
        "outputId": "6356fcbe-4661-4a51-b445-4120df0836d0"
      },
      "source": [
        "# создание из исходого датафрейма нового, который содержит только необходимые столбцы (\"Type\" и \"Power\")\n",
        "tmp_df = power_stations_df[['Type', 'Power']]\n",
        "# отображение датафрейма\n",
        "tmp_df"
      ],
      "execution_count": null,
      "outputs": [
        {
          "output_type": "execute_result",
          "data": {
            "text/html": [
              "<div>\n",
              "<style scoped>\n",
              "    .dataframe tbody tr th:only-of-type {\n",
              "        vertical-align: middle;\n",
              "    }\n",
              "\n",
              "    .dataframe tbody tr th {\n",
              "        vertical-align: top;\n",
              "    }\n",
              "\n",
              "    .dataframe thead th {\n",
              "        text-align: right;\n",
              "    }\n",
              "</style>\n",
              "<table border=\"1\" class=\"dataframe\">\n",
              "  <thead>\n",
              "    <tr style=\"text-align: right;\">\n",
              "      <th></th>\n",
              "      <th>Type</th>\n",
              "      <th>Power</th>\n",
              "    </tr>\n",
              "    <tr>\n",
              "      <th>Name</th>\n",
              "      <th></th>\n",
              "      <th></th>\n",
              "    </tr>\n",
              "  </thead>\n",
              "  <tbody>\n",
              "    <tr>\n",
              "      <th>Mutnovskaya</th>\n",
              "      <td>geothermal</td>\n",
              "      <td>50</td>\n",
              "    </tr>\n",
              "    <tr>\n",
              "      <th>Pauzhetskaya</th>\n",
              "      <td>geothermal</td>\n",
              "      <td>12</td>\n",
              "    </tr>\n",
              "    <tr>\n",
              "      <th>Baksan</th>\n",
              "      <td>hydro</td>\n",
              "      <td>27</td>\n",
              "    </tr>\n",
              "    <tr>\n",
              "      <th>Boguchany</th>\n",
              "      <td>hydro</td>\n",
              "      <td>2997</td>\n",
              "    </tr>\n",
              "    <tr>\n",
              "      <th>Bratsk</th>\n",
              "      <td>hydro</td>\n",
              "      <td>4500</td>\n",
              "    </tr>\n",
              "    <tr>\n",
              "      <th>Adygeyskaya</th>\n",
              "      <td>wind</td>\n",
              "      <td>150</td>\n",
              "    </tr>\n",
              "    <tr>\n",
              "      <th>Ulyanovskaya</th>\n",
              "      <td>wind</td>\n",
              "      <td>50</td>\n",
              "    </tr>\n",
              "    <tr>\n",
              "      <th>Leningradksaya</th>\n",
              "      <td>nuclear</td>\n",
              "      <td>4188</td>\n",
              "    </tr>\n",
              "    <tr>\n",
              "      <th>Kursakya</th>\n",
              "      <td>nuclear</td>\n",
              "      <td>4000</td>\n",
              "    </tr>\n",
              "    <tr>\n",
              "      <th>Smolenskaya</th>\n",
              "      <td>nuclear</td>\n",
              "      <td>3000</td>\n",
              "    </tr>\n",
              "    <tr>\n",
              "      <th>Reftinskaya</th>\n",
              "      <td>termal</td>\n",
              "      <td>3800</td>\n",
              "    </tr>\n",
              "    <tr>\n",
              "      <th>Surgut-2</th>\n",
              "      <td>termal</td>\n",
              "      <td>5657</td>\n",
              "    </tr>\n",
              "    <tr>\n",
              "      <th>Kirishskaya</th>\n",
              "      <td>termal</td>\n",
              "      <td>2595</td>\n",
              "    </tr>\n",
              "  </tbody>\n",
              "</table>\n",
              "</div>"
            ],
            "text/plain": [
              "                      Type  Power\n",
              "Name                             \n",
              "Mutnovskaya     geothermal     50\n",
              "Pauzhetskaya    geothermal     12\n",
              "Baksan               hydro     27\n",
              "Boguchany            hydro   2997\n",
              "Bratsk               hydro   4500\n",
              "Adygeyskaya           wind    150\n",
              "Ulyanovskaya          wind     50\n",
              "Leningradksaya     nuclear   4188\n",
              "Kursakya           nuclear   4000\n",
              "Smolenskaya        nuclear   3000\n",
              "Reftinskaya         termal   3800\n",
              "Surgut-2            termal   5657\n",
              "Kirishskaya         termal   2595"
            ]
          },
          "metadata": {
            "tags": []
          },
          "execution_count": 89
        }
      ]
    },
    {
      "cell_type": "code",
      "metadata": {
        "id": "sJmlphCFqxo_",
        "colab": {
          "base_uri": "https://localhost:8080/"
        },
        "outputId": "370b43cd-d8bb-45c9-c858-2efbdbd3acb0"
      },
      "source": [
        "# создание серии по столбцу 'Power', которая состоит из индексов (в данном случае названия) и значений мощности\n",
        "# также внизу серии указывается название столбца и тип данных содержащийся в ней\n",
        "tmp_df = power_stations_df.Power\n",
        "# отображение серии\n",
        "tmp_df"
      ],
      "execution_count": null,
      "outputs": [
        {
          "output_type": "execute_result",
          "data": {
            "text/plain": [
              "Name\n",
              "Mutnovskaya         50\n",
              "Pauzhetskaya        12\n",
              "Baksan              27\n",
              "Boguchany         2997\n",
              "Bratsk            4500\n",
              "Adygeyskaya        150\n",
              "Ulyanovskaya        50\n",
              "Leningradksaya    4188\n",
              "Kursakya          4000\n",
              "Smolenskaya       3000\n",
              "Reftinskaya       3800\n",
              "Surgut-2          5657\n",
              "Kirishskaya       2595\n",
              "Name: Power, dtype: int64"
            ]
          },
          "metadata": {
            "tags": []
          },
          "execution_count": 218
        }
      ]
    },
    {
      "cell_type": "markdown",
      "metadata": {
        "id": "i5OAJns9rFWN"
      },
      "source": [
        "#### By row and column names (loc)"
      ]
    },
    {
      "cell_type": "code",
      "metadata": {
        "id": "11r6Eh95rZne",
        "colab": {
          "base_uri": "https://localhost:8080/"
        },
        "outputId": "4b23b643-1913-4f86-bb6f-f9e048173e6e"
      },
      "source": [
        "# метод loc[] позволяет обращаться к элементам датафрейма по названиям строк или столбцов\n",
        "# создание серии (среза) методом loc[] по названию  'Mutnovskaya', которая содержит в себе значения из строки с индексом 'Mutnovskaya'\n",
        "tmp_df = power_stations_df.loc['Mutnovskaya']\n",
        "# отображение серии\n",
        "tmp_df"
      ],
      "execution_count": null,
      "outputs": [
        {
          "output_type": "execute_result",
          "data": {
            "text/plain": [
              "Begin_building          1988\n",
              "Type              geothermal\n",
              "Power                     50\n",
              "Owner               RusHydro\n",
              "Name: Mutnovskaya, dtype: object"
            ]
          },
          "metadata": {
            "tags": []
          },
          "execution_count": 228
        }
      ]
    },
    {
      "cell_type": "code",
      "metadata": {
        "id": "EghCtnB-sRiB",
        "colab": {
          "base_uri": "https://localhost:8080/",
          "height": 142
        },
        "outputId": "bb36dfab-5ee5-4d97-c762-752eb06b9b29"
      },
      "source": [
        "# создание датафрейма (среза) методом loc[] содержащего в себе 2 строки с названиямии 'Mutnovskaya' и 'Reftinskaya' со значениями всех столбцов\n",
        "tmp_df = power_stations_df.loc[['Mutnovskaya', 'Reftinskaya']]\n",
        "# отображение датафрейма\n",
        "tmp_df"
      ],
      "execution_count": null,
      "outputs": [
        {
          "output_type": "execute_result",
          "data": {
            "text/html": [
              "<div>\n",
              "<style scoped>\n",
              "    .dataframe tbody tr th:only-of-type {\n",
              "        vertical-align: middle;\n",
              "    }\n",
              "\n",
              "    .dataframe tbody tr th {\n",
              "        vertical-align: top;\n",
              "    }\n",
              "\n",
              "    .dataframe thead th {\n",
              "        text-align: right;\n",
              "    }\n",
              "</style>\n",
              "<table border=\"1\" class=\"dataframe\">\n",
              "  <thead>\n",
              "    <tr style=\"text-align: right;\">\n",
              "      <th></th>\n",
              "      <th>Begin_building</th>\n",
              "      <th>Type</th>\n",
              "      <th>Power</th>\n",
              "      <th>Owner</th>\n",
              "    </tr>\n",
              "    <tr>\n",
              "      <th>Name</th>\n",
              "      <th></th>\n",
              "      <th></th>\n",
              "      <th></th>\n",
              "      <th></th>\n",
              "    </tr>\n",
              "  </thead>\n",
              "  <tbody>\n",
              "    <tr>\n",
              "      <th>Mutnovskaya</th>\n",
              "      <td>1988</td>\n",
              "      <td>geothermal</td>\n",
              "      <td>50</td>\n",
              "      <td>RusHydro</td>\n",
              "    </tr>\n",
              "    <tr>\n",
              "      <th>Reftinskaya</th>\n",
              "      <td>1963</td>\n",
              "      <td>termal</td>\n",
              "      <td>3800</td>\n",
              "      <td>KuzEn</td>\n",
              "    </tr>\n",
              "  </tbody>\n",
              "</table>\n",
              "</div>"
            ],
            "text/plain": [
              "             Begin_building        Type  Power     Owner\n",
              "Name                                                    \n",
              "Mutnovskaya            1988  geothermal     50  RusHydro\n",
              "Reftinskaya            1963      termal   3800     KuzEn"
            ]
          },
          "metadata": {
            "tags": []
          },
          "execution_count": 229
        }
      ]
    },
    {
      "cell_type": "code",
      "metadata": {
        "id": "s32kqVh4sVXI",
        "colab": {
          "base_uri": "https://localhost:8080/",
          "height": 142
        },
        "outputId": "797e7814-3a73-4d22-a9d0-80ee6f7aa7d0"
      },
      "source": [
        "# создание датафрейма (среза) методом loc[] содержащего в себе 2 строки 'Mutnovskaya' и 'Reftinskaya' со значениями указанных столбцов (только 'Type' и 'Owner')\n",
        "tmp_df = power_stations_df.loc[['Mutnovskaya', 'Reftinskaya'], ['Type', 'Owner']]\n",
        "# отображение датафрейма\n",
        "tmp_df"
      ],
      "execution_count": null,
      "outputs": [
        {
          "output_type": "execute_result",
          "data": {
            "text/html": [
              "<div>\n",
              "<style scoped>\n",
              "    .dataframe tbody tr th:only-of-type {\n",
              "        vertical-align: middle;\n",
              "    }\n",
              "\n",
              "    .dataframe tbody tr th {\n",
              "        vertical-align: top;\n",
              "    }\n",
              "\n",
              "    .dataframe thead th {\n",
              "        text-align: right;\n",
              "    }\n",
              "</style>\n",
              "<table border=\"1\" class=\"dataframe\">\n",
              "  <thead>\n",
              "    <tr style=\"text-align: right;\">\n",
              "      <th></th>\n",
              "      <th>Type</th>\n",
              "      <th>Owner</th>\n",
              "    </tr>\n",
              "    <tr>\n",
              "      <th>Name</th>\n",
              "      <th></th>\n",
              "      <th></th>\n",
              "    </tr>\n",
              "  </thead>\n",
              "  <tbody>\n",
              "    <tr>\n",
              "      <th>Mutnovskaya</th>\n",
              "      <td>geothermal</td>\n",
              "      <td>RusHydro</td>\n",
              "    </tr>\n",
              "    <tr>\n",
              "      <th>Reftinskaya</th>\n",
              "      <td>termal</td>\n",
              "      <td>KuzEn</td>\n",
              "    </tr>\n",
              "  </tbody>\n",
              "</table>\n",
              "</div>"
            ],
            "text/plain": [
              "                   Type     Owner\n",
              "Name                             \n",
              "Mutnovskaya  geothermal  RusHydro\n",
              "Reftinskaya      termal     KuzEn"
            ]
          },
          "metadata": {
            "tags": []
          },
          "execution_count": 90
        }
      ]
    },
    {
      "cell_type": "markdown",
      "metadata": {
        "id": "apiu7mSWrYh2"
      },
      "source": [
        "#### By row and/or column indexes"
      ]
    },
    {
      "cell_type": "code",
      "metadata": {
        "id": "YXsfpBWRrESd",
        "colab": {
          "base_uri": "https://localhost:8080/"
        },
        "outputId": "eedba58f-38d1-4de7-ed55-ed736c85816f"
      },
      "source": [
        "# метод iloc[] позволяет обращаться к элементам датафрейма по номерам индексов строк или столбцов\n",
        "# iloc[n] позволяет вывести серию (срез), содеражащую строку с её элементами, имеющую индекс n\n",
        "tmp_df = power_stations_df.iloc[1]\n",
        "# отображение серии\n",
        "tmp_df"
      ],
      "execution_count": null,
      "outputs": [
        {
          "output_type": "execute_result",
          "data": {
            "text/plain": [
              "Begin_building          1962\n",
              "Type              geothermal\n",
              "Power                     12\n",
              "Owner               RusHydro\n",
              "Name: Pauzhetskaya, dtype: object"
            ]
          },
          "metadata": {
            "tags": []
          },
          "execution_count": 91
        }
      ]
    },
    {
      "cell_type": "code",
      "metadata": {
        "id": "kN32RluKsz9k",
        "colab": {
          "base_uri": "https://localhost:8080/",
          "height": 173
        },
        "outputId": "695e42c2-2ea0-4bae-8843-e4f96f8ce26a"
      },
      "source": [
        "# метод iloc[i : n] позволяет вывести датафрейм (срез), содержащий строки с i по n (не включая правую границу)\n",
        "tmp_df = power_stations_df.iloc[1 : 4]\n",
        "# отображение датафрейма\n",
        "tmp_df"
      ],
      "execution_count": null,
      "outputs": [
        {
          "output_type": "execute_result",
          "data": {
            "text/html": [
              "<div>\n",
              "<style scoped>\n",
              "    .dataframe tbody tr th:only-of-type {\n",
              "        vertical-align: middle;\n",
              "    }\n",
              "\n",
              "    .dataframe tbody tr th {\n",
              "        vertical-align: top;\n",
              "    }\n",
              "\n",
              "    .dataframe thead th {\n",
              "        text-align: right;\n",
              "    }\n",
              "</style>\n",
              "<table border=\"1\" class=\"dataframe\">\n",
              "  <thead>\n",
              "    <tr style=\"text-align: right;\">\n",
              "      <th></th>\n",
              "      <th>Begin_building</th>\n",
              "      <th>Type</th>\n",
              "      <th>Power</th>\n",
              "      <th>Owner</th>\n",
              "    </tr>\n",
              "    <tr>\n",
              "      <th>Name</th>\n",
              "      <th></th>\n",
              "      <th></th>\n",
              "      <th></th>\n",
              "      <th></th>\n",
              "    </tr>\n",
              "  </thead>\n",
              "  <tbody>\n",
              "    <tr>\n",
              "      <th>Pauzhetskaya</th>\n",
              "      <td>1962</td>\n",
              "      <td>geothermal</td>\n",
              "      <td>12</td>\n",
              "      <td>RusHydro</td>\n",
              "    </tr>\n",
              "    <tr>\n",
              "      <th>Baksan</th>\n",
              "      <td>1930</td>\n",
              "      <td>hydro</td>\n",
              "      <td>27</td>\n",
              "      <td>RusHydro</td>\n",
              "    </tr>\n",
              "    <tr>\n",
              "      <th>Boguchany</th>\n",
              "      <td>1974</td>\n",
              "      <td>hydro</td>\n",
              "      <td>2997</td>\n",
              "      <td>BGES</td>\n",
              "    </tr>\n",
              "  </tbody>\n",
              "</table>\n",
              "</div>"
            ],
            "text/plain": [
              "              Begin_building        Type  Power     Owner\n",
              "Name                                                     \n",
              "Pauzhetskaya            1962  geothermal     12  RusHydro\n",
              "Baksan                  1930       hydro     27  RusHydro\n",
              "Boguchany               1974       hydro   2997      BGES"
            ]
          },
          "metadata": {
            "tags": []
          },
          "execution_count": 234
        }
      ]
    },
    {
      "cell_type": "code",
      "metadata": {
        "id": "exJXKA2Is5DJ",
        "colab": {
          "base_uri": "https://localhost:8080/",
          "height": 483
        },
        "outputId": "76bdfe56-9363-4a1b-ecc2-87497287a653"
      },
      "source": [
        "# метод iloc[:::-1] позволяет вывести датафрейм в обратном порядке (начиная с последней строки)\n",
        "tmp_df = power_stations_df.iloc[ : : -1]\n",
        "# отображение датафрейма\n",
        "tmp_df"
      ],
      "execution_count": null,
      "outputs": [
        {
          "output_type": "execute_result",
          "data": {
            "text/html": [
              "<div>\n",
              "<style scoped>\n",
              "    .dataframe tbody tr th:only-of-type {\n",
              "        vertical-align: middle;\n",
              "    }\n",
              "\n",
              "    .dataframe tbody tr th {\n",
              "        vertical-align: top;\n",
              "    }\n",
              "\n",
              "    .dataframe thead th {\n",
              "        text-align: right;\n",
              "    }\n",
              "</style>\n",
              "<table border=\"1\" class=\"dataframe\">\n",
              "  <thead>\n",
              "    <tr style=\"text-align: right;\">\n",
              "      <th></th>\n",
              "      <th>Begin_building</th>\n",
              "      <th>Type</th>\n",
              "      <th>Power</th>\n",
              "      <th>Owner</th>\n",
              "    </tr>\n",
              "    <tr>\n",
              "      <th>Name</th>\n",
              "      <th></th>\n",
              "      <th></th>\n",
              "      <th></th>\n",
              "      <th></th>\n",
              "    </tr>\n",
              "  </thead>\n",
              "  <tbody>\n",
              "    <tr>\n",
              "      <th>Kirishskaya</th>\n",
              "      <td>1966</td>\n",
              "      <td>termal</td>\n",
              "      <td>2595</td>\n",
              "      <td>OGK-2</td>\n",
              "    </tr>\n",
              "    <tr>\n",
              "      <th>Surgut-2</th>\n",
              "      <td>1979</td>\n",
              "      <td>termal</td>\n",
              "      <td>5657</td>\n",
              "      <td>Unipro</td>\n",
              "    </tr>\n",
              "    <tr>\n",
              "      <th>Reftinskaya</th>\n",
              "      <td>1963</td>\n",
              "      <td>termal</td>\n",
              "      <td>3800</td>\n",
              "      <td>KuzEn</td>\n",
              "    </tr>\n",
              "    <tr>\n",
              "      <th>Smolenskaya</th>\n",
              "      <td>1975</td>\n",
              "      <td>nuclear</td>\n",
              "      <td>3000</td>\n",
              "      <td>REA</td>\n",
              "    </tr>\n",
              "    <tr>\n",
              "      <th>Kursakya</th>\n",
              "      <td>1971</td>\n",
              "      <td>nuclear</td>\n",
              "      <td>4000</td>\n",
              "      <td>REA</td>\n",
              "    </tr>\n",
              "    <tr>\n",
              "      <th>Leningradksaya</th>\n",
              "      <td>1967</td>\n",
              "      <td>nuclear</td>\n",
              "      <td>4188</td>\n",
              "      <td>REA</td>\n",
              "    </tr>\n",
              "    <tr>\n",
              "      <th>Ulyanovskaya</th>\n",
              "      <td>2015</td>\n",
              "      <td>wind</td>\n",
              "      <td>50</td>\n",
              "      <td>PVFRV</td>\n",
              "    </tr>\n",
              "    <tr>\n",
              "      <th>Adygeyskaya</th>\n",
              "      <td>2018</td>\n",
              "      <td>wind</td>\n",
              "      <td>150</td>\n",
              "      <td>NovaWind</td>\n",
              "    </tr>\n",
              "    <tr>\n",
              "      <th>Bratsk</th>\n",
              "      <td>1954</td>\n",
              "      <td>hydro</td>\n",
              "      <td>4500</td>\n",
              "      <td>En+</td>\n",
              "    </tr>\n",
              "    <tr>\n",
              "      <th>Boguchany</th>\n",
              "      <td>1974</td>\n",
              "      <td>hydro</td>\n",
              "      <td>2997</td>\n",
              "      <td>BGES</td>\n",
              "    </tr>\n",
              "    <tr>\n",
              "      <th>Baksan</th>\n",
              "      <td>1930</td>\n",
              "      <td>hydro</td>\n",
              "      <td>27</td>\n",
              "      <td>RusHydro</td>\n",
              "    </tr>\n",
              "    <tr>\n",
              "      <th>Pauzhetskaya</th>\n",
              "      <td>1962</td>\n",
              "      <td>geothermal</td>\n",
              "      <td>12</td>\n",
              "      <td>RusHydro</td>\n",
              "    </tr>\n",
              "    <tr>\n",
              "      <th>Mutnovskaya</th>\n",
              "      <td>1988</td>\n",
              "      <td>geothermal</td>\n",
              "      <td>50</td>\n",
              "      <td>RusHydro</td>\n",
              "    </tr>\n",
              "  </tbody>\n",
              "</table>\n",
              "</div>"
            ],
            "text/plain": [
              "                Begin_building        Type  Power     Owner\n",
              "Name                                                       \n",
              "Kirishskaya               1966      termal   2595     OGK-2\n",
              "Surgut-2                  1979      termal   5657    Unipro\n",
              "Reftinskaya               1963      termal   3800     KuzEn\n",
              "Smolenskaya               1975     nuclear   3000       REA\n",
              "Kursakya                  1971     nuclear   4000       REA\n",
              "Leningradksaya            1967     nuclear   4188       REA\n",
              "Ulyanovskaya              2015        wind     50     PVFRV\n",
              "Adygeyskaya               2018        wind    150  NovaWind\n",
              "Bratsk                    1954       hydro   4500       En+\n",
              "Boguchany                 1974       hydro   2997      BGES\n",
              "Baksan                    1930       hydro     27  RusHydro\n",
              "Pauzhetskaya              1962  geothermal     12  RusHydro\n",
              "Mutnovskaya               1988  geothermal     50  RusHydro"
            ]
          },
          "metadata": {
            "tags": []
          },
          "execution_count": 92
        }
      ]
    },
    {
      "cell_type": "code",
      "metadata": {
        "id": "LHKpbnf5s721",
        "colab": {
          "base_uri": "https://localhost:8080/",
          "height": 235
        },
        "outputId": "abaaaf3d-08f3-47a6-c8ee-a10bd423b205"
      },
      "source": [
        "# срез датафейрма методом iloc[] по строкам с шагом 2, начиная с элемента имеющего индекс 2 по элемент с индексом -2 (предпоследний)\n",
        "# включающей в себя столбцы с индексами с 1 по 3 (правые границы не включены)\n",
        "tmp_df = power_stations_df.iloc[2 : -2 : 2, 1 : 3]\n",
        "# отображение датафрейма\n",
        "tmp_df"
      ],
      "execution_count": null,
      "outputs": [
        {
          "output_type": "execute_result",
          "data": {
            "text/html": [
              "<div>\n",
              "<style scoped>\n",
              "    .dataframe tbody tr th:only-of-type {\n",
              "        vertical-align: middle;\n",
              "    }\n",
              "\n",
              "    .dataframe tbody tr th {\n",
              "        vertical-align: top;\n",
              "    }\n",
              "\n",
              "    .dataframe thead th {\n",
              "        text-align: right;\n",
              "    }\n",
              "</style>\n",
              "<table border=\"1\" class=\"dataframe\">\n",
              "  <thead>\n",
              "    <tr style=\"text-align: right;\">\n",
              "      <th></th>\n",
              "      <th>Type</th>\n",
              "      <th>Power</th>\n",
              "    </tr>\n",
              "    <tr>\n",
              "      <th>Name</th>\n",
              "      <th></th>\n",
              "      <th></th>\n",
              "    </tr>\n",
              "  </thead>\n",
              "  <tbody>\n",
              "    <tr>\n",
              "      <th>Baksan</th>\n",
              "      <td>hydro</td>\n",
              "      <td>27</td>\n",
              "    </tr>\n",
              "    <tr>\n",
              "      <th>Bratsk</th>\n",
              "      <td>hydro</td>\n",
              "      <td>4500</td>\n",
              "    </tr>\n",
              "    <tr>\n",
              "      <th>Ulyanovskaya</th>\n",
              "      <td>wind</td>\n",
              "      <td>50</td>\n",
              "    </tr>\n",
              "    <tr>\n",
              "      <th>Kursakya</th>\n",
              "      <td>nuclear</td>\n",
              "      <td>4000</td>\n",
              "    </tr>\n",
              "    <tr>\n",
              "      <th>Reftinskaya</th>\n",
              "      <td>termal</td>\n",
              "      <td>3800</td>\n",
              "    </tr>\n",
              "  </tbody>\n",
              "</table>\n",
              "</div>"
            ],
            "text/plain": [
              "                 Type  Power\n",
              "Name                        \n",
              "Baksan          hydro     27\n",
              "Bratsk          hydro   4500\n",
              "Ulyanovskaya     wind     50\n",
              "Kursakya      nuclear   4000\n",
              "Reftinskaya    termal   3800"
            ]
          },
          "metadata": {
            "tags": []
          },
          "execution_count": 93
        }
      ]
    },
    {
      "cell_type": "markdown",
      "metadata": {
        "id": "dj1KR0nRuodf"
      },
      "source": [
        "#### By condition"
      ]
    },
    {
      "cell_type": "code",
      "metadata": {
        "id": "p-FQqiLhuuCf",
        "colab": {
          "base_uri": "https://localhost:8080/"
        },
        "outputId": "69d8fd01-fa59-4530-91b9-c1a58c37b012"
      },
      "source": [
        "# конструкция формата df[df['column'] > N] позволяет выбрать только те строки из датафрейма,\n",
        "# для которых выполняется условие, что значение в столбце 'column' > N (условия могут быть различными) \n",
        "# в данном случае выводятся только те строки, у которых значения в столбце 'Power' больше 1000\n",
        "tmp_df = print(power_stations_df[power_stations_df['Power'] > 1000])\n",
        "tmp_df"
      ],
      "execution_count": null,
      "outputs": [
        {
          "output_type": "stream",
          "text": [
            "                Begin_building     Type  Power   Owner\n",
            "Name                                                  \n",
            "Boguchany                 1974    hydro   2997    BGES\n",
            "Bratsk                    1954    hydro   4500     En+\n",
            "Leningradksaya            1967  nuclear   4188     REA\n",
            "Kursakya                  1971  nuclear   4000     REA\n",
            "Smolenskaya               1975  nuclear   3000     REA\n",
            "Reftinskaya               1963   termal   3800   KuzEn\n",
            "Surgut-2                  1979   termal   5657  Unipro\n",
            "Kirishskaya               1966   termal   2595   OGK-2\n"
          ],
          "name": "stdout"
        }
      ]
    },
    {
      "cell_type": "code",
      "metadata": {
        "id": "OYE0V5ZFu4nj",
        "colab": {
          "base_uri": "https://localhost:8080/"
        },
        "outputId": "c2965ff2-f82e-4967-adaf-a56e255b998e"
      },
      "source": [
        "# условия могут быть комбинированные, в случае 'and' используется '&', а для 'or' используется '|'\n",
        "# в данном случае выводятся только те строки, у которых значения в столбце 'Power' больше 1000 и при этом 'Begin_building' меньше 1970\n",
        "tmp_df = print(power_stations_df[(power_stations_df['Power'] > 1000) & (power_stations_df['Begin_building'] < 1970)])\n",
        "tmp_df"
      ],
      "execution_count": null,
      "outputs": [
        {
          "output_type": "stream",
          "text": [
            "                Begin_building     Type  Power  Owner\n",
            "Name                                                 \n",
            "Bratsk                    1954    hydro   4500    En+\n",
            "Leningradksaya            1967  nuclear   4188    REA\n",
            "Reftinskaya               1963   termal   3800  KuzEn\n",
            "Kirishskaya               1966   termal   2595  OGK-2\n"
          ],
          "name": "stdout"
        }
      ]
    },
    {
      "cell_type": "code",
      "metadata": {
        "id": "59S3m3uvvXDp",
        "colab": {
          "base_uri": "https://localhost:8080/"
        },
        "outputId": "c1bbb9ec-888b-4c2e-d27c-d7c58eb69cec"
      },
      "source": [
        "# в данном случае выводятся строки, у которых значения в столбце 'Power' больше 1000 или 'Type' содержит значение 'wind'\n",
        "tmp_df = print(power_stations_df[(power_stations_df['Power'] > 1000) | (power_stations_df['Type'].str.contains('wind'))])\n",
        "tmp_df"
      ],
      "execution_count": null,
      "outputs": [
        {
          "output_type": "stream",
          "text": [
            "                Begin_building     Type  Power     Owner\n",
            "Name                                                    \n",
            "Boguchany                 1974    hydro   2997      BGES\n",
            "Bratsk                    1954    hydro   4500       En+\n",
            "Adygeyskaya               2018     wind    150  NovaWind\n",
            "Ulyanovskaya              2015     wind     50     PVFRV\n",
            "Leningradksaya            1967  nuclear   4188       REA\n",
            "Kursakya                  1971  nuclear   4000       REA\n",
            "Smolenskaya               1975  nuclear   3000       REA\n",
            "Reftinskaya               1963   termal   3800     KuzEn\n",
            "Surgut-2                  1979   termal   5657    Unipro\n",
            "Kirishskaya               1966   termal   2595     OGK-2\n"
          ],
          "name": "stdout"
        }
      ]
    },
    {
      "cell_type": "markdown",
      "metadata": {
        "id": "bzE3UjZJtY8I"
      },
      "source": [
        "#### Split DF "
      ]
    },
    {
      "cell_type": "code",
      "metadata": {
        "id": "iqu8gbnTthKq",
        "colab": {
          "base_uri": "https://localhost:8080/"
        },
        "outputId": "91d3070e-c845-4fe4-f4e9-31427ac22521"
      },
      "source": [
        "# разбиение одного датафрейма на два датафрейма по строкам\n",
        "\n",
        "# \"линию\" разделяющую датафрейм попалам определим используя целочисленное деление длины датафрейма на 2\n",
        "# если длина датафрейма четное число - поделятся поровну, если нечетное - то во второй части будет на одно значение больше\n",
        "split_line = len(power_stations_df.index) // 2\n",
        "\n",
        "# первая половина, включающая строки с начала датафрейма до \"линии\" и все столбцы\n",
        "df1 = power_stations_df.iloc[: split_line]\n",
        "\n",
        "# вторая половина, включающая строки начиная с \"линии\" до конца датафрейма и все столбцы\n",
        "df2 = power_stations_df.iloc[split_line :]\n",
        "\n",
        "print(df1)\n",
        "print()\n",
        "print(df2)\n",
        "\n",
        "# обратное объединение датафреймов, путем добавления к первому второго методом append\n",
        "df3 = df1.append(df2)\n",
        "print()\n",
        "print(df3)"
      ],
      "execution_count": null,
      "outputs": [
        {
          "output_type": "stream",
          "text": [
            "              Begin_building        Type  Power     Owner\n",
            "Name                                                     \n",
            "Mutnovskaya             1988  geothermal     50  RusHydro\n",
            "Pauzhetskaya            1962  geothermal     12  RusHydro\n",
            "Baksan                  1930       hydro     27  RusHydro\n",
            "Boguchany               1974       hydro   2997      BGES\n",
            "Bratsk                  1954       hydro   4500       En+\n",
            "Adygeyskaya             2018        wind    150  NovaWind\n",
            "\n",
            "                Begin_building     Type  Power   Owner\n",
            "Name                                                  \n",
            "Ulyanovskaya              2015     wind     50   PVFRV\n",
            "Leningradksaya            1967  nuclear   4188     REA\n",
            "Kursakya                  1971  nuclear   4000     REA\n",
            "Smolenskaya               1975  nuclear   3000     REA\n",
            "Reftinskaya               1963   termal   3800   KuzEn\n",
            "Surgut-2                  1979   termal   5657  Unipro\n",
            "Kirishskaya               1966   termal   2595   OGK-2\n",
            "\n",
            "                Begin_building        Type  Power     Owner\n",
            "Name                                                       \n",
            "Mutnovskaya               1988  geothermal     50  RusHydro\n",
            "Pauzhetskaya              1962  geothermal     12  RusHydro\n",
            "Baksan                    1930       hydro     27  RusHydro\n",
            "Boguchany                 1974       hydro   2997      BGES\n",
            "Bratsk                    1954       hydro   4500       En+\n",
            "Adygeyskaya               2018        wind    150  NovaWind\n",
            "Ulyanovskaya              2015        wind     50     PVFRV\n",
            "Leningradksaya            1967     nuclear   4188       REA\n",
            "Kursakya                  1971     nuclear   4000       REA\n",
            "Smolenskaya               1975     nuclear   3000       REA\n",
            "Reftinskaya               1963      termal   3800     KuzEn\n",
            "Surgut-2                  1979      termal   5657    Unipro\n",
            "Kirishskaya               1966      termal   2595     OGK-2\n"
          ],
          "name": "stdout"
        }
      ]
    },
    {
      "cell_type": "code",
      "metadata": {
        "id": "KvFsH2UGuXLI",
        "colab": {
          "base_uri": "https://localhost:8080/"
        },
        "outputId": "e33f73cd-615a-4c6e-d26c-d06279700943"
      },
      "source": [
        "# разбиение одного датафрейма на два датафрейма по столбцам\n",
        "\n",
        "# \"линию\" разделяющую датафрейм попалам определим используя целочисленное деление количества столбцов на 2\n",
        "# если кол-во столбцов четное число - поделятся поровну, если нечетное - то во второй части будет на одно значение больше\n",
        "split_line = len(power_stations_df.columns) // 2\n",
        "\n",
        "# первая половина, включает в себя все строки и столбцы имеющие индексы до \"линии\"\n",
        "df1 = power_stations_df.iloc[:, : split_line]\n",
        "# вторая половина, включает в себя все строки и столбцы имеющие индексы после \"линии\"\n",
        "df2 = power_stations_df.iloc[:, split_line :]\n",
        "\n",
        "print(df1)\n",
        "print()\n",
        "print(df2)\n",
        "\n",
        "\n",
        "# обратное объединение датафреймов, путем добавления к первому второго методом join\n",
        "df3 = df1.join(df2)\n",
        "print()\n",
        "print(df3)"
      ],
      "execution_count": null,
      "outputs": [
        {
          "output_type": "stream",
          "text": [
            "                Begin_building        Type\n",
            "Name                                      \n",
            "Mutnovskaya               1988  geothermal\n",
            "Pauzhetskaya              1962  geothermal\n",
            "Baksan                    1930       hydro\n",
            "Boguchany                 1974       hydro\n",
            "Bratsk                    1954       hydro\n",
            "Adygeyskaya               2018        wind\n",
            "Ulyanovskaya              2015        wind\n",
            "Leningradksaya            1967     nuclear\n",
            "Kursakya                  1971     nuclear\n",
            "Smolenskaya               1975     nuclear\n",
            "Reftinskaya               1963      termal\n",
            "Surgut-2                  1979      termal\n",
            "Kirishskaya               1966      termal\n",
            "\n",
            "                Power     Owner\n",
            "Name                           \n",
            "Mutnovskaya        50  RusHydro\n",
            "Pauzhetskaya       12  RusHydro\n",
            "Baksan             27  RusHydro\n",
            "Boguchany        2997      BGES\n",
            "Bratsk           4500       En+\n",
            "Adygeyskaya       150  NovaWind\n",
            "Ulyanovskaya       50     PVFRV\n",
            "Leningradksaya   4188       REA\n",
            "Kursakya         4000       REA\n",
            "Smolenskaya      3000       REA\n",
            "Reftinskaya      3800     KuzEn\n",
            "Surgut-2         5657    Unipro\n",
            "Kirishskaya      2595     OGK-2\n",
            "\n",
            "                Begin_building        Type  Power     Owner\n",
            "Name                                                       \n",
            "Mutnovskaya               1988  geothermal     50  RusHydro\n",
            "Pauzhetskaya              1962  geothermal     12  RusHydro\n",
            "Baksan                    1930       hydro     27  RusHydro\n",
            "Boguchany                 1974       hydro   2997      BGES\n",
            "Bratsk                    1954       hydro   4500       En+\n",
            "Adygeyskaya               2018        wind    150  NovaWind\n",
            "Ulyanovskaya              2015        wind     50     PVFRV\n",
            "Leningradksaya            1967     nuclear   4188       REA\n",
            "Kursakya                  1971     nuclear   4000       REA\n",
            "Smolenskaya               1975     nuclear   3000       REA\n",
            "Reftinskaya               1963      termal   3800     KuzEn\n",
            "Surgut-2                  1979      termal   5657    Unipro\n",
            "Kirishskaya               1966      termal   2595     OGK-2\n"
          ],
          "name": "stdout"
        }
      ]
    },
    {
      "cell_type": "markdown",
      "metadata": {
        "id": "cYaeoT9k-AfZ"
      },
      "source": [
        "### Calculation"
      ]
    },
    {
      "cell_type": "code",
      "metadata": {
        "id": "MajaiE3H99gN",
        "colab": {
          "base_uri": "https://localhost:8080/",
          "height": 483
        },
        "outputId": "98674b19-a696-4041-944d-a794282230e7"
      },
      "source": [
        "# импорт библиотеки для работы с датами\n",
        "import datetime\n",
        "\n",
        "# создание переменной now в которой хранится текущая дата\n",
        "now = datetime.datetime.now()\n",
        "\n",
        "# создание нового датафрейма, путем копирования исходного\n",
        "power_stations_df_extend = power_stations_df.copy()\n",
        "\n",
        "# добавление нового столбца 'Age', значения в котором равняются разнице между текущим годом и годом постройки\n",
        "power_stations_df_extend['Age'] = now.year - power_stations_df['Begin_building']\n",
        "# отображение датафрейма\n",
        "power_stations_df_extend"
      ],
      "execution_count": null,
      "outputs": [
        {
          "output_type": "execute_result",
          "data": {
            "text/html": [
              "<div>\n",
              "<style scoped>\n",
              "    .dataframe tbody tr th:only-of-type {\n",
              "        vertical-align: middle;\n",
              "    }\n",
              "\n",
              "    .dataframe tbody tr th {\n",
              "        vertical-align: top;\n",
              "    }\n",
              "\n",
              "    .dataframe thead th {\n",
              "        text-align: right;\n",
              "    }\n",
              "</style>\n",
              "<table border=\"1\" class=\"dataframe\">\n",
              "  <thead>\n",
              "    <tr style=\"text-align: right;\">\n",
              "      <th></th>\n",
              "      <th>Begin_building</th>\n",
              "      <th>Type</th>\n",
              "      <th>Power</th>\n",
              "      <th>Owner</th>\n",
              "      <th>Age</th>\n",
              "    </tr>\n",
              "    <tr>\n",
              "      <th>Name</th>\n",
              "      <th></th>\n",
              "      <th></th>\n",
              "      <th></th>\n",
              "      <th></th>\n",
              "      <th></th>\n",
              "    </tr>\n",
              "  </thead>\n",
              "  <tbody>\n",
              "    <tr>\n",
              "      <th>Mutnovskaya</th>\n",
              "      <td>1988</td>\n",
              "      <td>geothermal</td>\n",
              "      <td>50</td>\n",
              "      <td>RusHydro</td>\n",
              "      <td>33</td>\n",
              "    </tr>\n",
              "    <tr>\n",
              "      <th>Pauzhetskaya</th>\n",
              "      <td>1962</td>\n",
              "      <td>geothermal</td>\n",
              "      <td>12</td>\n",
              "      <td>RusHydro</td>\n",
              "      <td>59</td>\n",
              "    </tr>\n",
              "    <tr>\n",
              "      <th>Baksan</th>\n",
              "      <td>1930</td>\n",
              "      <td>hydro</td>\n",
              "      <td>27</td>\n",
              "      <td>RusHydro</td>\n",
              "      <td>91</td>\n",
              "    </tr>\n",
              "    <tr>\n",
              "      <th>Boguchany</th>\n",
              "      <td>1974</td>\n",
              "      <td>hydro</td>\n",
              "      <td>2997</td>\n",
              "      <td>BGES</td>\n",
              "      <td>47</td>\n",
              "    </tr>\n",
              "    <tr>\n",
              "      <th>Bratsk</th>\n",
              "      <td>1954</td>\n",
              "      <td>hydro</td>\n",
              "      <td>4500</td>\n",
              "      <td>En+</td>\n",
              "      <td>67</td>\n",
              "    </tr>\n",
              "    <tr>\n",
              "      <th>Adygeyskaya</th>\n",
              "      <td>2018</td>\n",
              "      <td>wind</td>\n",
              "      <td>150</td>\n",
              "      <td>NovaWind</td>\n",
              "      <td>3</td>\n",
              "    </tr>\n",
              "    <tr>\n",
              "      <th>Ulyanovskaya</th>\n",
              "      <td>2015</td>\n",
              "      <td>wind</td>\n",
              "      <td>50</td>\n",
              "      <td>PVFRV</td>\n",
              "      <td>6</td>\n",
              "    </tr>\n",
              "    <tr>\n",
              "      <th>Leningradksaya</th>\n",
              "      <td>1967</td>\n",
              "      <td>nuclear</td>\n",
              "      <td>4188</td>\n",
              "      <td>REA</td>\n",
              "      <td>54</td>\n",
              "    </tr>\n",
              "    <tr>\n",
              "      <th>Kursakya</th>\n",
              "      <td>1971</td>\n",
              "      <td>nuclear</td>\n",
              "      <td>4000</td>\n",
              "      <td>REA</td>\n",
              "      <td>50</td>\n",
              "    </tr>\n",
              "    <tr>\n",
              "      <th>Smolenskaya</th>\n",
              "      <td>1975</td>\n",
              "      <td>nuclear</td>\n",
              "      <td>3000</td>\n",
              "      <td>REA</td>\n",
              "      <td>46</td>\n",
              "    </tr>\n",
              "    <tr>\n",
              "      <th>Reftinskaya</th>\n",
              "      <td>1963</td>\n",
              "      <td>termal</td>\n",
              "      <td>3800</td>\n",
              "      <td>KuzEn</td>\n",
              "      <td>58</td>\n",
              "    </tr>\n",
              "    <tr>\n",
              "      <th>Surgut-2</th>\n",
              "      <td>1979</td>\n",
              "      <td>termal</td>\n",
              "      <td>5657</td>\n",
              "      <td>Unipro</td>\n",
              "      <td>42</td>\n",
              "    </tr>\n",
              "    <tr>\n",
              "      <th>Kirishskaya</th>\n",
              "      <td>1966</td>\n",
              "      <td>termal</td>\n",
              "      <td>2595</td>\n",
              "      <td>OGK-2</td>\n",
              "      <td>55</td>\n",
              "    </tr>\n",
              "  </tbody>\n",
              "</table>\n",
              "</div>"
            ],
            "text/plain": [
              "                Begin_building        Type  Power     Owner  Age\n",
              "Name                                                            \n",
              "Mutnovskaya               1988  geothermal     50  RusHydro   33\n",
              "Pauzhetskaya              1962  geothermal     12  RusHydro   59\n",
              "Baksan                    1930       hydro     27  RusHydro   91\n",
              "Boguchany                 1974       hydro   2997      BGES   47\n",
              "Bratsk                    1954       hydro   4500       En+   67\n",
              "Adygeyskaya               2018        wind    150  NovaWind    3\n",
              "Ulyanovskaya              2015        wind     50     PVFRV    6\n",
              "Leningradksaya            1967     nuclear   4188       REA   54\n",
              "Kursakya                  1971     nuclear   4000       REA   50\n",
              "Smolenskaya               1975     nuclear   3000       REA   46\n",
              "Reftinskaya               1963      termal   3800     KuzEn   58\n",
              "Surgut-2                  1979      termal   5657    Unipro   42\n",
              "Kirishskaya               1966      termal   2595     OGK-2   55"
            ]
          },
          "metadata": {
            "tags": []
          },
          "execution_count": 97
        }
      ]
    },
    {
      "cell_type": "code",
      "metadata": {
        "id": "_FUiOiJhw_jG",
        "colab": {
          "base_uri": "https://localhost:8080/",
          "height": 483
        },
        "outputId": "1a185d8f-e487-440c-828f-cbf8730360c3"
      },
      "source": [
        "# проверка правильности расчёта даты и возраста станций\n",
        "# добавление столбца 'Test' значения в котором равны сумме значений столбцов 'Begin_building' и 'Age' - они должны быть равны текущему году\n",
        "power_stations_df_extend['Test'] = power_stations_df_extend['Begin_building'] + power_stations_df_extend['Age']\n",
        "# отображение датафрейма\n",
        "power_stations_df_extend"
      ],
      "execution_count": null,
      "outputs": [
        {
          "output_type": "execute_result",
          "data": {
            "text/html": [
              "<div>\n",
              "<style scoped>\n",
              "    .dataframe tbody tr th:only-of-type {\n",
              "        vertical-align: middle;\n",
              "    }\n",
              "\n",
              "    .dataframe tbody tr th {\n",
              "        vertical-align: top;\n",
              "    }\n",
              "\n",
              "    .dataframe thead th {\n",
              "        text-align: right;\n",
              "    }\n",
              "</style>\n",
              "<table border=\"1\" class=\"dataframe\">\n",
              "  <thead>\n",
              "    <tr style=\"text-align: right;\">\n",
              "      <th></th>\n",
              "      <th>Begin_building</th>\n",
              "      <th>Type</th>\n",
              "      <th>Power</th>\n",
              "      <th>Owner</th>\n",
              "      <th>Age</th>\n",
              "      <th>Test</th>\n",
              "    </tr>\n",
              "    <tr>\n",
              "      <th>Name</th>\n",
              "      <th></th>\n",
              "      <th></th>\n",
              "      <th></th>\n",
              "      <th></th>\n",
              "      <th></th>\n",
              "      <th></th>\n",
              "    </tr>\n",
              "  </thead>\n",
              "  <tbody>\n",
              "    <tr>\n",
              "      <th>Mutnovskaya</th>\n",
              "      <td>1988</td>\n",
              "      <td>geothermal</td>\n",
              "      <td>50</td>\n",
              "      <td>RusHydro</td>\n",
              "      <td>33</td>\n",
              "      <td>2021</td>\n",
              "    </tr>\n",
              "    <tr>\n",
              "      <th>Pauzhetskaya</th>\n",
              "      <td>1962</td>\n",
              "      <td>geothermal</td>\n",
              "      <td>12</td>\n",
              "      <td>RusHydro</td>\n",
              "      <td>59</td>\n",
              "      <td>2021</td>\n",
              "    </tr>\n",
              "    <tr>\n",
              "      <th>Baksan</th>\n",
              "      <td>1930</td>\n",
              "      <td>hydro</td>\n",
              "      <td>27</td>\n",
              "      <td>RusHydro</td>\n",
              "      <td>91</td>\n",
              "      <td>2021</td>\n",
              "    </tr>\n",
              "    <tr>\n",
              "      <th>Boguchany</th>\n",
              "      <td>1974</td>\n",
              "      <td>hydro</td>\n",
              "      <td>2997</td>\n",
              "      <td>BGES</td>\n",
              "      <td>47</td>\n",
              "      <td>2021</td>\n",
              "    </tr>\n",
              "    <tr>\n",
              "      <th>Bratsk</th>\n",
              "      <td>1954</td>\n",
              "      <td>hydro</td>\n",
              "      <td>4500</td>\n",
              "      <td>En+</td>\n",
              "      <td>67</td>\n",
              "      <td>2021</td>\n",
              "    </tr>\n",
              "    <tr>\n",
              "      <th>Adygeyskaya</th>\n",
              "      <td>2018</td>\n",
              "      <td>wind</td>\n",
              "      <td>150</td>\n",
              "      <td>NovaWind</td>\n",
              "      <td>3</td>\n",
              "      <td>2021</td>\n",
              "    </tr>\n",
              "    <tr>\n",
              "      <th>Ulyanovskaya</th>\n",
              "      <td>2015</td>\n",
              "      <td>wind</td>\n",
              "      <td>50</td>\n",
              "      <td>PVFRV</td>\n",
              "      <td>6</td>\n",
              "      <td>2021</td>\n",
              "    </tr>\n",
              "    <tr>\n",
              "      <th>Leningradksaya</th>\n",
              "      <td>1967</td>\n",
              "      <td>nuclear</td>\n",
              "      <td>4188</td>\n",
              "      <td>REA</td>\n",
              "      <td>54</td>\n",
              "      <td>2021</td>\n",
              "    </tr>\n",
              "    <tr>\n",
              "      <th>Kursakya</th>\n",
              "      <td>1971</td>\n",
              "      <td>nuclear</td>\n",
              "      <td>4000</td>\n",
              "      <td>REA</td>\n",
              "      <td>50</td>\n",
              "      <td>2021</td>\n",
              "    </tr>\n",
              "    <tr>\n",
              "      <th>Smolenskaya</th>\n",
              "      <td>1975</td>\n",
              "      <td>nuclear</td>\n",
              "      <td>3000</td>\n",
              "      <td>REA</td>\n",
              "      <td>46</td>\n",
              "      <td>2021</td>\n",
              "    </tr>\n",
              "    <tr>\n",
              "      <th>Reftinskaya</th>\n",
              "      <td>1963</td>\n",
              "      <td>termal</td>\n",
              "      <td>3800</td>\n",
              "      <td>KuzEn</td>\n",
              "      <td>58</td>\n",
              "      <td>2021</td>\n",
              "    </tr>\n",
              "    <tr>\n",
              "      <th>Surgut-2</th>\n",
              "      <td>1979</td>\n",
              "      <td>termal</td>\n",
              "      <td>5657</td>\n",
              "      <td>Unipro</td>\n",
              "      <td>42</td>\n",
              "      <td>2021</td>\n",
              "    </tr>\n",
              "    <tr>\n",
              "      <th>Kirishskaya</th>\n",
              "      <td>1966</td>\n",
              "      <td>termal</td>\n",
              "      <td>2595</td>\n",
              "      <td>OGK-2</td>\n",
              "      <td>55</td>\n",
              "      <td>2021</td>\n",
              "    </tr>\n",
              "  </tbody>\n",
              "</table>\n",
              "</div>"
            ],
            "text/plain": [
              "                Begin_building        Type  Power     Owner  Age  Test\n",
              "Name                                                                  \n",
              "Mutnovskaya               1988  geothermal     50  RusHydro   33  2021\n",
              "Pauzhetskaya              1962  geothermal     12  RusHydro   59  2021\n",
              "Baksan                    1930       hydro     27  RusHydro   91  2021\n",
              "Boguchany                 1974       hydro   2997      BGES   47  2021\n",
              "Bratsk                    1954       hydro   4500       En+   67  2021\n",
              "Adygeyskaya               2018        wind    150  NovaWind    3  2021\n",
              "Ulyanovskaya              2015        wind     50     PVFRV    6  2021\n",
              "Leningradksaya            1967     nuclear   4188       REA   54  2021\n",
              "Kursakya                  1971     nuclear   4000       REA   50  2021\n",
              "Smolenskaya               1975     nuclear   3000       REA   46  2021\n",
              "Reftinskaya               1963      termal   3800     KuzEn   58  2021\n",
              "Surgut-2                  1979      termal   5657    Unipro   42  2021\n",
              "Kirishskaya               1966      termal   2595     OGK-2   55  2021"
            ]
          },
          "metadata": {
            "tags": []
          },
          "execution_count": 98
        }
      ]
    },
    {
      "cell_type": "code",
      "metadata": {
        "id": "AUbsidekxI1T",
        "colab": {
          "base_uri": "https://localhost:8080/",
          "height": 483
        },
        "outputId": "15e82c24-fa28-4c6f-eb40-d46f868caa4b"
      },
      "source": [
        "# расчёт максимальной суточной генерации\n",
        "# изначально задаёмся переменной - количесто часов в сутках (24)\n",
        "HOURS_PER_DAY = 24\n",
        "# добавление нового столбца \"Max_daily_generation\", значения в котором равняются произведению значений в столбце \"Power\" и переменной HOURS_PER_DAY\n",
        "power_stations_df_extend['Max_daily_generation'] = power_stations_df_extend['Power'] * HOURS_PER_DAY\n",
        "# отображение датафрейма\n",
        "power_stations_df_extend"
      ],
      "execution_count": null,
      "outputs": [
        {
          "output_type": "execute_result",
          "data": {
            "text/html": [
              "<div>\n",
              "<style scoped>\n",
              "    .dataframe tbody tr th:only-of-type {\n",
              "        vertical-align: middle;\n",
              "    }\n",
              "\n",
              "    .dataframe tbody tr th {\n",
              "        vertical-align: top;\n",
              "    }\n",
              "\n",
              "    .dataframe thead th {\n",
              "        text-align: right;\n",
              "    }\n",
              "</style>\n",
              "<table border=\"1\" class=\"dataframe\">\n",
              "  <thead>\n",
              "    <tr style=\"text-align: right;\">\n",
              "      <th></th>\n",
              "      <th>Begin_building</th>\n",
              "      <th>Type</th>\n",
              "      <th>Power</th>\n",
              "      <th>Owner</th>\n",
              "      <th>Age</th>\n",
              "      <th>Test</th>\n",
              "      <th>Max_daily_generation</th>\n",
              "    </tr>\n",
              "    <tr>\n",
              "      <th>Name</th>\n",
              "      <th></th>\n",
              "      <th></th>\n",
              "      <th></th>\n",
              "      <th></th>\n",
              "      <th></th>\n",
              "      <th></th>\n",
              "      <th></th>\n",
              "    </tr>\n",
              "  </thead>\n",
              "  <tbody>\n",
              "    <tr>\n",
              "      <th>Mutnovskaya</th>\n",
              "      <td>1988</td>\n",
              "      <td>geothermal</td>\n",
              "      <td>50</td>\n",
              "      <td>RusHydro</td>\n",
              "      <td>33</td>\n",
              "      <td>2021</td>\n",
              "      <td>1200</td>\n",
              "    </tr>\n",
              "    <tr>\n",
              "      <th>Pauzhetskaya</th>\n",
              "      <td>1962</td>\n",
              "      <td>geothermal</td>\n",
              "      <td>12</td>\n",
              "      <td>RusHydro</td>\n",
              "      <td>59</td>\n",
              "      <td>2021</td>\n",
              "      <td>288</td>\n",
              "    </tr>\n",
              "    <tr>\n",
              "      <th>Baksan</th>\n",
              "      <td>1930</td>\n",
              "      <td>hydro</td>\n",
              "      <td>27</td>\n",
              "      <td>RusHydro</td>\n",
              "      <td>91</td>\n",
              "      <td>2021</td>\n",
              "      <td>648</td>\n",
              "    </tr>\n",
              "    <tr>\n",
              "      <th>Boguchany</th>\n",
              "      <td>1974</td>\n",
              "      <td>hydro</td>\n",
              "      <td>2997</td>\n",
              "      <td>BGES</td>\n",
              "      <td>47</td>\n",
              "      <td>2021</td>\n",
              "      <td>71928</td>\n",
              "    </tr>\n",
              "    <tr>\n",
              "      <th>Bratsk</th>\n",
              "      <td>1954</td>\n",
              "      <td>hydro</td>\n",
              "      <td>4500</td>\n",
              "      <td>En+</td>\n",
              "      <td>67</td>\n",
              "      <td>2021</td>\n",
              "      <td>108000</td>\n",
              "    </tr>\n",
              "    <tr>\n",
              "      <th>Adygeyskaya</th>\n",
              "      <td>2018</td>\n",
              "      <td>wind</td>\n",
              "      <td>150</td>\n",
              "      <td>NovaWind</td>\n",
              "      <td>3</td>\n",
              "      <td>2021</td>\n",
              "      <td>3600</td>\n",
              "    </tr>\n",
              "    <tr>\n",
              "      <th>Ulyanovskaya</th>\n",
              "      <td>2015</td>\n",
              "      <td>wind</td>\n",
              "      <td>50</td>\n",
              "      <td>PVFRV</td>\n",
              "      <td>6</td>\n",
              "      <td>2021</td>\n",
              "      <td>1200</td>\n",
              "    </tr>\n",
              "    <tr>\n",
              "      <th>Leningradksaya</th>\n",
              "      <td>1967</td>\n",
              "      <td>nuclear</td>\n",
              "      <td>4188</td>\n",
              "      <td>REA</td>\n",
              "      <td>54</td>\n",
              "      <td>2021</td>\n",
              "      <td>100512</td>\n",
              "    </tr>\n",
              "    <tr>\n",
              "      <th>Kursakya</th>\n",
              "      <td>1971</td>\n",
              "      <td>nuclear</td>\n",
              "      <td>4000</td>\n",
              "      <td>REA</td>\n",
              "      <td>50</td>\n",
              "      <td>2021</td>\n",
              "      <td>96000</td>\n",
              "    </tr>\n",
              "    <tr>\n",
              "      <th>Smolenskaya</th>\n",
              "      <td>1975</td>\n",
              "      <td>nuclear</td>\n",
              "      <td>3000</td>\n",
              "      <td>REA</td>\n",
              "      <td>46</td>\n",
              "      <td>2021</td>\n",
              "      <td>72000</td>\n",
              "    </tr>\n",
              "    <tr>\n",
              "      <th>Reftinskaya</th>\n",
              "      <td>1963</td>\n",
              "      <td>termal</td>\n",
              "      <td>3800</td>\n",
              "      <td>KuzEn</td>\n",
              "      <td>58</td>\n",
              "      <td>2021</td>\n",
              "      <td>91200</td>\n",
              "    </tr>\n",
              "    <tr>\n",
              "      <th>Surgut-2</th>\n",
              "      <td>1979</td>\n",
              "      <td>termal</td>\n",
              "      <td>5657</td>\n",
              "      <td>Unipro</td>\n",
              "      <td>42</td>\n",
              "      <td>2021</td>\n",
              "      <td>135768</td>\n",
              "    </tr>\n",
              "    <tr>\n",
              "      <th>Kirishskaya</th>\n",
              "      <td>1966</td>\n",
              "      <td>termal</td>\n",
              "      <td>2595</td>\n",
              "      <td>OGK-2</td>\n",
              "      <td>55</td>\n",
              "      <td>2021</td>\n",
              "      <td>62280</td>\n",
              "    </tr>\n",
              "  </tbody>\n",
              "</table>\n",
              "</div>"
            ],
            "text/plain": [
              "                Begin_building        Type  ...  Test Max_daily_generation\n",
              "Name                                        ...                           \n",
              "Mutnovskaya               1988  geothermal  ...  2021                 1200\n",
              "Pauzhetskaya              1962  geothermal  ...  2021                  288\n",
              "Baksan                    1930       hydro  ...  2021                  648\n",
              "Boguchany                 1974       hydro  ...  2021                71928\n",
              "Bratsk                    1954       hydro  ...  2021               108000\n",
              "Adygeyskaya               2018        wind  ...  2021                 3600\n",
              "Ulyanovskaya              2015        wind  ...  2021                 1200\n",
              "Leningradksaya            1967     nuclear  ...  2021               100512\n",
              "Kursakya                  1971     nuclear  ...  2021                96000\n",
              "Smolenskaya               1975     nuclear  ...  2021                72000\n",
              "Reftinskaya               1963      termal  ...  2021                91200\n",
              "Surgut-2                  1979      termal  ...  2021               135768\n",
              "Kirishskaya               1966      termal  ...  2021                62280\n",
              "\n",
              "[13 rows x 7 columns]"
            ]
          },
          "metadata": {
            "tags": []
          },
          "execution_count": 99
        }
      ]
    },
    {
      "cell_type": "code",
      "metadata": {
        "id": "C2ZRTGSVxwER",
        "colab": {
          "base_uri": "https://localhost:8080/",
          "height": 483
        },
        "outputId": "b4f8250d-b9c7-43f1-9933-e461cd023cbb"
      },
      "source": [
        "# удаление столбцов методом drop, с параметрами где указывается список названий столбцов, которые необходимо удалить,\n",
        "# а также 'axis = 1' (1 - если необходимо удалить столбцы, 0 - если строки) \n",
        "power_stations_df = power_stations_df_extend.drop(['Age', 'Test', 'Max_daily_generation'], axis = 1)\n",
        "# отображение датафрейма\n",
        "power_stations_df"
      ],
      "execution_count": null,
      "outputs": [
        {
          "output_type": "execute_result",
          "data": {
            "text/html": [
              "<div>\n",
              "<style scoped>\n",
              "    .dataframe tbody tr th:only-of-type {\n",
              "        vertical-align: middle;\n",
              "    }\n",
              "\n",
              "    .dataframe tbody tr th {\n",
              "        vertical-align: top;\n",
              "    }\n",
              "\n",
              "    .dataframe thead th {\n",
              "        text-align: right;\n",
              "    }\n",
              "</style>\n",
              "<table border=\"1\" class=\"dataframe\">\n",
              "  <thead>\n",
              "    <tr style=\"text-align: right;\">\n",
              "      <th></th>\n",
              "      <th>Begin_building</th>\n",
              "      <th>Type</th>\n",
              "      <th>Power</th>\n",
              "      <th>Owner</th>\n",
              "    </tr>\n",
              "    <tr>\n",
              "      <th>Name</th>\n",
              "      <th></th>\n",
              "      <th></th>\n",
              "      <th></th>\n",
              "      <th></th>\n",
              "    </tr>\n",
              "  </thead>\n",
              "  <tbody>\n",
              "    <tr>\n",
              "      <th>Mutnovskaya</th>\n",
              "      <td>1988</td>\n",
              "      <td>geothermal</td>\n",
              "      <td>50</td>\n",
              "      <td>RusHydro</td>\n",
              "    </tr>\n",
              "    <tr>\n",
              "      <th>Pauzhetskaya</th>\n",
              "      <td>1962</td>\n",
              "      <td>geothermal</td>\n",
              "      <td>12</td>\n",
              "      <td>RusHydro</td>\n",
              "    </tr>\n",
              "    <tr>\n",
              "      <th>Baksan</th>\n",
              "      <td>1930</td>\n",
              "      <td>hydro</td>\n",
              "      <td>27</td>\n",
              "      <td>RusHydro</td>\n",
              "    </tr>\n",
              "    <tr>\n",
              "      <th>Boguchany</th>\n",
              "      <td>1974</td>\n",
              "      <td>hydro</td>\n",
              "      <td>2997</td>\n",
              "      <td>BGES</td>\n",
              "    </tr>\n",
              "    <tr>\n",
              "      <th>Bratsk</th>\n",
              "      <td>1954</td>\n",
              "      <td>hydro</td>\n",
              "      <td>4500</td>\n",
              "      <td>En+</td>\n",
              "    </tr>\n",
              "    <tr>\n",
              "      <th>Adygeyskaya</th>\n",
              "      <td>2018</td>\n",
              "      <td>wind</td>\n",
              "      <td>150</td>\n",
              "      <td>NovaWind</td>\n",
              "    </tr>\n",
              "    <tr>\n",
              "      <th>Ulyanovskaya</th>\n",
              "      <td>2015</td>\n",
              "      <td>wind</td>\n",
              "      <td>50</td>\n",
              "      <td>PVFRV</td>\n",
              "    </tr>\n",
              "    <tr>\n",
              "      <th>Leningradksaya</th>\n",
              "      <td>1967</td>\n",
              "      <td>nuclear</td>\n",
              "      <td>4188</td>\n",
              "      <td>REA</td>\n",
              "    </tr>\n",
              "    <tr>\n",
              "      <th>Kursakya</th>\n",
              "      <td>1971</td>\n",
              "      <td>nuclear</td>\n",
              "      <td>4000</td>\n",
              "      <td>REA</td>\n",
              "    </tr>\n",
              "    <tr>\n",
              "      <th>Smolenskaya</th>\n",
              "      <td>1975</td>\n",
              "      <td>nuclear</td>\n",
              "      <td>3000</td>\n",
              "      <td>REA</td>\n",
              "    </tr>\n",
              "    <tr>\n",
              "      <th>Reftinskaya</th>\n",
              "      <td>1963</td>\n",
              "      <td>termal</td>\n",
              "      <td>3800</td>\n",
              "      <td>KuzEn</td>\n",
              "    </tr>\n",
              "    <tr>\n",
              "      <th>Surgut-2</th>\n",
              "      <td>1979</td>\n",
              "      <td>termal</td>\n",
              "      <td>5657</td>\n",
              "      <td>Unipro</td>\n",
              "    </tr>\n",
              "    <tr>\n",
              "      <th>Kirishskaya</th>\n",
              "      <td>1966</td>\n",
              "      <td>termal</td>\n",
              "      <td>2595</td>\n",
              "      <td>OGK-2</td>\n",
              "    </tr>\n",
              "  </tbody>\n",
              "</table>\n",
              "</div>"
            ],
            "text/plain": [
              "                Begin_building        Type  Power     Owner\n",
              "Name                                                       \n",
              "Mutnovskaya               1988  geothermal     50  RusHydro\n",
              "Pauzhetskaya              1962  geothermal     12  RusHydro\n",
              "Baksan                    1930       hydro     27  RusHydro\n",
              "Boguchany                 1974       hydro   2997      BGES\n",
              "Bratsk                    1954       hydro   4500       En+\n",
              "Adygeyskaya               2018        wind    150  NovaWind\n",
              "Ulyanovskaya              2015        wind     50     PVFRV\n",
              "Leningradksaya            1967     nuclear   4188       REA\n",
              "Kursakya                  1971     nuclear   4000       REA\n",
              "Smolenskaya               1975     nuclear   3000       REA\n",
              "Reftinskaya               1963      termal   3800     KuzEn\n",
              "Surgut-2                  1979      termal   5657    Unipro\n",
              "Kirishskaya               1966      termal   2595     OGK-2"
            ]
          },
          "metadata": {
            "tags": []
          },
          "execution_count": 100
        }
      ]
    },
    {
      "cell_type": "code",
      "metadata": {
        "id": "sksV0Xzgytch",
        "colab": {
          "base_uri": "https://localhost:8080/",
          "height": 483
        },
        "outputId": "19ed6388-0dea-4c63-cace-8e4c69a66050"
      },
      "source": [
        "# добавление нового столбца 'Renewable' используя метод np.where\n",
        "# по условию, если значение в столбце 'Type' содержит 'wind' то, значение в столбце  'Renewable' равняется 'wind'\n",
        "# если значение в столбце 'Type' содержит 'hydro' то, значение в столбце  'Renewable' равняется 'hydro'\n",
        "# если не выполняются эти два условия, то значение в столбце 'Renewable' равняется 'no'\n",
        "tmp_df = power_stations_df.copy()\n",
        "tmp_df['Renewable'] = np.where(power_stations_df['Type'].str.find('wind') >= 0, 'wind', np.where(power_stations_df['Type'].str.find('hydro') >= 0, 'hydro', 'no'))\n",
        "# отображение датафрейма\n",
        "tmp_df"
      ],
      "execution_count": null,
      "outputs": [
        {
          "output_type": "execute_result",
          "data": {
            "text/html": [
              "<div>\n",
              "<style scoped>\n",
              "    .dataframe tbody tr th:only-of-type {\n",
              "        vertical-align: middle;\n",
              "    }\n",
              "\n",
              "    .dataframe tbody tr th {\n",
              "        vertical-align: top;\n",
              "    }\n",
              "\n",
              "    .dataframe thead th {\n",
              "        text-align: right;\n",
              "    }\n",
              "</style>\n",
              "<table border=\"1\" class=\"dataframe\">\n",
              "  <thead>\n",
              "    <tr style=\"text-align: right;\">\n",
              "      <th></th>\n",
              "      <th>Begin_building</th>\n",
              "      <th>Type</th>\n",
              "      <th>Power</th>\n",
              "      <th>Owner</th>\n",
              "      <th>Renewable</th>\n",
              "    </tr>\n",
              "    <tr>\n",
              "      <th>Name</th>\n",
              "      <th></th>\n",
              "      <th></th>\n",
              "      <th></th>\n",
              "      <th></th>\n",
              "      <th></th>\n",
              "    </tr>\n",
              "  </thead>\n",
              "  <tbody>\n",
              "    <tr>\n",
              "      <th>Mutnovskaya</th>\n",
              "      <td>1988</td>\n",
              "      <td>geothermal</td>\n",
              "      <td>50</td>\n",
              "      <td>RusHydro</td>\n",
              "      <td>no</td>\n",
              "    </tr>\n",
              "    <tr>\n",
              "      <th>Pauzhetskaya</th>\n",
              "      <td>1962</td>\n",
              "      <td>geothermal</td>\n",
              "      <td>12</td>\n",
              "      <td>RusHydro</td>\n",
              "      <td>no</td>\n",
              "    </tr>\n",
              "    <tr>\n",
              "      <th>Baksan</th>\n",
              "      <td>1930</td>\n",
              "      <td>hydro</td>\n",
              "      <td>27</td>\n",
              "      <td>RusHydro</td>\n",
              "      <td>hydro</td>\n",
              "    </tr>\n",
              "    <tr>\n",
              "      <th>Boguchany</th>\n",
              "      <td>1974</td>\n",
              "      <td>hydro</td>\n",
              "      <td>2997</td>\n",
              "      <td>BGES</td>\n",
              "      <td>hydro</td>\n",
              "    </tr>\n",
              "    <tr>\n",
              "      <th>Bratsk</th>\n",
              "      <td>1954</td>\n",
              "      <td>hydro</td>\n",
              "      <td>4500</td>\n",
              "      <td>En+</td>\n",
              "      <td>hydro</td>\n",
              "    </tr>\n",
              "    <tr>\n",
              "      <th>Adygeyskaya</th>\n",
              "      <td>2018</td>\n",
              "      <td>wind</td>\n",
              "      <td>150</td>\n",
              "      <td>NovaWind</td>\n",
              "      <td>wind</td>\n",
              "    </tr>\n",
              "    <tr>\n",
              "      <th>Ulyanovskaya</th>\n",
              "      <td>2015</td>\n",
              "      <td>wind</td>\n",
              "      <td>50</td>\n",
              "      <td>PVFRV</td>\n",
              "      <td>wind</td>\n",
              "    </tr>\n",
              "    <tr>\n",
              "      <th>Leningradksaya</th>\n",
              "      <td>1967</td>\n",
              "      <td>nuclear</td>\n",
              "      <td>4188</td>\n",
              "      <td>REA</td>\n",
              "      <td>no</td>\n",
              "    </tr>\n",
              "    <tr>\n",
              "      <th>Kursakya</th>\n",
              "      <td>1971</td>\n",
              "      <td>nuclear</td>\n",
              "      <td>4000</td>\n",
              "      <td>REA</td>\n",
              "      <td>no</td>\n",
              "    </tr>\n",
              "    <tr>\n",
              "      <th>Smolenskaya</th>\n",
              "      <td>1975</td>\n",
              "      <td>nuclear</td>\n",
              "      <td>3000</td>\n",
              "      <td>REA</td>\n",
              "      <td>no</td>\n",
              "    </tr>\n",
              "    <tr>\n",
              "      <th>Reftinskaya</th>\n",
              "      <td>1963</td>\n",
              "      <td>termal</td>\n",
              "      <td>3800</td>\n",
              "      <td>KuzEn</td>\n",
              "      <td>no</td>\n",
              "    </tr>\n",
              "    <tr>\n",
              "      <th>Surgut-2</th>\n",
              "      <td>1979</td>\n",
              "      <td>termal</td>\n",
              "      <td>5657</td>\n",
              "      <td>Unipro</td>\n",
              "      <td>no</td>\n",
              "    </tr>\n",
              "    <tr>\n",
              "      <th>Kirishskaya</th>\n",
              "      <td>1966</td>\n",
              "      <td>termal</td>\n",
              "      <td>2595</td>\n",
              "      <td>OGK-2</td>\n",
              "      <td>no</td>\n",
              "    </tr>\n",
              "  </tbody>\n",
              "</table>\n",
              "</div>"
            ],
            "text/plain": [
              "                Begin_building        Type  Power     Owner Renewable\n",
              "Name                                                                 \n",
              "Mutnovskaya               1988  geothermal     50  RusHydro        no\n",
              "Pauzhetskaya              1962  geothermal     12  RusHydro        no\n",
              "Baksan                    1930       hydro     27  RusHydro     hydro\n",
              "Boguchany                 1974       hydro   2997      BGES     hydro\n",
              "Bratsk                    1954       hydro   4500       En+     hydro\n",
              "Adygeyskaya               2018        wind    150  NovaWind      wind\n",
              "Ulyanovskaya              2015        wind     50     PVFRV      wind\n",
              "Leningradksaya            1967     nuclear   4188       REA        no\n",
              "Kursakya                  1971     nuclear   4000       REA        no\n",
              "Smolenskaya               1975     nuclear   3000       REA        no\n",
              "Reftinskaya               1963      termal   3800     KuzEn        no\n",
              "Surgut-2                  1979      termal   5657    Unipro        no\n",
              "Kirishskaya               1966      termal   2595     OGK-2        no"
            ]
          },
          "metadata": {
            "tags": []
          },
          "execution_count": 102
        }
      ]
    },
    {
      "cell_type": "markdown",
      "metadata": {
        "id": "-UjlTVGvd7iy"
      },
      "source": [
        "### Aggregation, grouping"
      ]
    },
    {
      "cell_type": "code",
      "metadata": {
        "id": "fZL4_YQId_qz",
        "colab": {
          "base_uri": "https://localhost:8080/"
        },
        "outputId": "b4078ea7-73be-4421-97a8-49292dcd48f6"
      },
      "source": [
        "# метод groupby позволяет группировать столбцы по заданным параметрам\n",
        "# в данном случае для всех возможных значений столбца 'Renewable' (hydro, wind, no) выводится суммарное значение из столбца 'Power' \n",
        "tmp_df.groupby(['Renewable'])['Power'].sum()"
      ],
      "execution_count": null,
      "outputs": [
        {
          "output_type": "execute_result",
          "data": {
            "text/plain": [
              "Renewable\n",
              "hydro     7524\n",
              "no       23302\n",
              "wind       200\n",
              "Name: Power, dtype: int64"
            ]
          },
          "metadata": {
            "tags": []
          },
          "execution_count": 103
        }
      ]
    },
    {
      "cell_type": "code",
      "metadata": {
        "id": "1lvqtJboecPj",
        "colab": {
          "base_uri": "https://localhost:8080/"
        },
        "outputId": "49d39b3e-61bb-4feb-93c1-536a3b47001c"
      },
      "source": [
        "# в данном случае для всех возможных значений столбца 'Type' выводится минимальное значение из столбца 'Begin_building' \n",
        "tmp_df.groupby(['Type'])['Begin_building'].min()"
      ],
      "execution_count": null,
      "outputs": [
        {
          "output_type": "execute_result",
          "data": {
            "text/plain": [
              "Type\n",
              "geothermal    1962\n",
              "hydro         1930\n",
              "nuclear       1967\n",
              "termal        1963\n",
              "wind          2015\n",
              "Name: Begin_building, dtype: int64"
            ]
          },
          "metadata": {
            "tags": []
          },
          "execution_count": 104
        }
      ]
    },
    {
      "cell_type": "code",
      "metadata": {
        "id": "K_tDOo-5fT8F",
        "colab": {
          "base_uri": "https://localhost:8080/"
        },
        "outputId": "afac96e3-cd18-445f-ba29-774885372c91"
      },
      "source": [
        "# в данном случае для всех имеющихся возможных сочетаний значений столбцов 'Type' и 'Owner' выводится количество существующих значений из столбца 'Power'\n",
        "tmp_df.groupby(['Type', 'Owner'])['Power'].count()"
      ],
      "execution_count": null,
      "outputs": [
        {
          "output_type": "execute_result",
          "data": {
            "text/plain": [
              "Type        Owner   \n",
              "geothermal  RusHydro    2\n",
              "hydro       BGES        1\n",
              "            En+         1\n",
              "            RusHydro    1\n",
              "nuclear     REA         3\n",
              "termal      KuzEn       1\n",
              "            OGK-2       1\n",
              "            Unipro      1\n",
              "wind        NovaWind    1\n",
              "            PVFRV       1\n",
              "Name: Power, dtype: int64"
            ]
          },
          "metadata": {
            "tags": []
          },
          "execution_count": 280
        }
      ]
    },
    {
      "cell_type": "code",
      "metadata": {
        "id": "qrGSjtN3gPpT",
        "colab": {
          "base_uri": "https://localhost:8080/",
          "height": 483
        },
        "outputId": "5890405c-1958-40f7-feb6-40850deba7ef"
      },
      "source": [
        "# добавление столбца 'Power*Age', значения в котором равняются произведению значений столбца 'Power' на разницу текущего года и значений столбца 'Begin_building'\n",
        "tmp_df['Power*Age'] = tmp_df['Power'] * (2021 - tmp_df['Begin_building'])\n",
        "# отображение датафрейма\n",
        "tmp_df"
      ],
      "execution_count": null,
      "outputs": [
        {
          "output_type": "execute_result",
          "data": {
            "text/html": [
              "<div>\n",
              "<style scoped>\n",
              "    .dataframe tbody tr th:only-of-type {\n",
              "        vertical-align: middle;\n",
              "    }\n",
              "\n",
              "    .dataframe tbody tr th {\n",
              "        vertical-align: top;\n",
              "    }\n",
              "\n",
              "    .dataframe thead th {\n",
              "        text-align: right;\n",
              "    }\n",
              "</style>\n",
              "<table border=\"1\" class=\"dataframe\">\n",
              "  <thead>\n",
              "    <tr style=\"text-align: right;\">\n",
              "      <th></th>\n",
              "      <th>Begin_building</th>\n",
              "      <th>Type</th>\n",
              "      <th>Power</th>\n",
              "      <th>Owner</th>\n",
              "      <th>Renewable</th>\n",
              "      <th>Power*Age</th>\n",
              "    </tr>\n",
              "    <tr>\n",
              "      <th>Name</th>\n",
              "      <th></th>\n",
              "      <th></th>\n",
              "      <th></th>\n",
              "      <th></th>\n",
              "      <th></th>\n",
              "      <th></th>\n",
              "    </tr>\n",
              "  </thead>\n",
              "  <tbody>\n",
              "    <tr>\n",
              "      <th>Mutnovskaya</th>\n",
              "      <td>1988</td>\n",
              "      <td>geothermal</td>\n",
              "      <td>50</td>\n",
              "      <td>RusHydro</td>\n",
              "      <td>no</td>\n",
              "      <td>1650</td>\n",
              "    </tr>\n",
              "    <tr>\n",
              "      <th>Pauzhetskaya</th>\n",
              "      <td>1962</td>\n",
              "      <td>geothermal</td>\n",
              "      <td>12</td>\n",
              "      <td>RusHydro</td>\n",
              "      <td>no</td>\n",
              "      <td>708</td>\n",
              "    </tr>\n",
              "    <tr>\n",
              "      <th>Baksan</th>\n",
              "      <td>1930</td>\n",
              "      <td>hydro</td>\n",
              "      <td>27</td>\n",
              "      <td>RusHydro</td>\n",
              "      <td>hydro</td>\n",
              "      <td>2457</td>\n",
              "    </tr>\n",
              "    <tr>\n",
              "      <th>Boguchany</th>\n",
              "      <td>1974</td>\n",
              "      <td>hydro</td>\n",
              "      <td>2997</td>\n",
              "      <td>BGES</td>\n",
              "      <td>hydro</td>\n",
              "      <td>140859</td>\n",
              "    </tr>\n",
              "    <tr>\n",
              "      <th>Bratsk</th>\n",
              "      <td>1954</td>\n",
              "      <td>hydro</td>\n",
              "      <td>4500</td>\n",
              "      <td>En+</td>\n",
              "      <td>hydro</td>\n",
              "      <td>301500</td>\n",
              "    </tr>\n",
              "    <tr>\n",
              "      <th>Adygeyskaya</th>\n",
              "      <td>2018</td>\n",
              "      <td>wind</td>\n",
              "      <td>150</td>\n",
              "      <td>NovaWind</td>\n",
              "      <td>wind</td>\n",
              "      <td>450</td>\n",
              "    </tr>\n",
              "    <tr>\n",
              "      <th>Ulyanovskaya</th>\n",
              "      <td>2015</td>\n",
              "      <td>wind</td>\n",
              "      <td>50</td>\n",
              "      <td>PVFRV</td>\n",
              "      <td>wind</td>\n",
              "      <td>300</td>\n",
              "    </tr>\n",
              "    <tr>\n",
              "      <th>Leningradksaya</th>\n",
              "      <td>1967</td>\n",
              "      <td>nuclear</td>\n",
              "      <td>4188</td>\n",
              "      <td>REA</td>\n",
              "      <td>no</td>\n",
              "      <td>226152</td>\n",
              "    </tr>\n",
              "    <tr>\n",
              "      <th>Kursakya</th>\n",
              "      <td>1971</td>\n",
              "      <td>nuclear</td>\n",
              "      <td>4000</td>\n",
              "      <td>REA</td>\n",
              "      <td>no</td>\n",
              "      <td>200000</td>\n",
              "    </tr>\n",
              "    <tr>\n",
              "      <th>Smolenskaya</th>\n",
              "      <td>1975</td>\n",
              "      <td>nuclear</td>\n",
              "      <td>3000</td>\n",
              "      <td>REA</td>\n",
              "      <td>no</td>\n",
              "      <td>138000</td>\n",
              "    </tr>\n",
              "    <tr>\n",
              "      <th>Reftinskaya</th>\n",
              "      <td>1963</td>\n",
              "      <td>termal</td>\n",
              "      <td>3800</td>\n",
              "      <td>KuzEn</td>\n",
              "      <td>no</td>\n",
              "      <td>220400</td>\n",
              "    </tr>\n",
              "    <tr>\n",
              "      <th>Surgut-2</th>\n",
              "      <td>1979</td>\n",
              "      <td>termal</td>\n",
              "      <td>5657</td>\n",
              "      <td>Unipro</td>\n",
              "      <td>no</td>\n",
              "      <td>237594</td>\n",
              "    </tr>\n",
              "    <tr>\n",
              "      <th>Kirishskaya</th>\n",
              "      <td>1966</td>\n",
              "      <td>termal</td>\n",
              "      <td>2595</td>\n",
              "      <td>OGK-2</td>\n",
              "      <td>no</td>\n",
              "      <td>142725</td>\n",
              "    </tr>\n",
              "  </tbody>\n",
              "</table>\n",
              "</div>"
            ],
            "text/plain": [
              "                Begin_building        Type  ...  Renewable Power*Age\n",
              "Name                                        ...                     \n",
              "Mutnovskaya               1988  geothermal  ...         no      1650\n",
              "Pauzhetskaya              1962  geothermal  ...         no       708\n",
              "Baksan                    1930       hydro  ...      hydro      2457\n",
              "Boguchany                 1974       hydro  ...      hydro    140859\n",
              "Bratsk                    1954       hydro  ...      hydro    301500\n",
              "Adygeyskaya               2018        wind  ...       wind       450\n",
              "Ulyanovskaya              2015        wind  ...       wind       300\n",
              "Leningradksaya            1967     nuclear  ...         no    226152\n",
              "Kursakya                  1971     nuclear  ...         no    200000\n",
              "Smolenskaya               1975     nuclear  ...         no    138000\n",
              "Reftinskaya               1963      termal  ...         no    220400\n",
              "Surgut-2                  1979      termal  ...         no    237594\n",
              "Kirishskaya               1966      termal  ...         no    142725\n",
              "\n",
              "[13 rows x 6 columns]"
            ]
          },
          "metadata": {
            "tags": []
          },
          "execution_count": 105
        }
      ]
    },
    {
      "cell_type": "code",
      "metadata": {
        "id": "7xr2UDceeisK",
        "colab": {
          "base_uri": "https://localhost:8080/",
          "height": 390
        },
        "outputId": "0f3d5363-eb40-48a1-d680-b8163b0d7b74"
      },
      "source": [
        "# для всех возможных сочетаний столбцов 'Owner' и условия, что значения 'Begin_building' > 1980 (True / False)\n",
        "# выводятся средние значения для численных типов данных (в данном случае это столбцы 'Power' и 'Power*Age')\n",
        "tmp_df.groupby(['Owner', tmp_df['Begin_building'] > 1980]).mean()"
      ],
      "execution_count": null,
      "outputs": [
        {
          "output_type": "execute_result",
          "data": {
            "text/html": [
              "<div>\n",
              "<style scoped>\n",
              "    .dataframe tbody tr th:only-of-type {\n",
              "        vertical-align: middle;\n",
              "    }\n",
              "\n",
              "    .dataframe tbody tr th {\n",
              "        vertical-align: top;\n",
              "    }\n",
              "\n",
              "    .dataframe thead th {\n",
              "        text-align: right;\n",
              "    }\n",
              "</style>\n",
              "<table border=\"1\" class=\"dataframe\">\n",
              "  <thead>\n",
              "    <tr style=\"text-align: right;\">\n",
              "      <th></th>\n",
              "      <th></th>\n",
              "      <th>Begin_building</th>\n",
              "      <th>Power</th>\n",
              "      <th>Power*Age</th>\n",
              "    </tr>\n",
              "    <tr>\n",
              "      <th>Owner</th>\n",
              "      <th>Begin_building</th>\n",
              "      <th></th>\n",
              "      <th></th>\n",
              "      <th></th>\n",
              "    </tr>\n",
              "  </thead>\n",
              "  <tbody>\n",
              "    <tr>\n",
              "      <th>BGES</th>\n",
              "      <th>False</th>\n",
              "      <td>1974.0</td>\n",
              "      <td>2997.000000</td>\n",
              "      <td>140859.000000</td>\n",
              "    </tr>\n",
              "    <tr>\n",
              "      <th>En+</th>\n",
              "      <th>False</th>\n",
              "      <td>1954.0</td>\n",
              "      <td>4500.000000</td>\n",
              "      <td>301500.000000</td>\n",
              "    </tr>\n",
              "    <tr>\n",
              "      <th>KuzEn</th>\n",
              "      <th>False</th>\n",
              "      <td>1963.0</td>\n",
              "      <td>3800.000000</td>\n",
              "      <td>220400.000000</td>\n",
              "    </tr>\n",
              "    <tr>\n",
              "      <th>NovaWind</th>\n",
              "      <th>True</th>\n",
              "      <td>2018.0</td>\n",
              "      <td>150.000000</td>\n",
              "      <td>450.000000</td>\n",
              "    </tr>\n",
              "    <tr>\n",
              "      <th>OGK-2</th>\n",
              "      <th>False</th>\n",
              "      <td>1966.0</td>\n",
              "      <td>2595.000000</td>\n",
              "      <td>142725.000000</td>\n",
              "    </tr>\n",
              "    <tr>\n",
              "      <th>PVFRV</th>\n",
              "      <th>True</th>\n",
              "      <td>2015.0</td>\n",
              "      <td>50.000000</td>\n",
              "      <td>300.000000</td>\n",
              "    </tr>\n",
              "    <tr>\n",
              "      <th>REA</th>\n",
              "      <th>False</th>\n",
              "      <td>1971.0</td>\n",
              "      <td>3729.333333</td>\n",
              "      <td>188050.666667</td>\n",
              "    </tr>\n",
              "    <tr>\n",
              "      <th rowspan=\"2\" valign=\"top\">RusHydro</th>\n",
              "      <th>False</th>\n",
              "      <td>1946.0</td>\n",
              "      <td>19.500000</td>\n",
              "      <td>1582.500000</td>\n",
              "    </tr>\n",
              "    <tr>\n",
              "      <th>True</th>\n",
              "      <td>1988.0</td>\n",
              "      <td>50.000000</td>\n",
              "      <td>1650.000000</td>\n",
              "    </tr>\n",
              "    <tr>\n",
              "      <th>Unipro</th>\n",
              "      <th>False</th>\n",
              "      <td>1979.0</td>\n",
              "      <td>5657.000000</td>\n",
              "      <td>237594.000000</td>\n",
              "    </tr>\n",
              "  </tbody>\n",
              "</table>\n",
              "</div>"
            ],
            "text/plain": [
              "                         Begin_building        Power      Power*Age\n",
              "Owner    Begin_building                                            \n",
              "BGES     False                   1974.0  2997.000000  140859.000000\n",
              "En+      False                   1954.0  4500.000000  301500.000000\n",
              "KuzEn    False                   1963.0  3800.000000  220400.000000\n",
              "NovaWind True                    2018.0   150.000000     450.000000\n",
              "OGK-2    False                   1966.0  2595.000000  142725.000000\n",
              "PVFRV    True                    2015.0    50.000000     300.000000\n",
              "REA      False                   1971.0  3729.333333  188050.666667\n",
              "RusHydro False                   1946.0    19.500000    1582.500000\n",
              "         True                    1988.0    50.000000    1650.000000\n",
              "Unipro   False                   1979.0  5657.000000  237594.000000"
            ]
          },
          "metadata": {
            "tags": []
          },
          "execution_count": 106
        }
      ]
    },
    {
      "cell_type": "code",
      "metadata": {
        "id": "mNLfY9Pmg2gH",
        "colab": {
          "base_uri": "https://localhost:8080/",
          "height": 271
        },
        "outputId": "6e25cf41-2dbd-473b-a595-41f2d2a6dac2"
      },
      "source": [
        "# для всех возможных сочетаний столбцов 'Owner' и условия, что значения 'Begin_building' > 1980 (True / False)\n",
        "# выводятся средние значения для численных типов данных (в данном случае это столбцы 'Power' и 'Power*Age')\n",
        "# также для редактирования формата отображения данных используется метод style.format\n",
        "# где задается количество знаков после запятой и формат вывода данных\n",
        "# например для стольбца Power: ( 'Power' : '{:.1f} MW ' ) будет выведен 1 знак после запятой, а также единицы измерения MW\n",
        "tmp_df.groupby(['Owner', tmp_df['Begin_building'] > 1980]).mean().style.format({'Begin_building' : '{:.0f}', 'Power' : '{:.1f} MW ', 'Power*Age': '{:.1f}'})"
      ],
      "execution_count": null,
      "outputs": [
        {
          "output_type": "execute_result",
          "data": {
            "text/html": [
              "<style  type=\"text/css\" >\n",
              "</style><table id=\"T_cbfb87ce_bae9_11eb_bfe9_0242ac1c0002\" ><thead>    <tr>        <th class=\"blank\" ></th>        <th class=\"blank level0\" ></th>        <th class=\"col_heading level0 col0\" >Begin_building</th>        <th class=\"col_heading level0 col1\" >Power</th>        <th class=\"col_heading level0 col2\" >Power*Age</th>    </tr>    <tr>        <th class=\"index_name level0\" >Owner</th>        <th class=\"index_name level1\" >Begin_building</th>        <th class=\"blank\" ></th>        <th class=\"blank\" ></th>        <th class=\"blank\" ></th>    </tr></thead><tbody>\n",
              "                <tr>\n",
              "                        <th id=\"T_cbfb87ce_bae9_11eb_bfe9_0242ac1c0002level0_row0\" class=\"row_heading level0 row0\" >BGES</th>\n",
              "                        <th id=\"T_cbfb87ce_bae9_11eb_bfe9_0242ac1c0002level1_row0\" class=\"row_heading level1 row0\" >False</th>\n",
              "                        <td id=\"T_cbfb87ce_bae9_11eb_bfe9_0242ac1c0002row0_col0\" class=\"data row0 col0\" >1974</td>\n",
              "                        <td id=\"T_cbfb87ce_bae9_11eb_bfe9_0242ac1c0002row0_col1\" class=\"data row0 col1\" >2997.0 MW </td>\n",
              "                        <td id=\"T_cbfb87ce_bae9_11eb_bfe9_0242ac1c0002row0_col2\" class=\"data row0 col2\" >140859.0</td>\n",
              "            </tr>\n",
              "            <tr>\n",
              "                        <th id=\"T_cbfb87ce_bae9_11eb_bfe9_0242ac1c0002level0_row1\" class=\"row_heading level0 row1\" >En+</th>\n",
              "                        <th id=\"T_cbfb87ce_bae9_11eb_bfe9_0242ac1c0002level1_row1\" class=\"row_heading level1 row1\" >False</th>\n",
              "                        <td id=\"T_cbfb87ce_bae9_11eb_bfe9_0242ac1c0002row1_col0\" class=\"data row1 col0\" >1954</td>\n",
              "                        <td id=\"T_cbfb87ce_bae9_11eb_bfe9_0242ac1c0002row1_col1\" class=\"data row1 col1\" >4500.0 MW </td>\n",
              "                        <td id=\"T_cbfb87ce_bae9_11eb_bfe9_0242ac1c0002row1_col2\" class=\"data row1 col2\" >301500.0</td>\n",
              "            </tr>\n",
              "            <tr>\n",
              "                        <th id=\"T_cbfb87ce_bae9_11eb_bfe9_0242ac1c0002level0_row2\" class=\"row_heading level0 row2\" >KuzEn</th>\n",
              "                        <th id=\"T_cbfb87ce_bae9_11eb_bfe9_0242ac1c0002level1_row2\" class=\"row_heading level1 row2\" >False</th>\n",
              "                        <td id=\"T_cbfb87ce_bae9_11eb_bfe9_0242ac1c0002row2_col0\" class=\"data row2 col0\" >1963</td>\n",
              "                        <td id=\"T_cbfb87ce_bae9_11eb_bfe9_0242ac1c0002row2_col1\" class=\"data row2 col1\" >3800.0 MW </td>\n",
              "                        <td id=\"T_cbfb87ce_bae9_11eb_bfe9_0242ac1c0002row2_col2\" class=\"data row2 col2\" >220400.0</td>\n",
              "            </tr>\n",
              "            <tr>\n",
              "                        <th id=\"T_cbfb87ce_bae9_11eb_bfe9_0242ac1c0002level0_row3\" class=\"row_heading level0 row3\" >NovaWind</th>\n",
              "                        <th id=\"T_cbfb87ce_bae9_11eb_bfe9_0242ac1c0002level1_row3\" class=\"row_heading level1 row3\" >True</th>\n",
              "                        <td id=\"T_cbfb87ce_bae9_11eb_bfe9_0242ac1c0002row3_col0\" class=\"data row3 col0\" >2018</td>\n",
              "                        <td id=\"T_cbfb87ce_bae9_11eb_bfe9_0242ac1c0002row3_col1\" class=\"data row3 col1\" >150.0 MW </td>\n",
              "                        <td id=\"T_cbfb87ce_bae9_11eb_bfe9_0242ac1c0002row3_col2\" class=\"data row3 col2\" >450.0</td>\n",
              "            </tr>\n",
              "            <tr>\n",
              "                        <th id=\"T_cbfb87ce_bae9_11eb_bfe9_0242ac1c0002level0_row4\" class=\"row_heading level0 row4\" >OGK-2</th>\n",
              "                        <th id=\"T_cbfb87ce_bae9_11eb_bfe9_0242ac1c0002level1_row4\" class=\"row_heading level1 row4\" >False</th>\n",
              "                        <td id=\"T_cbfb87ce_bae9_11eb_bfe9_0242ac1c0002row4_col0\" class=\"data row4 col0\" >1966</td>\n",
              "                        <td id=\"T_cbfb87ce_bae9_11eb_bfe9_0242ac1c0002row4_col1\" class=\"data row4 col1\" >2595.0 MW </td>\n",
              "                        <td id=\"T_cbfb87ce_bae9_11eb_bfe9_0242ac1c0002row4_col2\" class=\"data row4 col2\" >142725.0</td>\n",
              "            </tr>\n",
              "            <tr>\n",
              "                        <th id=\"T_cbfb87ce_bae9_11eb_bfe9_0242ac1c0002level0_row5\" class=\"row_heading level0 row5\" >PVFRV</th>\n",
              "                        <th id=\"T_cbfb87ce_bae9_11eb_bfe9_0242ac1c0002level1_row5\" class=\"row_heading level1 row5\" >True</th>\n",
              "                        <td id=\"T_cbfb87ce_bae9_11eb_bfe9_0242ac1c0002row5_col0\" class=\"data row5 col0\" >2015</td>\n",
              "                        <td id=\"T_cbfb87ce_bae9_11eb_bfe9_0242ac1c0002row5_col1\" class=\"data row5 col1\" >50.0 MW </td>\n",
              "                        <td id=\"T_cbfb87ce_bae9_11eb_bfe9_0242ac1c0002row5_col2\" class=\"data row5 col2\" >300.0</td>\n",
              "            </tr>\n",
              "            <tr>\n",
              "                        <th id=\"T_cbfb87ce_bae9_11eb_bfe9_0242ac1c0002level0_row6\" class=\"row_heading level0 row6\" >REA</th>\n",
              "                        <th id=\"T_cbfb87ce_bae9_11eb_bfe9_0242ac1c0002level1_row6\" class=\"row_heading level1 row6\" >False</th>\n",
              "                        <td id=\"T_cbfb87ce_bae9_11eb_bfe9_0242ac1c0002row6_col0\" class=\"data row6 col0\" >1971</td>\n",
              "                        <td id=\"T_cbfb87ce_bae9_11eb_bfe9_0242ac1c0002row6_col1\" class=\"data row6 col1\" >3729.3 MW </td>\n",
              "                        <td id=\"T_cbfb87ce_bae9_11eb_bfe9_0242ac1c0002row6_col2\" class=\"data row6 col2\" >188050.7</td>\n",
              "            </tr>\n",
              "            <tr>\n",
              "                        <th id=\"T_cbfb87ce_bae9_11eb_bfe9_0242ac1c0002level0_row7\" class=\"row_heading level0 row7\" rowspan=2>RusHydro</th>\n",
              "                        <th id=\"T_cbfb87ce_bae9_11eb_bfe9_0242ac1c0002level1_row7\" class=\"row_heading level1 row7\" >False</th>\n",
              "                        <td id=\"T_cbfb87ce_bae9_11eb_bfe9_0242ac1c0002row7_col0\" class=\"data row7 col0\" >1946</td>\n",
              "                        <td id=\"T_cbfb87ce_bae9_11eb_bfe9_0242ac1c0002row7_col1\" class=\"data row7 col1\" >19.5 MW </td>\n",
              "                        <td id=\"T_cbfb87ce_bae9_11eb_bfe9_0242ac1c0002row7_col2\" class=\"data row7 col2\" >1582.5</td>\n",
              "            </tr>\n",
              "            <tr>\n",
              "                                <th id=\"T_cbfb87ce_bae9_11eb_bfe9_0242ac1c0002level1_row8\" class=\"row_heading level1 row8\" >True</th>\n",
              "                        <td id=\"T_cbfb87ce_bae9_11eb_bfe9_0242ac1c0002row8_col0\" class=\"data row8 col0\" >1988</td>\n",
              "                        <td id=\"T_cbfb87ce_bae9_11eb_bfe9_0242ac1c0002row8_col1\" class=\"data row8 col1\" >50.0 MW </td>\n",
              "                        <td id=\"T_cbfb87ce_bae9_11eb_bfe9_0242ac1c0002row8_col2\" class=\"data row8 col2\" >1650.0</td>\n",
              "            </tr>\n",
              "            <tr>\n",
              "                        <th id=\"T_cbfb87ce_bae9_11eb_bfe9_0242ac1c0002level0_row9\" class=\"row_heading level0 row9\" >Unipro</th>\n",
              "                        <th id=\"T_cbfb87ce_bae9_11eb_bfe9_0242ac1c0002level1_row9\" class=\"row_heading level1 row9\" >False</th>\n",
              "                        <td id=\"T_cbfb87ce_bae9_11eb_bfe9_0242ac1c0002row9_col0\" class=\"data row9 col0\" >1979</td>\n",
              "                        <td id=\"T_cbfb87ce_bae9_11eb_bfe9_0242ac1c0002row9_col1\" class=\"data row9 col1\" >5657.0 MW </td>\n",
              "                        <td id=\"T_cbfb87ce_bae9_11eb_bfe9_0242ac1c0002row9_col2\" class=\"data row9 col2\" >237594.0</td>\n",
              "            </tr>\n",
              "    </tbody></table>"
            ],
            "text/plain": [
              "<pandas.io.formats.style.Styler at 0x7fe9ab5bfa10>"
            ]
          },
          "metadata": {
            "tags": []
          },
          "execution_count": 107
        }
      ]
    },
    {
      "cell_type": "markdown",
      "metadata": {
        "id": "ukgec27xhc6a"
      },
      "source": [
        "### Format"
      ]
    },
    {
      "cell_type": "markdown",
      "metadata": {
        "id": "rvXziXcqhiJu"
      },
      "source": [
        "https://pandas.pydata.org/pandas-docs/stable/user_guide/style.html"
      ]
    },
    {
      "cell_type": "code",
      "metadata": {
        "id": "hnpNYNOWiAT_"
      },
      "source": [
        "# Создание датафрейма содержащего случайные числа\n",
        "\n",
        "# метод random.seed() задает начальные условия для генератора случайных чисел\n",
        "np.random.seed(24)\n",
        "\n",
        "# создание начального датафрейма имеющего 1 столбец 'A' включающего в себя 10 чисел от 1 до 10\n",
        "df = pd.DataFrame({'A': np.linspace(1, 10, 10)})\n",
        "\n",
        "# метод concat позволяет добавить строки (параметр axis=0) или столбцы (axis=1) к имеющемуся датафрейму\n",
        "# функция np.random.randn(10, 4) - возвращает массив (размером 10 строк и 4 столбца) из случайных чисел (равных «стандартному нормальному» распределению)\n",
        "# а также присвоение новыв столбцам имен 'B', 'C', 'D', 'E' параметром (columns=list('BCDE'))\n",
        "df = pd.concat([df, pd.DataFrame(np.random.randn(10, 4), columns=list('BCDE'))],\n",
        "               axis=1)\n",
        "\n",
        "# приравнивание значениям по выбранным индексам значения NaN\n",
        "df.iloc[3, 3] = np.nan\n",
        "df.iloc[0, 2] = np.nan"
      ],
      "execution_count": null,
      "outputs": []
    },
    {
      "cell_type": "code",
      "metadata": {
        "id": "QG8SRyayiFX0",
        "colab": {
          "base_uri": "https://localhost:8080/",
          "height": 359
        },
        "outputId": "3ca171d8-c213-482c-ad9a-ea3e0a3c2afb"
      },
      "source": [
        "# отображение полученного датафрейма\n",
        "df"
      ],
      "execution_count": null,
      "outputs": [
        {
          "output_type": "execute_result",
          "data": {
            "text/html": [
              "<div>\n",
              "<style scoped>\n",
              "    .dataframe tbody tr th:only-of-type {\n",
              "        vertical-align: middle;\n",
              "    }\n",
              "\n",
              "    .dataframe tbody tr th {\n",
              "        vertical-align: top;\n",
              "    }\n",
              "\n",
              "    .dataframe thead th {\n",
              "        text-align: right;\n",
              "    }\n",
              "</style>\n",
              "<table border=\"1\" class=\"dataframe\">\n",
              "  <thead>\n",
              "    <tr style=\"text-align: right;\">\n",
              "      <th></th>\n",
              "      <th>A</th>\n",
              "      <th>B</th>\n",
              "      <th>C</th>\n",
              "      <th>D</th>\n",
              "      <th>E</th>\n",
              "    </tr>\n",
              "  </thead>\n",
              "  <tbody>\n",
              "    <tr>\n",
              "      <th>0</th>\n",
              "      <td>1.0</td>\n",
              "      <td>1.329212</td>\n",
              "      <td>NaN</td>\n",
              "      <td>-0.316280</td>\n",
              "      <td>-0.990810</td>\n",
              "    </tr>\n",
              "    <tr>\n",
              "      <th>1</th>\n",
              "      <td>2.0</td>\n",
              "      <td>-1.070816</td>\n",
              "      <td>-1.438713</td>\n",
              "      <td>0.564417</td>\n",
              "      <td>0.295722</td>\n",
              "    </tr>\n",
              "    <tr>\n",
              "      <th>2</th>\n",
              "      <td>3.0</td>\n",
              "      <td>-1.626404</td>\n",
              "      <td>0.219565</td>\n",
              "      <td>0.678805</td>\n",
              "      <td>1.889273</td>\n",
              "    </tr>\n",
              "    <tr>\n",
              "      <th>3</th>\n",
              "      <td>4.0</td>\n",
              "      <td>0.961538</td>\n",
              "      <td>0.104011</td>\n",
              "      <td>NaN</td>\n",
              "      <td>0.850229</td>\n",
              "    </tr>\n",
              "    <tr>\n",
              "      <th>4</th>\n",
              "      <td>5.0</td>\n",
              "      <td>1.453425</td>\n",
              "      <td>1.057737</td>\n",
              "      <td>0.165562</td>\n",
              "      <td>0.515018</td>\n",
              "    </tr>\n",
              "    <tr>\n",
              "      <th>5</th>\n",
              "      <td>6.0</td>\n",
              "      <td>-1.336936</td>\n",
              "      <td>0.562861</td>\n",
              "      <td>1.392855</td>\n",
              "      <td>-0.063328</td>\n",
              "    </tr>\n",
              "    <tr>\n",
              "      <th>6</th>\n",
              "      <td>7.0</td>\n",
              "      <td>0.121668</td>\n",
              "      <td>1.207603</td>\n",
              "      <td>-0.002040</td>\n",
              "      <td>1.627796</td>\n",
              "    </tr>\n",
              "    <tr>\n",
              "      <th>7</th>\n",
              "      <td>8.0</td>\n",
              "      <td>0.354493</td>\n",
              "      <td>1.037528</td>\n",
              "      <td>-0.385684</td>\n",
              "      <td>0.519818</td>\n",
              "    </tr>\n",
              "    <tr>\n",
              "      <th>8</th>\n",
              "      <td>9.0</td>\n",
              "      <td>1.686583</td>\n",
              "      <td>-1.325963</td>\n",
              "      <td>1.428984</td>\n",
              "      <td>-2.089354</td>\n",
              "    </tr>\n",
              "    <tr>\n",
              "      <th>9</th>\n",
              "      <td>10.0</td>\n",
              "      <td>-0.129820</td>\n",
              "      <td>0.631523</td>\n",
              "      <td>-0.586538</td>\n",
              "      <td>0.290720</td>\n",
              "    </tr>\n",
              "  </tbody>\n",
              "</table>\n",
              "</div>"
            ],
            "text/plain": [
              "      A         B         C         D         E\n",
              "0   1.0  1.329212       NaN -0.316280 -0.990810\n",
              "1   2.0 -1.070816 -1.438713  0.564417  0.295722\n",
              "2   3.0 -1.626404  0.219565  0.678805  1.889273\n",
              "3   4.0  0.961538  0.104011       NaN  0.850229\n",
              "4   5.0  1.453425  1.057737  0.165562  0.515018\n",
              "5   6.0 -1.336936  0.562861  1.392855 -0.063328\n",
              "6   7.0  0.121668  1.207603 -0.002040  1.627796\n",
              "7   8.0  0.354493  1.037528 -0.385684  0.519818\n",
              "8   9.0  1.686583 -1.325963  1.428984 -2.089354\n",
              "9  10.0 -0.129820  0.631523 -0.586538  0.290720"
            ]
          },
          "metadata": {
            "tags": []
          },
          "execution_count": 119
        }
      ]
    },
    {
      "cell_type": "code",
      "metadata": {
        "id": "V-mFrLEqiumE",
        "colab": {
          "base_uri": "https://localhost:8080/",
          "height": 250
        },
        "outputId": "f9aa4009-f5c5-4b04-bfb6-46b44ba4ebd6"
      },
      "source": [
        "# форматирование данных с выводом данных в виде % с двумя знаками после запятой\n",
        "df.style.format(\"{:.2%}\")"
      ],
      "execution_count": null,
      "outputs": [
        {
          "output_type": "execute_result",
          "data": {
            "text/html": [
              "<style  type=\"text/css\" >\n",
              "</style><table id=\"T_f9bdeb0a_baeb_11eb_bfe9_0242ac1c0002\" ><thead>    <tr>        <th class=\"blank level0\" ></th>        <th class=\"col_heading level0 col0\" >A</th>        <th class=\"col_heading level0 col1\" >B</th>        <th class=\"col_heading level0 col2\" >C</th>        <th class=\"col_heading level0 col3\" >D</th>        <th class=\"col_heading level0 col4\" >E</th>    </tr></thead><tbody>\n",
              "                <tr>\n",
              "                        <th id=\"T_f9bdeb0a_baeb_11eb_bfe9_0242ac1c0002level0_row0\" class=\"row_heading level0 row0\" >0</th>\n",
              "                        <td id=\"T_f9bdeb0a_baeb_11eb_bfe9_0242ac1c0002row0_col0\" class=\"data row0 col0\" >100.00%</td>\n",
              "                        <td id=\"T_f9bdeb0a_baeb_11eb_bfe9_0242ac1c0002row0_col1\" class=\"data row0 col1\" >132.92%</td>\n",
              "                        <td id=\"T_f9bdeb0a_baeb_11eb_bfe9_0242ac1c0002row0_col2\" class=\"data row0 col2\" >nan%</td>\n",
              "                        <td id=\"T_f9bdeb0a_baeb_11eb_bfe9_0242ac1c0002row0_col3\" class=\"data row0 col3\" >-31.63%</td>\n",
              "                        <td id=\"T_f9bdeb0a_baeb_11eb_bfe9_0242ac1c0002row0_col4\" class=\"data row0 col4\" >-99.08%</td>\n",
              "            </tr>\n",
              "            <tr>\n",
              "                        <th id=\"T_f9bdeb0a_baeb_11eb_bfe9_0242ac1c0002level0_row1\" class=\"row_heading level0 row1\" >1</th>\n",
              "                        <td id=\"T_f9bdeb0a_baeb_11eb_bfe9_0242ac1c0002row1_col0\" class=\"data row1 col0\" >200.00%</td>\n",
              "                        <td id=\"T_f9bdeb0a_baeb_11eb_bfe9_0242ac1c0002row1_col1\" class=\"data row1 col1\" >-107.08%</td>\n",
              "                        <td id=\"T_f9bdeb0a_baeb_11eb_bfe9_0242ac1c0002row1_col2\" class=\"data row1 col2\" >-143.87%</td>\n",
              "                        <td id=\"T_f9bdeb0a_baeb_11eb_bfe9_0242ac1c0002row1_col3\" class=\"data row1 col3\" >56.44%</td>\n",
              "                        <td id=\"T_f9bdeb0a_baeb_11eb_bfe9_0242ac1c0002row1_col4\" class=\"data row1 col4\" >29.57%</td>\n",
              "            </tr>\n",
              "            <tr>\n",
              "                        <th id=\"T_f9bdeb0a_baeb_11eb_bfe9_0242ac1c0002level0_row2\" class=\"row_heading level0 row2\" >2</th>\n",
              "                        <td id=\"T_f9bdeb0a_baeb_11eb_bfe9_0242ac1c0002row2_col0\" class=\"data row2 col0\" >300.00%</td>\n",
              "                        <td id=\"T_f9bdeb0a_baeb_11eb_bfe9_0242ac1c0002row2_col1\" class=\"data row2 col1\" >-162.64%</td>\n",
              "                        <td id=\"T_f9bdeb0a_baeb_11eb_bfe9_0242ac1c0002row2_col2\" class=\"data row2 col2\" >21.96%</td>\n",
              "                        <td id=\"T_f9bdeb0a_baeb_11eb_bfe9_0242ac1c0002row2_col3\" class=\"data row2 col3\" >67.88%</td>\n",
              "                        <td id=\"T_f9bdeb0a_baeb_11eb_bfe9_0242ac1c0002row2_col4\" class=\"data row2 col4\" >188.93%</td>\n",
              "            </tr>\n",
              "            <tr>\n",
              "                        <th id=\"T_f9bdeb0a_baeb_11eb_bfe9_0242ac1c0002level0_row3\" class=\"row_heading level0 row3\" >3</th>\n",
              "                        <td id=\"T_f9bdeb0a_baeb_11eb_bfe9_0242ac1c0002row3_col0\" class=\"data row3 col0\" >400.00%</td>\n",
              "                        <td id=\"T_f9bdeb0a_baeb_11eb_bfe9_0242ac1c0002row3_col1\" class=\"data row3 col1\" >96.15%</td>\n",
              "                        <td id=\"T_f9bdeb0a_baeb_11eb_bfe9_0242ac1c0002row3_col2\" class=\"data row3 col2\" >10.40%</td>\n",
              "                        <td id=\"T_f9bdeb0a_baeb_11eb_bfe9_0242ac1c0002row3_col3\" class=\"data row3 col3\" >nan%</td>\n",
              "                        <td id=\"T_f9bdeb0a_baeb_11eb_bfe9_0242ac1c0002row3_col4\" class=\"data row3 col4\" >85.02%</td>\n",
              "            </tr>\n",
              "            <tr>\n",
              "                        <th id=\"T_f9bdeb0a_baeb_11eb_bfe9_0242ac1c0002level0_row4\" class=\"row_heading level0 row4\" >4</th>\n",
              "                        <td id=\"T_f9bdeb0a_baeb_11eb_bfe9_0242ac1c0002row4_col0\" class=\"data row4 col0\" >500.00%</td>\n",
              "                        <td id=\"T_f9bdeb0a_baeb_11eb_bfe9_0242ac1c0002row4_col1\" class=\"data row4 col1\" >145.34%</td>\n",
              "                        <td id=\"T_f9bdeb0a_baeb_11eb_bfe9_0242ac1c0002row4_col2\" class=\"data row4 col2\" >105.77%</td>\n",
              "                        <td id=\"T_f9bdeb0a_baeb_11eb_bfe9_0242ac1c0002row4_col3\" class=\"data row4 col3\" >16.56%</td>\n",
              "                        <td id=\"T_f9bdeb0a_baeb_11eb_bfe9_0242ac1c0002row4_col4\" class=\"data row4 col4\" >51.50%</td>\n",
              "            </tr>\n",
              "            <tr>\n",
              "                        <th id=\"T_f9bdeb0a_baeb_11eb_bfe9_0242ac1c0002level0_row5\" class=\"row_heading level0 row5\" >5</th>\n",
              "                        <td id=\"T_f9bdeb0a_baeb_11eb_bfe9_0242ac1c0002row5_col0\" class=\"data row5 col0\" >600.00%</td>\n",
              "                        <td id=\"T_f9bdeb0a_baeb_11eb_bfe9_0242ac1c0002row5_col1\" class=\"data row5 col1\" >-133.69%</td>\n",
              "                        <td id=\"T_f9bdeb0a_baeb_11eb_bfe9_0242ac1c0002row5_col2\" class=\"data row5 col2\" >56.29%</td>\n",
              "                        <td id=\"T_f9bdeb0a_baeb_11eb_bfe9_0242ac1c0002row5_col3\" class=\"data row5 col3\" >139.29%</td>\n",
              "                        <td id=\"T_f9bdeb0a_baeb_11eb_bfe9_0242ac1c0002row5_col4\" class=\"data row5 col4\" >-6.33%</td>\n",
              "            </tr>\n",
              "            <tr>\n",
              "                        <th id=\"T_f9bdeb0a_baeb_11eb_bfe9_0242ac1c0002level0_row6\" class=\"row_heading level0 row6\" >6</th>\n",
              "                        <td id=\"T_f9bdeb0a_baeb_11eb_bfe9_0242ac1c0002row6_col0\" class=\"data row6 col0\" >700.00%</td>\n",
              "                        <td id=\"T_f9bdeb0a_baeb_11eb_bfe9_0242ac1c0002row6_col1\" class=\"data row6 col1\" >12.17%</td>\n",
              "                        <td id=\"T_f9bdeb0a_baeb_11eb_bfe9_0242ac1c0002row6_col2\" class=\"data row6 col2\" >120.76%</td>\n",
              "                        <td id=\"T_f9bdeb0a_baeb_11eb_bfe9_0242ac1c0002row6_col3\" class=\"data row6 col3\" >-0.20%</td>\n",
              "                        <td id=\"T_f9bdeb0a_baeb_11eb_bfe9_0242ac1c0002row6_col4\" class=\"data row6 col4\" >162.78%</td>\n",
              "            </tr>\n",
              "            <tr>\n",
              "                        <th id=\"T_f9bdeb0a_baeb_11eb_bfe9_0242ac1c0002level0_row7\" class=\"row_heading level0 row7\" >7</th>\n",
              "                        <td id=\"T_f9bdeb0a_baeb_11eb_bfe9_0242ac1c0002row7_col0\" class=\"data row7 col0\" >800.00%</td>\n",
              "                        <td id=\"T_f9bdeb0a_baeb_11eb_bfe9_0242ac1c0002row7_col1\" class=\"data row7 col1\" >35.45%</td>\n",
              "                        <td id=\"T_f9bdeb0a_baeb_11eb_bfe9_0242ac1c0002row7_col2\" class=\"data row7 col2\" >103.75%</td>\n",
              "                        <td id=\"T_f9bdeb0a_baeb_11eb_bfe9_0242ac1c0002row7_col3\" class=\"data row7 col3\" >-38.57%</td>\n",
              "                        <td id=\"T_f9bdeb0a_baeb_11eb_bfe9_0242ac1c0002row7_col4\" class=\"data row7 col4\" >51.98%</td>\n",
              "            </tr>\n",
              "            <tr>\n",
              "                        <th id=\"T_f9bdeb0a_baeb_11eb_bfe9_0242ac1c0002level0_row8\" class=\"row_heading level0 row8\" >8</th>\n",
              "                        <td id=\"T_f9bdeb0a_baeb_11eb_bfe9_0242ac1c0002row8_col0\" class=\"data row8 col0\" >900.00%</td>\n",
              "                        <td id=\"T_f9bdeb0a_baeb_11eb_bfe9_0242ac1c0002row8_col1\" class=\"data row8 col1\" >168.66%</td>\n",
              "                        <td id=\"T_f9bdeb0a_baeb_11eb_bfe9_0242ac1c0002row8_col2\" class=\"data row8 col2\" >-132.60%</td>\n",
              "                        <td id=\"T_f9bdeb0a_baeb_11eb_bfe9_0242ac1c0002row8_col3\" class=\"data row8 col3\" >142.90%</td>\n",
              "                        <td id=\"T_f9bdeb0a_baeb_11eb_bfe9_0242ac1c0002row8_col4\" class=\"data row8 col4\" >-208.94%</td>\n",
              "            </tr>\n",
              "            <tr>\n",
              "                        <th id=\"T_f9bdeb0a_baeb_11eb_bfe9_0242ac1c0002level0_row9\" class=\"row_heading level0 row9\" >9</th>\n",
              "                        <td id=\"T_f9bdeb0a_baeb_11eb_bfe9_0242ac1c0002row9_col0\" class=\"data row9 col0\" >1000.00%</td>\n",
              "                        <td id=\"T_f9bdeb0a_baeb_11eb_bfe9_0242ac1c0002row9_col1\" class=\"data row9 col1\" >-12.98%</td>\n",
              "                        <td id=\"T_f9bdeb0a_baeb_11eb_bfe9_0242ac1c0002row9_col2\" class=\"data row9 col2\" >63.15%</td>\n",
              "                        <td id=\"T_f9bdeb0a_baeb_11eb_bfe9_0242ac1c0002row9_col3\" class=\"data row9 col3\" >-58.65%</td>\n",
              "                        <td id=\"T_f9bdeb0a_baeb_11eb_bfe9_0242ac1c0002row9_col4\" class=\"data row9 col4\" >29.07%</td>\n",
              "            </tr>\n",
              "    </tbody></table>"
            ],
            "text/plain": [
              "<pandas.io.formats.style.Styler at 0x7fe9ab31d410>"
            ]
          },
          "metadata": {
            "tags": []
          },
          "execution_count": 120
        }
      ]
    },
    {
      "cell_type": "code",
      "metadata": {
        "id": "wh8DUGnCkAdD",
        "colab": {
          "base_uri": "https://localhost:8080/",
          "height": 250
        },
        "outputId": "59c65a01-4af5-43b5-8f9f-91d9999f5964"
      },
      "source": [
        "# форматирование данных с выводом данных в виде % с двумя знаками после запятой \n",
        "# параметр (na_rep = \"NaN\") указывает вид отсутствующих значений\n",
        "# метод highlight_null() выделяет отсутствующие значения\n",
        "df.style.format(\"{:.2%}\", na_rep = \"NaN\").highlight_null()"
      ],
      "execution_count": null,
      "outputs": [
        {
          "output_type": "execute_result",
          "data": {
            "text/html": [
              "<style  type=\"text/css\" >\n",
              "#T_dc1c63a2_ba3b_11eb_a318_0242ac1c0002row0_col2,#T_dc1c63a2_ba3b_11eb_a318_0242ac1c0002row3_col3{\n",
              "            background-color:  red;\n",
              "        }</style><table id=\"T_dc1c63a2_ba3b_11eb_a318_0242ac1c0002\" ><thead>    <tr>        <th class=\"blank level0\" ></th>        <th class=\"col_heading level0 col0\" >A</th>        <th class=\"col_heading level0 col1\" >B</th>        <th class=\"col_heading level0 col2\" >C</th>        <th class=\"col_heading level0 col3\" >D</th>        <th class=\"col_heading level0 col4\" >E</th>    </tr></thead><tbody>\n",
              "                <tr>\n",
              "                        <th id=\"T_dc1c63a2_ba3b_11eb_a318_0242ac1c0002level0_row0\" class=\"row_heading level0 row0\" >0</th>\n",
              "                        <td id=\"T_dc1c63a2_ba3b_11eb_a318_0242ac1c0002row0_col0\" class=\"data row0 col0\" >100.00%</td>\n",
              "                        <td id=\"T_dc1c63a2_ba3b_11eb_a318_0242ac1c0002row0_col1\" class=\"data row0 col1\" >132.92%</td>\n",
              "                        <td id=\"T_dc1c63a2_ba3b_11eb_a318_0242ac1c0002row0_col2\" class=\"data row0 col2\" >NaN</td>\n",
              "                        <td id=\"T_dc1c63a2_ba3b_11eb_a318_0242ac1c0002row0_col3\" class=\"data row0 col3\" >-31.63%</td>\n",
              "                        <td id=\"T_dc1c63a2_ba3b_11eb_a318_0242ac1c0002row0_col4\" class=\"data row0 col4\" >-99.08%</td>\n",
              "            </tr>\n",
              "            <tr>\n",
              "                        <th id=\"T_dc1c63a2_ba3b_11eb_a318_0242ac1c0002level0_row1\" class=\"row_heading level0 row1\" >1</th>\n",
              "                        <td id=\"T_dc1c63a2_ba3b_11eb_a318_0242ac1c0002row1_col0\" class=\"data row1 col0\" >200.00%</td>\n",
              "                        <td id=\"T_dc1c63a2_ba3b_11eb_a318_0242ac1c0002row1_col1\" class=\"data row1 col1\" >-107.08%</td>\n",
              "                        <td id=\"T_dc1c63a2_ba3b_11eb_a318_0242ac1c0002row1_col2\" class=\"data row1 col2\" >-143.87%</td>\n",
              "                        <td id=\"T_dc1c63a2_ba3b_11eb_a318_0242ac1c0002row1_col3\" class=\"data row1 col3\" >56.44%</td>\n",
              "                        <td id=\"T_dc1c63a2_ba3b_11eb_a318_0242ac1c0002row1_col4\" class=\"data row1 col4\" >29.57%</td>\n",
              "            </tr>\n",
              "            <tr>\n",
              "                        <th id=\"T_dc1c63a2_ba3b_11eb_a318_0242ac1c0002level0_row2\" class=\"row_heading level0 row2\" >2</th>\n",
              "                        <td id=\"T_dc1c63a2_ba3b_11eb_a318_0242ac1c0002row2_col0\" class=\"data row2 col0\" >300.00%</td>\n",
              "                        <td id=\"T_dc1c63a2_ba3b_11eb_a318_0242ac1c0002row2_col1\" class=\"data row2 col1\" >-162.64%</td>\n",
              "                        <td id=\"T_dc1c63a2_ba3b_11eb_a318_0242ac1c0002row2_col2\" class=\"data row2 col2\" >21.96%</td>\n",
              "                        <td id=\"T_dc1c63a2_ba3b_11eb_a318_0242ac1c0002row2_col3\" class=\"data row2 col3\" >67.88%</td>\n",
              "                        <td id=\"T_dc1c63a2_ba3b_11eb_a318_0242ac1c0002row2_col4\" class=\"data row2 col4\" >188.93%</td>\n",
              "            </tr>\n",
              "            <tr>\n",
              "                        <th id=\"T_dc1c63a2_ba3b_11eb_a318_0242ac1c0002level0_row3\" class=\"row_heading level0 row3\" >3</th>\n",
              "                        <td id=\"T_dc1c63a2_ba3b_11eb_a318_0242ac1c0002row3_col0\" class=\"data row3 col0\" >400.00%</td>\n",
              "                        <td id=\"T_dc1c63a2_ba3b_11eb_a318_0242ac1c0002row3_col1\" class=\"data row3 col1\" >96.15%</td>\n",
              "                        <td id=\"T_dc1c63a2_ba3b_11eb_a318_0242ac1c0002row3_col2\" class=\"data row3 col2\" >10.40%</td>\n",
              "                        <td id=\"T_dc1c63a2_ba3b_11eb_a318_0242ac1c0002row3_col3\" class=\"data row3 col3\" >NaN</td>\n",
              "                        <td id=\"T_dc1c63a2_ba3b_11eb_a318_0242ac1c0002row3_col4\" class=\"data row3 col4\" >85.02%</td>\n",
              "            </tr>\n",
              "            <tr>\n",
              "                        <th id=\"T_dc1c63a2_ba3b_11eb_a318_0242ac1c0002level0_row4\" class=\"row_heading level0 row4\" >4</th>\n",
              "                        <td id=\"T_dc1c63a2_ba3b_11eb_a318_0242ac1c0002row4_col0\" class=\"data row4 col0\" >500.00%</td>\n",
              "                        <td id=\"T_dc1c63a2_ba3b_11eb_a318_0242ac1c0002row4_col1\" class=\"data row4 col1\" >145.34%</td>\n",
              "                        <td id=\"T_dc1c63a2_ba3b_11eb_a318_0242ac1c0002row4_col2\" class=\"data row4 col2\" >105.77%</td>\n",
              "                        <td id=\"T_dc1c63a2_ba3b_11eb_a318_0242ac1c0002row4_col3\" class=\"data row4 col3\" >16.56%</td>\n",
              "                        <td id=\"T_dc1c63a2_ba3b_11eb_a318_0242ac1c0002row4_col4\" class=\"data row4 col4\" >51.50%</td>\n",
              "            </tr>\n",
              "            <tr>\n",
              "                        <th id=\"T_dc1c63a2_ba3b_11eb_a318_0242ac1c0002level0_row5\" class=\"row_heading level0 row5\" >5</th>\n",
              "                        <td id=\"T_dc1c63a2_ba3b_11eb_a318_0242ac1c0002row5_col0\" class=\"data row5 col0\" >600.00%</td>\n",
              "                        <td id=\"T_dc1c63a2_ba3b_11eb_a318_0242ac1c0002row5_col1\" class=\"data row5 col1\" >-133.69%</td>\n",
              "                        <td id=\"T_dc1c63a2_ba3b_11eb_a318_0242ac1c0002row5_col2\" class=\"data row5 col2\" >56.29%</td>\n",
              "                        <td id=\"T_dc1c63a2_ba3b_11eb_a318_0242ac1c0002row5_col3\" class=\"data row5 col3\" >139.29%</td>\n",
              "                        <td id=\"T_dc1c63a2_ba3b_11eb_a318_0242ac1c0002row5_col4\" class=\"data row5 col4\" >-6.33%</td>\n",
              "            </tr>\n",
              "            <tr>\n",
              "                        <th id=\"T_dc1c63a2_ba3b_11eb_a318_0242ac1c0002level0_row6\" class=\"row_heading level0 row6\" >6</th>\n",
              "                        <td id=\"T_dc1c63a2_ba3b_11eb_a318_0242ac1c0002row6_col0\" class=\"data row6 col0\" >700.00%</td>\n",
              "                        <td id=\"T_dc1c63a2_ba3b_11eb_a318_0242ac1c0002row6_col1\" class=\"data row6 col1\" >12.17%</td>\n",
              "                        <td id=\"T_dc1c63a2_ba3b_11eb_a318_0242ac1c0002row6_col2\" class=\"data row6 col2\" >120.76%</td>\n",
              "                        <td id=\"T_dc1c63a2_ba3b_11eb_a318_0242ac1c0002row6_col3\" class=\"data row6 col3\" >-0.20%</td>\n",
              "                        <td id=\"T_dc1c63a2_ba3b_11eb_a318_0242ac1c0002row6_col4\" class=\"data row6 col4\" >162.78%</td>\n",
              "            </tr>\n",
              "            <tr>\n",
              "                        <th id=\"T_dc1c63a2_ba3b_11eb_a318_0242ac1c0002level0_row7\" class=\"row_heading level0 row7\" >7</th>\n",
              "                        <td id=\"T_dc1c63a2_ba3b_11eb_a318_0242ac1c0002row7_col0\" class=\"data row7 col0\" >800.00%</td>\n",
              "                        <td id=\"T_dc1c63a2_ba3b_11eb_a318_0242ac1c0002row7_col1\" class=\"data row7 col1\" >35.45%</td>\n",
              "                        <td id=\"T_dc1c63a2_ba3b_11eb_a318_0242ac1c0002row7_col2\" class=\"data row7 col2\" >103.75%</td>\n",
              "                        <td id=\"T_dc1c63a2_ba3b_11eb_a318_0242ac1c0002row7_col3\" class=\"data row7 col3\" >-38.57%</td>\n",
              "                        <td id=\"T_dc1c63a2_ba3b_11eb_a318_0242ac1c0002row7_col4\" class=\"data row7 col4\" >51.98%</td>\n",
              "            </tr>\n",
              "            <tr>\n",
              "                        <th id=\"T_dc1c63a2_ba3b_11eb_a318_0242ac1c0002level0_row8\" class=\"row_heading level0 row8\" >8</th>\n",
              "                        <td id=\"T_dc1c63a2_ba3b_11eb_a318_0242ac1c0002row8_col0\" class=\"data row8 col0\" >900.00%</td>\n",
              "                        <td id=\"T_dc1c63a2_ba3b_11eb_a318_0242ac1c0002row8_col1\" class=\"data row8 col1\" >168.66%</td>\n",
              "                        <td id=\"T_dc1c63a2_ba3b_11eb_a318_0242ac1c0002row8_col2\" class=\"data row8 col2\" >-132.60%</td>\n",
              "                        <td id=\"T_dc1c63a2_ba3b_11eb_a318_0242ac1c0002row8_col3\" class=\"data row8 col3\" >142.90%</td>\n",
              "                        <td id=\"T_dc1c63a2_ba3b_11eb_a318_0242ac1c0002row8_col4\" class=\"data row8 col4\" >-208.94%</td>\n",
              "            </tr>\n",
              "            <tr>\n",
              "                        <th id=\"T_dc1c63a2_ba3b_11eb_a318_0242ac1c0002level0_row9\" class=\"row_heading level0 row9\" >9</th>\n",
              "                        <td id=\"T_dc1c63a2_ba3b_11eb_a318_0242ac1c0002row9_col0\" class=\"data row9 col0\" >1000.00%</td>\n",
              "                        <td id=\"T_dc1c63a2_ba3b_11eb_a318_0242ac1c0002row9_col1\" class=\"data row9 col1\" >-12.98%</td>\n",
              "                        <td id=\"T_dc1c63a2_ba3b_11eb_a318_0242ac1c0002row9_col2\" class=\"data row9 col2\" >63.15%</td>\n",
              "                        <td id=\"T_dc1c63a2_ba3b_11eb_a318_0242ac1c0002row9_col3\" class=\"data row9 col3\" >-58.65%</td>\n",
              "                        <td id=\"T_dc1c63a2_ba3b_11eb_a318_0242ac1c0002row9_col4\" class=\"data row9 col4\" >29.07%</td>\n",
              "            </tr>\n",
              "    </tbody></table>"
            ],
            "text/plain": [
              "<pandas.io.formats.style.Styler at 0x7f09ed43ff10>"
            ]
          },
          "metadata": {
            "tags": []
          },
          "execution_count": 299
        }
      ]
    },
    {
      "cell_type": "code",
      "metadata": {
        "id": "TTXtWIQSkayu",
        "colab": {
          "base_uri": "https://localhost:8080/",
          "height": 250
        },
        "outputId": "b0dca024-549e-428c-cc86-73c96f23d58d"
      },
      "source": [
        "# форматирование данных с выводом данных в виде % с двумя знаками после запятой \n",
        "# параметр (na_rep = \"NaN\") указывает вид отсутствующих значений\n",
        "# метод highlight_null() выделяет отсутствующие значения, параметр (null_color = 'yellow') позволяет задать цвет выделения\n",
        "df.style.format(\"{:.2%}\", na_rep = \"NaN\").highlight_null()\n",
        "df.style.format(\"{:.2%}\", na_rep = \"NaN\").highlight_null(null_color = 'yellow')"
      ],
      "execution_count": null,
      "outputs": [
        {
          "output_type": "execute_result",
          "data": {
            "text/html": [
              "<style  type=\"text/css\" >\n",
              "#T_ff51de74_ba3b_11eb_a318_0242ac1c0002row0_col2,#T_ff51de74_ba3b_11eb_a318_0242ac1c0002row3_col3{\n",
              "            background-color:  yellow;\n",
              "        }</style><table id=\"T_ff51de74_ba3b_11eb_a318_0242ac1c0002\" ><thead>    <tr>        <th class=\"blank level0\" ></th>        <th class=\"col_heading level0 col0\" >A</th>        <th class=\"col_heading level0 col1\" >B</th>        <th class=\"col_heading level0 col2\" >C</th>        <th class=\"col_heading level0 col3\" >D</th>        <th class=\"col_heading level0 col4\" >E</th>    </tr></thead><tbody>\n",
              "                <tr>\n",
              "                        <th id=\"T_ff51de74_ba3b_11eb_a318_0242ac1c0002level0_row0\" class=\"row_heading level0 row0\" >0</th>\n",
              "                        <td id=\"T_ff51de74_ba3b_11eb_a318_0242ac1c0002row0_col0\" class=\"data row0 col0\" >100.00%</td>\n",
              "                        <td id=\"T_ff51de74_ba3b_11eb_a318_0242ac1c0002row0_col1\" class=\"data row0 col1\" >132.92%</td>\n",
              "                        <td id=\"T_ff51de74_ba3b_11eb_a318_0242ac1c0002row0_col2\" class=\"data row0 col2\" >NaN</td>\n",
              "                        <td id=\"T_ff51de74_ba3b_11eb_a318_0242ac1c0002row0_col3\" class=\"data row0 col3\" >-31.63%</td>\n",
              "                        <td id=\"T_ff51de74_ba3b_11eb_a318_0242ac1c0002row0_col4\" class=\"data row0 col4\" >-99.08%</td>\n",
              "            </tr>\n",
              "            <tr>\n",
              "                        <th id=\"T_ff51de74_ba3b_11eb_a318_0242ac1c0002level0_row1\" class=\"row_heading level0 row1\" >1</th>\n",
              "                        <td id=\"T_ff51de74_ba3b_11eb_a318_0242ac1c0002row1_col0\" class=\"data row1 col0\" >200.00%</td>\n",
              "                        <td id=\"T_ff51de74_ba3b_11eb_a318_0242ac1c0002row1_col1\" class=\"data row1 col1\" >-107.08%</td>\n",
              "                        <td id=\"T_ff51de74_ba3b_11eb_a318_0242ac1c0002row1_col2\" class=\"data row1 col2\" >-143.87%</td>\n",
              "                        <td id=\"T_ff51de74_ba3b_11eb_a318_0242ac1c0002row1_col3\" class=\"data row1 col3\" >56.44%</td>\n",
              "                        <td id=\"T_ff51de74_ba3b_11eb_a318_0242ac1c0002row1_col4\" class=\"data row1 col4\" >29.57%</td>\n",
              "            </tr>\n",
              "            <tr>\n",
              "                        <th id=\"T_ff51de74_ba3b_11eb_a318_0242ac1c0002level0_row2\" class=\"row_heading level0 row2\" >2</th>\n",
              "                        <td id=\"T_ff51de74_ba3b_11eb_a318_0242ac1c0002row2_col0\" class=\"data row2 col0\" >300.00%</td>\n",
              "                        <td id=\"T_ff51de74_ba3b_11eb_a318_0242ac1c0002row2_col1\" class=\"data row2 col1\" >-162.64%</td>\n",
              "                        <td id=\"T_ff51de74_ba3b_11eb_a318_0242ac1c0002row2_col2\" class=\"data row2 col2\" >21.96%</td>\n",
              "                        <td id=\"T_ff51de74_ba3b_11eb_a318_0242ac1c0002row2_col3\" class=\"data row2 col3\" >67.88%</td>\n",
              "                        <td id=\"T_ff51de74_ba3b_11eb_a318_0242ac1c0002row2_col4\" class=\"data row2 col4\" >188.93%</td>\n",
              "            </tr>\n",
              "            <tr>\n",
              "                        <th id=\"T_ff51de74_ba3b_11eb_a318_0242ac1c0002level0_row3\" class=\"row_heading level0 row3\" >3</th>\n",
              "                        <td id=\"T_ff51de74_ba3b_11eb_a318_0242ac1c0002row3_col0\" class=\"data row3 col0\" >400.00%</td>\n",
              "                        <td id=\"T_ff51de74_ba3b_11eb_a318_0242ac1c0002row3_col1\" class=\"data row3 col1\" >96.15%</td>\n",
              "                        <td id=\"T_ff51de74_ba3b_11eb_a318_0242ac1c0002row3_col2\" class=\"data row3 col2\" >10.40%</td>\n",
              "                        <td id=\"T_ff51de74_ba3b_11eb_a318_0242ac1c0002row3_col3\" class=\"data row3 col3\" >NaN</td>\n",
              "                        <td id=\"T_ff51de74_ba3b_11eb_a318_0242ac1c0002row3_col4\" class=\"data row3 col4\" >85.02%</td>\n",
              "            </tr>\n",
              "            <tr>\n",
              "                        <th id=\"T_ff51de74_ba3b_11eb_a318_0242ac1c0002level0_row4\" class=\"row_heading level0 row4\" >4</th>\n",
              "                        <td id=\"T_ff51de74_ba3b_11eb_a318_0242ac1c0002row4_col0\" class=\"data row4 col0\" >500.00%</td>\n",
              "                        <td id=\"T_ff51de74_ba3b_11eb_a318_0242ac1c0002row4_col1\" class=\"data row4 col1\" >145.34%</td>\n",
              "                        <td id=\"T_ff51de74_ba3b_11eb_a318_0242ac1c0002row4_col2\" class=\"data row4 col2\" >105.77%</td>\n",
              "                        <td id=\"T_ff51de74_ba3b_11eb_a318_0242ac1c0002row4_col3\" class=\"data row4 col3\" >16.56%</td>\n",
              "                        <td id=\"T_ff51de74_ba3b_11eb_a318_0242ac1c0002row4_col4\" class=\"data row4 col4\" >51.50%</td>\n",
              "            </tr>\n",
              "            <tr>\n",
              "                        <th id=\"T_ff51de74_ba3b_11eb_a318_0242ac1c0002level0_row5\" class=\"row_heading level0 row5\" >5</th>\n",
              "                        <td id=\"T_ff51de74_ba3b_11eb_a318_0242ac1c0002row5_col0\" class=\"data row5 col0\" >600.00%</td>\n",
              "                        <td id=\"T_ff51de74_ba3b_11eb_a318_0242ac1c0002row5_col1\" class=\"data row5 col1\" >-133.69%</td>\n",
              "                        <td id=\"T_ff51de74_ba3b_11eb_a318_0242ac1c0002row5_col2\" class=\"data row5 col2\" >56.29%</td>\n",
              "                        <td id=\"T_ff51de74_ba3b_11eb_a318_0242ac1c0002row5_col3\" class=\"data row5 col3\" >139.29%</td>\n",
              "                        <td id=\"T_ff51de74_ba3b_11eb_a318_0242ac1c0002row5_col4\" class=\"data row5 col4\" >-6.33%</td>\n",
              "            </tr>\n",
              "            <tr>\n",
              "                        <th id=\"T_ff51de74_ba3b_11eb_a318_0242ac1c0002level0_row6\" class=\"row_heading level0 row6\" >6</th>\n",
              "                        <td id=\"T_ff51de74_ba3b_11eb_a318_0242ac1c0002row6_col0\" class=\"data row6 col0\" >700.00%</td>\n",
              "                        <td id=\"T_ff51de74_ba3b_11eb_a318_0242ac1c0002row6_col1\" class=\"data row6 col1\" >12.17%</td>\n",
              "                        <td id=\"T_ff51de74_ba3b_11eb_a318_0242ac1c0002row6_col2\" class=\"data row6 col2\" >120.76%</td>\n",
              "                        <td id=\"T_ff51de74_ba3b_11eb_a318_0242ac1c0002row6_col3\" class=\"data row6 col3\" >-0.20%</td>\n",
              "                        <td id=\"T_ff51de74_ba3b_11eb_a318_0242ac1c0002row6_col4\" class=\"data row6 col4\" >162.78%</td>\n",
              "            </tr>\n",
              "            <tr>\n",
              "                        <th id=\"T_ff51de74_ba3b_11eb_a318_0242ac1c0002level0_row7\" class=\"row_heading level0 row7\" >7</th>\n",
              "                        <td id=\"T_ff51de74_ba3b_11eb_a318_0242ac1c0002row7_col0\" class=\"data row7 col0\" >800.00%</td>\n",
              "                        <td id=\"T_ff51de74_ba3b_11eb_a318_0242ac1c0002row7_col1\" class=\"data row7 col1\" >35.45%</td>\n",
              "                        <td id=\"T_ff51de74_ba3b_11eb_a318_0242ac1c0002row7_col2\" class=\"data row7 col2\" >103.75%</td>\n",
              "                        <td id=\"T_ff51de74_ba3b_11eb_a318_0242ac1c0002row7_col3\" class=\"data row7 col3\" >-38.57%</td>\n",
              "                        <td id=\"T_ff51de74_ba3b_11eb_a318_0242ac1c0002row7_col4\" class=\"data row7 col4\" >51.98%</td>\n",
              "            </tr>\n",
              "            <tr>\n",
              "                        <th id=\"T_ff51de74_ba3b_11eb_a318_0242ac1c0002level0_row8\" class=\"row_heading level0 row8\" >8</th>\n",
              "                        <td id=\"T_ff51de74_ba3b_11eb_a318_0242ac1c0002row8_col0\" class=\"data row8 col0\" >900.00%</td>\n",
              "                        <td id=\"T_ff51de74_ba3b_11eb_a318_0242ac1c0002row8_col1\" class=\"data row8 col1\" >168.66%</td>\n",
              "                        <td id=\"T_ff51de74_ba3b_11eb_a318_0242ac1c0002row8_col2\" class=\"data row8 col2\" >-132.60%</td>\n",
              "                        <td id=\"T_ff51de74_ba3b_11eb_a318_0242ac1c0002row8_col3\" class=\"data row8 col3\" >142.90%</td>\n",
              "                        <td id=\"T_ff51de74_ba3b_11eb_a318_0242ac1c0002row8_col4\" class=\"data row8 col4\" >-208.94%</td>\n",
              "            </tr>\n",
              "            <tr>\n",
              "                        <th id=\"T_ff51de74_ba3b_11eb_a318_0242ac1c0002level0_row9\" class=\"row_heading level0 row9\" >9</th>\n",
              "                        <td id=\"T_ff51de74_ba3b_11eb_a318_0242ac1c0002row9_col0\" class=\"data row9 col0\" >1000.00%</td>\n",
              "                        <td id=\"T_ff51de74_ba3b_11eb_a318_0242ac1c0002row9_col1\" class=\"data row9 col1\" >-12.98%</td>\n",
              "                        <td id=\"T_ff51de74_ba3b_11eb_a318_0242ac1c0002row9_col2\" class=\"data row9 col2\" >63.15%</td>\n",
              "                        <td id=\"T_ff51de74_ba3b_11eb_a318_0242ac1c0002row9_col3\" class=\"data row9 col3\" >-58.65%</td>\n",
              "                        <td id=\"T_ff51de74_ba3b_11eb_a318_0242ac1c0002row9_col4\" class=\"data row9 col4\" >29.07%</td>\n",
              "            </tr>\n",
              "    </tbody></table>"
            ],
            "text/plain": [
              "<pandas.io.formats.style.Styler at 0x7f09ec949c10>"
            ]
          },
          "metadata": {
            "tags": []
          },
          "execution_count": 302
        }
      ]
    },
    {
      "cell_type": "code",
      "metadata": {
        "id": "JCPsSyi_iHbq"
      },
      "source": [
        "# создание функции задающей цвет, в зависимости от значения входного числа, меньше 0 число или нет.\n",
        "# цвет красный, если число меньше 0, если больше - черный.\n",
        "# входные данные - одно число, выходные - строка с параметром цвета.\n",
        "def color_negative_red(val):\n",
        "    \"\"\"\n",
        "    Takes a scalar and returns a string with\n",
        "    the css property `'color: red'` for negative\n",
        "    strings, black otherwise.\n",
        "    \"\"\"\n",
        "    color = 'red' if val < 0 else 'black'\n",
        "    return 'color: %s' % color"
      ],
      "execution_count": null,
      "outputs": []
    },
    {
      "cell_type": "code",
      "metadata": {
        "id": "bj__e-42iOdL",
        "colab": {
          "base_uri": "https://localhost:8080/",
          "height": 250
        },
        "outputId": "9b8dd3df-2ed5-40fc-898d-e74cf6fa0529"
      },
      "source": [
        "# применение созданной функции color_negative_red используя метод applymap (applymap - позволяет применить функцию к каждому элементу датафрейма)\n",
        "s = df.style.applymap(color_negative_red)\n",
        "s"
      ],
      "execution_count": null,
      "outputs": [
        {
          "output_type": "execute_result",
          "data": {
            "text/html": [
              "<style  type=\"text/css\" >\n",
              "#T_676fd424_baec_11eb_bfe9_0242ac1c0002row0_col0,#T_676fd424_baec_11eb_bfe9_0242ac1c0002row0_col1,#T_676fd424_baec_11eb_bfe9_0242ac1c0002row0_col2,#T_676fd424_baec_11eb_bfe9_0242ac1c0002row1_col0,#T_676fd424_baec_11eb_bfe9_0242ac1c0002row1_col3,#T_676fd424_baec_11eb_bfe9_0242ac1c0002row1_col4,#T_676fd424_baec_11eb_bfe9_0242ac1c0002row2_col0,#T_676fd424_baec_11eb_bfe9_0242ac1c0002row2_col2,#T_676fd424_baec_11eb_bfe9_0242ac1c0002row2_col3,#T_676fd424_baec_11eb_bfe9_0242ac1c0002row2_col4,#T_676fd424_baec_11eb_bfe9_0242ac1c0002row3_col0,#T_676fd424_baec_11eb_bfe9_0242ac1c0002row3_col1,#T_676fd424_baec_11eb_bfe9_0242ac1c0002row3_col2,#T_676fd424_baec_11eb_bfe9_0242ac1c0002row3_col3,#T_676fd424_baec_11eb_bfe9_0242ac1c0002row3_col4,#T_676fd424_baec_11eb_bfe9_0242ac1c0002row4_col0,#T_676fd424_baec_11eb_bfe9_0242ac1c0002row4_col1,#T_676fd424_baec_11eb_bfe9_0242ac1c0002row4_col2,#T_676fd424_baec_11eb_bfe9_0242ac1c0002row4_col3,#T_676fd424_baec_11eb_bfe9_0242ac1c0002row4_col4,#T_676fd424_baec_11eb_bfe9_0242ac1c0002row5_col0,#T_676fd424_baec_11eb_bfe9_0242ac1c0002row5_col2,#T_676fd424_baec_11eb_bfe9_0242ac1c0002row5_col3,#T_676fd424_baec_11eb_bfe9_0242ac1c0002row6_col0,#T_676fd424_baec_11eb_bfe9_0242ac1c0002row6_col1,#T_676fd424_baec_11eb_bfe9_0242ac1c0002row6_col2,#T_676fd424_baec_11eb_bfe9_0242ac1c0002row6_col4,#T_676fd424_baec_11eb_bfe9_0242ac1c0002row7_col0,#T_676fd424_baec_11eb_bfe9_0242ac1c0002row7_col1,#T_676fd424_baec_11eb_bfe9_0242ac1c0002row7_col2,#T_676fd424_baec_11eb_bfe9_0242ac1c0002row7_col4,#T_676fd424_baec_11eb_bfe9_0242ac1c0002row8_col0,#T_676fd424_baec_11eb_bfe9_0242ac1c0002row8_col1,#T_676fd424_baec_11eb_bfe9_0242ac1c0002row8_col3,#T_676fd424_baec_11eb_bfe9_0242ac1c0002row9_col0,#T_676fd424_baec_11eb_bfe9_0242ac1c0002row9_col2,#T_676fd424_baec_11eb_bfe9_0242ac1c0002row9_col4{\n",
              "            color:  black;\n",
              "        }#T_676fd424_baec_11eb_bfe9_0242ac1c0002row0_col3,#T_676fd424_baec_11eb_bfe9_0242ac1c0002row0_col4,#T_676fd424_baec_11eb_bfe9_0242ac1c0002row1_col1,#T_676fd424_baec_11eb_bfe9_0242ac1c0002row1_col2,#T_676fd424_baec_11eb_bfe9_0242ac1c0002row2_col1,#T_676fd424_baec_11eb_bfe9_0242ac1c0002row5_col1,#T_676fd424_baec_11eb_bfe9_0242ac1c0002row5_col4,#T_676fd424_baec_11eb_bfe9_0242ac1c0002row6_col3,#T_676fd424_baec_11eb_bfe9_0242ac1c0002row7_col3,#T_676fd424_baec_11eb_bfe9_0242ac1c0002row8_col2,#T_676fd424_baec_11eb_bfe9_0242ac1c0002row8_col4,#T_676fd424_baec_11eb_bfe9_0242ac1c0002row9_col1,#T_676fd424_baec_11eb_bfe9_0242ac1c0002row9_col3{\n",
              "            color:  red;\n",
              "        }</style><table id=\"T_676fd424_baec_11eb_bfe9_0242ac1c0002\" ><thead>    <tr>        <th class=\"blank level0\" ></th>        <th class=\"col_heading level0 col0\" >A</th>        <th class=\"col_heading level0 col1\" >B</th>        <th class=\"col_heading level0 col2\" >C</th>        <th class=\"col_heading level0 col3\" >D</th>        <th class=\"col_heading level0 col4\" >E</th>    </tr></thead><tbody>\n",
              "                <tr>\n",
              "                        <th id=\"T_676fd424_baec_11eb_bfe9_0242ac1c0002level0_row0\" class=\"row_heading level0 row0\" >0</th>\n",
              "                        <td id=\"T_676fd424_baec_11eb_bfe9_0242ac1c0002row0_col0\" class=\"data row0 col0\" >1.000000</td>\n",
              "                        <td id=\"T_676fd424_baec_11eb_bfe9_0242ac1c0002row0_col1\" class=\"data row0 col1\" >1.329212</td>\n",
              "                        <td id=\"T_676fd424_baec_11eb_bfe9_0242ac1c0002row0_col2\" class=\"data row0 col2\" >nan</td>\n",
              "                        <td id=\"T_676fd424_baec_11eb_bfe9_0242ac1c0002row0_col3\" class=\"data row0 col3\" >-0.316280</td>\n",
              "                        <td id=\"T_676fd424_baec_11eb_bfe9_0242ac1c0002row0_col4\" class=\"data row0 col4\" >-0.990810</td>\n",
              "            </tr>\n",
              "            <tr>\n",
              "                        <th id=\"T_676fd424_baec_11eb_bfe9_0242ac1c0002level0_row1\" class=\"row_heading level0 row1\" >1</th>\n",
              "                        <td id=\"T_676fd424_baec_11eb_bfe9_0242ac1c0002row1_col0\" class=\"data row1 col0\" >2.000000</td>\n",
              "                        <td id=\"T_676fd424_baec_11eb_bfe9_0242ac1c0002row1_col1\" class=\"data row1 col1\" >-1.070816</td>\n",
              "                        <td id=\"T_676fd424_baec_11eb_bfe9_0242ac1c0002row1_col2\" class=\"data row1 col2\" >-1.438713</td>\n",
              "                        <td id=\"T_676fd424_baec_11eb_bfe9_0242ac1c0002row1_col3\" class=\"data row1 col3\" >0.564417</td>\n",
              "                        <td id=\"T_676fd424_baec_11eb_bfe9_0242ac1c0002row1_col4\" class=\"data row1 col4\" >0.295722</td>\n",
              "            </tr>\n",
              "            <tr>\n",
              "                        <th id=\"T_676fd424_baec_11eb_bfe9_0242ac1c0002level0_row2\" class=\"row_heading level0 row2\" >2</th>\n",
              "                        <td id=\"T_676fd424_baec_11eb_bfe9_0242ac1c0002row2_col0\" class=\"data row2 col0\" >3.000000</td>\n",
              "                        <td id=\"T_676fd424_baec_11eb_bfe9_0242ac1c0002row2_col1\" class=\"data row2 col1\" >-1.626404</td>\n",
              "                        <td id=\"T_676fd424_baec_11eb_bfe9_0242ac1c0002row2_col2\" class=\"data row2 col2\" >0.219565</td>\n",
              "                        <td id=\"T_676fd424_baec_11eb_bfe9_0242ac1c0002row2_col3\" class=\"data row2 col3\" >0.678805</td>\n",
              "                        <td id=\"T_676fd424_baec_11eb_bfe9_0242ac1c0002row2_col4\" class=\"data row2 col4\" >1.889273</td>\n",
              "            </tr>\n",
              "            <tr>\n",
              "                        <th id=\"T_676fd424_baec_11eb_bfe9_0242ac1c0002level0_row3\" class=\"row_heading level0 row3\" >3</th>\n",
              "                        <td id=\"T_676fd424_baec_11eb_bfe9_0242ac1c0002row3_col0\" class=\"data row3 col0\" >4.000000</td>\n",
              "                        <td id=\"T_676fd424_baec_11eb_bfe9_0242ac1c0002row3_col1\" class=\"data row3 col1\" >0.961538</td>\n",
              "                        <td id=\"T_676fd424_baec_11eb_bfe9_0242ac1c0002row3_col2\" class=\"data row3 col2\" >0.104011</td>\n",
              "                        <td id=\"T_676fd424_baec_11eb_bfe9_0242ac1c0002row3_col3\" class=\"data row3 col3\" >nan</td>\n",
              "                        <td id=\"T_676fd424_baec_11eb_bfe9_0242ac1c0002row3_col4\" class=\"data row3 col4\" >0.850229</td>\n",
              "            </tr>\n",
              "            <tr>\n",
              "                        <th id=\"T_676fd424_baec_11eb_bfe9_0242ac1c0002level0_row4\" class=\"row_heading level0 row4\" >4</th>\n",
              "                        <td id=\"T_676fd424_baec_11eb_bfe9_0242ac1c0002row4_col0\" class=\"data row4 col0\" >5.000000</td>\n",
              "                        <td id=\"T_676fd424_baec_11eb_bfe9_0242ac1c0002row4_col1\" class=\"data row4 col1\" >1.453425</td>\n",
              "                        <td id=\"T_676fd424_baec_11eb_bfe9_0242ac1c0002row4_col2\" class=\"data row4 col2\" >1.057737</td>\n",
              "                        <td id=\"T_676fd424_baec_11eb_bfe9_0242ac1c0002row4_col3\" class=\"data row4 col3\" >0.165562</td>\n",
              "                        <td id=\"T_676fd424_baec_11eb_bfe9_0242ac1c0002row4_col4\" class=\"data row4 col4\" >0.515018</td>\n",
              "            </tr>\n",
              "            <tr>\n",
              "                        <th id=\"T_676fd424_baec_11eb_bfe9_0242ac1c0002level0_row5\" class=\"row_heading level0 row5\" >5</th>\n",
              "                        <td id=\"T_676fd424_baec_11eb_bfe9_0242ac1c0002row5_col0\" class=\"data row5 col0\" >6.000000</td>\n",
              "                        <td id=\"T_676fd424_baec_11eb_bfe9_0242ac1c0002row5_col1\" class=\"data row5 col1\" >-1.336936</td>\n",
              "                        <td id=\"T_676fd424_baec_11eb_bfe9_0242ac1c0002row5_col2\" class=\"data row5 col2\" >0.562861</td>\n",
              "                        <td id=\"T_676fd424_baec_11eb_bfe9_0242ac1c0002row5_col3\" class=\"data row5 col3\" >1.392855</td>\n",
              "                        <td id=\"T_676fd424_baec_11eb_bfe9_0242ac1c0002row5_col4\" class=\"data row5 col4\" >-0.063328</td>\n",
              "            </tr>\n",
              "            <tr>\n",
              "                        <th id=\"T_676fd424_baec_11eb_bfe9_0242ac1c0002level0_row6\" class=\"row_heading level0 row6\" >6</th>\n",
              "                        <td id=\"T_676fd424_baec_11eb_bfe9_0242ac1c0002row6_col0\" class=\"data row6 col0\" >7.000000</td>\n",
              "                        <td id=\"T_676fd424_baec_11eb_bfe9_0242ac1c0002row6_col1\" class=\"data row6 col1\" >0.121668</td>\n",
              "                        <td id=\"T_676fd424_baec_11eb_bfe9_0242ac1c0002row6_col2\" class=\"data row6 col2\" >1.207603</td>\n",
              "                        <td id=\"T_676fd424_baec_11eb_bfe9_0242ac1c0002row6_col3\" class=\"data row6 col3\" >-0.002040</td>\n",
              "                        <td id=\"T_676fd424_baec_11eb_bfe9_0242ac1c0002row6_col4\" class=\"data row6 col4\" >1.627796</td>\n",
              "            </tr>\n",
              "            <tr>\n",
              "                        <th id=\"T_676fd424_baec_11eb_bfe9_0242ac1c0002level0_row7\" class=\"row_heading level0 row7\" >7</th>\n",
              "                        <td id=\"T_676fd424_baec_11eb_bfe9_0242ac1c0002row7_col0\" class=\"data row7 col0\" >8.000000</td>\n",
              "                        <td id=\"T_676fd424_baec_11eb_bfe9_0242ac1c0002row7_col1\" class=\"data row7 col1\" >0.354493</td>\n",
              "                        <td id=\"T_676fd424_baec_11eb_bfe9_0242ac1c0002row7_col2\" class=\"data row7 col2\" >1.037528</td>\n",
              "                        <td id=\"T_676fd424_baec_11eb_bfe9_0242ac1c0002row7_col3\" class=\"data row7 col3\" >-0.385684</td>\n",
              "                        <td id=\"T_676fd424_baec_11eb_bfe9_0242ac1c0002row7_col4\" class=\"data row7 col4\" >0.519818</td>\n",
              "            </tr>\n",
              "            <tr>\n",
              "                        <th id=\"T_676fd424_baec_11eb_bfe9_0242ac1c0002level0_row8\" class=\"row_heading level0 row8\" >8</th>\n",
              "                        <td id=\"T_676fd424_baec_11eb_bfe9_0242ac1c0002row8_col0\" class=\"data row8 col0\" >9.000000</td>\n",
              "                        <td id=\"T_676fd424_baec_11eb_bfe9_0242ac1c0002row8_col1\" class=\"data row8 col1\" >1.686583</td>\n",
              "                        <td id=\"T_676fd424_baec_11eb_bfe9_0242ac1c0002row8_col2\" class=\"data row8 col2\" >-1.325963</td>\n",
              "                        <td id=\"T_676fd424_baec_11eb_bfe9_0242ac1c0002row8_col3\" class=\"data row8 col3\" >1.428984</td>\n",
              "                        <td id=\"T_676fd424_baec_11eb_bfe9_0242ac1c0002row8_col4\" class=\"data row8 col4\" >-2.089354</td>\n",
              "            </tr>\n",
              "            <tr>\n",
              "                        <th id=\"T_676fd424_baec_11eb_bfe9_0242ac1c0002level0_row9\" class=\"row_heading level0 row9\" >9</th>\n",
              "                        <td id=\"T_676fd424_baec_11eb_bfe9_0242ac1c0002row9_col0\" class=\"data row9 col0\" >10.000000</td>\n",
              "                        <td id=\"T_676fd424_baec_11eb_bfe9_0242ac1c0002row9_col1\" class=\"data row9 col1\" >-0.129820</td>\n",
              "                        <td id=\"T_676fd424_baec_11eb_bfe9_0242ac1c0002row9_col2\" class=\"data row9 col2\" >0.631523</td>\n",
              "                        <td id=\"T_676fd424_baec_11eb_bfe9_0242ac1c0002row9_col3\" class=\"data row9 col3\" >-0.586538</td>\n",
              "                        <td id=\"T_676fd424_baec_11eb_bfe9_0242ac1c0002row9_col4\" class=\"data row9 col4\" >0.290720</td>\n",
              "            </tr>\n",
              "    </tbody></table>"
            ],
            "text/plain": [
              "<pandas.io.formats.style.Styler at 0x7fe9ab04c1d0>"
            ]
          },
          "metadata": {
            "tags": []
          },
          "execution_count": 128
        }
      ]
    },
    {
      "cell_type": "code",
      "metadata": {
        "id": "OcFV-FREiUOX"
      },
      "source": [
        "# создание функции задающей цвет выделения 'background-color: yellow' для \n",
        "# числа имеющего максимальное значение в серии \n",
        "# входные данные - серия, выходные - строка с параметром цвета.\n",
        "def highlight_max(s):\n",
        "    '''\n",
        "    highlight the maximum in a Series yellow.\n",
        "    '''\n",
        "    is_max = s == s.max()\n",
        "    return ['background-color: yellow' if v else '' for v in is_max]"
      ],
      "execution_count": null,
      "outputs": []
    },
    {
      "cell_type": "code",
      "metadata": {
        "id": "oE1qk5MeiU4B",
        "colab": {
          "base_uri": "https://localhost:8080/",
          "height": 250
        },
        "outputId": "26b8cd5c-c09a-4f2f-b1ca-1eced4832cde"
      },
      "source": [
        "# применение созданной функции highlight_max используя метод apply (apply - позволяет применить функцию к каждой серии)\n",
        "df.style.apply(highlight_max)"
      ],
      "execution_count": null,
      "outputs": [
        {
          "output_type": "execute_result",
          "data": {
            "text/html": [
              "<style  type=\"text/css\" >\n",
              "#T_ed9389f6_baec_11eb_bfe9_0242ac1c0002row2_col4,#T_ed9389f6_baec_11eb_bfe9_0242ac1c0002row6_col2,#T_ed9389f6_baec_11eb_bfe9_0242ac1c0002row8_col1,#T_ed9389f6_baec_11eb_bfe9_0242ac1c0002row8_col3,#T_ed9389f6_baec_11eb_bfe9_0242ac1c0002row9_col0{\n",
              "            background-color:  yellow;\n",
              "        }</style><table id=\"T_ed9389f6_baec_11eb_bfe9_0242ac1c0002\" ><thead>    <tr>        <th class=\"blank level0\" ></th>        <th class=\"col_heading level0 col0\" >A</th>        <th class=\"col_heading level0 col1\" >B</th>        <th class=\"col_heading level0 col2\" >C</th>        <th class=\"col_heading level0 col3\" >D</th>        <th class=\"col_heading level0 col4\" >E</th>    </tr></thead><tbody>\n",
              "                <tr>\n",
              "                        <th id=\"T_ed9389f6_baec_11eb_bfe9_0242ac1c0002level0_row0\" class=\"row_heading level0 row0\" >0</th>\n",
              "                        <td id=\"T_ed9389f6_baec_11eb_bfe9_0242ac1c0002row0_col0\" class=\"data row0 col0\" >1.000000</td>\n",
              "                        <td id=\"T_ed9389f6_baec_11eb_bfe9_0242ac1c0002row0_col1\" class=\"data row0 col1\" >1.329212</td>\n",
              "                        <td id=\"T_ed9389f6_baec_11eb_bfe9_0242ac1c0002row0_col2\" class=\"data row0 col2\" >nan</td>\n",
              "                        <td id=\"T_ed9389f6_baec_11eb_bfe9_0242ac1c0002row0_col3\" class=\"data row0 col3\" >-0.316280</td>\n",
              "                        <td id=\"T_ed9389f6_baec_11eb_bfe9_0242ac1c0002row0_col4\" class=\"data row0 col4\" >-0.990810</td>\n",
              "            </tr>\n",
              "            <tr>\n",
              "                        <th id=\"T_ed9389f6_baec_11eb_bfe9_0242ac1c0002level0_row1\" class=\"row_heading level0 row1\" >1</th>\n",
              "                        <td id=\"T_ed9389f6_baec_11eb_bfe9_0242ac1c0002row1_col0\" class=\"data row1 col0\" >2.000000</td>\n",
              "                        <td id=\"T_ed9389f6_baec_11eb_bfe9_0242ac1c0002row1_col1\" class=\"data row1 col1\" >-1.070816</td>\n",
              "                        <td id=\"T_ed9389f6_baec_11eb_bfe9_0242ac1c0002row1_col2\" class=\"data row1 col2\" >-1.438713</td>\n",
              "                        <td id=\"T_ed9389f6_baec_11eb_bfe9_0242ac1c0002row1_col3\" class=\"data row1 col3\" >0.564417</td>\n",
              "                        <td id=\"T_ed9389f6_baec_11eb_bfe9_0242ac1c0002row1_col4\" class=\"data row1 col4\" >0.295722</td>\n",
              "            </tr>\n",
              "            <tr>\n",
              "                        <th id=\"T_ed9389f6_baec_11eb_bfe9_0242ac1c0002level0_row2\" class=\"row_heading level0 row2\" >2</th>\n",
              "                        <td id=\"T_ed9389f6_baec_11eb_bfe9_0242ac1c0002row2_col0\" class=\"data row2 col0\" >3.000000</td>\n",
              "                        <td id=\"T_ed9389f6_baec_11eb_bfe9_0242ac1c0002row2_col1\" class=\"data row2 col1\" >-1.626404</td>\n",
              "                        <td id=\"T_ed9389f6_baec_11eb_bfe9_0242ac1c0002row2_col2\" class=\"data row2 col2\" >0.219565</td>\n",
              "                        <td id=\"T_ed9389f6_baec_11eb_bfe9_0242ac1c0002row2_col3\" class=\"data row2 col3\" >0.678805</td>\n",
              "                        <td id=\"T_ed9389f6_baec_11eb_bfe9_0242ac1c0002row2_col4\" class=\"data row2 col4\" >1.889273</td>\n",
              "            </tr>\n",
              "            <tr>\n",
              "                        <th id=\"T_ed9389f6_baec_11eb_bfe9_0242ac1c0002level0_row3\" class=\"row_heading level0 row3\" >3</th>\n",
              "                        <td id=\"T_ed9389f6_baec_11eb_bfe9_0242ac1c0002row3_col0\" class=\"data row3 col0\" >4.000000</td>\n",
              "                        <td id=\"T_ed9389f6_baec_11eb_bfe9_0242ac1c0002row3_col1\" class=\"data row3 col1\" >0.961538</td>\n",
              "                        <td id=\"T_ed9389f6_baec_11eb_bfe9_0242ac1c0002row3_col2\" class=\"data row3 col2\" >0.104011</td>\n",
              "                        <td id=\"T_ed9389f6_baec_11eb_bfe9_0242ac1c0002row3_col3\" class=\"data row3 col3\" >nan</td>\n",
              "                        <td id=\"T_ed9389f6_baec_11eb_bfe9_0242ac1c0002row3_col4\" class=\"data row3 col4\" >0.850229</td>\n",
              "            </tr>\n",
              "            <tr>\n",
              "                        <th id=\"T_ed9389f6_baec_11eb_bfe9_0242ac1c0002level0_row4\" class=\"row_heading level0 row4\" >4</th>\n",
              "                        <td id=\"T_ed9389f6_baec_11eb_bfe9_0242ac1c0002row4_col0\" class=\"data row4 col0\" >5.000000</td>\n",
              "                        <td id=\"T_ed9389f6_baec_11eb_bfe9_0242ac1c0002row4_col1\" class=\"data row4 col1\" >1.453425</td>\n",
              "                        <td id=\"T_ed9389f6_baec_11eb_bfe9_0242ac1c0002row4_col2\" class=\"data row4 col2\" >1.057737</td>\n",
              "                        <td id=\"T_ed9389f6_baec_11eb_bfe9_0242ac1c0002row4_col3\" class=\"data row4 col3\" >0.165562</td>\n",
              "                        <td id=\"T_ed9389f6_baec_11eb_bfe9_0242ac1c0002row4_col4\" class=\"data row4 col4\" >0.515018</td>\n",
              "            </tr>\n",
              "            <tr>\n",
              "                        <th id=\"T_ed9389f6_baec_11eb_bfe9_0242ac1c0002level0_row5\" class=\"row_heading level0 row5\" >5</th>\n",
              "                        <td id=\"T_ed9389f6_baec_11eb_bfe9_0242ac1c0002row5_col0\" class=\"data row5 col0\" >6.000000</td>\n",
              "                        <td id=\"T_ed9389f6_baec_11eb_bfe9_0242ac1c0002row5_col1\" class=\"data row5 col1\" >-1.336936</td>\n",
              "                        <td id=\"T_ed9389f6_baec_11eb_bfe9_0242ac1c0002row5_col2\" class=\"data row5 col2\" >0.562861</td>\n",
              "                        <td id=\"T_ed9389f6_baec_11eb_bfe9_0242ac1c0002row5_col3\" class=\"data row5 col3\" >1.392855</td>\n",
              "                        <td id=\"T_ed9389f6_baec_11eb_bfe9_0242ac1c0002row5_col4\" class=\"data row5 col4\" >-0.063328</td>\n",
              "            </tr>\n",
              "            <tr>\n",
              "                        <th id=\"T_ed9389f6_baec_11eb_bfe9_0242ac1c0002level0_row6\" class=\"row_heading level0 row6\" >6</th>\n",
              "                        <td id=\"T_ed9389f6_baec_11eb_bfe9_0242ac1c0002row6_col0\" class=\"data row6 col0\" >7.000000</td>\n",
              "                        <td id=\"T_ed9389f6_baec_11eb_bfe9_0242ac1c0002row6_col1\" class=\"data row6 col1\" >0.121668</td>\n",
              "                        <td id=\"T_ed9389f6_baec_11eb_bfe9_0242ac1c0002row6_col2\" class=\"data row6 col2\" >1.207603</td>\n",
              "                        <td id=\"T_ed9389f6_baec_11eb_bfe9_0242ac1c0002row6_col3\" class=\"data row6 col3\" >-0.002040</td>\n",
              "                        <td id=\"T_ed9389f6_baec_11eb_bfe9_0242ac1c0002row6_col4\" class=\"data row6 col4\" >1.627796</td>\n",
              "            </tr>\n",
              "            <tr>\n",
              "                        <th id=\"T_ed9389f6_baec_11eb_bfe9_0242ac1c0002level0_row7\" class=\"row_heading level0 row7\" >7</th>\n",
              "                        <td id=\"T_ed9389f6_baec_11eb_bfe9_0242ac1c0002row7_col0\" class=\"data row7 col0\" >8.000000</td>\n",
              "                        <td id=\"T_ed9389f6_baec_11eb_bfe9_0242ac1c0002row7_col1\" class=\"data row7 col1\" >0.354493</td>\n",
              "                        <td id=\"T_ed9389f6_baec_11eb_bfe9_0242ac1c0002row7_col2\" class=\"data row7 col2\" >1.037528</td>\n",
              "                        <td id=\"T_ed9389f6_baec_11eb_bfe9_0242ac1c0002row7_col3\" class=\"data row7 col3\" >-0.385684</td>\n",
              "                        <td id=\"T_ed9389f6_baec_11eb_bfe9_0242ac1c0002row7_col4\" class=\"data row7 col4\" >0.519818</td>\n",
              "            </tr>\n",
              "            <tr>\n",
              "                        <th id=\"T_ed9389f6_baec_11eb_bfe9_0242ac1c0002level0_row8\" class=\"row_heading level0 row8\" >8</th>\n",
              "                        <td id=\"T_ed9389f6_baec_11eb_bfe9_0242ac1c0002row8_col0\" class=\"data row8 col0\" >9.000000</td>\n",
              "                        <td id=\"T_ed9389f6_baec_11eb_bfe9_0242ac1c0002row8_col1\" class=\"data row8 col1\" >1.686583</td>\n",
              "                        <td id=\"T_ed9389f6_baec_11eb_bfe9_0242ac1c0002row8_col2\" class=\"data row8 col2\" >-1.325963</td>\n",
              "                        <td id=\"T_ed9389f6_baec_11eb_bfe9_0242ac1c0002row8_col3\" class=\"data row8 col3\" >1.428984</td>\n",
              "                        <td id=\"T_ed9389f6_baec_11eb_bfe9_0242ac1c0002row8_col4\" class=\"data row8 col4\" >-2.089354</td>\n",
              "            </tr>\n",
              "            <tr>\n",
              "                        <th id=\"T_ed9389f6_baec_11eb_bfe9_0242ac1c0002level0_row9\" class=\"row_heading level0 row9\" >9</th>\n",
              "                        <td id=\"T_ed9389f6_baec_11eb_bfe9_0242ac1c0002row9_col0\" class=\"data row9 col0\" >10.000000</td>\n",
              "                        <td id=\"T_ed9389f6_baec_11eb_bfe9_0242ac1c0002row9_col1\" class=\"data row9 col1\" >-0.129820</td>\n",
              "                        <td id=\"T_ed9389f6_baec_11eb_bfe9_0242ac1c0002row9_col2\" class=\"data row9 col2\" >0.631523</td>\n",
              "                        <td id=\"T_ed9389f6_baec_11eb_bfe9_0242ac1c0002row9_col3\" class=\"data row9 col3\" >-0.586538</td>\n",
              "                        <td id=\"T_ed9389f6_baec_11eb_bfe9_0242ac1c0002row9_col4\" class=\"data row9 col4\" >0.290720</td>\n",
              "            </tr>\n",
              "    </tbody></table>"
            ],
            "text/plain": [
              "<pandas.io.formats.style.Styler at 0x7fe9aa10ddd0>"
            ]
          },
          "metadata": {
            "tags": []
          },
          "execution_count": 136
        }
      ]
    },
    {
      "cell_type": "code",
      "metadata": {
        "id": "bN6ZkJBFibJF",
        "colab": {
          "base_uri": "https://localhost:8080/",
          "height": 250
        },
        "outputId": "4cab7d77-77a6-4b41-cd24-0a57441e81ad"
      },
      "source": [
        "# совместное применение функций\n",
        "# applymap - метод позволяющий применить функцию к каждому элементу\n",
        "# apply - метод позволяющий применить функцию к каждой серии\n",
        "df.style.applymap(color_negative_red).apply(highlight_max)"
      ],
      "execution_count": null,
      "outputs": [
        {
          "output_type": "execute_result",
          "data": {
            "text/html": [
              "<style  type=\"text/css\" >\n",
              "#T_9f1afb56_baec_11eb_bfe9_0242ac1c0002row0_col0,#T_9f1afb56_baec_11eb_bfe9_0242ac1c0002row0_col1,#T_9f1afb56_baec_11eb_bfe9_0242ac1c0002row0_col2,#T_9f1afb56_baec_11eb_bfe9_0242ac1c0002row1_col0,#T_9f1afb56_baec_11eb_bfe9_0242ac1c0002row1_col3,#T_9f1afb56_baec_11eb_bfe9_0242ac1c0002row1_col4,#T_9f1afb56_baec_11eb_bfe9_0242ac1c0002row2_col0,#T_9f1afb56_baec_11eb_bfe9_0242ac1c0002row2_col2,#T_9f1afb56_baec_11eb_bfe9_0242ac1c0002row2_col3,#T_9f1afb56_baec_11eb_bfe9_0242ac1c0002row3_col0,#T_9f1afb56_baec_11eb_bfe9_0242ac1c0002row3_col1,#T_9f1afb56_baec_11eb_bfe9_0242ac1c0002row3_col2,#T_9f1afb56_baec_11eb_bfe9_0242ac1c0002row3_col3,#T_9f1afb56_baec_11eb_bfe9_0242ac1c0002row3_col4,#T_9f1afb56_baec_11eb_bfe9_0242ac1c0002row4_col0,#T_9f1afb56_baec_11eb_bfe9_0242ac1c0002row4_col1,#T_9f1afb56_baec_11eb_bfe9_0242ac1c0002row4_col2,#T_9f1afb56_baec_11eb_bfe9_0242ac1c0002row4_col3,#T_9f1afb56_baec_11eb_bfe9_0242ac1c0002row4_col4,#T_9f1afb56_baec_11eb_bfe9_0242ac1c0002row5_col0,#T_9f1afb56_baec_11eb_bfe9_0242ac1c0002row5_col2,#T_9f1afb56_baec_11eb_bfe9_0242ac1c0002row5_col3,#T_9f1afb56_baec_11eb_bfe9_0242ac1c0002row6_col0,#T_9f1afb56_baec_11eb_bfe9_0242ac1c0002row6_col1,#T_9f1afb56_baec_11eb_bfe9_0242ac1c0002row6_col4,#T_9f1afb56_baec_11eb_bfe9_0242ac1c0002row7_col0,#T_9f1afb56_baec_11eb_bfe9_0242ac1c0002row7_col1,#T_9f1afb56_baec_11eb_bfe9_0242ac1c0002row7_col2,#T_9f1afb56_baec_11eb_bfe9_0242ac1c0002row7_col4,#T_9f1afb56_baec_11eb_bfe9_0242ac1c0002row8_col0,#T_9f1afb56_baec_11eb_bfe9_0242ac1c0002row9_col2,#T_9f1afb56_baec_11eb_bfe9_0242ac1c0002row9_col4{\n",
              "            color:  black;\n",
              "        }#T_9f1afb56_baec_11eb_bfe9_0242ac1c0002row0_col3,#T_9f1afb56_baec_11eb_bfe9_0242ac1c0002row0_col4,#T_9f1afb56_baec_11eb_bfe9_0242ac1c0002row1_col1,#T_9f1afb56_baec_11eb_bfe9_0242ac1c0002row1_col2,#T_9f1afb56_baec_11eb_bfe9_0242ac1c0002row2_col1,#T_9f1afb56_baec_11eb_bfe9_0242ac1c0002row5_col1,#T_9f1afb56_baec_11eb_bfe9_0242ac1c0002row5_col4,#T_9f1afb56_baec_11eb_bfe9_0242ac1c0002row6_col3,#T_9f1afb56_baec_11eb_bfe9_0242ac1c0002row7_col3,#T_9f1afb56_baec_11eb_bfe9_0242ac1c0002row8_col2,#T_9f1afb56_baec_11eb_bfe9_0242ac1c0002row8_col4,#T_9f1afb56_baec_11eb_bfe9_0242ac1c0002row9_col1,#T_9f1afb56_baec_11eb_bfe9_0242ac1c0002row9_col3{\n",
              "            color:  red;\n",
              "        }#T_9f1afb56_baec_11eb_bfe9_0242ac1c0002row2_col4,#T_9f1afb56_baec_11eb_bfe9_0242ac1c0002row6_col2,#T_9f1afb56_baec_11eb_bfe9_0242ac1c0002row8_col1,#T_9f1afb56_baec_11eb_bfe9_0242ac1c0002row8_col3,#T_9f1afb56_baec_11eb_bfe9_0242ac1c0002row9_col0{\n",
              "            color:  black;\n",
              "            background-color:  yellow;\n",
              "        }</style><table id=\"T_9f1afb56_baec_11eb_bfe9_0242ac1c0002\" ><thead>    <tr>        <th class=\"blank level0\" ></th>        <th class=\"col_heading level0 col0\" >A</th>        <th class=\"col_heading level0 col1\" >B</th>        <th class=\"col_heading level0 col2\" >C</th>        <th class=\"col_heading level0 col3\" >D</th>        <th class=\"col_heading level0 col4\" >E</th>    </tr></thead><tbody>\n",
              "                <tr>\n",
              "                        <th id=\"T_9f1afb56_baec_11eb_bfe9_0242ac1c0002level0_row0\" class=\"row_heading level0 row0\" >0</th>\n",
              "                        <td id=\"T_9f1afb56_baec_11eb_bfe9_0242ac1c0002row0_col0\" class=\"data row0 col0\" >1.000000</td>\n",
              "                        <td id=\"T_9f1afb56_baec_11eb_bfe9_0242ac1c0002row0_col1\" class=\"data row0 col1\" >1.329212</td>\n",
              "                        <td id=\"T_9f1afb56_baec_11eb_bfe9_0242ac1c0002row0_col2\" class=\"data row0 col2\" >nan</td>\n",
              "                        <td id=\"T_9f1afb56_baec_11eb_bfe9_0242ac1c0002row0_col3\" class=\"data row0 col3\" >-0.316280</td>\n",
              "                        <td id=\"T_9f1afb56_baec_11eb_bfe9_0242ac1c0002row0_col4\" class=\"data row0 col4\" >-0.990810</td>\n",
              "            </tr>\n",
              "            <tr>\n",
              "                        <th id=\"T_9f1afb56_baec_11eb_bfe9_0242ac1c0002level0_row1\" class=\"row_heading level0 row1\" >1</th>\n",
              "                        <td id=\"T_9f1afb56_baec_11eb_bfe9_0242ac1c0002row1_col0\" class=\"data row1 col0\" >2.000000</td>\n",
              "                        <td id=\"T_9f1afb56_baec_11eb_bfe9_0242ac1c0002row1_col1\" class=\"data row1 col1\" >-1.070816</td>\n",
              "                        <td id=\"T_9f1afb56_baec_11eb_bfe9_0242ac1c0002row1_col2\" class=\"data row1 col2\" >-1.438713</td>\n",
              "                        <td id=\"T_9f1afb56_baec_11eb_bfe9_0242ac1c0002row1_col3\" class=\"data row1 col3\" >0.564417</td>\n",
              "                        <td id=\"T_9f1afb56_baec_11eb_bfe9_0242ac1c0002row1_col4\" class=\"data row1 col4\" >0.295722</td>\n",
              "            </tr>\n",
              "            <tr>\n",
              "                        <th id=\"T_9f1afb56_baec_11eb_bfe9_0242ac1c0002level0_row2\" class=\"row_heading level0 row2\" >2</th>\n",
              "                        <td id=\"T_9f1afb56_baec_11eb_bfe9_0242ac1c0002row2_col0\" class=\"data row2 col0\" >3.000000</td>\n",
              "                        <td id=\"T_9f1afb56_baec_11eb_bfe9_0242ac1c0002row2_col1\" class=\"data row2 col1\" >-1.626404</td>\n",
              "                        <td id=\"T_9f1afb56_baec_11eb_bfe9_0242ac1c0002row2_col2\" class=\"data row2 col2\" >0.219565</td>\n",
              "                        <td id=\"T_9f1afb56_baec_11eb_bfe9_0242ac1c0002row2_col3\" class=\"data row2 col3\" >0.678805</td>\n",
              "                        <td id=\"T_9f1afb56_baec_11eb_bfe9_0242ac1c0002row2_col4\" class=\"data row2 col4\" >1.889273</td>\n",
              "            </tr>\n",
              "            <tr>\n",
              "                        <th id=\"T_9f1afb56_baec_11eb_bfe9_0242ac1c0002level0_row3\" class=\"row_heading level0 row3\" >3</th>\n",
              "                        <td id=\"T_9f1afb56_baec_11eb_bfe9_0242ac1c0002row3_col0\" class=\"data row3 col0\" >4.000000</td>\n",
              "                        <td id=\"T_9f1afb56_baec_11eb_bfe9_0242ac1c0002row3_col1\" class=\"data row3 col1\" >0.961538</td>\n",
              "                        <td id=\"T_9f1afb56_baec_11eb_bfe9_0242ac1c0002row3_col2\" class=\"data row3 col2\" >0.104011</td>\n",
              "                        <td id=\"T_9f1afb56_baec_11eb_bfe9_0242ac1c0002row3_col3\" class=\"data row3 col3\" >nan</td>\n",
              "                        <td id=\"T_9f1afb56_baec_11eb_bfe9_0242ac1c0002row3_col4\" class=\"data row3 col4\" >0.850229</td>\n",
              "            </tr>\n",
              "            <tr>\n",
              "                        <th id=\"T_9f1afb56_baec_11eb_bfe9_0242ac1c0002level0_row4\" class=\"row_heading level0 row4\" >4</th>\n",
              "                        <td id=\"T_9f1afb56_baec_11eb_bfe9_0242ac1c0002row4_col0\" class=\"data row4 col0\" >5.000000</td>\n",
              "                        <td id=\"T_9f1afb56_baec_11eb_bfe9_0242ac1c0002row4_col1\" class=\"data row4 col1\" >1.453425</td>\n",
              "                        <td id=\"T_9f1afb56_baec_11eb_bfe9_0242ac1c0002row4_col2\" class=\"data row4 col2\" >1.057737</td>\n",
              "                        <td id=\"T_9f1afb56_baec_11eb_bfe9_0242ac1c0002row4_col3\" class=\"data row4 col3\" >0.165562</td>\n",
              "                        <td id=\"T_9f1afb56_baec_11eb_bfe9_0242ac1c0002row4_col4\" class=\"data row4 col4\" >0.515018</td>\n",
              "            </tr>\n",
              "            <tr>\n",
              "                        <th id=\"T_9f1afb56_baec_11eb_bfe9_0242ac1c0002level0_row5\" class=\"row_heading level0 row5\" >5</th>\n",
              "                        <td id=\"T_9f1afb56_baec_11eb_bfe9_0242ac1c0002row5_col0\" class=\"data row5 col0\" >6.000000</td>\n",
              "                        <td id=\"T_9f1afb56_baec_11eb_bfe9_0242ac1c0002row5_col1\" class=\"data row5 col1\" >-1.336936</td>\n",
              "                        <td id=\"T_9f1afb56_baec_11eb_bfe9_0242ac1c0002row5_col2\" class=\"data row5 col2\" >0.562861</td>\n",
              "                        <td id=\"T_9f1afb56_baec_11eb_bfe9_0242ac1c0002row5_col3\" class=\"data row5 col3\" >1.392855</td>\n",
              "                        <td id=\"T_9f1afb56_baec_11eb_bfe9_0242ac1c0002row5_col4\" class=\"data row5 col4\" >-0.063328</td>\n",
              "            </tr>\n",
              "            <tr>\n",
              "                        <th id=\"T_9f1afb56_baec_11eb_bfe9_0242ac1c0002level0_row6\" class=\"row_heading level0 row6\" >6</th>\n",
              "                        <td id=\"T_9f1afb56_baec_11eb_bfe9_0242ac1c0002row6_col0\" class=\"data row6 col0\" >7.000000</td>\n",
              "                        <td id=\"T_9f1afb56_baec_11eb_bfe9_0242ac1c0002row6_col1\" class=\"data row6 col1\" >0.121668</td>\n",
              "                        <td id=\"T_9f1afb56_baec_11eb_bfe9_0242ac1c0002row6_col2\" class=\"data row6 col2\" >1.207603</td>\n",
              "                        <td id=\"T_9f1afb56_baec_11eb_bfe9_0242ac1c0002row6_col3\" class=\"data row6 col3\" >-0.002040</td>\n",
              "                        <td id=\"T_9f1afb56_baec_11eb_bfe9_0242ac1c0002row6_col4\" class=\"data row6 col4\" >1.627796</td>\n",
              "            </tr>\n",
              "            <tr>\n",
              "                        <th id=\"T_9f1afb56_baec_11eb_bfe9_0242ac1c0002level0_row7\" class=\"row_heading level0 row7\" >7</th>\n",
              "                        <td id=\"T_9f1afb56_baec_11eb_bfe9_0242ac1c0002row7_col0\" class=\"data row7 col0\" >8.000000</td>\n",
              "                        <td id=\"T_9f1afb56_baec_11eb_bfe9_0242ac1c0002row7_col1\" class=\"data row7 col1\" >0.354493</td>\n",
              "                        <td id=\"T_9f1afb56_baec_11eb_bfe9_0242ac1c0002row7_col2\" class=\"data row7 col2\" >1.037528</td>\n",
              "                        <td id=\"T_9f1afb56_baec_11eb_bfe9_0242ac1c0002row7_col3\" class=\"data row7 col3\" >-0.385684</td>\n",
              "                        <td id=\"T_9f1afb56_baec_11eb_bfe9_0242ac1c0002row7_col4\" class=\"data row7 col4\" >0.519818</td>\n",
              "            </tr>\n",
              "            <tr>\n",
              "                        <th id=\"T_9f1afb56_baec_11eb_bfe9_0242ac1c0002level0_row8\" class=\"row_heading level0 row8\" >8</th>\n",
              "                        <td id=\"T_9f1afb56_baec_11eb_bfe9_0242ac1c0002row8_col0\" class=\"data row8 col0\" >9.000000</td>\n",
              "                        <td id=\"T_9f1afb56_baec_11eb_bfe9_0242ac1c0002row8_col1\" class=\"data row8 col1\" >1.686583</td>\n",
              "                        <td id=\"T_9f1afb56_baec_11eb_bfe9_0242ac1c0002row8_col2\" class=\"data row8 col2\" >-1.325963</td>\n",
              "                        <td id=\"T_9f1afb56_baec_11eb_bfe9_0242ac1c0002row8_col3\" class=\"data row8 col3\" >1.428984</td>\n",
              "                        <td id=\"T_9f1afb56_baec_11eb_bfe9_0242ac1c0002row8_col4\" class=\"data row8 col4\" >-2.089354</td>\n",
              "            </tr>\n",
              "            <tr>\n",
              "                        <th id=\"T_9f1afb56_baec_11eb_bfe9_0242ac1c0002level0_row9\" class=\"row_heading level0 row9\" >9</th>\n",
              "                        <td id=\"T_9f1afb56_baec_11eb_bfe9_0242ac1c0002row9_col0\" class=\"data row9 col0\" >10.000000</td>\n",
              "                        <td id=\"T_9f1afb56_baec_11eb_bfe9_0242ac1c0002row9_col1\" class=\"data row9 col1\" >-0.129820</td>\n",
              "                        <td id=\"T_9f1afb56_baec_11eb_bfe9_0242ac1c0002row9_col2\" class=\"data row9 col2\" >0.631523</td>\n",
              "                        <td id=\"T_9f1afb56_baec_11eb_bfe9_0242ac1c0002row9_col3\" class=\"data row9 col3\" >-0.586538</td>\n",
              "                        <td id=\"T_9f1afb56_baec_11eb_bfe9_0242ac1c0002row9_col4\" class=\"data row9 col4\" >0.290720</td>\n",
              "            </tr>\n",
              "    </tbody></table>"
            ],
            "text/plain": [
              "<pandas.io.formats.style.Styler at 0x7fe9aa031290>"
            ]
          },
          "metadata": {
            "tags": []
          },
          "execution_count": 131
        }
      ]
    },
    {
      "cell_type": "code",
      "metadata": {
        "id": "l_0s9HvuibNd",
        "colab": {
          "base_uri": "https://localhost:8080/",
          "height": 250
        },
        "outputId": "a6985142-f070-4059-c470-86e7e2306a77"
      },
      "source": [
        "# применеие функции выделения наибольших значений только для столбцов указанных в параметре subset=[]\n",
        "df.style.apply(highlight_max, subset=['B', 'C', 'D'])"
      ],
      "execution_count": null,
      "outputs": [
        {
          "output_type": "execute_result",
          "data": {
            "text/html": [
              "<style  type=\"text/css\" >\n",
              "#T_fe5629ba_baec_11eb_bfe9_0242ac1c0002row6_col2,#T_fe5629ba_baec_11eb_bfe9_0242ac1c0002row8_col1,#T_fe5629ba_baec_11eb_bfe9_0242ac1c0002row8_col3{\n",
              "            background-color:  yellow;\n",
              "        }</style><table id=\"T_fe5629ba_baec_11eb_bfe9_0242ac1c0002\" ><thead>    <tr>        <th class=\"blank level0\" ></th>        <th class=\"col_heading level0 col0\" >A</th>        <th class=\"col_heading level0 col1\" >B</th>        <th class=\"col_heading level0 col2\" >C</th>        <th class=\"col_heading level0 col3\" >D</th>        <th class=\"col_heading level0 col4\" >E</th>    </tr></thead><tbody>\n",
              "                <tr>\n",
              "                        <th id=\"T_fe5629ba_baec_11eb_bfe9_0242ac1c0002level0_row0\" class=\"row_heading level0 row0\" >0</th>\n",
              "                        <td id=\"T_fe5629ba_baec_11eb_bfe9_0242ac1c0002row0_col0\" class=\"data row0 col0\" >1.000000</td>\n",
              "                        <td id=\"T_fe5629ba_baec_11eb_bfe9_0242ac1c0002row0_col1\" class=\"data row0 col1\" >1.329212</td>\n",
              "                        <td id=\"T_fe5629ba_baec_11eb_bfe9_0242ac1c0002row0_col2\" class=\"data row0 col2\" >nan</td>\n",
              "                        <td id=\"T_fe5629ba_baec_11eb_bfe9_0242ac1c0002row0_col3\" class=\"data row0 col3\" >-0.316280</td>\n",
              "                        <td id=\"T_fe5629ba_baec_11eb_bfe9_0242ac1c0002row0_col4\" class=\"data row0 col4\" >-0.990810</td>\n",
              "            </tr>\n",
              "            <tr>\n",
              "                        <th id=\"T_fe5629ba_baec_11eb_bfe9_0242ac1c0002level0_row1\" class=\"row_heading level0 row1\" >1</th>\n",
              "                        <td id=\"T_fe5629ba_baec_11eb_bfe9_0242ac1c0002row1_col0\" class=\"data row1 col0\" >2.000000</td>\n",
              "                        <td id=\"T_fe5629ba_baec_11eb_bfe9_0242ac1c0002row1_col1\" class=\"data row1 col1\" >-1.070816</td>\n",
              "                        <td id=\"T_fe5629ba_baec_11eb_bfe9_0242ac1c0002row1_col2\" class=\"data row1 col2\" >-1.438713</td>\n",
              "                        <td id=\"T_fe5629ba_baec_11eb_bfe9_0242ac1c0002row1_col3\" class=\"data row1 col3\" >0.564417</td>\n",
              "                        <td id=\"T_fe5629ba_baec_11eb_bfe9_0242ac1c0002row1_col4\" class=\"data row1 col4\" >0.295722</td>\n",
              "            </tr>\n",
              "            <tr>\n",
              "                        <th id=\"T_fe5629ba_baec_11eb_bfe9_0242ac1c0002level0_row2\" class=\"row_heading level0 row2\" >2</th>\n",
              "                        <td id=\"T_fe5629ba_baec_11eb_bfe9_0242ac1c0002row2_col0\" class=\"data row2 col0\" >3.000000</td>\n",
              "                        <td id=\"T_fe5629ba_baec_11eb_bfe9_0242ac1c0002row2_col1\" class=\"data row2 col1\" >-1.626404</td>\n",
              "                        <td id=\"T_fe5629ba_baec_11eb_bfe9_0242ac1c0002row2_col2\" class=\"data row2 col2\" >0.219565</td>\n",
              "                        <td id=\"T_fe5629ba_baec_11eb_bfe9_0242ac1c0002row2_col3\" class=\"data row2 col3\" >0.678805</td>\n",
              "                        <td id=\"T_fe5629ba_baec_11eb_bfe9_0242ac1c0002row2_col4\" class=\"data row2 col4\" >1.889273</td>\n",
              "            </tr>\n",
              "            <tr>\n",
              "                        <th id=\"T_fe5629ba_baec_11eb_bfe9_0242ac1c0002level0_row3\" class=\"row_heading level0 row3\" >3</th>\n",
              "                        <td id=\"T_fe5629ba_baec_11eb_bfe9_0242ac1c0002row3_col0\" class=\"data row3 col0\" >4.000000</td>\n",
              "                        <td id=\"T_fe5629ba_baec_11eb_bfe9_0242ac1c0002row3_col1\" class=\"data row3 col1\" >0.961538</td>\n",
              "                        <td id=\"T_fe5629ba_baec_11eb_bfe9_0242ac1c0002row3_col2\" class=\"data row3 col2\" >0.104011</td>\n",
              "                        <td id=\"T_fe5629ba_baec_11eb_bfe9_0242ac1c0002row3_col3\" class=\"data row3 col3\" >nan</td>\n",
              "                        <td id=\"T_fe5629ba_baec_11eb_bfe9_0242ac1c0002row3_col4\" class=\"data row3 col4\" >0.850229</td>\n",
              "            </tr>\n",
              "            <tr>\n",
              "                        <th id=\"T_fe5629ba_baec_11eb_bfe9_0242ac1c0002level0_row4\" class=\"row_heading level0 row4\" >4</th>\n",
              "                        <td id=\"T_fe5629ba_baec_11eb_bfe9_0242ac1c0002row4_col0\" class=\"data row4 col0\" >5.000000</td>\n",
              "                        <td id=\"T_fe5629ba_baec_11eb_bfe9_0242ac1c0002row4_col1\" class=\"data row4 col1\" >1.453425</td>\n",
              "                        <td id=\"T_fe5629ba_baec_11eb_bfe9_0242ac1c0002row4_col2\" class=\"data row4 col2\" >1.057737</td>\n",
              "                        <td id=\"T_fe5629ba_baec_11eb_bfe9_0242ac1c0002row4_col3\" class=\"data row4 col3\" >0.165562</td>\n",
              "                        <td id=\"T_fe5629ba_baec_11eb_bfe9_0242ac1c0002row4_col4\" class=\"data row4 col4\" >0.515018</td>\n",
              "            </tr>\n",
              "            <tr>\n",
              "                        <th id=\"T_fe5629ba_baec_11eb_bfe9_0242ac1c0002level0_row5\" class=\"row_heading level0 row5\" >5</th>\n",
              "                        <td id=\"T_fe5629ba_baec_11eb_bfe9_0242ac1c0002row5_col0\" class=\"data row5 col0\" >6.000000</td>\n",
              "                        <td id=\"T_fe5629ba_baec_11eb_bfe9_0242ac1c0002row5_col1\" class=\"data row5 col1\" >-1.336936</td>\n",
              "                        <td id=\"T_fe5629ba_baec_11eb_bfe9_0242ac1c0002row5_col2\" class=\"data row5 col2\" >0.562861</td>\n",
              "                        <td id=\"T_fe5629ba_baec_11eb_bfe9_0242ac1c0002row5_col3\" class=\"data row5 col3\" >1.392855</td>\n",
              "                        <td id=\"T_fe5629ba_baec_11eb_bfe9_0242ac1c0002row5_col4\" class=\"data row5 col4\" >-0.063328</td>\n",
              "            </tr>\n",
              "            <tr>\n",
              "                        <th id=\"T_fe5629ba_baec_11eb_bfe9_0242ac1c0002level0_row6\" class=\"row_heading level0 row6\" >6</th>\n",
              "                        <td id=\"T_fe5629ba_baec_11eb_bfe9_0242ac1c0002row6_col0\" class=\"data row6 col0\" >7.000000</td>\n",
              "                        <td id=\"T_fe5629ba_baec_11eb_bfe9_0242ac1c0002row6_col1\" class=\"data row6 col1\" >0.121668</td>\n",
              "                        <td id=\"T_fe5629ba_baec_11eb_bfe9_0242ac1c0002row6_col2\" class=\"data row6 col2\" >1.207603</td>\n",
              "                        <td id=\"T_fe5629ba_baec_11eb_bfe9_0242ac1c0002row6_col3\" class=\"data row6 col3\" >-0.002040</td>\n",
              "                        <td id=\"T_fe5629ba_baec_11eb_bfe9_0242ac1c0002row6_col4\" class=\"data row6 col4\" >1.627796</td>\n",
              "            </tr>\n",
              "            <tr>\n",
              "                        <th id=\"T_fe5629ba_baec_11eb_bfe9_0242ac1c0002level0_row7\" class=\"row_heading level0 row7\" >7</th>\n",
              "                        <td id=\"T_fe5629ba_baec_11eb_bfe9_0242ac1c0002row7_col0\" class=\"data row7 col0\" >8.000000</td>\n",
              "                        <td id=\"T_fe5629ba_baec_11eb_bfe9_0242ac1c0002row7_col1\" class=\"data row7 col1\" >0.354493</td>\n",
              "                        <td id=\"T_fe5629ba_baec_11eb_bfe9_0242ac1c0002row7_col2\" class=\"data row7 col2\" >1.037528</td>\n",
              "                        <td id=\"T_fe5629ba_baec_11eb_bfe9_0242ac1c0002row7_col3\" class=\"data row7 col3\" >-0.385684</td>\n",
              "                        <td id=\"T_fe5629ba_baec_11eb_bfe9_0242ac1c0002row7_col4\" class=\"data row7 col4\" >0.519818</td>\n",
              "            </tr>\n",
              "            <tr>\n",
              "                        <th id=\"T_fe5629ba_baec_11eb_bfe9_0242ac1c0002level0_row8\" class=\"row_heading level0 row8\" >8</th>\n",
              "                        <td id=\"T_fe5629ba_baec_11eb_bfe9_0242ac1c0002row8_col0\" class=\"data row8 col0\" >9.000000</td>\n",
              "                        <td id=\"T_fe5629ba_baec_11eb_bfe9_0242ac1c0002row8_col1\" class=\"data row8 col1\" >1.686583</td>\n",
              "                        <td id=\"T_fe5629ba_baec_11eb_bfe9_0242ac1c0002row8_col2\" class=\"data row8 col2\" >-1.325963</td>\n",
              "                        <td id=\"T_fe5629ba_baec_11eb_bfe9_0242ac1c0002row8_col3\" class=\"data row8 col3\" >1.428984</td>\n",
              "                        <td id=\"T_fe5629ba_baec_11eb_bfe9_0242ac1c0002row8_col4\" class=\"data row8 col4\" >-2.089354</td>\n",
              "            </tr>\n",
              "            <tr>\n",
              "                        <th id=\"T_fe5629ba_baec_11eb_bfe9_0242ac1c0002level0_row9\" class=\"row_heading level0 row9\" >9</th>\n",
              "                        <td id=\"T_fe5629ba_baec_11eb_bfe9_0242ac1c0002row9_col0\" class=\"data row9 col0\" >10.000000</td>\n",
              "                        <td id=\"T_fe5629ba_baec_11eb_bfe9_0242ac1c0002row9_col1\" class=\"data row9 col1\" >-0.129820</td>\n",
              "                        <td id=\"T_fe5629ba_baec_11eb_bfe9_0242ac1c0002row9_col2\" class=\"data row9 col2\" >0.631523</td>\n",
              "                        <td id=\"T_fe5629ba_baec_11eb_bfe9_0242ac1c0002row9_col3\" class=\"data row9 col3\" >-0.586538</td>\n",
              "                        <td id=\"T_fe5629ba_baec_11eb_bfe9_0242ac1c0002row9_col4\" class=\"data row9 col4\" >0.290720</td>\n",
              "            </tr>\n",
              "    </tbody></table>"
            ],
            "text/plain": [
              "<pandas.io.formats.style.Styler at 0x7fe9aa1a1050>"
            ]
          },
          "metadata": {
            "tags": []
          },
          "execution_count": 137
        }
      ]
    },
    {
      "cell_type": "code",
      "metadata": {
        "id": "WrEUCSP_ibRa",
        "colab": {
          "base_uri": "https://localhost:8080/",
          "height": 250
        },
        "outputId": "f0da86ad-c4aa-4a57-87ce-668f4e9f1667"
      },
      "source": [
        "# применение функции изменения цвета в зависимости от знака для среза строк указанных в параметре subset=pd.IndexSlice[2:5] \n",
        "# (в данном случае правая граница включена)\n",
        "df.style.applymap(color_negative_red, subset=pd.IndexSlice[2:5])"
      ],
      "execution_count": null,
      "outputs": [
        {
          "output_type": "execute_result",
          "data": {
            "text/html": [
              "<style  type=\"text/css\" >\n",
              "#T_093de20a_baed_11eb_bfe9_0242ac1c0002row2_col0,#T_093de20a_baed_11eb_bfe9_0242ac1c0002row2_col2,#T_093de20a_baed_11eb_bfe9_0242ac1c0002row2_col3,#T_093de20a_baed_11eb_bfe9_0242ac1c0002row2_col4,#T_093de20a_baed_11eb_bfe9_0242ac1c0002row3_col0,#T_093de20a_baed_11eb_bfe9_0242ac1c0002row3_col1,#T_093de20a_baed_11eb_bfe9_0242ac1c0002row3_col2,#T_093de20a_baed_11eb_bfe9_0242ac1c0002row3_col3,#T_093de20a_baed_11eb_bfe9_0242ac1c0002row3_col4,#T_093de20a_baed_11eb_bfe9_0242ac1c0002row4_col0,#T_093de20a_baed_11eb_bfe9_0242ac1c0002row4_col1,#T_093de20a_baed_11eb_bfe9_0242ac1c0002row4_col2,#T_093de20a_baed_11eb_bfe9_0242ac1c0002row4_col3,#T_093de20a_baed_11eb_bfe9_0242ac1c0002row4_col4,#T_093de20a_baed_11eb_bfe9_0242ac1c0002row5_col0,#T_093de20a_baed_11eb_bfe9_0242ac1c0002row5_col2,#T_093de20a_baed_11eb_bfe9_0242ac1c0002row5_col3{\n",
              "            color:  black;\n",
              "        }#T_093de20a_baed_11eb_bfe9_0242ac1c0002row2_col1,#T_093de20a_baed_11eb_bfe9_0242ac1c0002row5_col1,#T_093de20a_baed_11eb_bfe9_0242ac1c0002row5_col4{\n",
              "            color:  red;\n",
              "        }</style><table id=\"T_093de20a_baed_11eb_bfe9_0242ac1c0002\" ><thead>    <tr>        <th class=\"blank level0\" ></th>        <th class=\"col_heading level0 col0\" >A</th>        <th class=\"col_heading level0 col1\" >B</th>        <th class=\"col_heading level0 col2\" >C</th>        <th class=\"col_heading level0 col3\" >D</th>        <th class=\"col_heading level0 col4\" >E</th>    </tr></thead><tbody>\n",
              "                <tr>\n",
              "                        <th id=\"T_093de20a_baed_11eb_bfe9_0242ac1c0002level0_row0\" class=\"row_heading level0 row0\" >0</th>\n",
              "                        <td id=\"T_093de20a_baed_11eb_bfe9_0242ac1c0002row0_col0\" class=\"data row0 col0\" >1.000000</td>\n",
              "                        <td id=\"T_093de20a_baed_11eb_bfe9_0242ac1c0002row0_col1\" class=\"data row0 col1\" >1.329212</td>\n",
              "                        <td id=\"T_093de20a_baed_11eb_bfe9_0242ac1c0002row0_col2\" class=\"data row0 col2\" >nan</td>\n",
              "                        <td id=\"T_093de20a_baed_11eb_bfe9_0242ac1c0002row0_col3\" class=\"data row0 col3\" >-0.316280</td>\n",
              "                        <td id=\"T_093de20a_baed_11eb_bfe9_0242ac1c0002row0_col4\" class=\"data row0 col4\" >-0.990810</td>\n",
              "            </tr>\n",
              "            <tr>\n",
              "                        <th id=\"T_093de20a_baed_11eb_bfe9_0242ac1c0002level0_row1\" class=\"row_heading level0 row1\" >1</th>\n",
              "                        <td id=\"T_093de20a_baed_11eb_bfe9_0242ac1c0002row1_col0\" class=\"data row1 col0\" >2.000000</td>\n",
              "                        <td id=\"T_093de20a_baed_11eb_bfe9_0242ac1c0002row1_col1\" class=\"data row1 col1\" >-1.070816</td>\n",
              "                        <td id=\"T_093de20a_baed_11eb_bfe9_0242ac1c0002row1_col2\" class=\"data row1 col2\" >-1.438713</td>\n",
              "                        <td id=\"T_093de20a_baed_11eb_bfe9_0242ac1c0002row1_col3\" class=\"data row1 col3\" >0.564417</td>\n",
              "                        <td id=\"T_093de20a_baed_11eb_bfe9_0242ac1c0002row1_col4\" class=\"data row1 col4\" >0.295722</td>\n",
              "            </tr>\n",
              "            <tr>\n",
              "                        <th id=\"T_093de20a_baed_11eb_bfe9_0242ac1c0002level0_row2\" class=\"row_heading level0 row2\" >2</th>\n",
              "                        <td id=\"T_093de20a_baed_11eb_bfe9_0242ac1c0002row2_col0\" class=\"data row2 col0\" >3.000000</td>\n",
              "                        <td id=\"T_093de20a_baed_11eb_bfe9_0242ac1c0002row2_col1\" class=\"data row2 col1\" >-1.626404</td>\n",
              "                        <td id=\"T_093de20a_baed_11eb_bfe9_0242ac1c0002row2_col2\" class=\"data row2 col2\" >0.219565</td>\n",
              "                        <td id=\"T_093de20a_baed_11eb_bfe9_0242ac1c0002row2_col3\" class=\"data row2 col3\" >0.678805</td>\n",
              "                        <td id=\"T_093de20a_baed_11eb_bfe9_0242ac1c0002row2_col4\" class=\"data row2 col4\" >1.889273</td>\n",
              "            </tr>\n",
              "            <tr>\n",
              "                        <th id=\"T_093de20a_baed_11eb_bfe9_0242ac1c0002level0_row3\" class=\"row_heading level0 row3\" >3</th>\n",
              "                        <td id=\"T_093de20a_baed_11eb_bfe9_0242ac1c0002row3_col0\" class=\"data row3 col0\" >4.000000</td>\n",
              "                        <td id=\"T_093de20a_baed_11eb_bfe9_0242ac1c0002row3_col1\" class=\"data row3 col1\" >0.961538</td>\n",
              "                        <td id=\"T_093de20a_baed_11eb_bfe9_0242ac1c0002row3_col2\" class=\"data row3 col2\" >0.104011</td>\n",
              "                        <td id=\"T_093de20a_baed_11eb_bfe9_0242ac1c0002row3_col3\" class=\"data row3 col3\" >nan</td>\n",
              "                        <td id=\"T_093de20a_baed_11eb_bfe9_0242ac1c0002row3_col4\" class=\"data row3 col4\" >0.850229</td>\n",
              "            </tr>\n",
              "            <tr>\n",
              "                        <th id=\"T_093de20a_baed_11eb_bfe9_0242ac1c0002level0_row4\" class=\"row_heading level0 row4\" >4</th>\n",
              "                        <td id=\"T_093de20a_baed_11eb_bfe9_0242ac1c0002row4_col0\" class=\"data row4 col0\" >5.000000</td>\n",
              "                        <td id=\"T_093de20a_baed_11eb_bfe9_0242ac1c0002row4_col1\" class=\"data row4 col1\" >1.453425</td>\n",
              "                        <td id=\"T_093de20a_baed_11eb_bfe9_0242ac1c0002row4_col2\" class=\"data row4 col2\" >1.057737</td>\n",
              "                        <td id=\"T_093de20a_baed_11eb_bfe9_0242ac1c0002row4_col3\" class=\"data row4 col3\" >0.165562</td>\n",
              "                        <td id=\"T_093de20a_baed_11eb_bfe9_0242ac1c0002row4_col4\" class=\"data row4 col4\" >0.515018</td>\n",
              "            </tr>\n",
              "            <tr>\n",
              "                        <th id=\"T_093de20a_baed_11eb_bfe9_0242ac1c0002level0_row5\" class=\"row_heading level0 row5\" >5</th>\n",
              "                        <td id=\"T_093de20a_baed_11eb_bfe9_0242ac1c0002row5_col0\" class=\"data row5 col0\" >6.000000</td>\n",
              "                        <td id=\"T_093de20a_baed_11eb_bfe9_0242ac1c0002row5_col1\" class=\"data row5 col1\" >-1.336936</td>\n",
              "                        <td id=\"T_093de20a_baed_11eb_bfe9_0242ac1c0002row5_col2\" class=\"data row5 col2\" >0.562861</td>\n",
              "                        <td id=\"T_093de20a_baed_11eb_bfe9_0242ac1c0002row5_col3\" class=\"data row5 col3\" >1.392855</td>\n",
              "                        <td id=\"T_093de20a_baed_11eb_bfe9_0242ac1c0002row5_col4\" class=\"data row5 col4\" >-0.063328</td>\n",
              "            </tr>\n",
              "            <tr>\n",
              "                        <th id=\"T_093de20a_baed_11eb_bfe9_0242ac1c0002level0_row6\" class=\"row_heading level0 row6\" >6</th>\n",
              "                        <td id=\"T_093de20a_baed_11eb_bfe9_0242ac1c0002row6_col0\" class=\"data row6 col0\" >7.000000</td>\n",
              "                        <td id=\"T_093de20a_baed_11eb_bfe9_0242ac1c0002row6_col1\" class=\"data row6 col1\" >0.121668</td>\n",
              "                        <td id=\"T_093de20a_baed_11eb_bfe9_0242ac1c0002row6_col2\" class=\"data row6 col2\" >1.207603</td>\n",
              "                        <td id=\"T_093de20a_baed_11eb_bfe9_0242ac1c0002row6_col3\" class=\"data row6 col3\" >-0.002040</td>\n",
              "                        <td id=\"T_093de20a_baed_11eb_bfe9_0242ac1c0002row6_col4\" class=\"data row6 col4\" >1.627796</td>\n",
              "            </tr>\n",
              "            <tr>\n",
              "                        <th id=\"T_093de20a_baed_11eb_bfe9_0242ac1c0002level0_row7\" class=\"row_heading level0 row7\" >7</th>\n",
              "                        <td id=\"T_093de20a_baed_11eb_bfe9_0242ac1c0002row7_col0\" class=\"data row7 col0\" >8.000000</td>\n",
              "                        <td id=\"T_093de20a_baed_11eb_bfe9_0242ac1c0002row7_col1\" class=\"data row7 col1\" >0.354493</td>\n",
              "                        <td id=\"T_093de20a_baed_11eb_bfe9_0242ac1c0002row7_col2\" class=\"data row7 col2\" >1.037528</td>\n",
              "                        <td id=\"T_093de20a_baed_11eb_bfe9_0242ac1c0002row7_col3\" class=\"data row7 col3\" >-0.385684</td>\n",
              "                        <td id=\"T_093de20a_baed_11eb_bfe9_0242ac1c0002row7_col4\" class=\"data row7 col4\" >0.519818</td>\n",
              "            </tr>\n",
              "            <tr>\n",
              "                        <th id=\"T_093de20a_baed_11eb_bfe9_0242ac1c0002level0_row8\" class=\"row_heading level0 row8\" >8</th>\n",
              "                        <td id=\"T_093de20a_baed_11eb_bfe9_0242ac1c0002row8_col0\" class=\"data row8 col0\" >9.000000</td>\n",
              "                        <td id=\"T_093de20a_baed_11eb_bfe9_0242ac1c0002row8_col1\" class=\"data row8 col1\" >1.686583</td>\n",
              "                        <td id=\"T_093de20a_baed_11eb_bfe9_0242ac1c0002row8_col2\" class=\"data row8 col2\" >-1.325963</td>\n",
              "                        <td id=\"T_093de20a_baed_11eb_bfe9_0242ac1c0002row8_col3\" class=\"data row8 col3\" >1.428984</td>\n",
              "                        <td id=\"T_093de20a_baed_11eb_bfe9_0242ac1c0002row8_col4\" class=\"data row8 col4\" >-2.089354</td>\n",
              "            </tr>\n",
              "            <tr>\n",
              "                        <th id=\"T_093de20a_baed_11eb_bfe9_0242ac1c0002level0_row9\" class=\"row_heading level0 row9\" >9</th>\n",
              "                        <td id=\"T_093de20a_baed_11eb_bfe9_0242ac1c0002row9_col0\" class=\"data row9 col0\" >10.000000</td>\n",
              "                        <td id=\"T_093de20a_baed_11eb_bfe9_0242ac1c0002row9_col1\" class=\"data row9 col1\" >-0.129820</td>\n",
              "                        <td id=\"T_093de20a_baed_11eb_bfe9_0242ac1c0002row9_col2\" class=\"data row9 col2\" >0.631523</td>\n",
              "                        <td id=\"T_093de20a_baed_11eb_bfe9_0242ac1c0002row9_col3\" class=\"data row9 col3\" >-0.586538</td>\n",
              "                        <td id=\"T_093de20a_baed_11eb_bfe9_0242ac1c0002row9_col4\" class=\"data row9 col4\" >0.290720</td>\n",
              "            </tr>\n",
              "    </tbody></table>"
            ],
            "text/plain": [
              "<pandas.io.formats.style.Styler at 0x7fe9aa0b5490>"
            ]
          },
          "metadata": {
            "tags": []
          },
          "execution_count": 138
        }
      ]
    },
    {
      "cell_type": "code",
      "metadata": {
        "id": "CQ6CCmHOibX-",
        "colab": {
          "base_uri": "https://localhost:8080/",
          "height": 250
        },
        "outputId": "58762192-c8bf-40a0-fc96-75199fa386dd"
      },
      "source": [
        "# импорт библиотеки seaborn для визуализации данных\n",
        "import seaborn as sns\n",
        "#import pandas.util.testing as tm\n",
        "\n",
        "# функция sns.light_palette() позволяет создать \"цветовую карту\", где указанным цветом (в данном случае 'blue')\n",
        "# для каждой серии выделяются наибольшие значения\n",
        "# as_cmap = True - параметр отвечающий за вывод в виде \"цветовой карты\"\n",
        "cm = sns.light_palette(\"blue\", as_cmap = True)\n",
        "\n",
        "# применение цветовой карты к датафрейму df\n",
        "s = df.style.background_gradient(cmap = cm)\n",
        "s"
      ],
      "execution_count": null,
      "outputs": [
        {
          "output_type": "execute_result",
          "data": {
            "text/html": [
              "<style  type=\"text/css\" >\n",
              "#T_9b24589c_baee_11eb_bfe9_0242ac1c0002row0_col0,#T_9b24589c_baee_11eb_bfe9_0242ac1c0002row1_col2,#T_9b24589c_baee_11eb_bfe9_0242ac1c0002row2_col1,#T_9b24589c_baee_11eb_bfe9_0242ac1c0002row8_col4,#T_9b24589c_baee_11eb_bfe9_0242ac1c0002row9_col3{\n",
              "            background-color:  #f0f0f3;\n",
              "            color:  #000000;\n",
              "        }#T_9b24589c_baee_11eb_bfe9_0242ac1c0002row0_col1{\n",
              "            background-color:  #1919fe;\n",
              "            color:  #f1f1f1;\n",
              "        }#T_9b24589c_baee_11eb_bfe9_0242ac1c0002row0_col2,#T_9b24589c_baee_11eb_bfe9_0242ac1c0002row3_col3{\n",
              "            background-color:  #000000;\n",
              "            color:  #f1f1f1;\n",
              "        }#T_9b24589c_baee_11eb_bfe9_0242ac1c0002row0_col3{\n",
              "            background-color:  #d0d0f4;\n",
              "            color:  #000000;\n",
              "        }#T_9b24589c_baee_11eb_bfe9_0242ac1c0002row0_col4{\n",
              "            background-color:  #aeaef6;\n",
              "            color:  #000000;\n",
              "        }#T_9b24589c_baee_11eb_bfe9_0242ac1c0002row1_col0{\n",
              "            background-color:  #d6d6f4;\n",
              "            color:  #000000;\n",
              "        }#T_9b24589c_baee_11eb_bfe9_0242ac1c0002row1_col1{\n",
              "            background-color:  #c9c9f5;\n",
              "            color:  #000000;\n",
              "        }#T_9b24589c_baee_11eb_bfe9_0242ac1c0002row1_col3{\n",
              "            background-color:  #6767fa;\n",
              "            color:  #000000;\n",
              "        }#T_9b24589c_baee_11eb_bfe9_0242ac1c0002row1_col4,#T_9b24589c_baee_11eb_bfe9_0242ac1c0002row7_col1,#T_9b24589c_baee_11eb_bfe9_0242ac1c0002row9_col4{\n",
              "            background-color:  #6060fa;\n",
              "            color:  #000000;\n",
              "        }#T_9b24589c_baee_11eb_bfe9_0242ac1c0002row2_col0{\n",
              "            background-color:  #bcbcf5;\n",
              "            color:  #000000;\n",
              "        }#T_9b24589c_baee_11eb_bfe9_0242ac1c0002row2_col2,#T_9b24589c_baee_11eb_bfe9_0242ac1c0002row2_col3{\n",
              "            background-color:  #5a5afa;\n",
              "            color:  #f1f1f1;\n",
              "        }#T_9b24589c_baee_11eb_bfe9_0242ac1c0002row2_col4,#T_9b24589c_baee_11eb_bfe9_0242ac1c0002row6_col2,#T_9b24589c_baee_11eb_bfe9_0242ac1c0002row8_col1,#T_9b24589c_baee_11eb_bfe9_0242ac1c0002row8_col3,#T_9b24589c_baee_11eb_bfe9_0242ac1c0002row9_col0{\n",
              "            background-color:  #0000ff;\n",
              "            color:  #f1f1f1;\n",
              "        }#T_9b24589c_baee_11eb_bfe9_0242ac1c0002row3_col0{\n",
              "            background-color:  #a0a0f7;\n",
              "            color:  #000000;\n",
              "        }#T_9b24589c_baee_11eb_bfe9_0242ac1c0002row3_col1,#T_9b24589c_baee_11eb_bfe9_0242ac1c0002row7_col0{\n",
              "            background-color:  #3535fc;\n",
              "            color:  #f1f1f1;\n",
              "        }#T_9b24589c_baee_11eb_bfe9_0242ac1c0002row3_col2{\n",
              "            background-color:  #6464fa;\n",
              "            color:  #000000;\n",
              "        }#T_9b24589c_baee_11eb_bfe9_0242ac1c0002row3_col4{\n",
              "            background-color:  #3e3efc;\n",
              "            color:  #f1f1f1;\n",
              "        }#T_9b24589c_baee_11eb_bfe9_0242ac1c0002row4_col0{\n",
              "            background-color:  #8686f8;\n",
              "            color:  #000000;\n",
              "        }#T_9b24589c_baee_11eb_bfe9_0242ac1c0002row4_col1{\n",
              "            background-color:  #1111fe;\n",
              "            color:  #f1f1f1;\n",
              "        }#T_9b24589c_baee_11eb_bfe9_0242ac1c0002row4_col2{\n",
              "            background-color:  #0d0dfe;\n",
              "            color:  #f1f1f1;\n",
              "        }#T_9b24589c_baee_11eb_bfe9_0242ac1c0002row4_col3{\n",
              "            background-color:  #9797f7;\n",
              "            color:  #000000;\n",
              "        }#T_9b24589c_baee_11eb_bfe9_0242ac1c0002row4_col4,#T_9b24589c_baee_11eb_bfe9_0242ac1c0002row7_col4{\n",
              "            background-color:  #5353fb;\n",
              "            color:  #f1f1f1;\n",
              "        }#T_9b24589c_baee_11eb_bfe9_0242ac1c0002row5_col0{\n",
              "            background-color:  #6b6bfa;\n",
              "            color:  #000000;\n",
              "        }#T_9b24589c_baee_11eb_bfe9_0242ac1c0002row5_col1{\n",
              "            background-color:  #dcdcf4;\n",
              "            color:  #000000;\n",
              "        }#T_9b24589c_baee_11eb_bfe9_0242ac1c0002row5_col2{\n",
              "            background-color:  #3a3afc;\n",
              "            color:  #f1f1f1;\n",
              "        }#T_9b24589c_baee_11eb_bfe9_0242ac1c0002row5_col3{\n",
              "            background-color:  #0404ff;\n",
              "            color:  #f1f1f1;\n",
              "        }#T_9b24589c_baee_11eb_bfe9_0242ac1c0002row5_col4{\n",
              "            background-color:  #7676f9;\n",
              "            color:  #000000;\n",
              "        }#T_9b24589c_baee_11eb_bfe9_0242ac1c0002row6_col0{\n",
              "            background-color:  #5050fb;\n",
              "            color:  #f1f1f1;\n",
              "        }#T_9b24589c_baee_11eb_bfe9_0242ac1c0002row6_col1{\n",
              "            background-color:  #7171f9;\n",
              "            color:  #000000;\n",
              "        }#T_9b24589c_baee_11eb_bfe9_0242ac1c0002row6_col3{\n",
              "            background-color:  #ababf6;\n",
              "            color:  #000000;\n",
              "        }#T_9b24589c_baee_11eb_bfe9_0242ac1c0002row6_col4,#T_9b24589c_baee_11eb_bfe9_0242ac1c0002row7_col2{\n",
              "            background-color:  #0f0ffe;\n",
              "            color:  #f1f1f1;\n",
              "        }#T_9b24589c_baee_11eb_bfe9_0242ac1c0002row7_col3{\n",
              "            background-color:  #d9d9f4;\n",
              "            color:  #000000;\n",
              "        }#T_9b24589c_baee_11eb_bfe9_0242ac1c0002row8_col0{\n",
              "            background-color:  #1a1afe;\n",
              "            color:  #f1f1f1;\n",
              "        }#T_9b24589c_baee_11eb_bfe9_0242ac1c0002row8_col2{\n",
              "            background-color:  #e7e7f3;\n",
              "            color:  #000000;\n",
              "        }#T_9b24589c_baee_11eb_bfe9_0242ac1c0002row9_col1{\n",
              "            background-color:  #8484f8;\n",
              "            color:  #000000;\n",
              "        }#T_9b24589c_baee_11eb_bfe9_0242ac1c0002row9_col2{\n",
              "            background-color:  #3434fc;\n",
              "            color:  #f1f1f1;\n",
              "        }</style><table id=\"T_9b24589c_baee_11eb_bfe9_0242ac1c0002\" ><thead>    <tr>        <th class=\"blank level0\" ></th>        <th class=\"col_heading level0 col0\" >A</th>        <th class=\"col_heading level0 col1\" >B</th>        <th class=\"col_heading level0 col2\" >C</th>        <th class=\"col_heading level0 col3\" >D</th>        <th class=\"col_heading level0 col4\" >E</th>    </tr></thead><tbody>\n",
              "                <tr>\n",
              "                        <th id=\"T_9b24589c_baee_11eb_bfe9_0242ac1c0002level0_row0\" class=\"row_heading level0 row0\" >0</th>\n",
              "                        <td id=\"T_9b24589c_baee_11eb_bfe9_0242ac1c0002row0_col0\" class=\"data row0 col0\" >1.000000</td>\n",
              "                        <td id=\"T_9b24589c_baee_11eb_bfe9_0242ac1c0002row0_col1\" class=\"data row0 col1\" >1.329212</td>\n",
              "                        <td id=\"T_9b24589c_baee_11eb_bfe9_0242ac1c0002row0_col2\" class=\"data row0 col2\" >nan</td>\n",
              "                        <td id=\"T_9b24589c_baee_11eb_bfe9_0242ac1c0002row0_col3\" class=\"data row0 col3\" >-0.316280</td>\n",
              "                        <td id=\"T_9b24589c_baee_11eb_bfe9_0242ac1c0002row0_col4\" class=\"data row0 col4\" >-0.990810</td>\n",
              "            </tr>\n",
              "            <tr>\n",
              "                        <th id=\"T_9b24589c_baee_11eb_bfe9_0242ac1c0002level0_row1\" class=\"row_heading level0 row1\" >1</th>\n",
              "                        <td id=\"T_9b24589c_baee_11eb_bfe9_0242ac1c0002row1_col0\" class=\"data row1 col0\" >2.000000</td>\n",
              "                        <td id=\"T_9b24589c_baee_11eb_bfe9_0242ac1c0002row1_col1\" class=\"data row1 col1\" >-1.070816</td>\n",
              "                        <td id=\"T_9b24589c_baee_11eb_bfe9_0242ac1c0002row1_col2\" class=\"data row1 col2\" >-1.438713</td>\n",
              "                        <td id=\"T_9b24589c_baee_11eb_bfe9_0242ac1c0002row1_col3\" class=\"data row1 col3\" >0.564417</td>\n",
              "                        <td id=\"T_9b24589c_baee_11eb_bfe9_0242ac1c0002row1_col4\" class=\"data row1 col4\" >0.295722</td>\n",
              "            </tr>\n",
              "            <tr>\n",
              "                        <th id=\"T_9b24589c_baee_11eb_bfe9_0242ac1c0002level0_row2\" class=\"row_heading level0 row2\" >2</th>\n",
              "                        <td id=\"T_9b24589c_baee_11eb_bfe9_0242ac1c0002row2_col0\" class=\"data row2 col0\" >3.000000</td>\n",
              "                        <td id=\"T_9b24589c_baee_11eb_bfe9_0242ac1c0002row2_col1\" class=\"data row2 col1\" >-1.626404</td>\n",
              "                        <td id=\"T_9b24589c_baee_11eb_bfe9_0242ac1c0002row2_col2\" class=\"data row2 col2\" >0.219565</td>\n",
              "                        <td id=\"T_9b24589c_baee_11eb_bfe9_0242ac1c0002row2_col3\" class=\"data row2 col3\" >0.678805</td>\n",
              "                        <td id=\"T_9b24589c_baee_11eb_bfe9_0242ac1c0002row2_col4\" class=\"data row2 col4\" >1.889273</td>\n",
              "            </tr>\n",
              "            <tr>\n",
              "                        <th id=\"T_9b24589c_baee_11eb_bfe9_0242ac1c0002level0_row3\" class=\"row_heading level0 row3\" >3</th>\n",
              "                        <td id=\"T_9b24589c_baee_11eb_bfe9_0242ac1c0002row3_col0\" class=\"data row3 col0\" >4.000000</td>\n",
              "                        <td id=\"T_9b24589c_baee_11eb_bfe9_0242ac1c0002row3_col1\" class=\"data row3 col1\" >0.961538</td>\n",
              "                        <td id=\"T_9b24589c_baee_11eb_bfe9_0242ac1c0002row3_col2\" class=\"data row3 col2\" >0.104011</td>\n",
              "                        <td id=\"T_9b24589c_baee_11eb_bfe9_0242ac1c0002row3_col3\" class=\"data row3 col3\" >nan</td>\n",
              "                        <td id=\"T_9b24589c_baee_11eb_bfe9_0242ac1c0002row3_col4\" class=\"data row3 col4\" >0.850229</td>\n",
              "            </tr>\n",
              "            <tr>\n",
              "                        <th id=\"T_9b24589c_baee_11eb_bfe9_0242ac1c0002level0_row4\" class=\"row_heading level0 row4\" >4</th>\n",
              "                        <td id=\"T_9b24589c_baee_11eb_bfe9_0242ac1c0002row4_col0\" class=\"data row4 col0\" >5.000000</td>\n",
              "                        <td id=\"T_9b24589c_baee_11eb_bfe9_0242ac1c0002row4_col1\" class=\"data row4 col1\" >1.453425</td>\n",
              "                        <td id=\"T_9b24589c_baee_11eb_bfe9_0242ac1c0002row4_col2\" class=\"data row4 col2\" >1.057737</td>\n",
              "                        <td id=\"T_9b24589c_baee_11eb_bfe9_0242ac1c0002row4_col3\" class=\"data row4 col3\" >0.165562</td>\n",
              "                        <td id=\"T_9b24589c_baee_11eb_bfe9_0242ac1c0002row4_col4\" class=\"data row4 col4\" >0.515018</td>\n",
              "            </tr>\n",
              "            <tr>\n",
              "                        <th id=\"T_9b24589c_baee_11eb_bfe9_0242ac1c0002level0_row5\" class=\"row_heading level0 row5\" >5</th>\n",
              "                        <td id=\"T_9b24589c_baee_11eb_bfe9_0242ac1c0002row5_col0\" class=\"data row5 col0\" >6.000000</td>\n",
              "                        <td id=\"T_9b24589c_baee_11eb_bfe9_0242ac1c0002row5_col1\" class=\"data row5 col1\" >-1.336936</td>\n",
              "                        <td id=\"T_9b24589c_baee_11eb_bfe9_0242ac1c0002row5_col2\" class=\"data row5 col2\" >0.562861</td>\n",
              "                        <td id=\"T_9b24589c_baee_11eb_bfe9_0242ac1c0002row5_col3\" class=\"data row5 col3\" >1.392855</td>\n",
              "                        <td id=\"T_9b24589c_baee_11eb_bfe9_0242ac1c0002row5_col4\" class=\"data row5 col4\" >-0.063328</td>\n",
              "            </tr>\n",
              "            <tr>\n",
              "                        <th id=\"T_9b24589c_baee_11eb_bfe9_0242ac1c0002level0_row6\" class=\"row_heading level0 row6\" >6</th>\n",
              "                        <td id=\"T_9b24589c_baee_11eb_bfe9_0242ac1c0002row6_col0\" class=\"data row6 col0\" >7.000000</td>\n",
              "                        <td id=\"T_9b24589c_baee_11eb_bfe9_0242ac1c0002row6_col1\" class=\"data row6 col1\" >0.121668</td>\n",
              "                        <td id=\"T_9b24589c_baee_11eb_bfe9_0242ac1c0002row6_col2\" class=\"data row6 col2\" >1.207603</td>\n",
              "                        <td id=\"T_9b24589c_baee_11eb_bfe9_0242ac1c0002row6_col3\" class=\"data row6 col3\" >-0.002040</td>\n",
              "                        <td id=\"T_9b24589c_baee_11eb_bfe9_0242ac1c0002row6_col4\" class=\"data row6 col4\" >1.627796</td>\n",
              "            </tr>\n",
              "            <tr>\n",
              "                        <th id=\"T_9b24589c_baee_11eb_bfe9_0242ac1c0002level0_row7\" class=\"row_heading level0 row7\" >7</th>\n",
              "                        <td id=\"T_9b24589c_baee_11eb_bfe9_0242ac1c0002row7_col0\" class=\"data row7 col0\" >8.000000</td>\n",
              "                        <td id=\"T_9b24589c_baee_11eb_bfe9_0242ac1c0002row7_col1\" class=\"data row7 col1\" >0.354493</td>\n",
              "                        <td id=\"T_9b24589c_baee_11eb_bfe9_0242ac1c0002row7_col2\" class=\"data row7 col2\" >1.037528</td>\n",
              "                        <td id=\"T_9b24589c_baee_11eb_bfe9_0242ac1c0002row7_col3\" class=\"data row7 col3\" >-0.385684</td>\n",
              "                        <td id=\"T_9b24589c_baee_11eb_bfe9_0242ac1c0002row7_col4\" class=\"data row7 col4\" >0.519818</td>\n",
              "            </tr>\n",
              "            <tr>\n",
              "                        <th id=\"T_9b24589c_baee_11eb_bfe9_0242ac1c0002level0_row8\" class=\"row_heading level0 row8\" >8</th>\n",
              "                        <td id=\"T_9b24589c_baee_11eb_bfe9_0242ac1c0002row8_col0\" class=\"data row8 col0\" >9.000000</td>\n",
              "                        <td id=\"T_9b24589c_baee_11eb_bfe9_0242ac1c0002row8_col1\" class=\"data row8 col1\" >1.686583</td>\n",
              "                        <td id=\"T_9b24589c_baee_11eb_bfe9_0242ac1c0002row8_col2\" class=\"data row8 col2\" >-1.325963</td>\n",
              "                        <td id=\"T_9b24589c_baee_11eb_bfe9_0242ac1c0002row8_col3\" class=\"data row8 col3\" >1.428984</td>\n",
              "                        <td id=\"T_9b24589c_baee_11eb_bfe9_0242ac1c0002row8_col4\" class=\"data row8 col4\" >-2.089354</td>\n",
              "            </tr>\n",
              "            <tr>\n",
              "                        <th id=\"T_9b24589c_baee_11eb_bfe9_0242ac1c0002level0_row9\" class=\"row_heading level0 row9\" >9</th>\n",
              "                        <td id=\"T_9b24589c_baee_11eb_bfe9_0242ac1c0002row9_col0\" class=\"data row9 col0\" >10.000000</td>\n",
              "                        <td id=\"T_9b24589c_baee_11eb_bfe9_0242ac1c0002row9_col1\" class=\"data row9 col1\" >-0.129820</td>\n",
              "                        <td id=\"T_9b24589c_baee_11eb_bfe9_0242ac1c0002row9_col2\" class=\"data row9 col2\" >0.631523</td>\n",
              "                        <td id=\"T_9b24589c_baee_11eb_bfe9_0242ac1c0002row9_col3\" class=\"data row9 col3\" >-0.586538</td>\n",
              "                        <td id=\"T_9b24589c_baee_11eb_bfe9_0242ac1c0002row9_col4\" class=\"data row9 col4\" >0.290720</td>\n",
              "            </tr>\n",
              "    </tbody></table>"
            ],
            "text/plain": [
              "<pandas.io.formats.style.Styler at 0x7fe9aa32e090>"
            ]
          },
          "metadata": {
            "tags": []
          },
          "execution_count": 188
        }
      ]
    },
    {
      "cell_type": "code",
      "metadata": {
        "id": "1uiDE9kAkx1E",
        "colab": {
          "base_uri": "https://localhost:8080/",
          "height": 250
        },
        "outputId": "08f3b985-cd1a-48e4-fae7-0365752f071a"
      },
      "source": [
        "# метод highlight_null('red') позволяет задать цвет выделения нулевых значений\n",
        "# в данном случае - красным цветом (по-умолчанию чёрным)\n",
        "s = df.style.background_gradient(cmap = cm).highlight_null('red')\n",
        "s"
      ],
      "execution_count": null,
      "outputs": [
        {
          "output_type": "execute_result",
          "data": {
            "text/html": [
              "<style  type=\"text/css\" >\n",
              "#T_66f69c38_baee_11eb_bfe9_0242ac1c0002row0_col0,#T_66f69c38_baee_11eb_bfe9_0242ac1c0002row1_col2,#T_66f69c38_baee_11eb_bfe9_0242ac1c0002row2_col1,#T_66f69c38_baee_11eb_bfe9_0242ac1c0002row8_col4,#T_66f69c38_baee_11eb_bfe9_0242ac1c0002row9_col3{\n",
              "            background-color:  #f0f0f3;\n",
              "            color:  #000000;\n",
              "        }#T_66f69c38_baee_11eb_bfe9_0242ac1c0002row0_col1{\n",
              "            background-color:  #1919fe;\n",
              "            color:  #f1f1f1;\n",
              "        }#T_66f69c38_baee_11eb_bfe9_0242ac1c0002row0_col2,#T_66f69c38_baee_11eb_bfe9_0242ac1c0002row3_col3{\n",
              "            background-color:  #000000;\n",
              "            color:  #f1f1f1;\n",
              "            background-color:  red;\n",
              "        }#T_66f69c38_baee_11eb_bfe9_0242ac1c0002row0_col3{\n",
              "            background-color:  #d0d0f4;\n",
              "            color:  #000000;\n",
              "        }#T_66f69c38_baee_11eb_bfe9_0242ac1c0002row0_col4{\n",
              "            background-color:  #aeaef6;\n",
              "            color:  #000000;\n",
              "        }#T_66f69c38_baee_11eb_bfe9_0242ac1c0002row1_col0{\n",
              "            background-color:  #d6d6f4;\n",
              "            color:  #000000;\n",
              "        }#T_66f69c38_baee_11eb_bfe9_0242ac1c0002row1_col1{\n",
              "            background-color:  #c9c9f5;\n",
              "            color:  #000000;\n",
              "        }#T_66f69c38_baee_11eb_bfe9_0242ac1c0002row1_col3{\n",
              "            background-color:  #6767fa;\n",
              "            color:  #000000;\n",
              "        }#T_66f69c38_baee_11eb_bfe9_0242ac1c0002row1_col4,#T_66f69c38_baee_11eb_bfe9_0242ac1c0002row7_col1,#T_66f69c38_baee_11eb_bfe9_0242ac1c0002row9_col4{\n",
              "            background-color:  #6060fa;\n",
              "            color:  #000000;\n",
              "        }#T_66f69c38_baee_11eb_bfe9_0242ac1c0002row2_col0{\n",
              "            background-color:  #bcbcf5;\n",
              "            color:  #000000;\n",
              "        }#T_66f69c38_baee_11eb_bfe9_0242ac1c0002row2_col2,#T_66f69c38_baee_11eb_bfe9_0242ac1c0002row2_col3{\n",
              "            background-color:  #5a5afa;\n",
              "            color:  #f1f1f1;\n",
              "        }#T_66f69c38_baee_11eb_bfe9_0242ac1c0002row2_col4,#T_66f69c38_baee_11eb_bfe9_0242ac1c0002row6_col2,#T_66f69c38_baee_11eb_bfe9_0242ac1c0002row8_col1,#T_66f69c38_baee_11eb_bfe9_0242ac1c0002row8_col3,#T_66f69c38_baee_11eb_bfe9_0242ac1c0002row9_col0{\n",
              "            background-color:  #0000ff;\n",
              "            color:  #f1f1f1;\n",
              "        }#T_66f69c38_baee_11eb_bfe9_0242ac1c0002row3_col0{\n",
              "            background-color:  #a0a0f7;\n",
              "            color:  #000000;\n",
              "        }#T_66f69c38_baee_11eb_bfe9_0242ac1c0002row3_col1,#T_66f69c38_baee_11eb_bfe9_0242ac1c0002row7_col0{\n",
              "            background-color:  #3535fc;\n",
              "            color:  #f1f1f1;\n",
              "        }#T_66f69c38_baee_11eb_bfe9_0242ac1c0002row3_col2{\n",
              "            background-color:  #6464fa;\n",
              "            color:  #000000;\n",
              "        }#T_66f69c38_baee_11eb_bfe9_0242ac1c0002row3_col4{\n",
              "            background-color:  #3e3efc;\n",
              "            color:  #f1f1f1;\n",
              "        }#T_66f69c38_baee_11eb_bfe9_0242ac1c0002row4_col0{\n",
              "            background-color:  #8686f8;\n",
              "            color:  #000000;\n",
              "        }#T_66f69c38_baee_11eb_bfe9_0242ac1c0002row4_col1{\n",
              "            background-color:  #1111fe;\n",
              "            color:  #f1f1f1;\n",
              "        }#T_66f69c38_baee_11eb_bfe9_0242ac1c0002row4_col2{\n",
              "            background-color:  #0d0dfe;\n",
              "            color:  #f1f1f1;\n",
              "        }#T_66f69c38_baee_11eb_bfe9_0242ac1c0002row4_col3{\n",
              "            background-color:  #9797f7;\n",
              "            color:  #000000;\n",
              "        }#T_66f69c38_baee_11eb_bfe9_0242ac1c0002row4_col4,#T_66f69c38_baee_11eb_bfe9_0242ac1c0002row7_col4{\n",
              "            background-color:  #5353fb;\n",
              "            color:  #f1f1f1;\n",
              "        }#T_66f69c38_baee_11eb_bfe9_0242ac1c0002row5_col0{\n",
              "            background-color:  #6b6bfa;\n",
              "            color:  #000000;\n",
              "        }#T_66f69c38_baee_11eb_bfe9_0242ac1c0002row5_col1{\n",
              "            background-color:  #dcdcf4;\n",
              "            color:  #000000;\n",
              "        }#T_66f69c38_baee_11eb_bfe9_0242ac1c0002row5_col2{\n",
              "            background-color:  #3a3afc;\n",
              "            color:  #f1f1f1;\n",
              "        }#T_66f69c38_baee_11eb_bfe9_0242ac1c0002row5_col3{\n",
              "            background-color:  #0404ff;\n",
              "            color:  #f1f1f1;\n",
              "        }#T_66f69c38_baee_11eb_bfe9_0242ac1c0002row5_col4{\n",
              "            background-color:  #7676f9;\n",
              "            color:  #000000;\n",
              "        }#T_66f69c38_baee_11eb_bfe9_0242ac1c0002row6_col0{\n",
              "            background-color:  #5050fb;\n",
              "            color:  #f1f1f1;\n",
              "        }#T_66f69c38_baee_11eb_bfe9_0242ac1c0002row6_col1{\n",
              "            background-color:  #7171f9;\n",
              "            color:  #000000;\n",
              "        }#T_66f69c38_baee_11eb_bfe9_0242ac1c0002row6_col3{\n",
              "            background-color:  #ababf6;\n",
              "            color:  #000000;\n",
              "        }#T_66f69c38_baee_11eb_bfe9_0242ac1c0002row6_col4,#T_66f69c38_baee_11eb_bfe9_0242ac1c0002row7_col2{\n",
              "            background-color:  #0f0ffe;\n",
              "            color:  #f1f1f1;\n",
              "        }#T_66f69c38_baee_11eb_bfe9_0242ac1c0002row7_col3{\n",
              "            background-color:  #d9d9f4;\n",
              "            color:  #000000;\n",
              "        }#T_66f69c38_baee_11eb_bfe9_0242ac1c0002row8_col0{\n",
              "            background-color:  #1a1afe;\n",
              "            color:  #f1f1f1;\n",
              "        }#T_66f69c38_baee_11eb_bfe9_0242ac1c0002row8_col2{\n",
              "            background-color:  #e7e7f3;\n",
              "            color:  #000000;\n",
              "        }#T_66f69c38_baee_11eb_bfe9_0242ac1c0002row9_col1{\n",
              "            background-color:  #8484f8;\n",
              "            color:  #000000;\n",
              "        }#T_66f69c38_baee_11eb_bfe9_0242ac1c0002row9_col2{\n",
              "            background-color:  #3434fc;\n",
              "            color:  #f1f1f1;\n",
              "        }</style><table id=\"T_66f69c38_baee_11eb_bfe9_0242ac1c0002\" ><thead>    <tr>        <th class=\"blank level0\" ></th>        <th class=\"col_heading level0 col0\" >A</th>        <th class=\"col_heading level0 col1\" >B</th>        <th class=\"col_heading level0 col2\" >C</th>        <th class=\"col_heading level0 col3\" >D</th>        <th class=\"col_heading level0 col4\" >E</th>    </tr></thead><tbody>\n",
              "                <tr>\n",
              "                        <th id=\"T_66f69c38_baee_11eb_bfe9_0242ac1c0002level0_row0\" class=\"row_heading level0 row0\" >0</th>\n",
              "                        <td id=\"T_66f69c38_baee_11eb_bfe9_0242ac1c0002row0_col0\" class=\"data row0 col0\" >1.000000</td>\n",
              "                        <td id=\"T_66f69c38_baee_11eb_bfe9_0242ac1c0002row0_col1\" class=\"data row0 col1\" >1.329212</td>\n",
              "                        <td id=\"T_66f69c38_baee_11eb_bfe9_0242ac1c0002row0_col2\" class=\"data row0 col2\" >nan</td>\n",
              "                        <td id=\"T_66f69c38_baee_11eb_bfe9_0242ac1c0002row0_col3\" class=\"data row0 col3\" >-0.316280</td>\n",
              "                        <td id=\"T_66f69c38_baee_11eb_bfe9_0242ac1c0002row0_col4\" class=\"data row0 col4\" >-0.990810</td>\n",
              "            </tr>\n",
              "            <tr>\n",
              "                        <th id=\"T_66f69c38_baee_11eb_bfe9_0242ac1c0002level0_row1\" class=\"row_heading level0 row1\" >1</th>\n",
              "                        <td id=\"T_66f69c38_baee_11eb_bfe9_0242ac1c0002row1_col0\" class=\"data row1 col0\" >2.000000</td>\n",
              "                        <td id=\"T_66f69c38_baee_11eb_bfe9_0242ac1c0002row1_col1\" class=\"data row1 col1\" >-1.070816</td>\n",
              "                        <td id=\"T_66f69c38_baee_11eb_bfe9_0242ac1c0002row1_col2\" class=\"data row1 col2\" >-1.438713</td>\n",
              "                        <td id=\"T_66f69c38_baee_11eb_bfe9_0242ac1c0002row1_col3\" class=\"data row1 col3\" >0.564417</td>\n",
              "                        <td id=\"T_66f69c38_baee_11eb_bfe9_0242ac1c0002row1_col4\" class=\"data row1 col4\" >0.295722</td>\n",
              "            </tr>\n",
              "            <tr>\n",
              "                        <th id=\"T_66f69c38_baee_11eb_bfe9_0242ac1c0002level0_row2\" class=\"row_heading level0 row2\" >2</th>\n",
              "                        <td id=\"T_66f69c38_baee_11eb_bfe9_0242ac1c0002row2_col0\" class=\"data row2 col0\" >3.000000</td>\n",
              "                        <td id=\"T_66f69c38_baee_11eb_bfe9_0242ac1c0002row2_col1\" class=\"data row2 col1\" >-1.626404</td>\n",
              "                        <td id=\"T_66f69c38_baee_11eb_bfe9_0242ac1c0002row2_col2\" class=\"data row2 col2\" >0.219565</td>\n",
              "                        <td id=\"T_66f69c38_baee_11eb_bfe9_0242ac1c0002row2_col3\" class=\"data row2 col3\" >0.678805</td>\n",
              "                        <td id=\"T_66f69c38_baee_11eb_bfe9_0242ac1c0002row2_col4\" class=\"data row2 col4\" >1.889273</td>\n",
              "            </tr>\n",
              "            <tr>\n",
              "                        <th id=\"T_66f69c38_baee_11eb_bfe9_0242ac1c0002level0_row3\" class=\"row_heading level0 row3\" >3</th>\n",
              "                        <td id=\"T_66f69c38_baee_11eb_bfe9_0242ac1c0002row3_col0\" class=\"data row3 col0\" >4.000000</td>\n",
              "                        <td id=\"T_66f69c38_baee_11eb_bfe9_0242ac1c0002row3_col1\" class=\"data row3 col1\" >0.961538</td>\n",
              "                        <td id=\"T_66f69c38_baee_11eb_bfe9_0242ac1c0002row3_col2\" class=\"data row3 col2\" >0.104011</td>\n",
              "                        <td id=\"T_66f69c38_baee_11eb_bfe9_0242ac1c0002row3_col3\" class=\"data row3 col3\" >nan</td>\n",
              "                        <td id=\"T_66f69c38_baee_11eb_bfe9_0242ac1c0002row3_col4\" class=\"data row3 col4\" >0.850229</td>\n",
              "            </tr>\n",
              "            <tr>\n",
              "                        <th id=\"T_66f69c38_baee_11eb_bfe9_0242ac1c0002level0_row4\" class=\"row_heading level0 row4\" >4</th>\n",
              "                        <td id=\"T_66f69c38_baee_11eb_bfe9_0242ac1c0002row4_col0\" class=\"data row4 col0\" >5.000000</td>\n",
              "                        <td id=\"T_66f69c38_baee_11eb_bfe9_0242ac1c0002row4_col1\" class=\"data row4 col1\" >1.453425</td>\n",
              "                        <td id=\"T_66f69c38_baee_11eb_bfe9_0242ac1c0002row4_col2\" class=\"data row4 col2\" >1.057737</td>\n",
              "                        <td id=\"T_66f69c38_baee_11eb_bfe9_0242ac1c0002row4_col3\" class=\"data row4 col3\" >0.165562</td>\n",
              "                        <td id=\"T_66f69c38_baee_11eb_bfe9_0242ac1c0002row4_col4\" class=\"data row4 col4\" >0.515018</td>\n",
              "            </tr>\n",
              "            <tr>\n",
              "                        <th id=\"T_66f69c38_baee_11eb_bfe9_0242ac1c0002level0_row5\" class=\"row_heading level0 row5\" >5</th>\n",
              "                        <td id=\"T_66f69c38_baee_11eb_bfe9_0242ac1c0002row5_col0\" class=\"data row5 col0\" >6.000000</td>\n",
              "                        <td id=\"T_66f69c38_baee_11eb_bfe9_0242ac1c0002row5_col1\" class=\"data row5 col1\" >-1.336936</td>\n",
              "                        <td id=\"T_66f69c38_baee_11eb_bfe9_0242ac1c0002row5_col2\" class=\"data row5 col2\" >0.562861</td>\n",
              "                        <td id=\"T_66f69c38_baee_11eb_bfe9_0242ac1c0002row5_col3\" class=\"data row5 col3\" >1.392855</td>\n",
              "                        <td id=\"T_66f69c38_baee_11eb_bfe9_0242ac1c0002row5_col4\" class=\"data row5 col4\" >-0.063328</td>\n",
              "            </tr>\n",
              "            <tr>\n",
              "                        <th id=\"T_66f69c38_baee_11eb_bfe9_0242ac1c0002level0_row6\" class=\"row_heading level0 row6\" >6</th>\n",
              "                        <td id=\"T_66f69c38_baee_11eb_bfe9_0242ac1c0002row6_col0\" class=\"data row6 col0\" >7.000000</td>\n",
              "                        <td id=\"T_66f69c38_baee_11eb_bfe9_0242ac1c0002row6_col1\" class=\"data row6 col1\" >0.121668</td>\n",
              "                        <td id=\"T_66f69c38_baee_11eb_bfe9_0242ac1c0002row6_col2\" class=\"data row6 col2\" >1.207603</td>\n",
              "                        <td id=\"T_66f69c38_baee_11eb_bfe9_0242ac1c0002row6_col3\" class=\"data row6 col3\" >-0.002040</td>\n",
              "                        <td id=\"T_66f69c38_baee_11eb_bfe9_0242ac1c0002row6_col4\" class=\"data row6 col4\" >1.627796</td>\n",
              "            </tr>\n",
              "            <tr>\n",
              "                        <th id=\"T_66f69c38_baee_11eb_bfe9_0242ac1c0002level0_row7\" class=\"row_heading level0 row7\" >7</th>\n",
              "                        <td id=\"T_66f69c38_baee_11eb_bfe9_0242ac1c0002row7_col0\" class=\"data row7 col0\" >8.000000</td>\n",
              "                        <td id=\"T_66f69c38_baee_11eb_bfe9_0242ac1c0002row7_col1\" class=\"data row7 col1\" >0.354493</td>\n",
              "                        <td id=\"T_66f69c38_baee_11eb_bfe9_0242ac1c0002row7_col2\" class=\"data row7 col2\" >1.037528</td>\n",
              "                        <td id=\"T_66f69c38_baee_11eb_bfe9_0242ac1c0002row7_col3\" class=\"data row7 col3\" >-0.385684</td>\n",
              "                        <td id=\"T_66f69c38_baee_11eb_bfe9_0242ac1c0002row7_col4\" class=\"data row7 col4\" >0.519818</td>\n",
              "            </tr>\n",
              "            <tr>\n",
              "                        <th id=\"T_66f69c38_baee_11eb_bfe9_0242ac1c0002level0_row8\" class=\"row_heading level0 row8\" >8</th>\n",
              "                        <td id=\"T_66f69c38_baee_11eb_bfe9_0242ac1c0002row8_col0\" class=\"data row8 col0\" >9.000000</td>\n",
              "                        <td id=\"T_66f69c38_baee_11eb_bfe9_0242ac1c0002row8_col1\" class=\"data row8 col1\" >1.686583</td>\n",
              "                        <td id=\"T_66f69c38_baee_11eb_bfe9_0242ac1c0002row8_col2\" class=\"data row8 col2\" >-1.325963</td>\n",
              "                        <td id=\"T_66f69c38_baee_11eb_bfe9_0242ac1c0002row8_col3\" class=\"data row8 col3\" >1.428984</td>\n",
              "                        <td id=\"T_66f69c38_baee_11eb_bfe9_0242ac1c0002row8_col4\" class=\"data row8 col4\" >-2.089354</td>\n",
              "            </tr>\n",
              "            <tr>\n",
              "                        <th id=\"T_66f69c38_baee_11eb_bfe9_0242ac1c0002level0_row9\" class=\"row_heading level0 row9\" >9</th>\n",
              "                        <td id=\"T_66f69c38_baee_11eb_bfe9_0242ac1c0002row9_col0\" class=\"data row9 col0\" >10.000000</td>\n",
              "                        <td id=\"T_66f69c38_baee_11eb_bfe9_0242ac1c0002row9_col1\" class=\"data row9 col1\" >-0.129820</td>\n",
              "                        <td id=\"T_66f69c38_baee_11eb_bfe9_0242ac1c0002row9_col2\" class=\"data row9 col2\" >0.631523</td>\n",
              "                        <td id=\"T_66f69c38_baee_11eb_bfe9_0242ac1c0002row9_col3\" class=\"data row9 col3\" >-0.586538</td>\n",
              "                        <td id=\"T_66f69c38_baee_11eb_bfe9_0242ac1c0002row9_col4\" class=\"data row9 col4\" >0.290720</td>\n",
              "            </tr>\n",
              "    </tbody></table>"
            ],
            "text/plain": [
              "<pandas.io.formats.style.Styler at 0x7fe9aa6c0510>"
            ]
          },
          "metadata": {
            "tags": []
          },
          "execution_count": 180
        }
      ]
    },
    {
      "cell_type": "code",
      "metadata": {
        "id": "Wov86pHwibeR",
        "colab": {
          "base_uri": "https://localhost:8080/",
          "height": 250
        },
        "outputId": "393bcaae-4a7f-4fb7-c685-cd8e1ce5d41a"
      },
      "source": [
        "# метод style.bar() позволяет добавить гистограммы в табличное отображение данных для серий\n",
        "# параметр subset=[] позволяет указать для каких столбцов применяется\n",
        "# параметр color отвечает за цвет гистограмм\n",
        "df.style.bar(subset=['A', 'B'], color='blue')"
      ],
      "execution_count": null,
      "outputs": [
        {
          "output_type": "execute_result",
          "data": {
            "text/html": [
              "<style  type=\"text/css\" >\n",
              "#T_0b6b47f0_baef_11eb_bfe9_0242ac1c0002row0_col0,#T_0b6b47f0_baef_11eb_bfe9_0242ac1c0002row2_col1{\n",
              "            width:  10em;\n",
              "             height:  80%;\n",
              "        }#T_0b6b47f0_baef_11eb_bfe9_0242ac1c0002row0_col1{\n",
              "            width:  10em;\n",
              "             height:  80%;\n",
              "            background:  linear-gradient(90deg,blue 89.2%, transparent 89.2%);\n",
              "        }#T_0b6b47f0_baef_11eb_bfe9_0242ac1c0002row1_col0{\n",
              "            width:  10em;\n",
              "             height:  80%;\n",
              "            background:  linear-gradient(90deg,blue 11.1%, transparent 11.1%);\n",
              "        }#T_0b6b47f0_baef_11eb_bfe9_0242ac1c0002row1_col1{\n",
              "            width:  10em;\n",
              "             height:  80%;\n",
              "            background:  linear-gradient(90deg,blue 16.8%, transparent 16.8%);\n",
              "        }#T_0b6b47f0_baef_11eb_bfe9_0242ac1c0002row2_col0{\n",
              "            width:  10em;\n",
              "             height:  80%;\n",
              "            background:  linear-gradient(90deg,blue 22.2%, transparent 22.2%);\n",
              "        }#T_0b6b47f0_baef_11eb_bfe9_0242ac1c0002row3_col0{\n",
              "            width:  10em;\n",
              "             height:  80%;\n",
              "            background:  linear-gradient(90deg,blue 33.3%, transparent 33.3%);\n",
              "        }#T_0b6b47f0_baef_11eb_bfe9_0242ac1c0002row3_col1{\n",
              "            width:  10em;\n",
              "             height:  80%;\n",
              "            background:  linear-gradient(90deg,blue 78.1%, transparent 78.1%);\n",
              "        }#T_0b6b47f0_baef_11eb_bfe9_0242ac1c0002row4_col0{\n",
              "            width:  10em;\n",
              "             height:  80%;\n",
              "            background:  linear-gradient(90deg,blue 44.4%, transparent 44.4%);\n",
              "        }#T_0b6b47f0_baef_11eb_bfe9_0242ac1c0002row4_col1{\n",
              "            width:  10em;\n",
              "             height:  80%;\n",
              "            background:  linear-gradient(90deg,blue 93.0%, transparent 93.0%);\n",
              "        }#T_0b6b47f0_baef_11eb_bfe9_0242ac1c0002row5_col0{\n",
              "            width:  10em;\n",
              "             height:  80%;\n",
              "            background:  linear-gradient(90deg,blue 55.6%, transparent 55.6%);\n",
              "        }#T_0b6b47f0_baef_11eb_bfe9_0242ac1c0002row5_col1{\n",
              "            width:  10em;\n",
              "             height:  80%;\n",
              "            background:  linear-gradient(90deg,blue 8.7%, transparent 8.7%);\n",
              "        }#T_0b6b47f0_baef_11eb_bfe9_0242ac1c0002row6_col0{\n",
              "            width:  10em;\n",
              "             height:  80%;\n",
              "            background:  linear-gradient(90deg,blue 66.7%, transparent 66.7%);\n",
              "        }#T_0b6b47f0_baef_11eb_bfe9_0242ac1c0002row6_col1{\n",
              "            width:  10em;\n",
              "             height:  80%;\n",
              "            background:  linear-gradient(90deg,blue 52.8%, transparent 52.8%);\n",
              "        }#T_0b6b47f0_baef_11eb_bfe9_0242ac1c0002row7_col0{\n",
              "            width:  10em;\n",
              "             height:  80%;\n",
              "            background:  linear-gradient(90deg,blue 77.8%, transparent 77.8%);\n",
              "        }#T_0b6b47f0_baef_11eb_bfe9_0242ac1c0002row7_col1{\n",
              "            width:  10em;\n",
              "             height:  80%;\n",
              "            background:  linear-gradient(90deg,blue 59.8%, transparent 59.8%);\n",
              "        }#T_0b6b47f0_baef_11eb_bfe9_0242ac1c0002row8_col0{\n",
              "            width:  10em;\n",
              "             height:  80%;\n",
              "            background:  linear-gradient(90deg,blue 88.9%, transparent 88.9%);\n",
              "        }#T_0b6b47f0_baef_11eb_bfe9_0242ac1c0002row8_col1,#T_0b6b47f0_baef_11eb_bfe9_0242ac1c0002row9_col0{\n",
              "            width:  10em;\n",
              "             height:  80%;\n",
              "            background:  linear-gradient(90deg,blue 100.0%, transparent 100.0%);\n",
              "        }#T_0b6b47f0_baef_11eb_bfe9_0242ac1c0002row9_col1{\n",
              "            width:  10em;\n",
              "             height:  80%;\n",
              "            background:  linear-gradient(90deg,blue 45.2%, transparent 45.2%);\n",
              "        }</style><table id=\"T_0b6b47f0_baef_11eb_bfe9_0242ac1c0002\" ><thead>    <tr>        <th class=\"blank level0\" ></th>        <th class=\"col_heading level0 col0\" >A</th>        <th class=\"col_heading level0 col1\" >B</th>        <th class=\"col_heading level0 col2\" >C</th>        <th class=\"col_heading level0 col3\" >D</th>        <th class=\"col_heading level0 col4\" >E</th>    </tr></thead><tbody>\n",
              "                <tr>\n",
              "                        <th id=\"T_0b6b47f0_baef_11eb_bfe9_0242ac1c0002level0_row0\" class=\"row_heading level0 row0\" >0</th>\n",
              "                        <td id=\"T_0b6b47f0_baef_11eb_bfe9_0242ac1c0002row0_col0\" class=\"data row0 col0\" >1.000000</td>\n",
              "                        <td id=\"T_0b6b47f0_baef_11eb_bfe9_0242ac1c0002row0_col1\" class=\"data row0 col1\" >1.329212</td>\n",
              "                        <td id=\"T_0b6b47f0_baef_11eb_bfe9_0242ac1c0002row0_col2\" class=\"data row0 col2\" >nan</td>\n",
              "                        <td id=\"T_0b6b47f0_baef_11eb_bfe9_0242ac1c0002row0_col3\" class=\"data row0 col3\" >-0.316280</td>\n",
              "                        <td id=\"T_0b6b47f0_baef_11eb_bfe9_0242ac1c0002row0_col4\" class=\"data row0 col4\" >-0.990810</td>\n",
              "            </tr>\n",
              "            <tr>\n",
              "                        <th id=\"T_0b6b47f0_baef_11eb_bfe9_0242ac1c0002level0_row1\" class=\"row_heading level0 row1\" >1</th>\n",
              "                        <td id=\"T_0b6b47f0_baef_11eb_bfe9_0242ac1c0002row1_col0\" class=\"data row1 col0\" >2.000000</td>\n",
              "                        <td id=\"T_0b6b47f0_baef_11eb_bfe9_0242ac1c0002row1_col1\" class=\"data row1 col1\" >-1.070816</td>\n",
              "                        <td id=\"T_0b6b47f0_baef_11eb_bfe9_0242ac1c0002row1_col2\" class=\"data row1 col2\" >-1.438713</td>\n",
              "                        <td id=\"T_0b6b47f0_baef_11eb_bfe9_0242ac1c0002row1_col3\" class=\"data row1 col3\" >0.564417</td>\n",
              "                        <td id=\"T_0b6b47f0_baef_11eb_bfe9_0242ac1c0002row1_col4\" class=\"data row1 col4\" >0.295722</td>\n",
              "            </tr>\n",
              "            <tr>\n",
              "                        <th id=\"T_0b6b47f0_baef_11eb_bfe9_0242ac1c0002level0_row2\" class=\"row_heading level0 row2\" >2</th>\n",
              "                        <td id=\"T_0b6b47f0_baef_11eb_bfe9_0242ac1c0002row2_col0\" class=\"data row2 col0\" >3.000000</td>\n",
              "                        <td id=\"T_0b6b47f0_baef_11eb_bfe9_0242ac1c0002row2_col1\" class=\"data row2 col1\" >-1.626404</td>\n",
              "                        <td id=\"T_0b6b47f0_baef_11eb_bfe9_0242ac1c0002row2_col2\" class=\"data row2 col2\" >0.219565</td>\n",
              "                        <td id=\"T_0b6b47f0_baef_11eb_bfe9_0242ac1c0002row2_col3\" class=\"data row2 col3\" >0.678805</td>\n",
              "                        <td id=\"T_0b6b47f0_baef_11eb_bfe9_0242ac1c0002row2_col4\" class=\"data row2 col4\" >1.889273</td>\n",
              "            </tr>\n",
              "            <tr>\n",
              "                        <th id=\"T_0b6b47f0_baef_11eb_bfe9_0242ac1c0002level0_row3\" class=\"row_heading level0 row3\" >3</th>\n",
              "                        <td id=\"T_0b6b47f0_baef_11eb_bfe9_0242ac1c0002row3_col0\" class=\"data row3 col0\" >4.000000</td>\n",
              "                        <td id=\"T_0b6b47f0_baef_11eb_bfe9_0242ac1c0002row3_col1\" class=\"data row3 col1\" >0.961538</td>\n",
              "                        <td id=\"T_0b6b47f0_baef_11eb_bfe9_0242ac1c0002row3_col2\" class=\"data row3 col2\" >0.104011</td>\n",
              "                        <td id=\"T_0b6b47f0_baef_11eb_bfe9_0242ac1c0002row3_col3\" class=\"data row3 col3\" >nan</td>\n",
              "                        <td id=\"T_0b6b47f0_baef_11eb_bfe9_0242ac1c0002row3_col4\" class=\"data row3 col4\" >0.850229</td>\n",
              "            </tr>\n",
              "            <tr>\n",
              "                        <th id=\"T_0b6b47f0_baef_11eb_bfe9_0242ac1c0002level0_row4\" class=\"row_heading level0 row4\" >4</th>\n",
              "                        <td id=\"T_0b6b47f0_baef_11eb_bfe9_0242ac1c0002row4_col0\" class=\"data row4 col0\" >5.000000</td>\n",
              "                        <td id=\"T_0b6b47f0_baef_11eb_bfe9_0242ac1c0002row4_col1\" class=\"data row4 col1\" >1.453425</td>\n",
              "                        <td id=\"T_0b6b47f0_baef_11eb_bfe9_0242ac1c0002row4_col2\" class=\"data row4 col2\" >1.057737</td>\n",
              "                        <td id=\"T_0b6b47f0_baef_11eb_bfe9_0242ac1c0002row4_col3\" class=\"data row4 col3\" >0.165562</td>\n",
              "                        <td id=\"T_0b6b47f0_baef_11eb_bfe9_0242ac1c0002row4_col4\" class=\"data row4 col4\" >0.515018</td>\n",
              "            </tr>\n",
              "            <tr>\n",
              "                        <th id=\"T_0b6b47f0_baef_11eb_bfe9_0242ac1c0002level0_row5\" class=\"row_heading level0 row5\" >5</th>\n",
              "                        <td id=\"T_0b6b47f0_baef_11eb_bfe9_0242ac1c0002row5_col0\" class=\"data row5 col0\" >6.000000</td>\n",
              "                        <td id=\"T_0b6b47f0_baef_11eb_bfe9_0242ac1c0002row5_col1\" class=\"data row5 col1\" >-1.336936</td>\n",
              "                        <td id=\"T_0b6b47f0_baef_11eb_bfe9_0242ac1c0002row5_col2\" class=\"data row5 col2\" >0.562861</td>\n",
              "                        <td id=\"T_0b6b47f0_baef_11eb_bfe9_0242ac1c0002row5_col3\" class=\"data row5 col3\" >1.392855</td>\n",
              "                        <td id=\"T_0b6b47f0_baef_11eb_bfe9_0242ac1c0002row5_col4\" class=\"data row5 col4\" >-0.063328</td>\n",
              "            </tr>\n",
              "            <tr>\n",
              "                        <th id=\"T_0b6b47f0_baef_11eb_bfe9_0242ac1c0002level0_row6\" class=\"row_heading level0 row6\" >6</th>\n",
              "                        <td id=\"T_0b6b47f0_baef_11eb_bfe9_0242ac1c0002row6_col0\" class=\"data row6 col0\" >7.000000</td>\n",
              "                        <td id=\"T_0b6b47f0_baef_11eb_bfe9_0242ac1c0002row6_col1\" class=\"data row6 col1\" >0.121668</td>\n",
              "                        <td id=\"T_0b6b47f0_baef_11eb_bfe9_0242ac1c0002row6_col2\" class=\"data row6 col2\" >1.207603</td>\n",
              "                        <td id=\"T_0b6b47f0_baef_11eb_bfe9_0242ac1c0002row6_col3\" class=\"data row6 col3\" >-0.002040</td>\n",
              "                        <td id=\"T_0b6b47f0_baef_11eb_bfe9_0242ac1c0002row6_col4\" class=\"data row6 col4\" >1.627796</td>\n",
              "            </tr>\n",
              "            <tr>\n",
              "                        <th id=\"T_0b6b47f0_baef_11eb_bfe9_0242ac1c0002level0_row7\" class=\"row_heading level0 row7\" >7</th>\n",
              "                        <td id=\"T_0b6b47f0_baef_11eb_bfe9_0242ac1c0002row7_col0\" class=\"data row7 col0\" >8.000000</td>\n",
              "                        <td id=\"T_0b6b47f0_baef_11eb_bfe9_0242ac1c0002row7_col1\" class=\"data row7 col1\" >0.354493</td>\n",
              "                        <td id=\"T_0b6b47f0_baef_11eb_bfe9_0242ac1c0002row7_col2\" class=\"data row7 col2\" >1.037528</td>\n",
              "                        <td id=\"T_0b6b47f0_baef_11eb_bfe9_0242ac1c0002row7_col3\" class=\"data row7 col3\" >-0.385684</td>\n",
              "                        <td id=\"T_0b6b47f0_baef_11eb_bfe9_0242ac1c0002row7_col4\" class=\"data row7 col4\" >0.519818</td>\n",
              "            </tr>\n",
              "            <tr>\n",
              "                        <th id=\"T_0b6b47f0_baef_11eb_bfe9_0242ac1c0002level0_row8\" class=\"row_heading level0 row8\" >8</th>\n",
              "                        <td id=\"T_0b6b47f0_baef_11eb_bfe9_0242ac1c0002row8_col0\" class=\"data row8 col0\" >9.000000</td>\n",
              "                        <td id=\"T_0b6b47f0_baef_11eb_bfe9_0242ac1c0002row8_col1\" class=\"data row8 col1\" >1.686583</td>\n",
              "                        <td id=\"T_0b6b47f0_baef_11eb_bfe9_0242ac1c0002row8_col2\" class=\"data row8 col2\" >-1.325963</td>\n",
              "                        <td id=\"T_0b6b47f0_baef_11eb_bfe9_0242ac1c0002row8_col3\" class=\"data row8 col3\" >1.428984</td>\n",
              "                        <td id=\"T_0b6b47f0_baef_11eb_bfe9_0242ac1c0002row8_col4\" class=\"data row8 col4\" >-2.089354</td>\n",
              "            </tr>\n",
              "            <tr>\n",
              "                        <th id=\"T_0b6b47f0_baef_11eb_bfe9_0242ac1c0002level0_row9\" class=\"row_heading level0 row9\" >9</th>\n",
              "                        <td id=\"T_0b6b47f0_baef_11eb_bfe9_0242ac1c0002row9_col0\" class=\"data row9 col0\" >10.000000</td>\n",
              "                        <td id=\"T_0b6b47f0_baef_11eb_bfe9_0242ac1c0002row9_col1\" class=\"data row9 col1\" >-0.129820</td>\n",
              "                        <td id=\"T_0b6b47f0_baef_11eb_bfe9_0242ac1c0002row9_col2\" class=\"data row9 col2\" >0.631523</td>\n",
              "                        <td id=\"T_0b6b47f0_baef_11eb_bfe9_0242ac1c0002row9_col3\" class=\"data row9 col3\" >-0.586538</td>\n",
              "                        <td id=\"T_0b6b47f0_baef_11eb_bfe9_0242ac1c0002row9_col4\" class=\"data row9 col4\" >0.290720</td>\n",
              "            </tr>\n",
              "    </tbody></table>"
            ],
            "text/plain": [
              "<pandas.io.formats.style.Styler at 0x7fe9aa252910>"
            ]
          },
          "metadata": {
            "tags": []
          },
          "execution_count": 189
        }
      ]
    },
    {
      "cell_type": "code",
      "metadata": {
        "id": "g9A7QbEiibcu",
        "colab": {
          "base_uri": "https://localhost:8080/",
          "height": 250
        },
        "outputId": "12f49bc0-409e-4d56-ceac-31f470bb3da1"
      },
      "source": [
        "# параметр align - отвечает за расположение оси относительно которой строятся гистограммы, в данном случае ось слева\n",
        "# параметр color отвечает за цвет гистограмм (для отрицательных и положительных значений)\n",
        "df.style.bar(subset=['A', 'B'], align='left', color=['#d65f5f', '#5fba7d']) "
      ],
      "execution_count": null,
      "outputs": [
        {
          "output_type": "execute_result",
          "data": {
            "text/html": [
              "<style  type=\"text/css\" >\n",
              "#T_1805f770_baf0_11eb_bfe9_0242ac1c0002row0_col0,#T_1805f770_baf0_11eb_bfe9_0242ac1c0002row2_col1{\n",
              "            width:  10em;\n",
              "             height:  80%;\n",
              "        }#T_1805f770_baf0_11eb_bfe9_0242ac1c0002row0_col1{\n",
              "            width:  10em;\n",
              "             height:  80%;\n",
              "            background:  linear-gradient(90deg,#5fba7d 89.2%, transparent 89.2%);\n",
              "        }#T_1805f770_baf0_11eb_bfe9_0242ac1c0002row1_col0{\n",
              "            width:  10em;\n",
              "             height:  80%;\n",
              "            background:  linear-gradient(90deg,#5fba7d 11.1%, transparent 11.1%);\n",
              "        }#T_1805f770_baf0_11eb_bfe9_0242ac1c0002row1_col1{\n",
              "            width:  10em;\n",
              "             height:  80%;\n",
              "            background:  linear-gradient(90deg,#d65f5f 16.8%, transparent 16.8%);\n",
              "        }#T_1805f770_baf0_11eb_bfe9_0242ac1c0002row2_col0{\n",
              "            width:  10em;\n",
              "             height:  80%;\n",
              "            background:  linear-gradient(90deg,#5fba7d 22.2%, transparent 22.2%);\n",
              "        }#T_1805f770_baf0_11eb_bfe9_0242ac1c0002row3_col0{\n",
              "            width:  10em;\n",
              "             height:  80%;\n",
              "            background:  linear-gradient(90deg,#5fba7d 33.3%, transparent 33.3%);\n",
              "        }#T_1805f770_baf0_11eb_bfe9_0242ac1c0002row3_col1{\n",
              "            width:  10em;\n",
              "             height:  80%;\n",
              "            background:  linear-gradient(90deg,#5fba7d 78.1%, transparent 78.1%);\n",
              "        }#T_1805f770_baf0_11eb_bfe9_0242ac1c0002row4_col0{\n",
              "            width:  10em;\n",
              "             height:  80%;\n",
              "            background:  linear-gradient(90deg,#5fba7d 44.4%, transparent 44.4%);\n",
              "        }#T_1805f770_baf0_11eb_bfe9_0242ac1c0002row4_col1{\n",
              "            width:  10em;\n",
              "             height:  80%;\n",
              "            background:  linear-gradient(90deg,#5fba7d 93.0%, transparent 93.0%);\n",
              "        }#T_1805f770_baf0_11eb_bfe9_0242ac1c0002row5_col0{\n",
              "            width:  10em;\n",
              "             height:  80%;\n",
              "            background:  linear-gradient(90deg,#5fba7d 55.6%, transparent 55.6%);\n",
              "        }#T_1805f770_baf0_11eb_bfe9_0242ac1c0002row5_col1{\n",
              "            width:  10em;\n",
              "             height:  80%;\n",
              "            background:  linear-gradient(90deg,#d65f5f 8.7%, transparent 8.7%);\n",
              "        }#T_1805f770_baf0_11eb_bfe9_0242ac1c0002row6_col0{\n",
              "            width:  10em;\n",
              "             height:  80%;\n",
              "            background:  linear-gradient(90deg,#5fba7d 66.7%, transparent 66.7%);\n",
              "        }#T_1805f770_baf0_11eb_bfe9_0242ac1c0002row6_col1{\n",
              "            width:  10em;\n",
              "             height:  80%;\n",
              "            background:  linear-gradient(90deg,#5fba7d 52.8%, transparent 52.8%);\n",
              "        }#T_1805f770_baf0_11eb_bfe9_0242ac1c0002row7_col0{\n",
              "            width:  10em;\n",
              "             height:  80%;\n",
              "            background:  linear-gradient(90deg,#5fba7d 77.8%, transparent 77.8%);\n",
              "        }#T_1805f770_baf0_11eb_bfe9_0242ac1c0002row7_col1{\n",
              "            width:  10em;\n",
              "             height:  80%;\n",
              "            background:  linear-gradient(90deg,#5fba7d 59.8%, transparent 59.8%);\n",
              "        }#T_1805f770_baf0_11eb_bfe9_0242ac1c0002row8_col0{\n",
              "            width:  10em;\n",
              "             height:  80%;\n",
              "            background:  linear-gradient(90deg,#5fba7d 88.9%, transparent 88.9%);\n",
              "        }#T_1805f770_baf0_11eb_bfe9_0242ac1c0002row8_col1,#T_1805f770_baf0_11eb_bfe9_0242ac1c0002row9_col0{\n",
              "            width:  10em;\n",
              "             height:  80%;\n",
              "            background:  linear-gradient(90deg,#5fba7d 100.0%, transparent 100.0%);\n",
              "        }#T_1805f770_baf0_11eb_bfe9_0242ac1c0002row9_col1{\n",
              "            width:  10em;\n",
              "             height:  80%;\n",
              "            background:  linear-gradient(90deg,#d65f5f 45.2%, transparent 45.2%);\n",
              "        }</style><table id=\"T_1805f770_baf0_11eb_bfe9_0242ac1c0002\" ><thead>    <tr>        <th class=\"blank level0\" ></th>        <th class=\"col_heading level0 col0\" >A</th>        <th class=\"col_heading level0 col1\" >B</th>        <th class=\"col_heading level0 col2\" >C</th>        <th class=\"col_heading level0 col3\" >D</th>        <th class=\"col_heading level0 col4\" >E</th>    </tr></thead><tbody>\n",
              "                <tr>\n",
              "                        <th id=\"T_1805f770_baf0_11eb_bfe9_0242ac1c0002level0_row0\" class=\"row_heading level0 row0\" >0</th>\n",
              "                        <td id=\"T_1805f770_baf0_11eb_bfe9_0242ac1c0002row0_col0\" class=\"data row0 col0\" >1.000000</td>\n",
              "                        <td id=\"T_1805f770_baf0_11eb_bfe9_0242ac1c0002row0_col1\" class=\"data row0 col1\" >1.329212</td>\n",
              "                        <td id=\"T_1805f770_baf0_11eb_bfe9_0242ac1c0002row0_col2\" class=\"data row0 col2\" >nan</td>\n",
              "                        <td id=\"T_1805f770_baf0_11eb_bfe9_0242ac1c0002row0_col3\" class=\"data row0 col3\" >-0.316280</td>\n",
              "                        <td id=\"T_1805f770_baf0_11eb_bfe9_0242ac1c0002row0_col4\" class=\"data row0 col4\" >-0.990810</td>\n",
              "            </tr>\n",
              "            <tr>\n",
              "                        <th id=\"T_1805f770_baf0_11eb_bfe9_0242ac1c0002level0_row1\" class=\"row_heading level0 row1\" >1</th>\n",
              "                        <td id=\"T_1805f770_baf0_11eb_bfe9_0242ac1c0002row1_col0\" class=\"data row1 col0\" >2.000000</td>\n",
              "                        <td id=\"T_1805f770_baf0_11eb_bfe9_0242ac1c0002row1_col1\" class=\"data row1 col1\" >-1.070816</td>\n",
              "                        <td id=\"T_1805f770_baf0_11eb_bfe9_0242ac1c0002row1_col2\" class=\"data row1 col2\" >-1.438713</td>\n",
              "                        <td id=\"T_1805f770_baf0_11eb_bfe9_0242ac1c0002row1_col3\" class=\"data row1 col3\" >0.564417</td>\n",
              "                        <td id=\"T_1805f770_baf0_11eb_bfe9_0242ac1c0002row1_col4\" class=\"data row1 col4\" >0.295722</td>\n",
              "            </tr>\n",
              "            <tr>\n",
              "                        <th id=\"T_1805f770_baf0_11eb_bfe9_0242ac1c0002level0_row2\" class=\"row_heading level0 row2\" >2</th>\n",
              "                        <td id=\"T_1805f770_baf0_11eb_bfe9_0242ac1c0002row2_col0\" class=\"data row2 col0\" >3.000000</td>\n",
              "                        <td id=\"T_1805f770_baf0_11eb_bfe9_0242ac1c0002row2_col1\" class=\"data row2 col1\" >-1.626404</td>\n",
              "                        <td id=\"T_1805f770_baf0_11eb_bfe9_0242ac1c0002row2_col2\" class=\"data row2 col2\" >0.219565</td>\n",
              "                        <td id=\"T_1805f770_baf0_11eb_bfe9_0242ac1c0002row2_col3\" class=\"data row2 col3\" >0.678805</td>\n",
              "                        <td id=\"T_1805f770_baf0_11eb_bfe9_0242ac1c0002row2_col4\" class=\"data row2 col4\" >1.889273</td>\n",
              "            </tr>\n",
              "            <tr>\n",
              "                        <th id=\"T_1805f770_baf0_11eb_bfe9_0242ac1c0002level0_row3\" class=\"row_heading level0 row3\" >3</th>\n",
              "                        <td id=\"T_1805f770_baf0_11eb_bfe9_0242ac1c0002row3_col0\" class=\"data row3 col0\" >4.000000</td>\n",
              "                        <td id=\"T_1805f770_baf0_11eb_bfe9_0242ac1c0002row3_col1\" class=\"data row3 col1\" >0.961538</td>\n",
              "                        <td id=\"T_1805f770_baf0_11eb_bfe9_0242ac1c0002row3_col2\" class=\"data row3 col2\" >0.104011</td>\n",
              "                        <td id=\"T_1805f770_baf0_11eb_bfe9_0242ac1c0002row3_col3\" class=\"data row3 col3\" >nan</td>\n",
              "                        <td id=\"T_1805f770_baf0_11eb_bfe9_0242ac1c0002row3_col4\" class=\"data row3 col4\" >0.850229</td>\n",
              "            </tr>\n",
              "            <tr>\n",
              "                        <th id=\"T_1805f770_baf0_11eb_bfe9_0242ac1c0002level0_row4\" class=\"row_heading level0 row4\" >4</th>\n",
              "                        <td id=\"T_1805f770_baf0_11eb_bfe9_0242ac1c0002row4_col0\" class=\"data row4 col0\" >5.000000</td>\n",
              "                        <td id=\"T_1805f770_baf0_11eb_bfe9_0242ac1c0002row4_col1\" class=\"data row4 col1\" >1.453425</td>\n",
              "                        <td id=\"T_1805f770_baf0_11eb_bfe9_0242ac1c0002row4_col2\" class=\"data row4 col2\" >1.057737</td>\n",
              "                        <td id=\"T_1805f770_baf0_11eb_bfe9_0242ac1c0002row4_col3\" class=\"data row4 col3\" >0.165562</td>\n",
              "                        <td id=\"T_1805f770_baf0_11eb_bfe9_0242ac1c0002row4_col4\" class=\"data row4 col4\" >0.515018</td>\n",
              "            </tr>\n",
              "            <tr>\n",
              "                        <th id=\"T_1805f770_baf0_11eb_bfe9_0242ac1c0002level0_row5\" class=\"row_heading level0 row5\" >5</th>\n",
              "                        <td id=\"T_1805f770_baf0_11eb_bfe9_0242ac1c0002row5_col0\" class=\"data row5 col0\" >6.000000</td>\n",
              "                        <td id=\"T_1805f770_baf0_11eb_bfe9_0242ac1c0002row5_col1\" class=\"data row5 col1\" >-1.336936</td>\n",
              "                        <td id=\"T_1805f770_baf0_11eb_bfe9_0242ac1c0002row5_col2\" class=\"data row5 col2\" >0.562861</td>\n",
              "                        <td id=\"T_1805f770_baf0_11eb_bfe9_0242ac1c0002row5_col3\" class=\"data row5 col3\" >1.392855</td>\n",
              "                        <td id=\"T_1805f770_baf0_11eb_bfe9_0242ac1c0002row5_col4\" class=\"data row5 col4\" >-0.063328</td>\n",
              "            </tr>\n",
              "            <tr>\n",
              "                        <th id=\"T_1805f770_baf0_11eb_bfe9_0242ac1c0002level0_row6\" class=\"row_heading level0 row6\" >6</th>\n",
              "                        <td id=\"T_1805f770_baf0_11eb_bfe9_0242ac1c0002row6_col0\" class=\"data row6 col0\" >7.000000</td>\n",
              "                        <td id=\"T_1805f770_baf0_11eb_bfe9_0242ac1c0002row6_col1\" class=\"data row6 col1\" >0.121668</td>\n",
              "                        <td id=\"T_1805f770_baf0_11eb_bfe9_0242ac1c0002row6_col2\" class=\"data row6 col2\" >1.207603</td>\n",
              "                        <td id=\"T_1805f770_baf0_11eb_bfe9_0242ac1c0002row6_col3\" class=\"data row6 col3\" >-0.002040</td>\n",
              "                        <td id=\"T_1805f770_baf0_11eb_bfe9_0242ac1c0002row6_col4\" class=\"data row6 col4\" >1.627796</td>\n",
              "            </tr>\n",
              "            <tr>\n",
              "                        <th id=\"T_1805f770_baf0_11eb_bfe9_0242ac1c0002level0_row7\" class=\"row_heading level0 row7\" >7</th>\n",
              "                        <td id=\"T_1805f770_baf0_11eb_bfe9_0242ac1c0002row7_col0\" class=\"data row7 col0\" >8.000000</td>\n",
              "                        <td id=\"T_1805f770_baf0_11eb_bfe9_0242ac1c0002row7_col1\" class=\"data row7 col1\" >0.354493</td>\n",
              "                        <td id=\"T_1805f770_baf0_11eb_bfe9_0242ac1c0002row7_col2\" class=\"data row7 col2\" >1.037528</td>\n",
              "                        <td id=\"T_1805f770_baf0_11eb_bfe9_0242ac1c0002row7_col3\" class=\"data row7 col3\" >-0.385684</td>\n",
              "                        <td id=\"T_1805f770_baf0_11eb_bfe9_0242ac1c0002row7_col4\" class=\"data row7 col4\" >0.519818</td>\n",
              "            </tr>\n",
              "            <tr>\n",
              "                        <th id=\"T_1805f770_baf0_11eb_bfe9_0242ac1c0002level0_row8\" class=\"row_heading level0 row8\" >8</th>\n",
              "                        <td id=\"T_1805f770_baf0_11eb_bfe9_0242ac1c0002row8_col0\" class=\"data row8 col0\" >9.000000</td>\n",
              "                        <td id=\"T_1805f770_baf0_11eb_bfe9_0242ac1c0002row8_col1\" class=\"data row8 col1\" >1.686583</td>\n",
              "                        <td id=\"T_1805f770_baf0_11eb_bfe9_0242ac1c0002row8_col2\" class=\"data row8 col2\" >-1.325963</td>\n",
              "                        <td id=\"T_1805f770_baf0_11eb_bfe9_0242ac1c0002row8_col3\" class=\"data row8 col3\" >1.428984</td>\n",
              "                        <td id=\"T_1805f770_baf0_11eb_bfe9_0242ac1c0002row8_col4\" class=\"data row8 col4\" >-2.089354</td>\n",
              "            </tr>\n",
              "            <tr>\n",
              "                        <th id=\"T_1805f770_baf0_11eb_bfe9_0242ac1c0002level0_row9\" class=\"row_heading level0 row9\" >9</th>\n",
              "                        <td id=\"T_1805f770_baf0_11eb_bfe9_0242ac1c0002row9_col0\" class=\"data row9 col0\" >10.000000</td>\n",
              "                        <td id=\"T_1805f770_baf0_11eb_bfe9_0242ac1c0002row9_col1\" class=\"data row9 col1\" >-0.129820</td>\n",
              "                        <td id=\"T_1805f770_baf0_11eb_bfe9_0242ac1c0002row9_col2\" class=\"data row9 col2\" >0.631523</td>\n",
              "                        <td id=\"T_1805f770_baf0_11eb_bfe9_0242ac1c0002row9_col3\" class=\"data row9 col3\" >-0.586538</td>\n",
              "                        <td id=\"T_1805f770_baf0_11eb_bfe9_0242ac1c0002row9_col4\" class=\"data row9 col4\" >0.290720</td>\n",
              "            </tr>\n",
              "    </tbody></table>"
            ],
            "text/plain": [
              "<pandas.io.formats.style.Styler at 0x7fe9aa1c8dd0>"
            ]
          },
          "metadata": {
            "tags": []
          },
          "execution_count": 205
        }
      ]
    },
    {
      "cell_type": "code",
      "metadata": {
        "id": "VN3Po3hWoWJS",
        "colab": {
          "base_uri": "https://localhost:8080/",
          "height": 250
        },
        "outputId": "e669d9a2-9ad2-4393-e5c8-62ee771c8e74"
      },
      "source": [
        "# параметр align - отвечает за расположение оси относительно которой строятся гистограммы, в данном случае ось посередине\n",
        "# параметр color отвечает за цвет гистограмм (для отрицательных и положительных значений)\n",
        "df.style.bar(subset=['A', 'B'], align='mid', color=['#d65f5f', '#5fba7d'])"
      ],
      "execution_count": null,
      "outputs": [
        {
          "output_type": "execute_result",
          "data": {
            "text/html": [
              "<style  type=\"text/css\" >\n",
              "#T_24a2cfa8_baf0_11eb_bfe9_0242ac1c0002row0_col0{\n",
              "            width:  10em;\n",
              "             height:  80%;\n",
              "            background:  linear-gradient(90deg,#5fba7d 10.0%, transparent 10.0%);\n",
              "        }#T_24a2cfa8_baf0_11eb_bfe9_0242ac1c0002row0_col1{\n",
              "            width:  10em;\n",
              "             height:  80%;\n",
              "            background:  linear-gradient(90deg, transparent 49.1%, #5fba7d 49.1%, #5fba7d 89.2%, transparent 89.2%);\n",
              "        }#T_24a2cfa8_baf0_11eb_bfe9_0242ac1c0002row1_col0{\n",
              "            width:  10em;\n",
              "             height:  80%;\n",
              "            background:  linear-gradient(90deg,#5fba7d 20.0%, transparent 20.0%);\n",
              "        }#T_24a2cfa8_baf0_11eb_bfe9_0242ac1c0002row1_col1{\n",
              "            width:  10em;\n",
              "             height:  80%;\n",
              "            background:  linear-gradient(90deg, transparent 16.8%, #d65f5f 16.8%, #d65f5f 49.1%, transparent 49.1%);\n",
              "        }#T_24a2cfa8_baf0_11eb_bfe9_0242ac1c0002row2_col0{\n",
              "            width:  10em;\n",
              "             height:  80%;\n",
              "            background:  linear-gradient(90deg,#5fba7d 30.0%, transparent 30.0%);\n",
              "        }#T_24a2cfa8_baf0_11eb_bfe9_0242ac1c0002row2_col1{\n",
              "            width:  10em;\n",
              "             height:  80%;\n",
              "            background:  linear-gradient(90deg,#d65f5f 49.1%, transparent 49.1%);\n",
              "        }#T_24a2cfa8_baf0_11eb_bfe9_0242ac1c0002row3_col0{\n",
              "            width:  10em;\n",
              "             height:  80%;\n",
              "            background:  linear-gradient(90deg,#5fba7d 40.0%, transparent 40.0%);\n",
              "        }#T_24a2cfa8_baf0_11eb_bfe9_0242ac1c0002row3_col1{\n",
              "            width:  10em;\n",
              "             height:  80%;\n",
              "            background:  linear-gradient(90deg, transparent 49.1%, #5fba7d 49.1%, #5fba7d 78.1%, transparent 78.1%);\n",
              "        }#T_24a2cfa8_baf0_11eb_bfe9_0242ac1c0002row4_col0{\n",
              "            width:  10em;\n",
              "             height:  80%;\n",
              "            background:  linear-gradient(90deg,#5fba7d 50.0%, transparent 50.0%);\n",
              "        }#T_24a2cfa8_baf0_11eb_bfe9_0242ac1c0002row4_col1{\n",
              "            width:  10em;\n",
              "             height:  80%;\n",
              "            background:  linear-gradient(90deg, transparent 49.1%, #5fba7d 49.1%, #5fba7d 93.0%, transparent 93.0%);\n",
              "        }#T_24a2cfa8_baf0_11eb_bfe9_0242ac1c0002row5_col0{\n",
              "            width:  10em;\n",
              "             height:  80%;\n",
              "            background:  linear-gradient(90deg,#5fba7d 60.0%, transparent 60.0%);\n",
              "        }#T_24a2cfa8_baf0_11eb_bfe9_0242ac1c0002row5_col1{\n",
              "            width:  10em;\n",
              "             height:  80%;\n",
              "            background:  linear-gradient(90deg, transparent 8.7%, #d65f5f 8.7%, #d65f5f 49.1%, transparent 49.1%);\n",
              "        }#T_24a2cfa8_baf0_11eb_bfe9_0242ac1c0002row6_col0{\n",
              "            width:  10em;\n",
              "             height:  80%;\n",
              "            background:  linear-gradient(90deg,#5fba7d 70.0%, transparent 70.0%);\n",
              "        }#T_24a2cfa8_baf0_11eb_bfe9_0242ac1c0002row6_col1{\n",
              "            width:  10em;\n",
              "             height:  80%;\n",
              "            background:  linear-gradient(90deg, transparent 49.1%, #5fba7d 49.1%, #5fba7d 52.8%, transparent 52.8%);\n",
              "        }#T_24a2cfa8_baf0_11eb_bfe9_0242ac1c0002row7_col0{\n",
              "            width:  10em;\n",
              "             height:  80%;\n",
              "            background:  linear-gradient(90deg,#5fba7d 80.0%, transparent 80.0%);\n",
              "        }#T_24a2cfa8_baf0_11eb_bfe9_0242ac1c0002row7_col1{\n",
              "            width:  10em;\n",
              "             height:  80%;\n",
              "            background:  linear-gradient(90deg, transparent 49.1%, #5fba7d 49.1%, #5fba7d 59.8%, transparent 59.8%);\n",
              "        }#T_24a2cfa8_baf0_11eb_bfe9_0242ac1c0002row8_col0{\n",
              "            width:  10em;\n",
              "             height:  80%;\n",
              "            background:  linear-gradient(90deg,#5fba7d 90.0%, transparent 90.0%);\n",
              "        }#T_24a2cfa8_baf0_11eb_bfe9_0242ac1c0002row8_col1{\n",
              "            width:  10em;\n",
              "             height:  80%;\n",
              "            background:  linear-gradient(90deg, transparent 49.1%, #5fba7d 49.1%, #5fba7d 100.0%, transparent 100.0%);\n",
              "        }#T_24a2cfa8_baf0_11eb_bfe9_0242ac1c0002row9_col0{\n",
              "            width:  10em;\n",
              "             height:  80%;\n",
              "            background:  linear-gradient(90deg,#5fba7d 100.0%, transparent 100.0%);\n",
              "        }#T_24a2cfa8_baf0_11eb_bfe9_0242ac1c0002row9_col1{\n",
              "            width:  10em;\n",
              "             height:  80%;\n",
              "            background:  linear-gradient(90deg, transparent 45.2%, #d65f5f 45.2%, #d65f5f 49.1%, transparent 49.1%);\n",
              "        }</style><table id=\"T_24a2cfa8_baf0_11eb_bfe9_0242ac1c0002\" ><thead>    <tr>        <th class=\"blank level0\" ></th>        <th class=\"col_heading level0 col0\" >A</th>        <th class=\"col_heading level0 col1\" >B</th>        <th class=\"col_heading level0 col2\" >C</th>        <th class=\"col_heading level0 col3\" >D</th>        <th class=\"col_heading level0 col4\" >E</th>    </tr></thead><tbody>\n",
              "                <tr>\n",
              "                        <th id=\"T_24a2cfa8_baf0_11eb_bfe9_0242ac1c0002level0_row0\" class=\"row_heading level0 row0\" >0</th>\n",
              "                        <td id=\"T_24a2cfa8_baf0_11eb_bfe9_0242ac1c0002row0_col0\" class=\"data row0 col0\" >1.000000</td>\n",
              "                        <td id=\"T_24a2cfa8_baf0_11eb_bfe9_0242ac1c0002row0_col1\" class=\"data row0 col1\" >1.329212</td>\n",
              "                        <td id=\"T_24a2cfa8_baf0_11eb_bfe9_0242ac1c0002row0_col2\" class=\"data row0 col2\" >nan</td>\n",
              "                        <td id=\"T_24a2cfa8_baf0_11eb_bfe9_0242ac1c0002row0_col3\" class=\"data row0 col3\" >-0.316280</td>\n",
              "                        <td id=\"T_24a2cfa8_baf0_11eb_bfe9_0242ac1c0002row0_col4\" class=\"data row0 col4\" >-0.990810</td>\n",
              "            </tr>\n",
              "            <tr>\n",
              "                        <th id=\"T_24a2cfa8_baf0_11eb_bfe9_0242ac1c0002level0_row1\" class=\"row_heading level0 row1\" >1</th>\n",
              "                        <td id=\"T_24a2cfa8_baf0_11eb_bfe9_0242ac1c0002row1_col0\" class=\"data row1 col0\" >2.000000</td>\n",
              "                        <td id=\"T_24a2cfa8_baf0_11eb_bfe9_0242ac1c0002row1_col1\" class=\"data row1 col1\" >-1.070816</td>\n",
              "                        <td id=\"T_24a2cfa8_baf0_11eb_bfe9_0242ac1c0002row1_col2\" class=\"data row1 col2\" >-1.438713</td>\n",
              "                        <td id=\"T_24a2cfa8_baf0_11eb_bfe9_0242ac1c0002row1_col3\" class=\"data row1 col3\" >0.564417</td>\n",
              "                        <td id=\"T_24a2cfa8_baf0_11eb_bfe9_0242ac1c0002row1_col4\" class=\"data row1 col4\" >0.295722</td>\n",
              "            </tr>\n",
              "            <tr>\n",
              "                        <th id=\"T_24a2cfa8_baf0_11eb_bfe9_0242ac1c0002level0_row2\" class=\"row_heading level0 row2\" >2</th>\n",
              "                        <td id=\"T_24a2cfa8_baf0_11eb_bfe9_0242ac1c0002row2_col0\" class=\"data row2 col0\" >3.000000</td>\n",
              "                        <td id=\"T_24a2cfa8_baf0_11eb_bfe9_0242ac1c0002row2_col1\" class=\"data row2 col1\" >-1.626404</td>\n",
              "                        <td id=\"T_24a2cfa8_baf0_11eb_bfe9_0242ac1c0002row2_col2\" class=\"data row2 col2\" >0.219565</td>\n",
              "                        <td id=\"T_24a2cfa8_baf0_11eb_bfe9_0242ac1c0002row2_col3\" class=\"data row2 col3\" >0.678805</td>\n",
              "                        <td id=\"T_24a2cfa8_baf0_11eb_bfe9_0242ac1c0002row2_col4\" class=\"data row2 col4\" >1.889273</td>\n",
              "            </tr>\n",
              "            <tr>\n",
              "                        <th id=\"T_24a2cfa8_baf0_11eb_bfe9_0242ac1c0002level0_row3\" class=\"row_heading level0 row3\" >3</th>\n",
              "                        <td id=\"T_24a2cfa8_baf0_11eb_bfe9_0242ac1c0002row3_col0\" class=\"data row3 col0\" >4.000000</td>\n",
              "                        <td id=\"T_24a2cfa8_baf0_11eb_bfe9_0242ac1c0002row3_col1\" class=\"data row3 col1\" >0.961538</td>\n",
              "                        <td id=\"T_24a2cfa8_baf0_11eb_bfe9_0242ac1c0002row3_col2\" class=\"data row3 col2\" >0.104011</td>\n",
              "                        <td id=\"T_24a2cfa8_baf0_11eb_bfe9_0242ac1c0002row3_col3\" class=\"data row3 col3\" >nan</td>\n",
              "                        <td id=\"T_24a2cfa8_baf0_11eb_bfe9_0242ac1c0002row3_col4\" class=\"data row3 col4\" >0.850229</td>\n",
              "            </tr>\n",
              "            <tr>\n",
              "                        <th id=\"T_24a2cfa8_baf0_11eb_bfe9_0242ac1c0002level0_row4\" class=\"row_heading level0 row4\" >4</th>\n",
              "                        <td id=\"T_24a2cfa8_baf0_11eb_bfe9_0242ac1c0002row4_col0\" class=\"data row4 col0\" >5.000000</td>\n",
              "                        <td id=\"T_24a2cfa8_baf0_11eb_bfe9_0242ac1c0002row4_col1\" class=\"data row4 col1\" >1.453425</td>\n",
              "                        <td id=\"T_24a2cfa8_baf0_11eb_bfe9_0242ac1c0002row4_col2\" class=\"data row4 col2\" >1.057737</td>\n",
              "                        <td id=\"T_24a2cfa8_baf0_11eb_bfe9_0242ac1c0002row4_col3\" class=\"data row4 col3\" >0.165562</td>\n",
              "                        <td id=\"T_24a2cfa8_baf0_11eb_bfe9_0242ac1c0002row4_col4\" class=\"data row4 col4\" >0.515018</td>\n",
              "            </tr>\n",
              "            <tr>\n",
              "                        <th id=\"T_24a2cfa8_baf0_11eb_bfe9_0242ac1c0002level0_row5\" class=\"row_heading level0 row5\" >5</th>\n",
              "                        <td id=\"T_24a2cfa8_baf0_11eb_bfe9_0242ac1c0002row5_col0\" class=\"data row5 col0\" >6.000000</td>\n",
              "                        <td id=\"T_24a2cfa8_baf0_11eb_bfe9_0242ac1c0002row5_col1\" class=\"data row5 col1\" >-1.336936</td>\n",
              "                        <td id=\"T_24a2cfa8_baf0_11eb_bfe9_0242ac1c0002row5_col2\" class=\"data row5 col2\" >0.562861</td>\n",
              "                        <td id=\"T_24a2cfa8_baf0_11eb_bfe9_0242ac1c0002row5_col3\" class=\"data row5 col3\" >1.392855</td>\n",
              "                        <td id=\"T_24a2cfa8_baf0_11eb_bfe9_0242ac1c0002row5_col4\" class=\"data row5 col4\" >-0.063328</td>\n",
              "            </tr>\n",
              "            <tr>\n",
              "                        <th id=\"T_24a2cfa8_baf0_11eb_bfe9_0242ac1c0002level0_row6\" class=\"row_heading level0 row6\" >6</th>\n",
              "                        <td id=\"T_24a2cfa8_baf0_11eb_bfe9_0242ac1c0002row6_col0\" class=\"data row6 col0\" >7.000000</td>\n",
              "                        <td id=\"T_24a2cfa8_baf0_11eb_bfe9_0242ac1c0002row6_col1\" class=\"data row6 col1\" >0.121668</td>\n",
              "                        <td id=\"T_24a2cfa8_baf0_11eb_bfe9_0242ac1c0002row6_col2\" class=\"data row6 col2\" >1.207603</td>\n",
              "                        <td id=\"T_24a2cfa8_baf0_11eb_bfe9_0242ac1c0002row6_col3\" class=\"data row6 col3\" >-0.002040</td>\n",
              "                        <td id=\"T_24a2cfa8_baf0_11eb_bfe9_0242ac1c0002row6_col4\" class=\"data row6 col4\" >1.627796</td>\n",
              "            </tr>\n",
              "            <tr>\n",
              "                        <th id=\"T_24a2cfa8_baf0_11eb_bfe9_0242ac1c0002level0_row7\" class=\"row_heading level0 row7\" >7</th>\n",
              "                        <td id=\"T_24a2cfa8_baf0_11eb_bfe9_0242ac1c0002row7_col0\" class=\"data row7 col0\" >8.000000</td>\n",
              "                        <td id=\"T_24a2cfa8_baf0_11eb_bfe9_0242ac1c0002row7_col1\" class=\"data row7 col1\" >0.354493</td>\n",
              "                        <td id=\"T_24a2cfa8_baf0_11eb_bfe9_0242ac1c0002row7_col2\" class=\"data row7 col2\" >1.037528</td>\n",
              "                        <td id=\"T_24a2cfa8_baf0_11eb_bfe9_0242ac1c0002row7_col3\" class=\"data row7 col3\" >-0.385684</td>\n",
              "                        <td id=\"T_24a2cfa8_baf0_11eb_bfe9_0242ac1c0002row7_col4\" class=\"data row7 col4\" >0.519818</td>\n",
              "            </tr>\n",
              "            <tr>\n",
              "                        <th id=\"T_24a2cfa8_baf0_11eb_bfe9_0242ac1c0002level0_row8\" class=\"row_heading level0 row8\" >8</th>\n",
              "                        <td id=\"T_24a2cfa8_baf0_11eb_bfe9_0242ac1c0002row8_col0\" class=\"data row8 col0\" >9.000000</td>\n",
              "                        <td id=\"T_24a2cfa8_baf0_11eb_bfe9_0242ac1c0002row8_col1\" class=\"data row8 col1\" >1.686583</td>\n",
              "                        <td id=\"T_24a2cfa8_baf0_11eb_bfe9_0242ac1c0002row8_col2\" class=\"data row8 col2\" >-1.325963</td>\n",
              "                        <td id=\"T_24a2cfa8_baf0_11eb_bfe9_0242ac1c0002row8_col3\" class=\"data row8 col3\" >1.428984</td>\n",
              "                        <td id=\"T_24a2cfa8_baf0_11eb_bfe9_0242ac1c0002row8_col4\" class=\"data row8 col4\" >-2.089354</td>\n",
              "            </tr>\n",
              "            <tr>\n",
              "                        <th id=\"T_24a2cfa8_baf0_11eb_bfe9_0242ac1c0002level0_row9\" class=\"row_heading level0 row9\" >9</th>\n",
              "                        <td id=\"T_24a2cfa8_baf0_11eb_bfe9_0242ac1c0002row9_col0\" class=\"data row9 col0\" >10.000000</td>\n",
              "                        <td id=\"T_24a2cfa8_baf0_11eb_bfe9_0242ac1c0002row9_col1\" class=\"data row9 col1\" >-0.129820</td>\n",
              "                        <td id=\"T_24a2cfa8_baf0_11eb_bfe9_0242ac1c0002row9_col2\" class=\"data row9 col2\" >0.631523</td>\n",
              "                        <td id=\"T_24a2cfa8_baf0_11eb_bfe9_0242ac1c0002row9_col3\" class=\"data row9 col3\" >-0.586538</td>\n",
              "                        <td id=\"T_24a2cfa8_baf0_11eb_bfe9_0242ac1c0002row9_col4\" class=\"data row9 col4\" >0.290720</td>\n",
              "            </tr>\n",
              "    </tbody></table>"
            ],
            "text/plain": [
              "<pandas.io.formats.style.Styler at 0x7fe9a9dfd710>"
            ]
          },
          "metadata": {
            "tags": []
          },
          "execution_count": 207
        }
      ]
    },
    {
      "cell_type": "code",
      "metadata": {
        "id": "kB5fu6lsibbb",
        "colab": {
          "base_uri": "https://localhost:8080/",
          "height": 250
        },
        "outputId": "b0ec7b97-c4cf-4e9c-e544-577b4d1b093c"
      },
      "source": [
        "# параметр vmax - отвечает за значение, начиная с которого гистограмма достигает максимального значения (длины)\n",
        "# в данном случае при (vmax = 5) начиная со значения 5 и далее, гистограммы имеют максимальную длину\n",
        "df.style.bar(subset=['A'], color = ['lightgreen'], vmax =5)"
      ],
      "execution_count": null,
      "outputs": [
        {
          "output_type": "execute_result",
          "data": {
            "text/html": [
              "<style  type=\"text/css\" >\n",
              "#T_e1ca2900_baf0_11eb_bfe9_0242ac1c0002row0_col0{\n",
              "            width:  10em;\n",
              "             height:  80%;\n",
              "        }#T_e1ca2900_baf0_11eb_bfe9_0242ac1c0002row1_col0{\n",
              "            width:  10em;\n",
              "             height:  80%;\n",
              "            background:  linear-gradient(90deg,lightgreen 25.0%, transparent 25.0%);\n",
              "        }#T_e1ca2900_baf0_11eb_bfe9_0242ac1c0002row2_col0{\n",
              "            width:  10em;\n",
              "             height:  80%;\n",
              "            background:  linear-gradient(90deg,lightgreen 50.0%, transparent 50.0%);\n",
              "        }#T_e1ca2900_baf0_11eb_bfe9_0242ac1c0002row3_col0{\n",
              "            width:  10em;\n",
              "             height:  80%;\n",
              "            background:  linear-gradient(90deg,lightgreen 75.0%, transparent 75.0%);\n",
              "        }#T_e1ca2900_baf0_11eb_bfe9_0242ac1c0002row4_col0,#T_e1ca2900_baf0_11eb_bfe9_0242ac1c0002row5_col0,#T_e1ca2900_baf0_11eb_bfe9_0242ac1c0002row6_col0,#T_e1ca2900_baf0_11eb_bfe9_0242ac1c0002row7_col0,#T_e1ca2900_baf0_11eb_bfe9_0242ac1c0002row8_col0,#T_e1ca2900_baf0_11eb_bfe9_0242ac1c0002row9_col0{\n",
              "            width:  10em;\n",
              "             height:  80%;\n",
              "            background:  linear-gradient(90deg,lightgreen 100.0%, transparent 100.0%);\n",
              "        }</style><table id=\"T_e1ca2900_baf0_11eb_bfe9_0242ac1c0002\" ><thead>    <tr>        <th class=\"blank level0\" ></th>        <th class=\"col_heading level0 col0\" >A</th>        <th class=\"col_heading level0 col1\" >B</th>        <th class=\"col_heading level0 col2\" >C</th>        <th class=\"col_heading level0 col3\" >D</th>        <th class=\"col_heading level0 col4\" >E</th>    </tr></thead><tbody>\n",
              "                <tr>\n",
              "                        <th id=\"T_e1ca2900_baf0_11eb_bfe9_0242ac1c0002level0_row0\" class=\"row_heading level0 row0\" >0</th>\n",
              "                        <td id=\"T_e1ca2900_baf0_11eb_bfe9_0242ac1c0002row0_col0\" class=\"data row0 col0\" >1.000000</td>\n",
              "                        <td id=\"T_e1ca2900_baf0_11eb_bfe9_0242ac1c0002row0_col1\" class=\"data row0 col1\" >1.329212</td>\n",
              "                        <td id=\"T_e1ca2900_baf0_11eb_bfe9_0242ac1c0002row0_col2\" class=\"data row0 col2\" >nan</td>\n",
              "                        <td id=\"T_e1ca2900_baf0_11eb_bfe9_0242ac1c0002row0_col3\" class=\"data row0 col3\" >-0.316280</td>\n",
              "                        <td id=\"T_e1ca2900_baf0_11eb_bfe9_0242ac1c0002row0_col4\" class=\"data row0 col4\" >-0.990810</td>\n",
              "            </tr>\n",
              "            <tr>\n",
              "                        <th id=\"T_e1ca2900_baf0_11eb_bfe9_0242ac1c0002level0_row1\" class=\"row_heading level0 row1\" >1</th>\n",
              "                        <td id=\"T_e1ca2900_baf0_11eb_bfe9_0242ac1c0002row1_col0\" class=\"data row1 col0\" >2.000000</td>\n",
              "                        <td id=\"T_e1ca2900_baf0_11eb_bfe9_0242ac1c0002row1_col1\" class=\"data row1 col1\" >-1.070816</td>\n",
              "                        <td id=\"T_e1ca2900_baf0_11eb_bfe9_0242ac1c0002row1_col2\" class=\"data row1 col2\" >-1.438713</td>\n",
              "                        <td id=\"T_e1ca2900_baf0_11eb_bfe9_0242ac1c0002row1_col3\" class=\"data row1 col3\" >0.564417</td>\n",
              "                        <td id=\"T_e1ca2900_baf0_11eb_bfe9_0242ac1c0002row1_col4\" class=\"data row1 col4\" >0.295722</td>\n",
              "            </tr>\n",
              "            <tr>\n",
              "                        <th id=\"T_e1ca2900_baf0_11eb_bfe9_0242ac1c0002level0_row2\" class=\"row_heading level0 row2\" >2</th>\n",
              "                        <td id=\"T_e1ca2900_baf0_11eb_bfe9_0242ac1c0002row2_col0\" class=\"data row2 col0\" >3.000000</td>\n",
              "                        <td id=\"T_e1ca2900_baf0_11eb_bfe9_0242ac1c0002row2_col1\" class=\"data row2 col1\" >-1.626404</td>\n",
              "                        <td id=\"T_e1ca2900_baf0_11eb_bfe9_0242ac1c0002row2_col2\" class=\"data row2 col2\" >0.219565</td>\n",
              "                        <td id=\"T_e1ca2900_baf0_11eb_bfe9_0242ac1c0002row2_col3\" class=\"data row2 col3\" >0.678805</td>\n",
              "                        <td id=\"T_e1ca2900_baf0_11eb_bfe9_0242ac1c0002row2_col4\" class=\"data row2 col4\" >1.889273</td>\n",
              "            </tr>\n",
              "            <tr>\n",
              "                        <th id=\"T_e1ca2900_baf0_11eb_bfe9_0242ac1c0002level0_row3\" class=\"row_heading level0 row3\" >3</th>\n",
              "                        <td id=\"T_e1ca2900_baf0_11eb_bfe9_0242ac1c0002row3_col0\" class=\"data row3 col0\" >4.000000</td>\n",
              "                        <td id=\"T_e1ca2900_baf0_11eb_bfe9_0242ac1c0002row3_col1\" class=\"data row3 col1\" >0.961538</td>\n",
              "                        <td id=\"T_e1ca2900_baf0_11eb_bfe9_0242ac1c0002row3_col2\" class=\"data row3 col2\" >0.104011</td>\n",
              "                        <td id=\"T_e1ca2900_baf0_11eb_bfe9_0242ac1c0002row3_col3\" class=\"data row3 col3\" >nan</td>\n",
              "                        <td id=\"T_e1ca2900_baf0_11eb_bfe9_0242ac1c0002row3_col4\" class=\"data row3 col4\" >0.850229</td>\n",
              "            </tr>\n",
              "            <tr>\n",
              "                        <th id=\"T_e1ca2900_baf0_11eb_bfe9_0242ac1c0002level0_row4\" class=\"row_heading level0 row4\" >4</th>\n",
              "                        <td id=\"T_e1ca2900_baf0_11eb_bfe9_0242ac1c0002row4_col0\" class=\"data row4 col0\" >5.000000</td>\n",
              "                        <td id=\"T_e1ca2900_baf0_11eb_bfe9_0242ac1c0002row4_col1\" class=\"data row4 col1\" >1.453425</td>\n",
              "                        <td id=\"T_e1ca2900_baf0_11eb_bfe9_0242ac1c0002row4_col2\" class=\"data row4 col2\" >1.057737</td>\n",
              "                        <td id=\"T_e1ca2900_baf0_11eb_bfe9_0242ac1c0002row4_col3\" class=\"data row4 col3\" >0.165562</td>\n",
              "                        <td id=\"T_e1ca2900_baf0_11eb_bfe9_0242ac1c0002row4_col4\" class=\"data row4 col4\" >0.515018</td>\n",
              "            </tr>\n",
              "            <tr>\n",
              "                        <th id=\"T_e1ca2900_baf0_11eb_bfe9_0242ac1c0002level0_row5\" class=\"row_heading level0 row5\" >5</th>\n",
              "                        <td id=\"T_e1ca2900_baf0_11eb_bfe9_0242ac1c0002row5_col0\" class=\"data row5 col0\" >6.000000</td>\n",
              "                        <td id=\"T_e1ca2900_baf0_11eb_bfe9_0242ac1c0002row5_col1\" class=\"data row5 col1\" >-1.336936</td>\n",
              "                        <td id=\"T_e1ca2900_baf0_11eb_bfe9_0242ac1c0002row5_col2\" class=\"data row5 col2\" >0.562861</td>\n",
              "                        <td id=\"T_e1ca2900_baf0_11eb_bfe9_0242ac1c0002row5_col3\" class=\"data row5 col3\" >1.392855</td>\n",
              "                        <td id=\"T_e1ca2900_baf0_11eb_bfe9_0242ac1c0002row5_col4\" class=\"data row5 col4\" >-0.063328</td>\n",
              "            </tr>\n",
              "            <tr>\n",
              "                        <th id=\"T_e1ca2900_baf0_11eb_bfe9_0242ac1c0002level0_row6\" class=\"row_heading level0 row6\" >6</th>\n",
              "                        <td id=\"T_e1ca2900_baf0_11eb_bfe9_0242ac1c0002row6_col0\" class=\"data row6 col0\" >7.000000</td>\n",
              "                        <td id=\"T_e1ca2900_baf0_11eb_bfe9_0242ac1c0002row6_col1\" class=\"data row6 col1\" >0.121668</td>\n",
              "                        <td id=\"T_e1ca2900_baf0_11eb_bfe9_0242ac1c0002row6_col2\" class=\"data row6 col2\" >1.207603</td>\n",
              "                        <td id=\"T_e1ca2900_baf0_11eb_bfe9_0242ac1c0002row6_col3\" class=\"data row6 col3\" >-0.002040</td>\n",
              "                        <td id=\"T_e1ca2900_baf0_11eb_bfe9_0242ac1c0002row6_col4\" class=\"data row6 col4\" >1.627796</td>\n",
              "            </tr>\n",
              "            <tr>\n",
              "                        <th id=\"T_e1ca2900_baf0_11eb_bfe9_0242ac1c0002level0_row7\" class=\"row_heading level0 row7\" >7</th>\n",
              "                        <td id=\"T_e1ca2900_baf0_11eb_bfe9_0242ac1c0002row7_col0\" class=\"data row7 col0\" >8.000000</td>\n",
              "                        <td id=\"T_e1ca2900_baf0_11eb_bfe9_0242ac1c0002row7_col1\" class=\"data row7 col1\" >0.354493</td>\n",
              "                        <td id=\"T_e1ca2900_baf0_11eb_bfe9_0242ac1c0002row7_col2\" class=\"data row7 col2\" >1.037528</td>\n",
              "                        <td id=\"T_e1ca2900_baf0_11eb_bfe9_0242ac1c0002row7_col3\" class=\"data row7 col3\" >-0.385684</td>\n",
              "                        <td id=\"T_e1ca2900_baf0_11eb_bfe9_0242ac1c0002row7_col4\" class=\"data row7 col4\" >0.519818</td>\n",
              "            </tr>\n",
              "            <tr>\n",
              "                        <th id=\"T_e1ca2900_baf0_11eb_bfe9_0242ac1c0002level0_row8\" class=\"row_heading level0 row8\" >8</th>\n",
              "                        <td id=\"T_e1ca2900_baf0_11eb_bfe9_0242ac1c0002row8_col0\" class=\"data row8 col0\" >9.000000</td>\n",
              "                        <td id=\"T_e1ca2900_baf0_11eb_bfe9_0242ac1c0002row8_col1\" class=\"data row8 col1\" >1.686583</td>\n",
              "                        <td id=\"T_e1ca2900_baf0_11eb_bfe9_0242ac1c0002row8_col2\" class=\"data row8 col2\" >-1.325963</td>\n",
              "                        <td id=\"T_e1ca2900_baf0_11eb_bfe9_0242ac1c0002row8_col3\" class=\"data row8 col3\" >1.428984</td>\n",
              "                        <td id=\"T_e1ca2900_baf0_11eb_bfe9_0242ac1c0002row8_col4\" class=\"data row8 col4\" >-2.089354</td>\n",
              "            </tr>\n",
              "            <tr>\n",
              "                        <th id=\"T_e1ca2900_baf0_11eb_bfe9_0242ac1c0002level0_row9\" class=\"row_heading level0 row9\" >9</th>\n",
              "                        <td id=\"T_e1ca2900_baf0_11eb_bfe9_0242ac1c0002row9_col0\" class=\"data row9 col0\" >10.000000</td>\n",
              "                        <td id=\"T_e1ca2900_baf0_11eb_bfe9_0242ac1c0002row9_col1\" class=\"data row9 col1\" >-0.129820</td>\n",
              "                        <td id=\"T_e1ca2900_baf0_11eb_bfe9_0242ac1c0002row9_col2\" class=\"data row9 col2\" >0.631523</td>\n",
              "                        <td id=\"T_e1ca2900_baf0_11eb_bfe9_0242ac1c0002row9_col3\" class=\"data row9 col3\" >-0.586538</td>\n",
              "                        <td id=\"T_e1ca2900_baf0_11eb_bfe9_0242ac1c0002row9_col4\" class=\"data row9 col4\" >0.290720</td>\n",
              "            </tr>\n",
              "    </tbody></table>"
            ],
            "text/plain": [
              "<pandas.io.formats.style.Styler at 0x7fe9aabdb510>"
            ]
          },
          "metadata": {
            "tags": []
          },
          "execution_count": 231
        }
      ]
    },
    {
      "cell_type": "code",
      "metadata": {
        "id": "dblQmkE8ibWg",
        "colab": {
          "base_uri": "https://localhost:8080/",
          "height": 250
        },
        "outputId": "1e36e3b2-9e27-44b1-d565-f4b395e71576"
      },
      "source": [
        "# параметр vmax - отвечает за значение, начиная с которого гистограмма достигает максимального значения (длины)\n",
        "# параметр vmin - отвечает за значение, начиная с которого гистограмма начинает отображаться\n",
        "# в данном случае с параметрами (vmin = 3, vmax = 8) отображаются значения больше 3, и максимальная длина гистограммы достигает при 8\n",
        "df.style.bar(subset=['A'], color = ['lightgreen'], vmin = 3, vmax = 8)"
      ],
      "execution_count": null,
      "outputs": [
        {
          "output_type": "execute_result",
          "data": {
            "text/html": [
              "<style  type=\"text/css\" >\n",
              "#T_3f73e1f4_baf1_11eb_bfe9_0242ac1c0002row0_col0,#T_3f73e1f4_baf1_11eb_bfe9_0242ac1c0002row1_col0,#T_3f73e1f4_baf1_11eb_bfe9_0242ac1c0002row2_col0{\n",
              "            width:  10em;\n",
              "             height:  80%;\n",
              "        }#T_3f73e1f4_baf1_11eb_bfe9_0242ac1c0002row3_col0{\n",
              "            width:  10em;\n",
              "             height:  80%;\n",
              "            background:  linear-gradient(90deg,lightgreen 20.0%, transparent 20.0%);\n",
              "        }#T_3f73e1f4_baf1_11eb_bfe9_0242ac1c0002row4_col0{\n",
              "            width:  10em;\n",
              "             height:  80%;\n",
              "            background:  linear-gradient(90deg,lightgreen 40.0%, transparent 40.0%);\n",
              "        }#T_3f73e1f4_baf1_11eb_bfe9_0242ac1c0002row5_col0{\n",
              "            width:  10em;\n",
              "             height:  80%;\n",
              "            background:  linear-gradient(90deg,lightgreen 60.0%, transparent 60.0%);\n",
              "        }#T_3f73e1f4_baf1_11eb_bfe9_0242ac1c0002row6_col0{\n",
              "            width:  10em;\n",
              "             height:  80%;\n",
              "            background:  linear-gradient(90deg,lightgreen 80.0%, transparent 80.0%);\n",
              "        }#T_3f73e1f4_baf1_11eb_bfe9_0242ac1c0002row7_col0,#T_3f73e1f4_baf1_11eb_bfe9_0242ac1c0002row8_col0,#T_3f73e1f4_baf1_11eb_bfe9_0242ac1c0002row9_col0{\n",
              "            width:  10em;\n",
              "             height:  80%;\n",
              "            background:  linear-gradient(90deg,lightgreen 100.0%, transparent 100.0%);\n",
              "        }</style><table id=\"T_3f73e1f4_baf1_11eb_bfe9_0242ac1c0002\" ><thead>    <tr>        <th class=\"blank level0\" ></th>        <th class=\"col_heading level0 col0\" >A</th>        <th class=\"col_heading level0 col1\" >B</th>        <th class=\"col_heading level0 col2\" >C</th>        <th class=\"col_heading level0 col3\" >D</th>        <th class=\"col_heading level0 col4\" >E</th>    </tr></thead><tbody>\n",
              "                <tr>\n",
              "                        <th id=\"T_3f73e1f4_baf1_11eb_bfe9_0242ac1c0002level0_row0\" class=\"row_heading level0 row0\" >0</th>\n",
              "                        <td id=\"T_3f73e1f4_baf1_11eb_bfe9_0242ac1c0002row0_col0\" class=\"data row0 col0\" >1.000000</td>\n",
              "                        <td id=\"T_3f73e1f4_baf1_11eb_bfe9_0242ac1c0002row0_col1\" class=\"data row0 col1\" >1.329212</td>\n",
              "                        <td id=\"T_3f73e1f4_baf1_11eb_bfe9_0242ac1c0002row0_col2\" class=\"data row0 col2\" >nan</td>\n",
              "                        <td id=\"T_3f73e1f4_baf1_11eb_bfe9_0242ac1c0002row0_col3\" class=\"data row0 col3\" >-0.316280</td>\n",
              "                        <td id=\"T_3f73e1f4_baf1_11eb_bfe9_0242ac1c0002row0_col4\" class=\"data row0 col4\" >-0.990810</td>\n",
              "            </tr>\n",
              "            <tr>\n",
              "                        <th id=\"T_3f73e1f4_baf1_11eb_bfe9_0242ac1c0002level0_row1\" class=\"row_heading level0 row1\" >1</th>\n",
              "                        <td id=\"T_3f73e1f4_baf1_11eb_bfe9_0242ac1c0002row1_col0\" class=\"data row1 col0\" >2.000000</td>\n",
              "                        <td id=\"T_3f73e1f4_baf1_11eb_bfe9_0242ac1c0002row1_col1\" class=\"data row1 col1\" >-1.070816</td>\n",
              "                        <td id=\"T_3f73e1f4_baf1_11eb_bfe9_0242ac1c0002row1_col2\" class=\"data row1 col2\" >-1.438713</td>\n",
              "                        <td id=\"T_3f73e1f4_baf1_11eb_bfe9_0242ac1c0002row1_col3\" class=\"data row1 col3\" >0.564417</td>\n",
              "                        <td id=\"T_3f73e1f4_baf1_11eb_bfe9_0242ac1c0002row1_col4\" class=\"data row1 col4\" >0.295722</td>\n",
              "            </tr>\n",
              "            <tr>\n",
              "                        <th id=\"T_3f73e1f4_baf1_11eb_bfe9_0242ac1c0002level0_row2\" class=\"row_heading level0 row2\" >2</th>\n",
              "                        <td id=\"T_3f73e1f4_baf1_11eb_bfe9_0242ac1c0002row2_col0\" class=\"data row2 col0\" >3.000000</td>\n",
              "                        <td id=\"T_3f73e1f4_baf1_11eb_bfe9_0242ac1c0002row2_col1\" class=\"data row2 col1\" >-1.626404</td>\n",
              "                        <td id=\"T_3f73e1f4_baf1_11eb_bfe9_0242ac1c0002row2_col2\" class=\"data row2 col2\" >0.219565</td>\n",
              "                        <td id=\"T_3f73e1f4_baf1_11eb_bfe9_0242ac1c0002row2_col3\" class=\"data row2 col3\" >0.678805</td>\n",
              "                        <td id=\"T_3f73e1f4_baf1_11eb_bfe9_0242ac1c0002row2_col4\" class=\"data row2 col4\" >1.889273</td>\n",
              "            </tr>\n",
              "            <tr>\n",
              "                        <th id=\"T_3f73e1f4_baf1_11eb_bfe9_0242ac1c0002level0_row3\" class=\"row_heading level0 row3\" >3</th>\n",
              "                        <td id=\"T_3f73e1f4_baf1_11eb_bfe9_0242ac1c0002row3_col0\" class=\"data row3 col0\" >4.000000</td>\n",
              "                        <td id=\"T_3f73e1f4_baf1_11eb_bfe9_0242ac1c0002row3_col1\" class=\"data row3 col1\" >0.961538</td>\n",
              "                        <td id=\"T_3f73e1f4_baf1_11eb_bfe9_0242ac1c0002row3_col2\" class=\"data row3 col2\" >0.104011</td>\n",
              "                        <td id=\"T_3f73e1f4_baf1_11eb_bfe9_0242ac1c0002row3_col3\" class=\"data row3 col3\" >nan</td>\n",
              "                        <td id=\"T_3f73e1f4_baf1_11eb_bfe9_0242ac1c0002row3_col4\" class=\"data row3 col4\" >0.850229</td>\n",
              "            </tr>\n",
              "            <tr>\n",
              "                        <th id=\"T_3f73e1f4_baf1_11eb_bfe9_0242ac1c0002level0_row4\" class=\"row_heading level0 row4\" >4</th>\n",
              "                        <td id=\"T_3f73e1f4_baf1_11eb_bfe9_0242ac1c0002row4_col0\" class=\"data row4 col0\" >5.000000</td>\n",
              "                        <td id=\"T_3f73e1f4_baf1_11eb_bfe9_0242ac1c0002row4_col1\" class=\"data row4 col1\" >1.453425</td>\n",
              "                        <td id=\"T_3f73e1f4_baf1_11eb_bfe9_0242ac1c0002row4_col2\" class=\"data row4 col2\" >1.057737</td>\n",
              "                        <td id=\"T_3f73e1f4_baf1_11eb_bfe9_0242ac1c0002row4_col3\" class=\"data row4 col3\" >0.165562</td>\n",
              "                        <td id=\"T_3f73e1f4_baf1_11eb_bfe9_0242ac1c0002row4_col4\" class=\"data row4 col4\" >0.515018</td>\n",
              "            </tr>\n",
              "            <tr>\n",
              "                        <th id=\"T_3f73e1f4_baf1_11eb_bfe9_0242ac1c0002level0_row5\" class=\"row_heading level0 row5\" >5</th>\n",
              "                        <td id=\"T_3f73e1f4_baf1_11eb_bfe9_0242ac1c0002row5_col0\" class=\"data row5 col0\" >6.000000</td>\n",
              "                        <td id=\"T_3f73e1f4_baf1_11eb_bfe9_0242ac1c0002row5_col1\" class=\"data row5 col1\" >-1.336936</td>\n",
              "                        <td id=\"T_3f73e1f4_baf1_11eb_bfe9_0242ac1c0002row5_col2\" class=\"data row5 col2\" >0.562861</td>\n",
              "                        <td id=\"T_3f73e1f4_baf1_11eb_bfe9_0242ac1c0002row5_col3\" class=\"data row5 col3\" >1.392855</td>\n",
              "                        <td id=\"T_3f73e1f4_baf1_11eb_bfe9_0242ac1c0002row5_col4\" class=\"data row5 col4\" >-0.063328</td>\n",
              "            </tr>\n",
              "            <tr>\n",
              "                        <th id=\"T_3f73e1f4_baf1_11eb_bfe9_0242ac1c0002level0_row6\" class=\"row_heading level0 row6\" >6</th>\n",
              "                        <td id=\"T_3f73e1f4_baf1_11eb_bfe9_0242ac1c0002row6_col0\" class=\"data row6 col0\" >7.000000</td>\n",
              "                        <td id=\"T_3f73e1f4_baf1_11eb_bfe9_0242ac1c0002row6_col1\" class=\"data row6 col1\" >0.121668</td>\n",
              "                        <td id=\"T_3f73e1f4_baf1_11eb_bfe9_0242ac1c0002row6_col2\" class=\"data row6 col2\" >1.207603</td>\n",
              "                        <td id=\"T_3f73e1f4_baf1_11eb_bfe9_0242ac1c0002row6_col3\" class=\"data row6 col3\" >-0.002040</td>\n",
              "                        <td id=\"T_3f73e1f4_baf1_11eb_bfe9_0242ac1c0002row6_col4\" class=\"data row6 col4\" >1.627796</td>\n",
              "            </tr>\n",
              "            <tr>\n",
              "                        <th id=\"T_3f73e1f4_baf1_11eb_bfe9_0242ac1c0002level0_row7\" class=\"row_heading level0 row7\" >7</th>\n",
              "                        <td id=\"T_3f73e1f4_baf1_11eb_bfe9_0242ac1c0002row7_col0\" class=\"data row7 col0\" >8.000000</td>\n",
              "                        <td id=\"T_3f73e1f4_baf1_11eb_bfe9_0242ac1c0002row7_col1\" class=\"data row7 col1\" >0.354493</td>\n",
              "                        <td id=\"T_3f73e1f4_baf1_11eb_bfe9_0242ac1c0002row7_col2\" class=\"data row7 col2\" >1.037528</td>\n",
              "                        <td id=\"T_3f73e1f4_baf1_11eb_bfe9_0242ac1c0002row7_col3\" class=\"data row7 col3\" >-0.385684</td>\n",
              "                        <td id=\"T_3f73e1f4_baf1_11eb_bfe9_0242ac1c0002row7_col4\" class=\"data row7 col4\" >0.519818</td>\n",
              "            </tr>\n",
              "            <tr>\n",
              "                        <th id=\"T_3f73e1f4_baf1_11eb_bfe9_0242ac1c0002level0_row8\" class=\"row_heading level0 row8\" >8</th>\n",
              "                        <td id=\"T_3f73e1f4_baf1_11eb_bfe9_0242ac1c0002row8_col0\" class=\"data row8 col0\" >9.000000</td>\n",
              "                        <td id=\"T_3f73e1f4_baf1_11eb_bfe9_0242ac1c0002row8_col1\" class=\"data row8 col1\" >1.686583</td>\n",
              "                        <td id=\"T_3f73e1f4_baf1_11eb_bfe9_0242ac1c0002row8_col2\" class=\"data row8 col2\" >-1.325963</td>\n",
              "                        <td id=\"T_3f73e1f4_baf1_11eb_bfe9_0242ac1c0002row8_col3\" class=\"data row8 col3\" >1.428984</td>\n",
              "                        <td id=\"T_3f73e1f4_baf1_11eb_bfe9_0242ac1c0002row8_col4\" class=\"data row8 col4\" >-2.089354</td>\n",
              "            </tr>\n",
              "            <tr>\n",
              "                        <th id=\"T_3f73e1f4_baf1_11eb_bfe9_0242ac1c0002level0_row9\" class=\"row_heading level0 row9\" >9</th>\n",
              "                        <td id=\"T_3f73e1f4_baf1_11eb_bfe9_0242ac1c0002row9_col0\" class=\"data row9 col0\" >10.000000</td>\n",
              "                        <td id=\"T_3f73e1f4_baf1_11eb_bfe9_0242ac1c0002row9_col1\" class=\"data row9 col1\" >-0.129820</td>\n",
              "                        <td id=\"T_3f73e1f4_baf1_11eb_bfe9_0242ac1c0002row9_col2\" class=\"data row9 col2\" >0.631523</td>\n",
              "                        <td id=\"T_3f73e1f4_baf1_11eb_bfe9_0242ac1c0002row9_col3\" class=\"data row9 col3\" >-0.586538</td>\n",
              "                        <td id=\"T_3f73e1f4_baf1_11eb_bfe9_0242ac1c0002row9_col4\" class=\"data row9 col4\" >0.290720</td>\n",
              "            </tr>\n",
              "    </tbody></table>"
            ],
            "text/plain": [
              "<pandas.io.formats.style.Styler at 0x7fe9aae83650>"
            ]
          },
          "metadata": {
            "tags": []
          },
          "execution_count": 232
        }
      ]
    },
    {
      "cell_type": "code",
      "metadata": {
        "id": "3d_soJonibUR"
      },
      "source": [
        "# задание условия выборки значений из столбца 'E', которые по модулю больше 1.\n",
        "# в переменную i сохраняется данная выборка, включающая значения из столбца 'E' с индексами 2, 6, 8\n",
        "i = pd.IndexSlice[df.loc[abs(df['E']) > 0.5].index, 'E']"
      ],
      "execution_count": null,
      "outputs": []
    },
    {
      "cell_type": "code",
      "metadata": {
        "id": "1RfM0txhpxja",
        "colab": {
          "base_uri": "https://localhost:8080/",
          "height": 250
        },
        "outputId": "e0686edf-a833-459f-b714-15fa9f0553fb"
      },
      "source": [
        "# применение заданных условий используя параметр (subset = i)\n",
        "# параметр vmin - отвечает за значение, начиная с которого гистограмма начинает отображаться, в данном случае это 1\n",
        "# поэтому значение имеющее индекс 8 не выделяется гистограммой (оно меньше 1)\n",
        "df.style.bar(subset = i, color = '#FF7777', vmin = 1)"
      ],
      "execution_count": null,
      "outputs": [
        {
          "output_type": "execute_result",
          "data": {
            "text/html": [
              "<style  type=\"text/css\" >\n",
              "#T_a384b5b4_baf2_11eb_bfe9_0242ac1c0002row0_col4,#T_a384b5b4_baf2_11eb_bfe9_0242ac1c0002row3_col4,#T_a384b5b4_baf2_11eb_bfe9_0242ac1c0002row4_col4,#T_a384b5b4_baf2_11eb_bfe9_0242ac1c0002row7_col4,#T_a384b5b4_baf2_11eb_bfe9_0242ac1c0002row8_col4{\n",
              "            width:  10em;\n",
              "             height:  80%;\n",
              "        }#T_a384b5b4_baf2_11eb_bfe9_0242ac1c0002row2_col4{\n",
              "            width:  10em;\n",
              "             height:  80%;\n",
              "            background:  linear-gradient(90deg,#FF7777 100.0%, transparent 100.0%);\n",
              "        }#T_a384b5b4_baf2_11eb_bfe9_0242ac1c0002row6_col4{\n",
              "            width:  10em;\n",
              "             height:  80%;\n",
              "            background:  linear-gradient(90deg,#FF7777 70.6%, transparent 70.6%);\n",
              "        }</style><table id=\"T_a384b5b4_baf2_11eb_bfe9_0242ac1c0002\" ><thead>    <tr>        <th class=\"blank level0\" ></th>        <th class=\"col_heading level0 col0\" >A</th>        <th class=\"col_heading level0 col1\" >B</th>        <th class=\"col_heading level0 col2\" >C</th>        <th class=\"col_heading level0 col3\" >D</th>        <th class=\"col_heading level0 col4\" >E</th>    </tr></thead><tbody>\n",
              "                <tr>\n",
              "                        <th id=\"T_a384b5b4_baf2_11eb_bfe9_0242ac1c0002level0_row0\" class=\"row_heading level0 row0\" >0</th>\n",
              "                        <td id=\"T_a384b5b4_baf2_11eb_bfe9_0242ac1c0002row0_col0\" class=\"data row0 col0\" >1.000000</td>\n",
              "                        <td id=\"T_a384b5b4_baf2_11eb_bfe9_0242ac1c0002row0_col1\" class=\"data row0 col1\" >1.329212</td>\n",
              "                        <td id=\"T_a384b5b4_baf2_11eb_bfe9_0242ac1c0002row0_col2\" class=\"data row0 col2\" >nan</td>\n",
              "                        <td id=\"T_a384b5b4_baf2_11eb_bfe9_0242ac1c0002row0_col3\" class=\"data row0 col3\" >-0.316280</td>\n",
              "                        <td id=\"T_a384b5b4_baf2_11eb_bfe9_0242ac1c0002row0_col4\" class=\"data row0 col4\" >-0.990810</td>\n",
              "            </tr>\n",
              "            <tr>\n",
              "                        <th id=\"T_a384b5b4_baf2_11eb_bfe9_0242ac1c0002level0_row1\" class=\"row_heading level0 row1\" >1</th>\n",
              "                        <td id=\"T_a384b5b4_baf2_11eb_bfe9_0242ac1c0002row1_col0\" class=\"data row1 col0\" >2.000000</td>\n",
              "                        <td id=\"T_a384b5b4_baf2_11eb_bfe9_0242ac1c0002row1_col1\" class=\"data row1 col1\" >-1.070816</td>\n",
              "                        <td id=\"T_a384b5b4_baf2_11eb_bfe9_0242ac1c0002row1_col2\" class=\"data row1 col2\" >-1.438713</td>\n",
              "                        <td id=\"T_a384b5b4_baf2_11eb_bfe9_0242ac1c0002row1_col3\" class=\"data row1 col3\" >0.564417</td>\n",
              "                        <td id=\"T_a384b5b4_baf2_11eb_bfe9_0242ac1c0002row1_col4\" class=\"data row1 col4\" >0.295722</td>\n",
              "            </tr>\n",
              "            <tr>\n",
              "                        <th id=\"T_a384b5b4_baf2_11eb_bfe9_0242ac1c0002level0_row2\" class=\"row_heading level0 row2\" >2</th>\n",
              "                        <td id=\"T_a384b5b4_baf2_11eb_bfe9_0242ac1c0002row2_col0\" class=\"data row2 col0\" >3.000000</td>\n",
              "                        <td id=\"T_a384b5b4_baf2_11eb_bfe9_0242ac1c0002row2_col1\" class=\"data row2 col1\" >-1.626404</td>\n",
              "                        <td id=\"T_a384b5b4_baf2_11eb_bfe9_0242ac1c0002row2_col2\" class=\"data row2 col2\" >0.219565</td>\n",
              "                        <td id=\"T_a384b5b4_baf2_11eb_bfe9_0242ac1c0002row2_col3\" class=\"data row2 col3\" >0.678805</td>\n",
              "                        <td id=\"T_a384b5b4_baf2_11eb_bfe9_0242ac1c0002row2_col4\" class=\"data row2 col4\" >1.889273</td>\n",
              "            </tr>\n",
              "            <tr>\n",
              "                        <th id=\"T_a384b5b4_baf2_11eb_bfe9_0242ac1c0002level0_row3\" class=\"row_heading level0 row3\" >3</th>\n",
              "                        <td id=\"T_a384b5b4_baf2_11eb_bfe9_0242ac1c0002row3_col0\" class=\"data row3 col0\" >4.000000</td>\n",
              "                        <td id=\"T_a384b5b4_baf2_11eb_bfe9_0242ac1c0002row3_col1\" class=\"data row3 col1\" >0.961538</td>\n",
              "                        <td id=\"T_a384b5b4_baf2_11eb_bfe9_0242ac1c0002row3_col2\" class=\"data row3 col2\" >0.104011</td>\n",
              "                        <td id=\"T_a384b5b4_baf2_11eb_bfe9_0242ac1c0002row3_col3\" class=\"data row3 col3\" >nan</td>\n",
              "                        <td id=\"T_a384b5b4_baf2_11eb_bfe9_0242ac1c0002row3_col4\" class=\"data row3 col4\" >0.850229</td>\n",
              "            </tr>\n",
              "            <tr>\n",
              "                        <th id=\"T_a384b5b4_baf2_11eb_bfe9_0242ac1c0002level0_row4\" class=\"row_heading level0 row4\" >4</th>\n",
              "                        <td id=\"T_a384b5b4_baf2_11eb_bfe9_0242ac1c0002row4_col0\" class=\"data row4 col0\" >5.000000</td>\n",
              "                        <td id=\"T_a384b5b4_baf2_11eb_bfe9_0242ac1c0002row4_col1\" class=\"data row4 col1\" >1.453425</td>\n",
              "                        <td id=\"T_a384b5b4_baf2_11eb_bfe9_0242ac1c0002row4_col2\" class=\"data row4 col2\" >1.057737</td>\n",
              "                        <td id=\"T_a384b5b4_baf2_11eb_bfe9_0242ac1c0002row4_col3\" class=\"data row4 col3\" >0.165562</td>\n",
              "                        <td id=\"T_a384b5b4_baf2_11eb_bfe9_0242ac1c0002row4_col4\" class=\"data row4 col4\" >0.515018</td>\n",
              "            </tr>\n",
              "            <tr>\n",
              "                        <th id=\"T_a384b5b4_baf2_11eb_bfe9_0242ac1c0002level0_row5\" class=\"row_heading level0 row5\" >5</th>\n",
              "                        <td id=\"T_a384b5b4_baf2_11eb_bfe9_0242ac1c0002row5_col0\" class=\"data row5 col0\" >6.000000</td>\n",
              "                        <td id=\"T_a384b5b4_baf2_11eb_bfe9_0242ac1c0002row5_col1\" class=\"data row5 col1\" >-1.336936</td>\n",
              "                        <td id=\"T_a384b5b4_baf2_11eb_bfe9_0242ac1c0002row5_col2\" class=\"data row5 col2\" >0.562861</td>\n",
              "                        <td id=\"T_a384b5b4_baf2_11eb_bfe9_0242ac1c0002row5_col3\" class=\"data row5 col3\" >1.392855</td>\n",
              "                        <td id=\"T_a384b5b4_baf2_11eb_bfe9_0242ac1c0002row5_col4\" class=\"data row5 col4\" >-0.063328</td>\n",
              "            </tr>\n",
              "            <tr>\n",
              "                        <th id=\"T_a384b5b4_baf2_11eb_bfe9_0242ac1c0002level0_row6\" class=\"row_heading level0 row6\" >6</th>\n",
              "                        <td id=\"T_a384b5b4_baf2_11eb_bfe9_0242ac1c0002row6_col0\" class=\"data row6 col0\" >7.000000</td>\n",
              "                        <td id=\"T_a384b5b4_baf2_11eb_bfe9_0242ac1c0002row6_col1\" class=\"data row6 col1\" >0.121668</td>\n",
              "                        <td id=\"T_a384b5b4_baf2_11eb_bfe9_0242ac1c0002row6_col2\" class=\"data row6 col2\" >1.207603</td>\n",
              "                        <td id=\"T_a384b5b4_baf2_11eb_bfe9_0242ac1c0002row6_col3\" class=\"data row6 col3\" >-0.002040</td>\n",
              "                        <td id=\"T_a384b5b4_baf2_11eb_bfe9_0242ac1c0002row6_col4\" class=\"data row6 col4\" >1.627796</td>\n",
              "            </tr>\n",
              "            <tr>\n",
              "                        <th id=\"T_a384b5b4_baf2_11eb_bfe9_0242ac1c0002level0_row7\" class=\"row_heading level0 row7\" >7</th>\n",
              "                        <td id=\"T_a384b5b4_baf2_11eb_bfe9_0242ac1c0002row7_col0\" class=\"data row7 col0\" >8.000000</td>\n",
              "                        <td id=\"T_a384b5b4_baf2_11eb_bfe9_0242ac1c0002row7_col1\" class=\"data row7 col1\" >0.354493</td>\n",
              "                        <td id=\"T_a384b5b4_baf2_11eb_bfe9_0242ac1c0002row7_col2\" class=\"data row7 col2\" >1.037528</td>\n",
              "                        <td id=\"T_a384b5b4_baf2_11eb_bfe9_0242ac1c0002row7_col3\" class=\"data row7 col3\" >-0.385684</td>\n",
              "                        <td id=\"T_a384b5b4_baf2_11eb_bfe9_0242ac1c0002row7_col4\" class=\"data row7 col4\" >0.519818</td>\n",
              "            </tr>\n",
              "            <tr>\n",
              "                        <th id=\"T_a384b5b4_baf2_11eb_bfe9_0242ac1c0002level0_row8\" class=\"row_heading level0 row8\" >8</th>\n",
              "                        <td id=\"T_a384b5b4_baf2_11eb_bfe9_0242ac1c0002row8_col0\" class=\"data row8 col0\" >9.000000</td>\n",
              "                        <td id=\"T_a384b5b4_baf2_11eb_bfe9_0242ac1c0002row8_col1\" class=\"data row8 col1\" >1.686583</td>\n",
              "                        <td id=\"T_a384b5b4_baf2_11eb_bfe9_0242ac1c0002row8_col2\" class=\"data row8 col2\" >-1.325963</td>\n",
              "                        <td id=\"T_a384b5b4_baf2_11eb_bfe9_0242ac1c0002row8_col3\" class=\"data row8 col3\" >1.428984</td>\n",
              "                        <td id=\"T_a384b5b4_baf2_11eb_bfe9_0242ac1c0002row8_col4\" class=\"data row8 col4\" >-2.089354</td>\n",
              "            </tr>\n",
              "            <tr>\n",
              "                        <th id=\"T_a384b5b4_baf2_11eb_bfe9_0242ac1c0002level0_row9\" class=\"row_heading level0 row9\" >9</th>\n",
              "                        <td id=\"T_a384b5b4_baf2_11eb_bfe9_0242ac1c0002row9_col0\" class=\"data row9 col0\" >10.000000</td>\n",
              "                        <td id=\"T_a384b5b4_baf2_11eb_bfe9_0242ac1c0002row9_col1\" class=\"data row9 col1\" >-0.129820</td>\n",
              "                        <td id=\"T_a384b5b4_baf2_11eb_bfe9_0242ac1c0002row9_col2\" class=\"data row9 col2\" >0.631523</td>\n",
              "                        <td id=\"T_a384b5b4_baf2_11eb_bfe9_0242ac1c0002row9_col3\" class=\"data row9 col3\" >-0.586538</td>\n",
              "                        <td id=\"T_a384b5b4_baf2_11eb_bfe9_0242ac1c0002row9_col4\" class=\"data row9 col4\" >0.290720</td>\n",
              "            </tr>\n",
              "    </tbody></table>"
            ],
            "text/plain": [
              "<pandas.io.formats.style.Styler at 0x7fe9a9eb23d0>"
            ]
          },
          "metadata": {
            "tags": []
          },
          "execution_count": 254
        }
      ]
    },
    {
      "cell_type": "code",
      "metadata": {
        "id": "ucYC6Pk-rtqg",
        "colab": {
          "base_uri": "https://localhost:8080/",
          "height": 334
        },
        "outputId": "5419064f-e859-4e26-aa8a-f484af501f24"
      },
      "source": [
        "# применение гистограмм синего цвета для столбца 'Power'\n",
        "# применение гистограмм зеленого цвета для столбца 'Begin_building' с критерием минимального значения vmin равному минимальному значению столбца 'Begin_building'\n",
        "tmp_df.style.bar(subset = ['Power'], color = 'blue').bar(subset = ['Begin_building'], color = 'green', vmin = tmp_df['Begin_building'].min())"
      ],
      "execution_count": null,
      "outputs": [
        {
          "output_type": "execute_result",
          "data": {
            "text/html": [
              "<style  type=\"text/css\" >\n",
              "#T_2e9efc9a_baf3_11eb_bfe9_0242ac1c0002row0_col0{\n",
              "            width:  10em;\n",
              "             height:  80%;\n",
              "            background:  linear-gradient(90deg,green 65.9%, transparent 65.9%);\n",
              "        }#T_2e9efc9a_baf3_11eb_bfe9_0242ac1c0002row0_col2,#T_2e9efc9a_baf3_11eb_bfe9_0242ac1c0002row6_col2{\n",
              "            width:  10em;\n",
              "             height:  80%;\n",
              "            background:  linear-gradient(90deg,blue 0.7%, transparent 0.7%);\n",
              "        }#T_2e9efc9a_baf3_11eb_bfe9_0242ac1c0002row1_col0{\n",
              "            width:  10em;\n",
              "             height:  80%;\n",
              "            background:  linear-gradient(90deg,green 36.4%, transparent 36.4%);\n",
              "        }#T_2e9efc9a_baf3_11eb_bfe9_0242ac1c0002row1_col2,#T_2e9efc9a_baf3_11eb_bfe9_0242ac1c0002row2_col0{\n",
              "            width:  10em;\n",
              "             height:  80%;\n",
              "        }#T_2e9efc9a_baf3_11eb_bfe9_0242ac1c0002row2_col2{\n",
              "            width:  10em;\n",
              "             height:  80%;\n",
              "            background:  linear-gradient(90deg,blue 0.3%, transparent 0.3%);\n",
              "        }#T_2e9efc9a_baf3_11eb_bfe9_0242ac1c0002row3_col0{\n",
              "            width:  10em;\n",
              "             height:  80%;\n",
              "            background:  linear-gradient(90deg,green 50.0%, transparent 50.0%);\n",
              "        }#T_2e9efc9a_baf3_11eb_bfe9_0242ac1c0002row3_col2,#T_2e9efc9a_baf3_11eb_bfe9_0242ac1c0002row9_col2{\n",
              "            width:  10em;\n",
              "             height:  80%;\n",
              "            background:  linear-gradient(90deg,blue 52.9%, transparent 52.9%);\n",
              "        }#T_2e9efc9a_baf3_11eb_bfe9_0242ac1c0002row4_col0{\n",
              "            width:  10em;\n",
              "             height:  80%;\n",
              "            background:  linear-gradient(90deg,green 27.3%, transparent 27.3%);\n",
              "        }#T_2e9efc9a_baf3_11eb_bfe9_0242ac1c0002row4_col2{\n",
              "            width:  10em;\n",
              "             height:  80%;\n",
              "            background:  linear-gradient(90deg,blue 79.5%, transparent 79.5%);\n",
              "        }#T_2e9efc9a_baf3_11eb_bfe9_0242ac1c0002row5_col0{\n",
              "            width:  10em;\n",
              "             height:  80%;\n",
              "            background:  linear-gradient(90deg,green 100.0%, transparent 100.0%);\n",
              "        }#T_2e9efc9a_baf3_11eb_bfe9_0242ac1c0002row5_col2{\n",
              "            width:  10em;\n",
              "             height:  80%;\n",
              "            background:  linear-gradient(90deg,blue 2.4%, transparent 2.4%);\n",
              "        }#T_2e9efc9a_baf3_11eb_bfe9_0242ac1c0002row6_col0{\n",
              "            width:  10em;\n",
              "             height:  80%;\n",
              "            background:  linear-gradient(90deg,green 96.6%, transparent 96.6%);\n",
              "        }#T_2e9efc9a_baf3_11eb_bfe9_0242ac1c0002row7_col0{\n",
              "            width:  10em;\n",
              "             height:  80%;\n",
              "            background:  linear-gradient(90deg,green 42.0%, transparent 42.0%);\n",
              "        }#T_2e9efc9a_baf3_11eb_bfe9_0242ac1c0002row7_col2{\n",
              "            width:  10em;\n",
              "             height:  80%;\n",
              "            background:  linear-gradient(90deg,blue 74.0%, transparent 74.0%);\n",
              "        }#T_2e9efc9a_baf3_11eb_bfe9_0242ac1c0002row8_col0{\n",
              "            width:  10em;\n",
              "             height:  80%;\n",
              "            background:  linear-gradient(90deg,green 46.6%, transparent 46.6%);\n",
              "        }#T_2e9efc9a_baf3_11eb_bfe9_0242ac1c0002row8_col2{\n",
              "            width:  10em;\n",
              "             height:  80%;\n",
              "            background:  linear-gradient(90deg,blue 70.6%, transparent 70.6%);\n",
              "        }#T_2e9efc9a_baf3_11eb_bfe9_0242ac1c0002row9_col0{\n",
              "            width:  10em;\n",
              "             height:  80%;\n",
              "            background:  linear-gradient(90deg,green 51.1%, transparent 51.1%);\n",
              "        }#T_2e9efc9a_baf3_11eb_bfe9_0242ac1c0002row10_col0{\n",
              "            width:  10em;\n",
              "             height:  80%;\n",
              "            background:  linear-gradient(90deg,green 37.5%, transparent 37.5%);\n",
              "        }#T_2e9efc9a_baf3_11eb_bfe9_0242ac1c0002row10_col2{\n",
              "            width:  10em;\n",
              "             height:  80%;\n",
              "            background:  linear-gradient(90deg,blue 67.1%, transparent 67.1%);\n",
              "        }#T_2e9efc9a_baf3_11eb_bfe9_0242ac1c0002row11_col0{\n",
              "            width:  10em;\n",
              "             height:  80%;\n",
              "            background:  linear-gradient(90deg,green 55.7%, transparent 55.7%);\n",
              "        }#T_2e9efc9a_baf3_11eb_bfe9_0242ac1c0002row11_col2{\n",
              "            width:  10em;\n",
              "             height:  80%;\n",
              "            background:  linear-gradient(90deg,blue 100.0%, transparent 100.0%);\n",
              "        }#T_2e9efc9a_baf3_11eb_bfe9_0242ac1c0002row12_col0{\n",
              "            width:  10em;\n",
              "             height:  80%;\n",
              "            background:  linear-gradient(90deg,green 40.9%, transparent 40.9%);\n",
              "        }#T_2e9efc9a_baf3_11eb_bfe9_0242ac1c0002row12_col2{\n",
              "            width:  10em;\n",
              "             height:  80%;\n",
              "            background:  linear-gradient(90deg,blue 45.8%, transparent 45.8%);\n",
              "        }</style><table id=\"T_2e9efc9a_baf3_11eb_bfe9_0242ac1c0002\" ><thead>    <tr>        <th class=\"blank level0\" ></th>        <th class=\"col_heading level0 col0\" >Begin_building</th>        <th class=\"col_heading level0 col1\" >Type</th>        <th class=\"col_heading level0 col2\" >Power</th>        <th class=\"col_heading level0 col3\" >Owner</th>        <th class=\"col_heading level0 col4\" >Renewable</th>        <th class=\"col_heading level0 col5\" >Power*Age</th>    </tr>    <tr>        <th class=\"index_name level0\" >Name</th>        <th class=\"blank\" ></th>        <th class=\"blank\" ></th>        <th class=\"blank\" ></th>        <th class=\"blank\" ></th>        <th class=\"blank\" ></th>        <th class=\"blank\" ></th>    </tr></thead><tbody>\n",
              "                <tr>\n",
              "                        <th id=\"T_2e9efc9a_baf3_11eb_bfe9_0242ac1c0002level0_row0\" class=\"row_heading level0 row0\" >Mutnovskaya</th>\n",
              "                        <td id=\"T_2e9efc9a_baf3_11eb_bfe9_0242ac1c0002row0_col0\" class=\"data row0 col0\" >1988</td>\n",
              "                        <td id=\"T_2e9efc9a_baf3_11eb_bfe9_0242ac1c0002row0_col1\" class=\"data row0 col1\" >geothermal</td>\n",
              "                        <td id=\"T_2e9efc9a_baf3_11eb_bfe9_0242ac1c0002row0_col2\" class=\"data row0 col2\" >50</td>\n",
              "                        <td id=\"T_2e9efc9a_baf3_11eb_bfe9_0242ac1c0002row0_col3\" class=\"data row0 col3\" >RusHydro</td>\n",
              "                        <td id=\"T_2e9efc9a_baf3_11eb_bfe9_0242ac1c0002row0_col4\" class=\"data row0 col4\" >no</td>\n",
              "                        <td id=\"T_2e9efc9a_baf3_11eb_bfe9_0242ac1c0002row0_col5\" class=\"data row0 col5\" >1650</td>\n",
              "            </tr>\n",
              "            <tr>\n",
              "                        <th id=\"T_2e9efc9a_baf3_11eb_bfe9_0242ac1c0002level0_row1\" class=\"row_heading level0 row1\" >Pauzhetskaya</th>\n",
              "                        <td id=\"T_2e9efc9a_baf3_11eb_bfe9_0242ac1c0002row1_col0\" class=\"data row1 col0\" >1962</td>\n",
              "                        <td id=\"T_2e9efc9a_baf3_11eb_bfe9_0242ac1c0002row1_col1\" class=\"data row1 col1\" >geothermal</td>\n",
              "                        <td id=\"T_2e9efc9a_baf3_11eb_bfe9_0242ac1c0002row1_col2\" class=\"data row1 col2\" >12</td>\n",
              "                        <td id=\"T_2e9efc9a_baf3_11eb_bfe9_0242ac1c0002row1_col3\" class=\"data row1 col3\" >RusHydro</td>\n",
              "                        <td id=\"T_2e9efc9a_baf3_11eb_bfe9_0242ac1c0002row1_col4\" class=\"data row1 col4\" >no</td>\n",
              "                        <td id=\"T_2e9efc9a_baf3_11eb_bfe9_0242ac1c0002row1_col5\" class=\"data row1 col5\" >708</td>\n",
              "            </tr>\n",
              "            <tr>\n",
              "                        <th id=\"T_2e9efc9a_baf3_11eb_bfe9_0242ac1c0002level0_row2\" class=\"row_heading level0 row2\" >Baksan</th>\n",
              "                        <td id=\"T_2e9efc9a_baf3_11eb_bfe9_0242ac1c0002row2_col0\" class=\"data row2 col0\" >1930</td>\n",
              "                        <td id=\"T_2e9efc9a_baf3_11eb_bfe9_0242ac1c0002row2_col1\" class=\"data row2 col1\" >hydro</td>\n",
              "                        <td id=\"T_2e9efc9a_baf3_11eb_bfe9_0242ac1c0002row2_col2\" class=\"data row2 col2\" >27</td>\n",
              "                        <td id=\"T_2e9efc9a_baf3_11eb_bfe9_0242ac1c0002row2_col3\" class=\"data row2 col3\" >RusHydro</td>\n",
              "                        <td id=\"T_2e9efc9a_baf3_11eb_bfe9_0242ac1c0002row2_col4\" class=\"data row2 col4\" >hydro</td>\n",
              "                        <td id=\"T_2e9efc9a_baf3_11eb_bfe9_0242ac1c0002row2_col5\" class=\"data row2 col5\" >2457</td>\n",
              "            </tr>\n",
              "            <tr>\n",
              "                        <th id=\"T_2e9efc9a_baf3_11eb_bfe9_0242ac1c0002level0_row3\" class=\"row_heading level0 row3\" >Boguchany</th>\n",
              "                        <td id=\"T_2e9efc9a_baf3_11eb_bfe9_0242ac1c0002row3_col0\" class=\"data row3 col0\" >1974</td>\n",
              "                        <td id=\"T_2e9efc9a_baf3_11eb_bfe9_0242ac1c0002row3_col1\" class=\"data row3 col1\" >hydro</td>\n",
              "                        <td id=\"T_2e9efc9a_baf3_11eb_bfe9_0242ac1c0002row3_col2\" class=\"data row3 col2\" >2997</td>\n",
              "                        <td id=\"T_2e9efc9a_baf3_11eb_bfe9_0242ac1c0002row3_col3\" class=\"data row3 col3\" >BGES</td>\n",
              "                        <td id=\"T_2e9efc9a_baf3_11eb_bfe9_0242ac1c0002row3_col4\" class=\"data row3 col4\" >hydro</td>\n",
              "                        <td id=\"T_2e9efc9a_baf3_11eb_bfe9_0242ac1c0002row3_col5\" class=\"data row3 col5\" >140859</td>\n",
              "            </tr>\n",
              "            <tr>\n",
              "                        <th id=\"T_2e9efc9a_baf3_11eb_bfe9_0242ac1c0002level0_row4\" class=\"row_heading level0 row4\" >Bratsk</th>\n",
              "                        <td id=\"T_2e9efc9a_baf3_11eb_bfe9_0242ac1c0002row4_col0\" class=\"data row4 col0\" >1954</td>\n",
              "                        <td id=\"T_2e9efc9a_baf3_11eb_bfe9_0242ac1c0002row4_col1\" class=\"data row4 col1\" >hydro</td>\n",
              "                        <td id=\"T_2e9efc9a_baf3_11eb_bfe9_0242ac1c0002row4_col2\" class=\"data row4 col2\" >4500</td>\n",
              "                        <td id=\"T_2e9efc9a_baf3_11eb_bfe9_0242ac1c0002row4_col3\" class=\"data row4 col3\" >En+</td>\n",
              "                        <td id=\"T_2e9efc9a_baf3_11eb_bfe9_0242ac1c0002row4_col4\" class=\"data row4 col4\" >hydro</td>\n",
              "                        <td id=\"T_2e9efc9a_baf3_11eb_bfe9_0242ac1c0002row4_col5\" class=\"data row4 col5\" >301500</td>\n",
              "            </tr>\n",
              "            <tr>\n",
              "                        <th id=\"T_2e9efc9a_baf3_11eb_bfe9_0242ac1c0002level0_row5\" class=\"row_heading level0 row5\" >Adygeyskaya</th>\n",
              "                        <td id=\"T_2e9efc9a_baf3_11eb_bfe9_0242ac1c0002row5_col0\" class=\"data row5 col0\" >2018</td>\n",
              "                        <td id=\"T_2e9efc9a_baf3_11eb_bfe9_0242ac1c0002row5_col1\" class=\"data row5 col1\" >wind</td>\n",
              "                        <td id=\"T_2e9efc9a_baf3_11eb_bfe9_0242ac1c0002row5_col2\" class=\"data row5 col2\" >150</td>\n",
              "                        <td id=\"T_2e9efc9a_baf3_11eb_bfe9_0242ac1c0002row5_col3\" class=\"data row5 col3\" >NovaWind</td>\n",
              "                        <td id=\"T_2e9efc9a_baf3_11eb_bfe9_0242ac1c0002row5_col4\" class=\"data row5 col4\" >wind</td>\n",
              "                        <td id=\"T_2e9efc9a_baf3_11eb_bfe9_0242ac1c0002row5_col5\" class=\"data row5 col5\" >450</td>\n",
              "            </tr>\n",
              "            <tr>\n",
              "                        <th id=\"T_2e9efc9a_baf3_11eb_bfe9_0242ac1c0002level0_row6\" class=\"row_heading level0 row6\" >Ulyanovskaya</th>\n",
              "                        <td id=\"T_2e9efc9a_baf3_11eb_bfe9_0242ac1c0002row6_col0\" class=\"data row6 col0\" >2015</td>\n",
              "                        <td id=\"T_2e9efc9a_baf3_11eb_bfe9_0242ac1c0002row6_col1\" class=\"data row6 col1\" >wind</td>\n",
              "                        <td id=\"T_2e9efc9a_baf3_11eb_bfe9_0242ac1c0002row6_col2\" class=\"data row6 col2\" >50</td>\n",
              "                        <td id=\"T_2e9efc9a_baf3_11eb_bfe9_0242ac1c0002row6_col3\" class=\"data row6 col3\" >PVFRV</td>\n",
              "                        <td id=\"T_2e9efc9a_baf3_11eb_bfe9_0242ac1c0002row6_col4\" class=\"data row6 col4\" >wind</td>\n",
              "                        <td id=\"T_2e9efc9a_baf3_11eb_bfe9_0242ac1c0002row6_col5\" class=\"data row6 col5\" >300</td>\n",
              "            </tr>\n",
              "            <tr>\n",
              "                        <th id=\"T_2e9efc9a_baf3_11eb_bfe9_0242ac1c0002level0_row7\" class=\"row_heading level0 row7\" >Leningradksaya</th>\n",
              "                        <td id=\"T_2e9efc9a_baf3_11eb_bfe9_0242ac1c0002row7_col0\" class=\"data row7 col0\" >1967</td>\n",
              "                        <td id=\"T_2e9efc9a_baf3_11eb_bfe9_0242ac1c0002row7_col1\" class=\"data row7 col1\" >nuclear</td>\n",
              "                        <td id=\"T_2e9efc9a_baf3_11eb_bfe9_0242ac1c0002row7_col2\" class=\"data row7 col2\" >4188</td>\n",
              "                        <td id=\"T_2e9efc9a_baf3_11eb_bfe9_0242ac1c0002row7_col3\" class=\"data row7 col3\" >REA</td>\n",
              "                        <td id=\"T_2e9efc9a_baf3_11eb_bfe9_0242ac1c0002row7_col4\" class=\"data row7 col4\" >no</td>\n",
              "                        <td id=\"T_2e9efc9a_baf3_11eb_bfe9_0242ac1c0002row7_col5\" class=\"data row7 col5\" >226152</td>\n",
              "            </tr>\n",
              "            <tr>\n",
              "                        <th id=\"T_2e9efc9a_baf3_11eb_bfe9_0242ac1c0002level0_row8\" class=\"row_heading level0 row8\" >Kursakya</th>\n",
              "                        <td id=\"T_2e9efc9a_baf3_11eb_bfe9_0242ac1c0002row8_col0\" class=\"data row8 col0\" >1971</td>\n",
              "                        <td id=\"T_2e9efc9a_baf3_11eb_bfe9_0242ac1c0002row8_col1\" class=\"data row8 col1\" >nuclear</td>\n",
              "                        <td id=\"T_2e9efc9a_baf3_11eb_bfe9_0242ac1c0002row8_col2\" class=\"data row8 col2\" >4000</td>\n",
              "                        <td id=\"T_2e9efc9a_baf3_11eb_bfe9_0242ac1c0002row8_col3\" class=\"data row8 col3\" >REA</td>\n",
              "                        <td id=\"T_2e9efc9a_baf3_11eb_bfe9_0242ac1c0002row8_col4\" class=\"data row8 col4\" >no</td>\n",
              "                        <td id=\"T_2e9efc9a_baf3_11eb_bfe9_0242ac1c0002row8_col5\" class=\"data row8 col5\" >200000</td>\n",
              "            </tr>\n",
              "            <tr>\n",
              "                        <th id=\"T_2e9efc9a_baf3_11eb_bfe9_0242ac1c0002level0_row9\" class=\"row_heading level0 row9\" >Smolenskaya</th>\n",
              "                        <td id=\"T_2e9efc9a_baf3_11eb_bfe9_0242ac1c0002row9_col0\" class=\"data row9 col0\" >1975</td>\n",
              "                        <td id=\"T_2e9efc9a_baf3_11eb_bfe9_0242ac1c0002row9_col1\" class=\"data row9 col1\" >nuclear</td>\n",
              "                        <td id=\"T_2e9efc9a_baf3_11eb_bfe9_0242ac1c0002row9_col2\" class=\"data row9 col2\" >3000</td>\n",
              "                        <td id=\"T_2e9efc9a_baf3_11eb_bfe9_0242ac1c0002row9_col3\" class=\"data row9 col3\" >REA</td>\n",
              "                        <td id=\"T_2e9efc9a_baf3_11eb_bfe9_0242ac1c0002row9_col4\" class=\"data row9 col4\" >no</td>\n",
              "                        <td id=\"T_2e9efc9a_baf3_11eb_bfe9_0242ac1c0002row9_col5\" class=\"data row9 col5\" >138000</td>\n",
              "            </tr>\n",
              "            <tr>\n",
              "                        <th id=\"T_2e9efc9a_baf3_11eb_bfe9_0242ac1c0002level0_row10\" class=\"row_heading level0 row10\" >Reftinskaya</th>\n",
              "                        <td id=\"T_2e9efc9a_baf3_11eb_bfe9_0242ac1c0002row10_col0\" class=\"data row10 col0\" >1963</td>\n",
              "                        <td id=\"T_2e9efc9a_baf3_11eb_bfe9_0242ac1c0002row10_col1\" class=\"data row10 col1\" >termal</td>\n",
              "                        <td id=\"T_2e9efc9a_baf3_11eb_bfe9_0242ac1c0002row10_col2\" class=\"data row10 col2\" >3800</td>\n",
              "                        <td id=\"T_2e9efc9a_baf3_11eb_bfe9_0242ac1c0002row10_col3\" class=\"data row10 col3\" >KuzEn</td>\n",
              "                        <td id=\"T_2e9efc9a_baf3_11eb_bfe9_0242ac1c0002row10_col4\" class=\"data row10 col4\" >no</td>\n",
              "                        <td id=\"T_2e9efc9a_baf3_11eb_bfe9_0242ac1c0002row10_col5\" class=\"data row10 col5\" >220400</td>\n",
              "            </tr>\n",
              "            <tr>\n",
              "                        <th id=\"T_2e9efc9a_baf3_11eb_bfe9_0242ac1c0002level0_row11\" class=\"row_heading level0 row11\" >Surgut-2</th>\n",
              "                        <td id=\"T_2e9efc9a_baf3_11eb_bfe9_0242ac1c0002row11_col0\" class=\"data row11 col0\" >1979</td>\n",
              "                        <td id=\"T_2e9efc9a_baf3_11eb_bfe9_0242ac1c0002row11_col1\" class=\"data row11 col1\" >termal</td>\n",
              "                        <td id=\"T_2e9efc9a_baf3_11eb_bfe9_0242ac1c0002row11_col2\" class=\"data row11 col2\" >5657</td>\n",
              "                        <td id=\"T_2e9efc9a_baf3_11eb_bfe9_0242ac1c0002row11_col3\" class=\"data row11 col3\" >Unipro</td>\n",
              "                        <td id=\"T_2e9efc9a_baf3_11eb_bfe9_0242ac1c0002row11_col4\" class=\"data row11 col4\" >no</td>\n",
              "                        <td id=\"T_2e9efc9a_baf3_11eb_bfe9_0242ac1c0002row11_col5\" class=\"data row11 col5\" >237594</td>\n",
              "            </tr>\n",
              "            <tr>\n",
              "                        <th id=\"T_2e9efc9a_baf3_11eb_bfe9_0242ac1c0002level0_row12\" class=\"row_heading level0 row12\" >Kirishskaya</th>\n",
              "                        <td id=\"T_2e9efc9a_baf3_11eb_bfe9_0242ac1c0002row12_col0\" class=\"data row12 col0\" >1966</td>\n",
              "                        <td id=\"T_2e9efc9a_baf3_11eb_bfe9_0242ac1c0002row12_col1\" class=\"data row12 col1\" >termal</td>\n",
              "                        <td id=\"T_2e9efc9a_baf3_11eb_bfe9_0242ac1c0002row12_col2\" class=\"data row12 col2\" >2595</td>\n",
              "                        <td id=\"T_2e9efc9a_baf3_11eb_bfe9_0242ac1c0002row12_col3\" class=\"data row12 col3\" >OGK-2</td>\n",
              "                        <td id=\"T_2e9efc9a_baf3_11eb_bfe9_0242ac1c0002row12_col4\" class=\"data row12 col4\" >no</td>\n",
              "                        <td id=\"T_2e9efc9a_baf3_11eb_bfe9_0242ac1c0002row12_col5\" class=\"data row12 col5\" >142725</td>\n",
              "            </tr>\n",
              "    </tbody></table>"
            ],
            "text/plain": [
              "<pandas.io.formats.style.Styler at 0x7fe9aac64b90>"
            ]
          },
          "metadata": {
            "tags": []
          },
          "execution_count": 268
        }
      ]
    },
    {
      "cell_type": "code",
      "metadata": {
        "id": "RJJtwYYEshg1"
      },
      "source": [
        "# создание функции color_power_type, которая в зависимости от значения присваивает цвет\n",
        "# hydro - синий\n",
        "# wind - голубой\n",
        "# no - красный\n",
        "# входные данные - строка, выходные - строка с параметрами цвета\n",
        "def color_power_type(val):\n",
        "  if val == 'hydro':\n",
        "    color = ('blue', 'white')\n",
        "  elif val == 'wind':\n",
        "    color = ('lightblue', 'black')\n",
        "  else:\n",
        "    color = ('red', 'white')\n",
        "  return 'background-color: %s; color : %s' % (color[0], color[1])"
      ],
      "execution_count": null,
      "outputs": []
    },
    {
      "cell_type": "code",
      "metadata": {
        "id": "EYqboMpGtdgo",
        "colab": {
          "base_uri": "https://localhost:8080/",
          "height": 334
        },
        "outputId": "88ea9876-2b21-4729-de26-7660d0a1d7bc"
      },
      "source": [
        "# применение функции color_power_type используя метод applymap для столбца 'Renewable'\n",
        "tmp_df.style.applymap(color_power_type, subset = ['Renewable'])"
      ],
      "execution_count": null,
      "outputs": [
        {
          "output_type": "execute_result",
          "data": {
            "text/html": [
              "<style  type=\"text/css\" >\n",
              "#T_ac5439e8_baf3_11eb_bfe9_0242ac1c0002row0_col4,#T_ac5439e8_baf3_11eb_bfe9_0242ac1c0002row1_col4,#T_ac5439e8_baf3_11eb_bfe9_0242ac1c0002row7_col4,#T_ac5439e8_baf3_11eb_bfe9_0242ac1c0002row8_col4,#T_ac5439e8_baf3_11eb_bfe9_0242ac1c0002row9_col4,#T_ac5439e8_baf3_11eb_bfe9_0242ac1c0002row10_col4,#T_ac5439e8_baf3_11eb_bfe9_0242ac1c0002row11_col4,#T_ac5439e8_baf3_11eb_bfe9_0242ac1c0002row12_col4{\n",
              "            background-color:  red;\n",
              "             color :  white;\n",
              "        }#T_ac5439e8_baf3_11eb_bfe9_0242ac1c0002row2_col4,#T_ac5439e8_baf3_11eb_bfe9_0242ac1c0002row3_col4,#T_ac5439e8_baf3_11eb_bfe9_0242ac1c0002row4_col4{\n",
              "            background-color:  blue;\n",
              "             color :  white;\n",
              "        }#T_ac5439e8_baf3_11eb_bfe9_0242ac1c0002row5_col4,#T_ac5439e8_baf3_11eb_bfe9_0242ac1c0002row6_col4{\n",
              "            background-color:  lightblue;\n",
              "             color :  black;\n",
              "        }</style><table id=\"T_ac5439e8_baf3_11eb_bfe9_0242ac1c0002\" ><thead>    <tr>        <th class=\"blank level0\" ></th>        <th class=\"col_heading level0 col0\" >Begin_building</th>        <th class=\"col_heading level0 col1\" >Type</th>        <th class=\"col_heading level0 col2\" >Power</th>        <th class=\"col_heading level0 col3\" >Owner</th>        <th class=\"col_heading level0 col4\" >Renewable</th>        <th class=\"col_heading level0 col5\" >Power*Age</th>    </tr>    <tr>        <th class=\"index_name level0\" >Name</th>        <th class=\"blank\" ></th>        <th class=\"blank\" ></th>        <th class=\"blank\" ></th>        <th class=\"blank\" ></th>        <th class=\"blank\" ></th>        <th class=\"blank\" ></th>    </tr></thead><tbody>\n",
              "                <tr>\n",
              "                        <th id=\"T_ac5439e8_baf3_11eb_bfe9_0242ac1c0002level0_row0\" class=\"row_heading level0 row0\" >Mutnovskaya</th>\n",
              "                        <td id=\"T_ac5439e8_baf3_11eb_bfe9_0242ac1c0002row0_col0\" class=\"data row0 col0\" >1988</td>\n",
              "                        <td id=\"T_ac5439e8_baf3_11eb_bfe9_0242ac1c0002row0_col1\" class=\"data row0 col1\" >geothermal</td>\n",
              "                        <td id=\"T_ac5439e8_baf3_11eb_bfe9_0242ac1c0002row0_col2\" class=\"data row0 col2\" >50</td>\n",
              "                        <td id=\"T_ac5439e8_baf3_11eb_bfe9_0242ac1c0002row0_col3\" class=\"data row0 col3\" >RusHydro</td>\n",
              "                        <td id=\"T_ac5439e8_baf3_11eb_bfe9_0242ac1c0002row0_col4\" class=\"data row0 col4\" >no</td>\n",
              "                        <td id=\"T_ac5439e8_baf3_11eb_bfe9_0242ac1c0002row0_col5\" class=\"data row0 col5\" >1650</td>\n",
              "            </tr>\n",
              "            <tr>\n",
              "                        <th id=\"T_ac5439e8_baf3_11eb_bfe9_0242ac1c0002level0_row1\" class=\"row_heading level0 row1\" >Pauzhetskaya</th>\n",
              "                        <td id=\"T_ac5439e8_baf3_11eb_bfe9_0242ac1c0002row1_col0\" class=\"data row1 col0\" >1962</td>\n",
              "                        <td id=\"T_ac5439e8_baf3_11eb_bfe9_0242ac1c0002row1_col1\" class=\"data row1 col1\" >geothermal</td>\n",
              "                        <td id=\"T_ac5439e8_baf3_11eb_bfe9_0242ac1c0002row1_col2\" class=\"data row1 col2\" >12</td>\n",
              "                        <td id=\"T_ac5439e8_baf3_11eb_bfe9_0242ac1c0002row1_col3\" class=\"data row1 col3\" >RusHydro</td>\n",
              "                        <td id=\"T_ac5439e8_baf3_11eb_bfe9_0242ac1c0002row1_col4\" class=\"data row1 col4\" >no</td>\n",
              "                        <td id=\"T_ac5439e8_baf3_11eb_bfe9_0242ac1c0002row1_col5\" class=\"data row1 col5\" >708</td>\n",
              "            </tr>\n",
              "            <tr>\n",
              "                        <th id=\"T_ac5439e8_baf3_11eb_bfe9_0242ac1c0002level0_row2\" class=\"row_heading level0 row2\" >Baksan</th>\n",
              "                        <td id=\"T_ac5439e8_baf3_11eb_bfe9_0242ac1c0002row2_col0\" class=\"data row2 col0\" >1930</td>\n",
              "                        <td id=\"T_ac5439e8_baf3_11eb_bfe9_0242ac1c0002row2_col1\" class=\"data row2 col1\" >hydro</td>\n",
              "                        <td id=\"T_ac5439e8_baf3_11eb_bfe9_0242ac1c0002row2_col2\" class=\"data row2 col2\" >27</td>\n",
              "                        <td id=\"T_ac5439e8_baf3_11eb_bfe9_0242ac1c0002row2_col3\" class=\"data row2 col3\" >RusHydro</td>\n",
              "                        <td id=\"T_ac5439e8_baf3_11eb_bfe9_0242ac1c0002row2_col4\" class=\"data row2 col4\" >hydro</td>\n",
              "                        <td id=\"T_ac5439e8_baf3_11eb_bfe9_0242ac1c0002row2_col5\" class=\"data row2 col5\" >2457</td>\n",
              "            </tr>\n",
              "            <tr>\n",
              "                        <th id=\"T_ac5439e8_baf3_11eb_bfe9_0242ac1c0002level0_row3\" class=\"row_heading level0 row3\" >Boguchany</th>\n",
              "                        <td id=\"T_ac5439e8_baf3_11eb_bfe9_0242ac1c0002row3_col0\" class=\"data row3 col0\" >1974</td>\n",
              "                        <td id=\"T_ac5439e8_baf3_11eb_bfe9_0242ac1c0002row3_col1\" class=\"data row3 col1\" >hydro</td>\n",
              "                        <td id=\"T_ac5439e8_baf3_11eb_bfe9_0242ac1c0002row3_col2\" class=\"data row3 col2\" >2997</td>\n",
              "                        <td id=\"T_ac5439e8_baf3_11eb_bfe9_0242ac1c0002row3_col3\" class=\"data row3 col3\" >BGES</td>\n",
              "                        <td id=\"T_ac5439e8_baf3_11eb_bfe9_0242ac1c0002row3_col4\" class=\"data row3 col4\" >hydro</td>\n",
              "                        <td id=\"T_ac5439e8_baf3_11eb_bfe9_0242ac1c0002row3_col5\" class=\"data row3 col5\" >140859</td>\n",
              "            </tr>\n",
              "            <tr>\n",
              "                        <th id=\"T_ac5439e8_baf3_11eb_bfe9_0242ac1c0002level0_row4\" class=\"row_heading level0 row4\" >Bratsk</th>\n",
              "                        <td id=\"T_ac5439e8_baf3_11eb_bfe9_0242ac1c0002row4_col0\" class=\"data row4 col0\" >1954</td>\n",
              "                        <td id=\"T_ac5439e8_baf3_11eb_bfe9_0242ac1c0002row4_col1\" class=\"data row4 col1\" >hydro</td>\n",
              "                        <td id=\"T_ac5439e8_baf3_11eb_bfe9_0242ac1c0002row4_col2\" class=\"data row4 col2\" >4500</td>\n",
              "                        <td id=\"T_ac5439e8_baf3_11eb_bfe9_0242ac1c0002row4_col3\" class=\"data row4 col3\" >En+</td>\n",
              "                        <td id=\"T_ac5439e8_baf3_11eb_bfe9_0242ac1c0002row4_col4\" class=\"data row4 col4\" >hydro</td>\n",
              "                        <td id=\"T_ac5439e8_baf3_11eb_bfe9_0242ac1c0002row4_col5\" class=\"data row4 col5\" >301500</td>\n",
              "            </tr>\n",
              "            <tr>\n",
              "                        <th id=\"T_ac5439e8_baf3_11eb_bfe9_0242ac1c0002level0_row5\" class=\"row_heading level0 row5\" >Adygeyskaya</th>\n",
              "                        <td id=\"T_ac5439e8_baf3_11eb_bfe9_0242ac1c0002row5_col0\" class=\"data row5 col0\" >2018</td>\n",
              "                        <td id=\"T_ac5439e8_baf3_11eb_bfe9_0242ac1c0002row5_col1\" class=\"data row5 col1\" >wind</td>\n",
              "                        <td id=\"T_ac5439e8_baf3_11eb_bfe9_0242ac1c0002row5_col2\" class=\"data row5 col2\" >150</td>\n",
              "                        <td id=\"T_ac5439e8_baf3_11eb_bfe9_0242ac1c0002row5_col3\" class=\"data row5 col3\" >NovaWind</td>\n",
              "                        <td id=\"T_ac5439e8_baf3_11eb_bfe9_0242ac1c0002row5_col4\" class=\"data row5 col4\" >wind</td>\n",
              "                        <td id=\"T_ac5439e8_baf3_11eb_bfe9_0242ac1c0002row5_col5\" class=\"data row5 col5\" >450</td>\n",
              "            </tr>\n",
              "            <tr>\n",
              "                        <th id=\"T_ac5439e8_baf3_11eb_bfe9_0242ac1c0002level0_row6\" class=\"row_heading level0 row6\" >Ulyanovskaya</th>\n",
              "                        <td id=\"T_ac5439e8_baf3_11eb_bfe9_0242ac1c0002row6_col0\" class=\"data row6 col0\" >2015</td>\n",
              "                        <td id=\"T_ac5439e8_baf3_11eb_bfe9_0242ac1c0002row6_col1\" class=\"data row6 col1\" >wind</td>\n",
              "                        <td id=\"T_ac5439e8_baf3_11eb_bfe9_0242ac1c0002row6_col2\" class=\"data row6 col2\" >50</td>\n",
              "                        <td id=\"T_ac5439e8_baf3_11eb_bfe9_0242ac1c0002row6_col3\" class=\"data row6 col3\" >PVFRV</td>\n",
              "                        <td id=\"T_ac5439e8_baf3_11eb_bfe9_0242ac1c0002row6_col4\" class=\"data row6 col4\" >wind</td>\n",
              "                        <td id=\"T_ac5439e8_baf3_11eb_bfe9_0242ac1c0002row6_col5\" class=\"data row6 col5\" >300</td>\n",
              "            </tr>\n",
              "            <tr>\n",
              "                        <th id=\"T_ac5439e8_baf3_11eb_bfe9_0242ac1c0002level0_row7\" class=\"row_heading level0 row7\" >Leningradksaya</th>\n",
              "                        <td id=\"T_ac5439e8_baf3_11eb_bfe9_0242ac1c0002row7_col0\" class=\"data row7 col0\" >1967</td>\n",
              "                        <td id=\"T_ac5439e8_baf3_11eb_bfe9_0242ac1c0002row7_col1\" class=\"data row7 col1\" >nuclear</td>\n",
              "                        <td id=\"T_ac5439e8_baf3_11eb_bfe9_0242ac1c0002row7_col2\" class=\"data row7 col2\" >4188</td>\n",
              "                        <td id=\"T_ac5439e8_baf3_11eb_bfe9_0242ac1c0002row7_col3\" class=\"data row7 col3\" >REA</td>\n",
              "                        <td id=\"T_ac5439e8_baf3_11eb_bfe9_0242ac1c0002row7_col4\" class=\"data row7 col4\" >no</td>\n",
              "                        <td id=\"T_ac5439e8_baf3_11eb_bfe9_0242ac1c0002row7_col5\" class=\"data row7 col5\" >226152</td>\n",
              "            </tr>\n",
              "            <tr>\n",
              "                        <th id=\"T_ac5439e8_baf3_11eb_bfe9_0242ac1c0002level0_row8\" class=\"row_heading level0 row8\" >Kursakya</th>\n",
              "                        <td id=\"T_ac5439e8_baf3_11eb_bfe9_0242ac1c0002row8_col0\" class=\"data row8 col0\" >1971</td>\n",
              "                        <td id=\"T_ac5439e8_baf3_11eb_bfe9_0242ac1c0002row8_col1\" class=\"data row8 col1\" >nuclear</td>\n",
              "                        <td id=\"T_ac5439e8_baf3_11eb_bfe9_0242ac1c0002row8_col2\" class=\"data row8 col2\" >4000</td>\n",
              "                        <td id=\"T_ac5439e8_baf3_11eb_bfe9_0242ac1c0002row8_col3\" class=\"data row8 col3\" >REA</td>\n",
              "                        <td id=\"T_ac5439e8_baf3_11eb_bfe9_0242ac1c0002row8_col4\" class=\"data row8 col4\" >no</td>\n",
              "                        <td id=\"T_ac5439e8_baf3_11eb_bfe9_0242ac1c0002row8_col5\" class=\"data row8 col5\" >200000</td>\n",
              "            </tr>\n",
              "            <tr>\n",
              "                        <th id=\"T_ac5439e8_baf3_11eb_bfe9_0242ac1c0002level0_row9\" class=\"row_heading level0 row9\" >Smolenskaya</th>\n",
              "                        <td id=\"T_ac5439e8_baf3_11eb_bfe9_0242ac1c0002row9_col0\" class=\"data row9 col0\" >1975</td>\n",
              "                        <td id=\"T_ac5439e8_baf3_11eb_bfe9_0242ac1c0002row9_col1\" class=\"data row9 col1\" >nuclear</td>\n",
              "                        <td id=\"T_ac5439e8_baf3_11eb_bfe9_0242ac1c0002row9_col2\" class=\"data row9 col2\" >3000</td>\n",
              "                        <td id=\"T_ac5439e8_baf3_11eb_bfe9_0242ac1c0002row9_col3\" class=\"data row9 col3\" >REA</td>\n",
              "                        <td id=\"T_ac5439e8_baf3_11eb_bfe9_0242ac1c0002row9_col4\" class=\"data row9 col4\" >no</td>\n",
              "                        <td id=\"T_ac5439e8_baf3_11eb_bfe9_0242ac1c0002row9_col5\" class=\"data row9 col5\" >138000</td>\n",
              "            </tr>\n",
              "            <tr>\n",
              "                        <th id=\"T_ac5439e8_baf3_11eb_bfe9_0242ac1c0002level0_row10\" class=\"row_heading level0 row10\" >Reftinskaya</th>\n",
              "                        <td id=\"T_ac5439e8_baf3_11eb_bfe9_0242ac1c0002row10_col0\" class=\"data row10 col0\" >1963</td>\n",
              "                        <td id=\"T_ac5439e8_baf3_11eb_bfe9_0242ac1c0002row10_col1\" class=\"data row10 col1\" >termal</td>\n",
              "                        <td id=\"T_ac5439e8_baf3_11eb_bfe9_0242ac1c0002row10_col2\" class=\"data row10 col2\" >3800</td>\n",
              "                        <td id=\"T_ac5439e8_baf3_11eb_bfe9_0242ac1c0002row10_col3\" class=\"data row10 col3\" >KuzEn</td>\n",
              "                        <td id=\"T_ac5439e8_baf3_11eb_bfe9_0242ac1c0002row10_col4\" class=\"data row10 col4\" >no</td>\n",
              "                        <td id=\"T_ac5439e8_baf3_11eb_bfe9_0242ac1c0002row10_col5\" class=\"data row10 col5\" >220400</td>\n",
              "            </tr>\n",
              "            <tr>\n",
              "                        <th id=\"T_ac5439e8_baf3_11eb_bfe9_0242ac1c0002level0_row11\" class=\"row_heading level0 row11\" >Surgut-2</th>\n",
              "                        <td id=\"T_ac5439e8_baf3_11eb_bfe9_0242ac1c0002row11_col0\" class=\"data row11 col0\" >1979</td>\n",
              "                        <td id=\"T_ac5439e8_baf3_11eb_bfe9_0242ac1c0002row11_col1\" class=\"data row11 col1\" >termal</td>\n",
              "                        <td id=\"T_ac5439e8_baf3_11eb_bfe9_0242ac1c0002row11_col2\" class=\"data row11 col2\" >5657</td>\n",
              "                        <td id=\"T_ac5439e8_baf3_11eb_bfe9_0242ac1c0002row11_col3\" class=\"data row11 col3\" >Unipro</td>\n",
              "                        <td id=\"T_ac5439e8_baf3_11eb_bfe9_0242ac1c0002row11_col4\" class=\"data row11 col4\" >no</td>\n",
              "                        <td id=\"T_ac5439e8_baf3_11eb_bfe9_0242ac1c0002row11_col5\" class=\"data row11 col5\" >237594</td>\n",
              "            </tr>\n",
              "            <tr>\n",
              "                        <th id=\"T_ac5439e8_baf3_11eb_bfe9_0242ac1c0002level0_row12\" class=\"row_heading level0 row12\" >Kirishskaya</th>\n",
              "                        <td id=\"T_ac5439e8_baf3_11eb_bfe9_0242ac1c0002row12_col0\" class=\"data row12 col0\" >1966</td>\n",
              "                        <td id=\"T_ac5439e8_baf3_11eb_bfe9_0242ac1c0002row12_col1\" class=\"data row12 col1\" >termal</td>\n",
              "                        <td id=\"T_ac5439e8_baf3_11eb_bfe9_0242ac1c0002row12_col2\" class=\"data row12 col2\" >2595</td>\n",
              "                        <td id=\"T_ac5439e8_baf3_11eb_bfe9_0242ac1c0002row12_col3\" class=\"data row12 col3\" >OGK-2</td>\n",
              "                        <td id=\"T_ac5439e8_baf3_11eb_bfe9_0242ac1c0002row12_col4\" class=\"data row12 col4\" >no</td>\n",
              "                        <td id=\"T_ac5439e8_baf3_11eb_bfe9_0242ac1c0002row12_col5\" class=\"data row12 col5\" >142725</td>\n",
              "            </tr>\n",
              "    </tbody></table>"
            ],
            "text/plain": [
              "<pandas.io.formats.style.Styler at 0x7fe9aadc9550>"
            ]
          },
          "metadata": {
            "tags": []
          },
          "execution_count": 270
        }
      ]
    },
    {
      "cell_type": "markdown",
      "metadata": {
        "id": "7OKWei91rZ8j"
      },
      "source": [
        "### Simple Visualization"
      ]
    },
    {
      "cell_type": "code",
      "metadata": {
        "id": "XwIvLQeTrckp",
        "colab": {
          "base_uri": "https://localhost:8080/",
          "height": 366
        },
        "outputId": "1f66cf61-98a6-47ff-e509-6b3eea835142"
      },
      "source": [
        "# построение графика для датафрейма (всех столбцов (серий) имеющих численне значения) функцией plot\n",
        "# параметр (kind = 'bar') - указывает на тип графика, в данном случае это столбчатая диаграмма\n",
        "# в данном случае график неинформативен, поскольку данные имеют большой разброс\n",
        "tmp_df.plot(kind = 'bar')\n",
        "print()"
      ],
      "execution_count": null,
      "outputs": [
        {
          "output_type": "stream",
          "text": [
            "\n"
          ],
          "name": "stdout"
        },
        {
          "output_type": "display_data",
          "data": {
            "image/png": "[encoded data removed]",
            "text/plain": [
              "<Figure size 432x288 with 1 Axes>"
            ]
          },
          "metadata": {
            "tags": [],
            "needs_background": "light"
          }
        }
      ]
    },
    {
      "cell_type": "code",
      "metadata": {
        "id": "SwFQxDUMuvy_",
        "colab": {
          "base_uri": "https://localhost:8080/",
          "height": 366
        },
        "outputId": "15962aed-3078-4789-ddcc-1a8e316ec30e"
      },
      "source": [
        "# построение столбчатой диаграммы для столбца (серии) 'Power'\n",
        "tmp_df['Power'].plot(kind = 'bar')"
      ],
      "execution_count": null,
      "outputs": [
        {
          "output_type": "execute_result",
          "data": {
            "text/plain": [
              "<matplotlib.axes._subplots.AxesSubplot at 0x7fe9a9ebd9d0>"
            ]
          },
          "metadata": {
            "tags": []
          },
          "execution_count": 154
        },
        {
          "output_type": "display_data",
          "data": {
            "image/png": "[encoded data removed]",
            "text/plain": [
              "<Figure size 432x288 with 1 Axes>"
            ]
          },
          "metadata": {
            "tags": [],
            "needs_background": "light"
          }
        }
      ]
    },
    {
      "cell_type": "code",
      "metadata": {
        "id": "ZUo5QFewu3mL",
        "colab": {
          "base_uri": "https://localhost:8080/",
          "height": 282
        },
        "outputId": "9dd14b48-6511-4329-cd36-3bef6cc1ac0e"
      },
      "source": [
        "# группировка суммарных значений столбца (серии) 'Power' по значениям столбца (серии) 'Type'\n",
        "# построение столбчатой горизонтальной диаграммы используя параметр (kind = 'barh')\n",
        "tmp_df.groupby(['Type'])['Power'].sum().plot(kind = 'barh')"
      ],
      "execution_count": null,
      "outputs": [
        {
          "output_type": "execute_result",
          "data": {
            "text/plain": [
              "<matplotlib.axes._subplots.AxesSubplot at 0x7fe9a9eeebd0>"
            ]
          },
          "metadata": {
            "tags": []
          },
          "execution_count": 155
        },
        {
          "output_type": "display_data",
          "data": {
            "image/png": "[encoded data removed]",
            "text/plain": [
              "<Figure size 432x288 with 1 Axes>"
            ]
          },
          "metadata": {
            "tags": [],
            "needs_background": "light"
          }
        }
      ]
    },
    {
      "cell_type": "markdown",
      "metadata": {
        "id": "NamTpdLMzt04"
      },
      "source": [
        "### Create by code"
      ]
    },
    {
      "cell_type": "code",
      "metadata": {
        "id": "jBI4vUkvzszM"
      },
      "source": [
        "# создание датафрейма df используя функцию pd.DataFrame()\n",
        "# имеющего столбцы (серии) 'Name', 'Power', 'Owner' и стандартную индексацию\n",
        "df = pd.DataFrame({\n",
        "    'Name': ['PS1', 'PS2', 'PS3'],\n",
        "    'Power_MW': [500, 1200, 480],\n",
        "    'Owner': ['CVX', 'NEE', 'NEE']\n",
        "})"
      ],
      "execution_count": null,
      "outputs": []
    },
    {
      "cell_type": "code",
      "metadata": {
        "id": "Arl8I66C9s3w",
        "colab": {
          "base_uri": "https://localhost:8080/",
          "height": 142
        },
        "outputId": "6e597f8b-dba6-40f6-a807-abaf771c1915"
      },
      "source": [
        "# отображение созданного датафрейма\n",
        "df"
      ],
      "execution_count": null,
      "outputs": [
        {
          "output_type": "execute_result",
          "data": {
            "text/html": [
              "<div>\n",
              "<style scoped>\n",
              "    .dataframe tbody tr th:only-of-type {\n",
              "        vertical-align: middle;\n",
              "    }\n",
              "\n",
              "    .dataframe tbody tr th {\n",
              "        vertical-align: top;\n",
              "    }\n",
              "\n",
              "    .dataframe thead th {\n",
              "        text-align: right;\n",
              "    }\n",
              "</style>\n",
              "<table border=\"1\" class=\"dataframe\">\n",
              "  <thead>\n",
              "    <tr style=\"text-align: right;\">\n",
              "      <th></th>\n",
              "      <th>Name</th>\n",
              "      <th>Power_MW</th>\n",
              "      <th>Owner</th>\n",
              "    </tr>\n",
              "  </thead>\n",
              "  <tbody>\n",
              "    <tr>\n",
              "      <th>0</th>\n",
              "      <td>PS1</td>\n",
              "      <td>500</td>\n",
              "      <td>CVX</td>\n",
              "    </tr>\n",
              "    <tr>\n",
              "      <th>1</th>\n",
              "      <td>PS2</td>\n",
              "      <td>1200</td>\n",
              "      <td>NEE</td>\n",
              "    </tr>\n",
              "    <tr>\n",
              "      <th>2</th>\n",
              "      <td>PS3</td>\n",
              "      <td>480</td>\n",
              "      <td>NEE</td>\n",
              "    </tr>\n",
              "  </tbody>\n",
              "</table>\n",
              "</div>"
            ],
            "text/plain": [
              "  Name  Power_MW Owner\n",
              "0  PS1       500   CVX\n",
              "1  PS2      1200   NEE\n",
              "2  PS3       480   NEE"
            ]
          },
          "metadata": {
            "tags": []
          },
          "execution_count": 274
        }
      ]
    },
    {
      "cell_type": "code",
      "metadata": {
        "id": "KGUJi0o19vRT",
        "colab": {
          "base_uri": "https://localhost:8080/",
          "height": 142
        },
        "outputId": "82a83e59-aac4-4372-9303-751f96902dff"
      },
      "source": [
        "# создание датафрейма df используя функцию pd.DataFrame()\n",
        "# имеющего столбцы (серии) 'Power', 'Owner' и идексацию 'PS1', 'PS2', 'PS3'\n",
        "df = pd.DataFrame({\n",
        "    'Power_MW': [500, 1200, 480],\n",
        "    'Owner': ['CVX', 'NEE', 'NEE']}, \n",
        "    index = ['PS1', 'PS2', 'PS3'])\n",
        "# отображение датафрейма\n",
        "df"
      ],
      "execution_count": null,
      "outputs": [
        {
          "output_type": "execute_result",
          "data": {
            "text/html": [
              "<div>\n",
              "<style scoped>\n",
              "    .dataframe tbody tr th:only-of-type {\n",
              "        vertical-align: middle;\n",
              "    }\n",
              "\n",
              "    .dataframe tbody tr th {\n",
              "        vertical-align: top;\n",
              "    }\n",
              "\n",
              "    .dataframe thead th {\n",
              "        text-align: right;\n",
              "    }\n",
              "</style>\n",
              "<table border=\"1\" class=\"dataframe\">\n",
              "  <thead>\n",
              "    <tr style=\"text-align: right;\">\n",
              "      <th></th>\n",
              "      <th>Power_MW</th>\n",
              "      <th>Owner</th>\n",
              "    </tr>\n",
              "  </thead>\n",
              "  <tbody>\n",
              "    <tr>\n",
              "      <th>PS1</th>\n",
              "      <td>500</td>\n",
              "      <td>CVX</td>\n",
              "    </tr>\n",
              "    <tr>\n",
              "      <th>PS2</th>\n",
              "      <td>1200</td>\n",
              "      <td>NEE</td>\n",
              "    </tr>\n",
              "    <tr>\n",
              "      <th>PS3</th>\n",
              "      <td>480</td>\n",
              "      <td>NEE</td>\n",
              "    </tr>\n",
              "  </tbody>\n",
              "</table>\n",
              "</div>"
            ],
            "text/plain": [
              "     Power_MW Owner\n",
              "PS1       500   CVX\n",
              "PS2      1200   NEE\n",
              "PS3       480   NEE"
            ]
          },
          "metadata": {
            "tags": []
          },
          "execution_count": 275
        }
      ]
    },
    {
      "cell_type": "code",
      "metadata": {
        "id": "bA4ctV1kP-4y",
        "colab": {
          "base_uri": "https://localhost:8080/",
          "height": 173
        },
        "outputId": "c0269984-a432-4115-ff6f-4a0ab3e68cbe"
      },
      "source": [
        "# присвоение индексам отдельного имени используя метод index.name\n",
        "df.index.name = 'Name'\n",
        "# отображение датафрейма\n",
        "df"
      ],
      "execution_count": null,
      "outputs": [
        {
          "output_type": "execute_result",
          "data": {
            "text/html": [
              "<div>\n",
              "<style scoped>\n",
              "    .dataframe tbody tr th:only-of-type {\n",
              "        vertical-align: middle;\n",
              "    }\n",
              "\n",
              "    .dataframe tbody tr th {\n",
              "        vertical-align: top;\n",
              "    }\n",
              "\n",
              "    .dataframe thead th {\n",
              "        text-align: right;\n",
              "    }\n",
              "</style>\n",
              "<table border=\"1\" class=\"dataframe\">\n",
              "  <thead>\n",
              "    <tr style=\"text-align: right;\">\n",
              "      <th></th>\n",
              "      <th>Power_MW</th>\n",
              "      <th>Owner</th>\n",
              "    </tr>\n",
              "    <tr>\n",
              "      <th>Name</th>\n",
              "      <th></th>\n",
              "      <th></th>\n",
              "    </tr>\n",
              "  </thead>\n",
              "  <tbody>\n",
              "    <tr>\n",
              "      <th>PS1</th>\n",
              "      <td>500</td>\n",
              "      <td>CVX</td>\n",
              "    </tr>\n",
              "    <tr>\n",
              "      <th>PS2</th>\n",
              "      <td>1200</td>\n",
              "      <td>NEE</td>\n",
              "    </tr>\n",
              "    <tr>\n",
              "      <th>PS3</th>\n",
              "      <td>480</td>\n",
              "      <td>NEE</td>\n",
              "    </tr>\n",
              "  </tbody>\n",
              "</table>\n",
              "</div>"
            ],
            "text/plain": [
              "      Power_MW Owner\n",
              "Name                \n",
              "PS1        500   CVX\n",
              "PS2       1200   NEE\n",
              "PS3        480   NEE"
            ]
          },
          "metadata": {
            "tags": []
          },
          "execution_count": 283
        }
      ]
    },
    {
      "cell_type": "code",
      "metadata": {
        "id": "hQv1h-BiQdad",
        "colab": {
          "base_uri": "https://localhost:8080/",
          "height": 142
        },
        "outputId": "7ea0df49-331e-4c87-a29a-eb7b464ee5bb"
      },
      "source": [
        "# создание массива состоящего из двух массивов чисел\n",
        "source_data = np.array([[1, 2, 3], [4, 5, 6]])\n",
        "# преобразание массивов в датафрейм, используя функцию pd.DataFrame\n",
        "# присваивая столбцу 'C1' значения первого массива, 'C2' - второго\n",
        "df = pd.DataFrame({'C1': source_data[0], 'C2': source_data[1]})\n",
        "# отображение полученного датафрейма\n",
        "df"
      ],
      "execution_count": null,
      "outputs": [
        {
          "output_type": "execute_result",
          "data": {
            "text/html": [
              "<div>\n",
              "<style scoped>\n",
              "    .dataframe tbody tr th:only-of-type {\n",
              "        vertical-align: middle;\n",
              "    }\n",
              "\n",
              "    .dataframe tbody tr th {\n",
              "        vertical-align: top;\n",
              "    }\n",
              "\n",
              "    .dataframe thead th {\n",
              "        text-align: right;\n",
              "    }\n",
              "</style>\n",
              "<table border=\"1\" class=\"dataframe\">\n",
              "  <thead>\n",
              "    <tr style=\"text-align: right;\">\n",
              "      <th></th>\n",
              "      <th>C1</th>\n",
              "      <th>C2</th>\n",
              "    </tr>\n",
              "  </thead>\n",
              "  <tbody>\n",
              "    <tr>\n",
              "      <th>0</th>\n",
              "      <td>1</td>\n",
              "      <td>4</td>\n",
              "    </tr>\n",
              "    <tr>\n",
              "      <th>1</th>\n",
              "      <td>2</td>\n",
              "      <td>5</td>\n",
              "    </tr>\n",
              "    <tr>\n",
              "      <th>2</th>\n",
              "      <td>3</td>\n",
              "      <td>6</td>\n",
              "    </tr>\n",
              "  </tbody>\n",
              "</table>\n",
              "</div>"
            ],
            "text/plain": [
              "   C1  C2\n",
              "0   1   4\n",
              "1   2   5\n",
              "2   3   6"
            ]
          },
          "metadata": {
            "tags": []
          },
          "execution_count": 288
        }
      ]
    },
    {
      "cell_type": "code",
      "metadata": {
        "id": "IzcZW6_0REyL",
        "colab": {
          "base_uri": "https://localhost:8080/",
          "height": 142
        },
        "outputId": "4c844151-8e50-48ec-fefd-f51559dd2cbb"
      },
      "source": [
        "# создание датафрейма используя цикл\n",
        "# задание начального id столбца \n",
        "column_id = 1\n",
        "# создание временного словаря\n",
        "tmp_dict = {}\n",
        "# цикл проходящий по элементам созданного ранее массива source_data, который состоит из двух массивов чисел\n",
        "for row in source_data:\n",
        "  # формирование словаря, столбец = массив\n",
        "  tmp_dict['C' + str(column_id)] = row\n",
        "  # счётчик id стобцов\n",
        "  column_id += 1\n",
        "\n",
        "# преобразование сформированного словаря в датафрейм\n",
        "df = pd.DataFrame(tmp_dict)\n",
        "# отображение датафрейма\n",
        "df"
      ],
      "execution_count": null,
      "outputs": [
        {
          "output_type": "execute_result",
          "data": {
            "text/html": [
              "<div>\n",
              "<style scoped>\n",
              "    .dataframe tbody tr th:only-of-type {\n",
              "        vertical-align: middle;\n",
              "    }\n",
              "\n",
              "    .dataframe tbody tr th {\n",
              "        vertical-align: top;\n",
              "    }\n",
              "\n",
              "    .dataframe thead th {\n",
              "        text-align: right;\n",
              "    }\n",
              "</style>\n",
              "<table border=\"1\" class=\"dataframe\">\n",
              "  <thead>\n",
              "    <tr style=\"text-align: right;\">\n",
              "      <th></th>\n",
              "      <th>C1</th>\n",
              "      <th>C2</th>\n",
              "    </tr>\n",
              "  </thead>\n",
              "  <tbody>\n",
              "    <tr>\n",
              "      <th>0</th>\n",
              "      <td>1</td>\n",
              "      <td>4</td>\n",
              "    </tr>\n",
              "    <tr>\n",
              "      <th>1</th>\n",
              "      <td>2</td>\n",
              "      <td>5</td>\n",
              "    </tr>\n",
              "    <tr>\n",
              "      <th>2</th>\n",
              "      <td>3</td>\n",
              "      <td>6</td>\n",
              "    </tr>\n",
              "  </tbody>\n",
              "</table>\n",
              "</div>"
            ],
            "text/plain": [
              "   C1  C2\n",
              "0   1   4\n",
              "1   2   5\n",
              "2   3   6"
            ]
          },
          "metadata": {
            "tags": []
          },
          "execution_count": 291
        }
      ]
    },
    {
      "cell_type": "code",
      "metadata": {
        "id": "5hyv5litvbLk",
        "colab": {
          "base_uri": "https://localhost:8080/"
        },
        "outputId": "9a5f5548-e957-4971-ad40-a7c8403b1f3f"
      },
      "source": [
        "# присвоение переменной matrix значений из датафрейма df\n",
        "matrix = df.values\n",
        "# отображение массива (матрицы)\n",
        "matrix"
      ],
      "execution_count": null,
      "outputs": [
        {
          "output_type": "execute_result",
          "data": {
            "text/plain": [
              "array([[1, 4],\n",
              "       [2, 5],\n",
              "       [3, 6]])"
            ]
          },
          "metadata": {
            "tags": []
          },
          "execution_count": 292
        }
      ]
    },
    {
      "cell_type": "markdown",
      "metadata": {
        "id": "etqImAITSRXg"
      },
      "source": [
        "### Save to file"
      ]
    },
    {
      "cell_type": "code",
      "metadata": {
        "id": "oBZQgKAeSToM"
      },
      "source": [
        "# формирование датафрейма\n",
        "df = pd.DataFrame({\n",
        "    'Name': ['PS1', 'PS2', 'PS3'],\n",
        "    'Power_MW': [500, 1200, 480],\n",
        "    'Owner': ['CVX', 'NEE', 'NEE']\n",
        "})\n",
        "\n",
        "# сохранение датафрейма в формате csv 'test_csv_saving.csv' имеющего разделители столбцов ';'\n",
        "df.to_csv('test_csv_saving.csv', sep = ';')"
      ],
      "execution_count": null,
      "outputs": []
    },
    {
      "cell_type": "code",
      "metadata": {
        "id": "_apxex8dSvNC"
      },
      "source": [
        "# сохранение датафрейма в формате excel 'test_csv_saving.xlsc'\n",
        "# параметр (sheet_name = 'n1') - указывает на название сохраняемого листа в excel\n",
        "# параметр (index = False) - указывает на удаление исходных индексов при сохранении в excel\n",
        "df.to_excel('test_excel_saving.xlsx', sheet_name = 'n1', index = False)"
      ],
      "execution_count": null,
      "outputs": []
    },
    {
      "cell_type": "code",
      "metadata": {
        "id": "0SqTXQK7TXsP"
      },
      "source": [
        "# сохранение данных в формате excel на подключенный google disk\n",
        "df.to_excel('gdrive/My Drive/Pandas/s.xlsx')\n",
        "\n",
        "# 'gdrive/My Drive/Халясмаа/08.2020/s.xlsx'"
      ],
      "execution_count": null,
      "outputs": []
    }
  ]
}